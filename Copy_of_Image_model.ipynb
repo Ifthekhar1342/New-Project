{
  "cells": [
    {
      "cell_type": "markdown",
      "metadata": {
        "id": "view-in-github",
        "colab_type": "text"
      },
      "source": [
        "<a href=\"https://colab.research.google.com/github/Ifthekhar1342/New-Project/blob/main/Copy_of_Image_model.ipynb\" target=\"_parent\"><img src=\"https://colab.research.google.com/assets/colab-badge.svg\" alt=\"Open In Colab\"/></a>"
      ]
    },
    {
      "cell_type": "code",
      "execution_count": null,
      "metadata": {
        "colab": {
          "base_uri": "https://localhost:8080/"
        },
        "id": "RWSJpsyKqHjH",
        "outputId": "8717f1ff-4281-4da6-935c-af07a6ca78e2"
      },
      "outputs": [
        {
          "output_type": "stream",
          "name": "stdout",
          "text": [
            "Drive already mounted at /content/drive; to attempt to forcibly remount, call drive.mount(\"/content/drive\", force_remount=True).\n"
          ]
        }
      ],
      "source": [
        "from google.colab import drive\n",
        "drive.mount('/content/drive')"
      ]
    },
    {
      "cell_type": "markdown",
      "metadata": {
        "id": "i7gigJwYgTqq"
      },
      "source": [
        "## Libaries"
      ]
    },
    {
      "cell_type": "code",
      "execution_count": null,
      "metadata": {
        "id": "Zm_WwZTSV9vR"
      },
      "outputs": [],
      "source": [
        "# Importing all the necessary libraries\n",
        "import keras\n",
        "import h5py\n",
        "from keras import optimizers\n",
        "from keras.models import load_model\n",
        "from keras.layers import Bidirectional\n",
        "from keras.layers.core import Reshape, Dropout\n",
        "from keras.utils.vis_utils import plot_model\n",
        "import os\n",
        "# import keras_metrics\n",
        "import matplotlib.pyplot as plt\n",
        "from keras.layers import Conv1D,Dense, MaxPooling1D, Flatten, GlobalAveragePooling2D,GlobalAveragePooling3D\n",
        "from keras import regularizers\n",
        "import seaborn as sns\n",
        "import matplotlib.pyplot as plt\n",
        "from sklearn.metrics import confusion_matrix\n",
        "from keras import regularizers\n",
        "from keras.applications.inception_v3 import InceptionV3\n",
        "from tensorflow.keras import models\n",
        "from tensorflow.keras import layers\n",
        "import pandas as pd\n",
        "from sklearn.preprocessing import LabelEncoder\n",
        "import re\n",
        "from nltk.corpus import stopwords\n",
        "from nltk import word_tokenize\n",
        "from keras.preprocessing import image\n",
        "from PIL import Image, ImageFile\n",
        "from keras import preprocessing, Input\n",
        "import numpy as np\n",
        "#model\n",
        "from keras.applications.vgg16 import VGG16\n",
        "from keras.applications.vgg19 import VGG19\n",
        "from keras.applications.inception_v3 import InceptionV3\n",
        "from tensorflow.keras.applications.resnet50 import ResNet50\n",
        "from keras.models import Model\n",
        "from keras.callbacks import ModelCheckpoint, EarlyStopping\n",
        "from sklearn.metrics import classification_report,f1_score\n",
        "import pickle as pkl"
      ]
    },
    {
      "cell_type": "code",
      "execution_count": null,
      "metadata": {
        "id": "1x6iwAdreMC6"
      },
      "outputs": [],
      "source": [
        "# Keras Functional API\n",
        "\n",
        "import tensorflow as tf\n",
        "from tensorflow import keras\n",
        "from keras.layers import Input, Dense, Activation, Dropout,Flatten,Embedding\n",
        "from keras.layers import Conv1D,MaxPooling1D,GlobalAveragePooling1D\n",
        "from keras.models import Model\n",
        "from tensorflow.keras.optimizers import Adam,SGD,Nadam,RMSprop\n",
        "from tensorflow.keras.models import load_model\n",
        "\n",
        "# Keras Functional API\n",
        "\n",
        "import tensorflow as tf\n",
        "from tensorflow import keras\n",
        "from keras.layers import Input, Dense, Activation, Dropout,Flatten,Embedding\n",
        "from keras.layers import Conv1D,MaxPooling1D,GlobalAveragePooling1D, Bidirectional, LSTM, GRU\n",
        "from keras.models import Model\n",
        "from tensorflow.keras.models import load_model\n",
        ""
      ]
    },
    {
      "cell_type": "code",
      "execution_count": null,
      "metadata": {
        "id": "8LtyJ3GjeQfD"
      },
      "outputs": [],
      "source": [
        "dataset_path = \"/content/drive/MyDrive/DATASET/\"\n",
        "# Validation_path = \"/content/drive/MyDrive/DATASET/val_data.csv\"\n",
        "img_dir = \"/content/drive/MyDrive/multimodal_image\""
      ]
    },
    {
      "cell_type": "markdown",
      "metadata": {
        "id": "979Ls7hFebpT"
      },
      "source": [
        "## Fetching Data"
      ]
    },
    {
      "cell_type": "code",
      "execution_count": null,
      "metadata": {
        "colab": {
          "base_uri": "https://localhost:8080/"
        },
        "id": "WYZ7dkN8gCNs",
        "outputId": "67f483db-e378-444f-ddb9-f18717079f5f"
      },
      "outputs": [
        {
          "output_type": "stream",
          "name": "stdout",
          "text": [
            "training size: 5247\n",
            "testing size: 584\n"
          ]
        }
      ],
      "source": [
        "train_data = pd.read_excel(dataset_path+'train.xlsx')\n",
        "test_data = pd.read_csv(dataset_path+'test.xlsx')\n",
        "print(\"training size:\", len(train_data))\n",
        "print(\"testing size:\", len(test_data))"
      ]
    },
    {
      "cell_type": "code",
      "execution_count": null,
      "metadata": {
        "colab": {
          "base_uri": "https://localhost:8080/",
          "height": 206
        },
        "id": "V92SaEQZUoO5",
        "outputId": "558ec5ff-b710-444b-ca5a-ac45036fd269"
      },
      "outputs": [
        {
          "output_type": "execute_result",
          "data": {
            "text/plain": [
              "                                 filename  \\\n",
              "0    buildingfire_2017-02-05_04-06-10.txt   \n",
              "1      isiscrimes_2015-08-04_00-18-33.txt   \n",
              "2      earthquake_2017-11-13_07-23-10.txt   \n",
              "3              ad_2017-11-25_07-56-53.txt   \n",
              "4  hurricanesandy_2017-10-29_22-36-42.txt   \n",
              "\n",
              "                                               tweet                   label  \\\n",
              "0  Here's some video of the smoldering ruins in W...  damaged_infrastructure   \n",
              "1  27 person were killed yesterday near idlib nor...            human_damage   \n",
              "2  تصویری از خسارات زلزله در سرپل ذهاب\\n#earthqua...  damaged_infrastructure   \n",
              "3  Link in bio #fashion #style #dt #friends #Inst...              non_damage   \n",
              "4  Covering the aftermath of Hurricane #Sandy 5 y...                   flood   \n",
              "\n",
              "                                    image  \n",
              "0    buildingfire_2017-02-05_04-06-10.JPG  \n",
              "1      isiscrimes_2015-08-04_00-18-33.JPG  \n",
              "2      earthquake_2017-11-13_07-23-10.JPG  \n",
              "3              ad_2017-11-25_07-56-53.JPG  \n",
              "4  hurricanesandy_2017-10-29_22-36-42.JPG  "
            ],
            "text/html": [
              "\n",
              "  <div id=\"df-b4031f81-ebc9-4ef1-bd63-26e81e108cac\">\n",
              "    <div class=\"colab-df-container\">\n",
              "      <div>\n",
              "<style scoped>\n",
              "    .dataframe tbody tr th:only-of-type {\n",
              "        vertical-align: middle;\n",
              "    }\n",
              "\n",
              "    .dataframe tbody tr th {\n",
              "        vertical-align: top;\n",
              "    }\n",
              "\n",
              "    .dataframe thead th {\n",
              "        text-align: right;\n",
              "    }\n",
              "</style>\n",
              "<table border=\"1\" class=\"dataframe\">\n",
              "  <thead>\n",
              "    <tr style=\"text-align: right;\">\n",
              "      <th></th>\n",
              "      <th>filename</th>\n",
              "      <th>tweet</th>\n",
              "      <th>label</th>\n",
              "      <th>image</th>\n",
              "    </tr>\n",
              "  </thead>\n",
              "  <tbody>\n",
              "    <tr>\n",
              "      <th>0</th>\n",
              "      <td>buildingfire_2017-02-05_04-06-10.txt</td>\n",
              "      <td>Here's some video of the smoldering ruins in W...</td>\n",
              "      <td>damaged_infrastructure</td>\n",
              "      <td>buildingfire_2017-02-05_04-06-10.JPG</td>\n",
              "    </tr>\n",
              "    <tr>\n",
              "      <th>1</th>\n",
              "      <td>isiscrimes_2015-08-04_00-18-33.txt</td>\n",
              "      <td>27 person were killed yesterday near idlib nor...</td>\n",
              "      <td>human_damage</td>\n",
              "      <td>isiscrimes_2015-08-04_00-18-33.JPG</td>\n",
              "    </tr>\n",
              "    <tr>\n",
              "      <th>2</th>\n",
              "      <td>earthquake_2017-11-13_07-23-10.txt</td>\n",
              "      <td>تصویری از خسارات زلزله در سرپل ذهاب\\n#earthqua...</td>\n",
              "      <td>damaged_infrastructure</td>\n",
              "      <td>earthquake_2017-11-13_07-23-10.JPG</td>\n",
              "    </tr>\n",
              "    <tr>\n",
              "      <th>3</th>\n",
              "      <td>ad_2017-11-25_07-56-53.txt</td>\n",
              "      <td>Link in bio #fashion #style #dt #friends #Inst...</td>\n",
              "      <td>non_damage</td>\n",
              "      <td>ad_2017-11-25_07-56-53.JPG</td>\n",
              "    </tr>\n",
              "    <tr>\n",
              "      <th>4</th>\n",
              "      <td>hurricanesandy_2017-10-29_22-36-42.txt</td>\n",
              "      <td>Covering the aftermath of Hurricane #Sandy 5 y...</td>\n",
              "      <td>flood</td>\n",
              "      <td>hurricanesandy_2017-10-29_22-36-42.JPG</td>\n",
              "    </tr>\n",
              "  </tbody>\n",
              "</table>\n",
              "</div>\n",
              "      <button class=\"colab-df-convert\" onclick=\"convertToInteractive('df-b4031f81-ebc9-4ef1-bd63-26e81e108cac')\"\n",
              "              title=\"Convert this dataframe to an interactive table.\"\n",
              "              style=\"display:none;\">\n",
              "        \n",
              "  <svg xmlns=\"http://www.w3.org/2000/svg\" height=\"24px\"viewBox=\"0 0 24 24\"\n",
              "       width=\"24px\">\n",
              "    <path d=\"M0 0h24v24H0V0z\" fill=\"none\"/>\n",
              "    <path d=\"M18.56 5.44l.94 2.06.94-2.06 2.06-.94-2.06-.94-.94-2.06-.94 2.06-2.06.94zm-11 1L8.5 8.5l.94-2.06 2.06-.94-2.06-.94L8.5 2.5l-.94 2.06-2.06.94zm10 10l.94 2.06.94-2.06 2.06-.94-2.06-.94-.94-2.06-.94 2.06-2.06.94z\"/><path d=\"M17.41 7.96l-1.37-1.37c-.4-.4-.92-.59-1.43-.59-.52 0-1.04.2-1.43.59L10.3 9.45l-7.72 7.72c-.78.78-.78 2.05 0 2.83L4 21.41c.39.39.9.59 1.41.59.51 0 1.02-.2 1.41-.59l7.78-7.78 2.81-2.81c.8-.78.8-2.07 0-2.86zM5.41 20L4 18.59l7.72-7.72 1.47 1.35L5.41 20z\"/>\n",
              "  </svg>\n",
              "      </button>\n",
              "      \n",
              "  <style>\n",
              "    .colab-df-container {\n",
              "      display:flex;\n",
              "      flex-wrap:wrap;\n",
              "      gap: 12px;\n",
              "    }\n",
              "\n",
              "    .colab-df-convert {\n",
              "      background-color: #E8F0FE;\n",
              "      border: none;\n",
              "      border-radius: 50%;\n",
              "      cursor: pointer;\n",
              "      display: none;\n",
              "      fill: #1967D2;\n",
              "      height: 32px;\n",
              "      padding: 0 0 0 0;\n",
              "      width: 32px;\n",
              "    }\n",
              "\n",
              "    .colab-df-convert:hover {\n",
              "      background-color: #E2EBFA;\n",
              "      box-shadow: 0px 1px 2px rgba(60, 64, 67, 0.3), 0px 1px 3px 1px rgba(60, 64, 67, 0.15);\n",
              "      fill: #174EA6;\n",
              "    }\n",
              "\n",
              "    [theme=dark] .colab-df-convert {\n",
              "      background-color: #3B4455;\n",
              "      fill: #D2E3FC;\n",
              "    }\n",
              "\n",
              "    [theme=dark] .colab-df-convert:hover {\n",
              "      background-color: #434B5C;\n",
              "      box-shadow: 0px 1px 3px 1px rgba(0, 0, 0, 0.15);\n",
              "      filter: drop-shadow(0px 1px 2px rgba(0, 0, 0, 0.3));\n",
              "      fill: #FFFFFF;\n",
              "    }\n",
              "  </style>\n",
              "\n",
              "      <script>\n",
              "        const buttonEl =\n",
              "          document.querySelector('#df-b4031f81-ebc9-4ef1-bd63-26e81e108cac button.colab-df-convert');\n",
              "        buttonEl.style.display =\n",
              "          google.colab.kernel.accessAllowed ? 'block' : 'none';\n",
              "\n",
              "        async function convertToInteractive(key) {\n",
              "          const element = document.querySelector('#df-b4031f81-ebc9-4ef1-bd63-26e81e108cac');\n",
              "          const dataTable =\n",
              "            await google.colab.kernel.invokeFunction('convertToInteractive',\n",
              "                                                     [key], {});\n",
              "          if (!dataTable) return;\n",
              "\n",
              "          const docLinkHtml = 'Like what you see? Visit the ' +\n",
              "            '<a target=\"_blank\" href=https://colab.research.google.com/notebooks/data_table.ipynb>data table notebook</a>'\n",
              "            + ' to learn more about interactive tables.';\n",
              "          element.innerHTML = '';\n",
              "          dataTable['output_type'] = 'display_data';\n",
              "          await google.colab.output.renderOutput(dataTable, element);\n",
              "          const docLink = document.createElement('div');\n",
              "          docLink.innerHTML = docLinkHtml;\n",
              "          element.appendChild(docLink);\n",
              "        }\n",
              "      </script>\n",
              "    </div>\n",
              "  </div>\n",
              "  "
            ]
          },
          "metadata": {},
          "execution_count": 55
        }
      ],
      "source": [
        "train_data.head()"
      ]
    },
    {
      "cell_type": "code",
      "execution_count": null,
      "metadata": {
        "colab": {
          "base_uri": "https://localhost:8080/"
        },
        "id": "zv-iztx6OFEh",
        "outputId": "0123b030-baaf-4617-a348-aebc195c6ea0"
      },
      "outputs": [
        {
          "output_type": "execute_result",
          "data": {
            "text/plain": [
              "Index(['filename', 'tweet', 'label', 'image'], dtype='object')"
            ]
          },
          "metadata": {},
          "execution_count": 56
        }
      ],
      "source": [
        "train_data.columns"
      ]
    },
    {
      "cell_type": "code",
      "execution_count": null,
      "metadata": {
        "colab": {
          "base_uri": "https://localhost:8080/"
        },
        "id": "zUXp07CROLIp",
        "outputId": "e8c7f15c-aa7c-449a-8f95-f31d51744bc0"
      },
      "outputs": [
        {
          "output_type": "execute_result",
          "data": {
            "text/plain": [
              "non_damage                2666\n",
              "damaged_infrastructure    1246\n",
              "damaged_nature             459\n",
              "flood                      348\n",
              "fires                      309\n",
              "human_damage               219\n",
              "Name: label, dtype: int64"
            ]
          },
          "metadata": {},
          "execution_count": 57
        }
      ],
      "source": [
        "train_data['label'].value_counts()"
      ]
    },
    {
      "cell_type": "code",
      "execution_count": null,
      "metadata": {
        "id": "Nh0HNImbkRyg"
      },
      "outputs": [],
      "source": [
        "# Encode Labels\n",
        "train_data[\"enc_label\"]=train_data.label.replace({\"non_damage\":0,\"damaged_infrastructure\":1,\"damaged_nature\":2,\"flood\":3,\"fires\":4,\"human_damage\":5})\n",
        "test_data[\"enc_label\"]=test_data.label.replace({\"non_damage\":0,\"damaged_infrastructure\":1,\"damaged_nature\":2,\"flood\":3,\"fires\":4,\"human_damage\":5})"
      ]
    },
    {
      "cell_type": "code",
      "execution_count": null,
      "metadata": {
        "id": "582TFerRP526"
      },
      "outputs": [],
      "source": [
        "# convert float type data into str if any occurs\n",
        "train_data[\"tweet\"]=train_data[\"tweet\"].astype(str)\n",
        "test_data[\"tweet\"]=test_data[\"tweet\"].astype(str)"
      ]
    },
    {
      "cell_type": "code",
      "execution_count": null,
      "metadata": {
        "colab": {
          "base_uri": "https://localhost:8080/"
        },
        "id": "1v35ZSdFgxzJ",
        "outputId": "dc767360-a45e-4450-a502-8967978a087e"
      },
      "outputs": [
        {
          "output_type": "execute_result",
          "data": {
            "text/plain": [
              "0    2666\n",
              "1    1246\n",
              "2     459\n",
              "3     348\n",
              "4     309\n",
              "5     219\n",
              "Name: enc_label, dtype: int64"
            ]
          },
          "metadata": {},
          "execution_count": 60
        }
      ],
      "source": [
        "train_data['enc_label'].value_counts()"
      ]
    },
    {
      "cell_type": "code",
      "execution_count": null,
      "metadata": {
        "id": "HRnBZjmrWIxo"
      },
      "outputs": [],
      "source": [
        "def replace_string(row):\n",
        "  return row.replace('.JPG','.jpg')\n",
        "\n",
        "train_data['image'] = train_data['image'].apply(replace_string)\n",
        "test_data['image'] = test_data['image'].apply(replace_string)"
      ]
    },
    {
      "cell_type": "markdown",
      "metadata": {
        "id": "Pi3rTxuGhe8n"
      },
      "source": [
        "## Reading Image"
      ]
    },
    {
      "cell_type": "code",
      "execution_count": null,
      "metadata": {
        "id": "RoFAT74vd9Vi"
      },
      "outputs": [],
      "source": [
        "def create_img_path(DF, Col_name, img_dir):\n",
        "    img_path = [img_dir + '/' + name for name in DF[Col_name]]\n",
        "    return img_path"
      ]
    },
    {
      "cell_type": "code",
      "execution_count": null,
      "metadata": {
        "id": "BO2Fn_6NWxrE"
      },
      "outputs": [],
      "source": [
        "# Creating train, test and validation image path\n",
        "train_img_path = create_img_path(train_data,'image', img_dir)\n",
        "test_img_path = create_img_path(test_data,'image', img_dir)"
      ]
    },
    {
      "cell_type": "code",
      "execution_count": null,
      "metadata": {
        "colab": {
          "base_uri": "https://localhost:8080/",
          "height": 36
        },
        "id": "6n8pxLjBhwXD",
        "outputId": "d990ef5f-d57b-4d69-d164-a4e81844a3c1"
      },
      "outputs": [
        {
          "output_type": "execute_result",
          "data": {
            "text/plain": [
              "'/content/drive/MyDrive/multimodal_image/buildingfire_2017-02-05_04-06-10.JPG'"
            ],
            "application/vnd.google.colaboratory.intrinsic+json": {
              "type": "string"
            }
          },
          "metadata": {},
          "execution_count": 96
        }
      ],
      "source": [
        "train_img_path[0]"
      ]
    },
    {
      "cell_type": "markdown",
      "metadata": {
        "id": "t_vPReZ_TdDA"
      },
      "source": [
        "#Image Fetching"
      ]
    },
    {
      "cell_type": "code",
      "execution_count": null,
      "metadata": {
        "id": "vUDD2r3aTkXm"
      },
      "outputs": [],
      "source": [
        "def get_input(path):\n",
        "    ImageFile.LOAD_TRUNCATED_IMAGES = True\n",
        "    img = Keras.utilis.load_img(path,target_size = (100,100))\n",
        "    return(img)"
      ]
    },
    {
      "cell_type": "code",
      "execution_count": null,
      "metadata": {
        "id": "o-owGZK1TkXm"
      },
      "outputs": [],
      "source": [
        "# Takes in image and preprocess it\n",
        "def process_input(img):\n",
        "    # Converting image to array\n",
        "    img_data = keras.utils.img_to_array(img)\n",
        "    # Adding one more dimension to array\n",
        "    img_data = np.expand_dims(img_data, axis=0)\n",
        "    #\n",
        "    # img_data = preprocess_input(img_data)\n",
        "    return(img_data)"
      ]
    },
    {
      "cell_type": "code",
      "source": [
        "    from tensorflow.keras.preprocessing.image import load_img\n",
        "    from tensorflow.keras.preprocessing.image import img_to_array\n",
        "    from tensorflow.keras.applications.vgg16 import preprocess_input\n",
        "    from tensorflow.keras.applications.vgg16 import decode_predictions\n",
        "    from tensorflow.keras.applications.vgg16 import VGG16"
      ],
      "metadata": {
        "id": "5TOc60Ku_lJw"
      },
      "execution_count": null,
      "outputs": []
    },
    {
      "cell_type": "code",
      "execution_count": null,
      "metadata": {
        "colab": {
          "base_uri": "https://localhost:8080/",
          "height": 339
        },
        "id": "QIBOFxNFTkXn",
        "outputId": "fc991294-ea05-404b-f7a4-9928d13b952d"
      },
      "outputs": [
        {
          "output_type": "error",
          "ename": "NameError",
          "evalue": "ignored",
          "traceback": [
            "\u001b[0;31m---------------------------------------------------------------------------\u001b[0m",
            "\u001b[0;31mNameError\u001b[0m                                 Traceback (most recent call last)",
            "\u001b[0;32m<ipython-input-105-5c2161991938>\u001b[0m in \u001b[0;36m<cell line: 3>\u001b[0;34m()\u001b[0m\n\u001b[1;32m      2\u001b[0m \u001b[0mtrain_images\u001b[0m \u001b[0;34m=\u001b[0m\u001b[0;34m[\u001b[0m\u001b[0;34m]\u001b[0m\u001b[0;34m\u001b[0m\u001b[0;34m\u001b[0m\u001b[0m\n\u001b[1;32m      3\u001b[0m \u001b[0;32mfor\u001b[0m \u001b[0mn\u001b[0m\u001b[0;34m,\u001b[0m\u001b[0mi\u001b[0m \u001b[0;32min\u001b[0m \u001b[0menumerate\u001b[0m\u001b[0;34m(\u001b[0m\u001b[0mtrain_img_path\u001b[0m\u001b[0;34m)\u001b[0m\u001b[0;34m:\u001b[0m\u001b[0;34m\u001b[0m\u001b[0;34m\u001b[0m\u001b[0m\n\u001b[0;32m----> 4\u001b[0;31m       \u001b[0minput_img\u001b[0m \u001b[0;34m=\u001b[0m \u001b[0mget_input\u001b[0m\u001b[0;34m(\u001b[0m\u001b[0mi\u001b[0m\u001b[0;34m)\u001b[0m\u001b[0;34m\u001b[0m\u001b[0;34m\u001b[0m\u001b[0m\n\u001b[0m\u001b[1;32m      5\u001b[0m       \u001b[0mprocess_img\u001b[0m \u001b[0;34m=\u001b[0m \u001b[0mprocess_input\u001b[0m\u001b[0;34m(\u001b[0m\u001b[0minput_img\u001b[0m\u001b[0;34m)\u001b[0m\u001b[0;34m\u001b[0m\u001b[0;34m\u001b[0m\u001b[0m\n\u001b[1;32m      6\u001b[0m       \u001b[0mprint\u001b[0m\u001b[0;34m(\u001b[0m\u001b[0mn\u001b[0m\u001b[0;34m)\u001b[0m\u001b[0;34m\u001b[0m\u001b[0;34m\u001b[0m\u001b[0m\n",
            "\u001b[0;32m<ipython-input-104-f662ff4b0522>\u001b[0m in \u001b[0;36mget_input\u001b[0;34m(path)\u001b[0m\n\u001b[1;32m      1\u001b[0m \u001b[0;32mdef\u001b[0m \u001b[0mget_input\u001b[0m\u001b[0;34m(\u001b[0m\u001b[0mpath\u001b[0m\u001b[0;34m)\u001b[0m\u001b[0;34m:\u001b[0m\u001b[0;34m\u001b[0m\u001b[0;34m\u001b[0m\u001b[0m\n\u001b[1;32m      2\u001b[0m     \u001b[0mImageFile\u001b[0m\u001b[0;34m.\u001b[0m\u001b[0mLOAD_TRUNCATED_IMAGES\u001b[0m \u001b[0;34m=\u001b[0m \u001b[0;32mTrue\u001b[0m\u001b[0;34m\u001b[0m\u001b[0;34m\u001b[0m\u001b[0m\n\u001b[0;32m----> 3\u001b[0;31m     \u001b[0mimg\u001b[0m \u001b[0;34m=\u001b[0m \u001b[0mKeras\u001b[0m\u001b[0;34m.\u001b[0m\u001b[0mutilis\u001b[0m\u001b[0;34m.\u001b[0m\u001b[0mload_img\u001b[0m\u001b[0;34m(\u001b[0m\u001b[0mpath\u001b[0m\u001b[0;34m,\u001b[0m\u001b[0mtarget_size\u001b[0m \u001b[0;34m=\u001b[0m \u001b[0;34m(\u001b[0m\u001b[0;36m100\u001b[0m\u001b[0;34m,\u001b[0m\u001b[0;36m100\u001b[0m\u001b[0;34m)\u001b[0m\u001b[0;34m)\u001b[0m\u001b[0;34m\u001b[0m\u001b[0;34m\u001b[0m\u001b[0m\n\u001b[0m\u001b[1;32m      4\u001b[0m     \u001b[0;32mreturn\u001b[0m\u001b[0;34m(\u001b[0m\u001b[0mimg\u001b[0m\u001b[0;34m)\u001b[0m\u001b[0;34m\u001b[0m\u001b[0;34m\u001b[0m\u001b[0m\n",
            "\u001b[0;31mNameError\u001b[0m: name 'Keras' is not defined"
          ]
        }
      ],
      "source": [
        "# Create an array of training images\n",
        "train_images =[]\n",
        "for n,i in enumerate(train_img_path):\n",
        "      input_img = get_input(i)\n",
        "      process_img = process_input(input_img)\n",
        "      print(n)\n",
        "      train_images.append(process_img[0])\n",
        "\n",
        ""
      ]
    },
    {
      "cell_type": "code",
      "execution_count": null,
      "metadata": {
        "colab": {
          "base_uri": "https://localhost:8080/",
          "height": 130
        },
        "id": "hl2INYCeTkXn",
        "outputId": "d5fedc59-05b7-49ad-b03c-3ef574b55dde"
      },
      "outputs": [
        {
          "output_type": "error",
          "ename": "IndentationError",
          "evalue": "ignored",
          "traceback": [
            "\u001b[0;36m  File \u001b[0;32m\"<ipython-input-22-c51ceeae8d30>\"\u001b[0;36m, line \u001b[0;32m2\u001b[0m\n\u001b[0;31m    test_images = []\u001b[0m\n\u001b[0m    ^\u001b[0m\n\u001b[0;31mIndentationError\u001b[0m\u001b[0;31m:\u001b[0m unexpected indent\n"
          ]
        }
      ],
      "source": [
        "#  #Create an array of test images\n",
        " test_images = []\n",
        " for n,i in enumerate(test_img_path):\n",
        " input_img = get_input(i)\n",
        "  process_img = process_input(input_img)\n",
        "  print(n)\n",
        "   test_images.append(process_img[0])\n"
      ]
    },
    {
      "cell_type": "code",
      "execution_count": null,
      "metadata": {
        "colab": {
          "base_uri": "https://localhost:8080/",
          "height": 130
        },
        "id": "iZIwh11DTkXn",
        "outputId": "c1aa9638-2a93-4ac7-c8cd-5934bcf43d34"
      },
      "outputs": [
        {
          "output_type": "error",
          "ename": "IndentationError",
          "evalue": "ignored",
          "traceback": [
            "\u001b[0;36m  File \u001b[0;32m\"<ipython-input-48-b77e0415cec1>\"\u001b[0;36m, line \u001b[0;32m2\u001b[0m\n\u001b[0;31m    train_images  =  np.array(train_images)\u001b[0m\n\u001b[0m    ^\u001b[0m\n\u001b[0;31mIndentationError\u001b[0m\u001b[0;31m:\u001b[0m unexpected indent\n"
          ]
        }
      ],
      "source": [
        "#  convert into numpy array\n",
        " train_images  =  np.array(train_images)\n",
        "# # convert into numpy array\n",
        " test_image = np.array(test_images)\n"
      ]
    },
    {
      "cell_type": "code",
      "execution_count": null,
      "metadata": {
        "id": "ellgXlkbTkXn",
        "colab": {
          "base_uri": "https://localhost:8080/",
          "height": 235
        },
        "outputId": "2c3a5ce1-fa52-491f-b1a9-74c1ccdd0cc7"
      },
      "outputs": [
        {
          "output_type": "error",
          "ename": "NameError",
          "evalue": "ignored",
          "traceback": [
            "\u001b[0;31m---------------------------------------------------------------------------\u001b[0m",
            "\u001b[0;31mNameError\u001b[0m                                 Traceback (most recent call last)",
            "\u001b[0;32m<ipython-input-27-0e2d450a21ed>\u001b[0m in \u001b[0;36m<cell line: 1>\u001b[0;34m()\u001b[0m\n\u001b[1;32m      1\u001b[0m \u001b[0;32mwith\u001b[0m \u001b[0mopen\u001b[0m\u001b[0;34m(\u001b[0m\u001b[0mdataset_path\u001b[0m\u001b[0;34m+\u001b[0m\u001b[0;34m'train.pkl'\u001b[0m\u001b[0;34m,\u001b[0m\u001b[0;34m'wb'\u001b[0m\u001b[0;34m)\u001b[0m \u001b[0;32mas\u001b[0m \u001b[0mf\u001b[0m\u001b[0;34m:\u001b[0m\u001b[0;34m\u001b[0m\u001b[0;34m\u001b[0m\u001b[0m\n\u001b[0;32m----> 2\u001b[0;31m     \u001b[0mpkl\u001b[0m\u001b[0;34m.\u001b[0m\u001b[0mdump\u001b[0m\u001b[0;34m(\u001b[0m\u001b[0mtrain_image\u001b[0m\u001b[0;34m,\u001b[0m \u001b[0mf\u001b[0m\u001b[0;34m)\u001b[0m\u001b[0;34m\u001b[0m\u001b[0;34m\u001b[0m\u001b[0m\n\u001b[0m\u001b[1;32m      3\u001b[0m \u001b[0;34m\u001b[0m\u001b[0m\n\u001b[1;32m      4\u001b[0m \u001b[0;32mwith\u001b[0m \u001b[0mopen\u001b[0m\u001b[0;34m(\u001b[0m\u001b[0mdataset_path\u001b[0m\u001b[0;34m+\u001b[0m\u001b[0;34m'test.pkl'\u001b[0m\u001b[0;34m,\u001b[0m\u001b[0;34m'wb'\u001b[0m\u001b[0;34m)\u001b[0m \u001b[0;32mas\u001b[0m \u001b[0mf\u001b[0m\u001b[0;34m:\u001b[0m\u001b[0;34m\u001b[0m\u001b[0;34m\u001b[0m\u001b[0m\n\u001b[1;32m      5\u001b[0m     \u001b[0mpkl\u001b[0m\u001b[0;34m.\u001b[0m\u001b[0mdump\u001b[0m\u001b[0;34m(\u001b[0m\u001b[0mtest_image\u001b[0m\u001b[0;34m,\u001b[0m \u001b[0mf\u001b[0m\u001b[0;34m)\u001b[0m\u001b[0;34m\u001b[0m\u001b[0;34m\u001b[0m\u001b[0m\n",
            "\u001b[0;31mNameError\u001b[0m: name 'train_image' is not defined"
          ]
        }
      ],
      "source": [
        "with open(dataset_path+'train.pkl','wb') as f:\n",
        "    pkl.dump(train_image, f)\n",
        "\n",
        "with open(dataset_path+'test.pkl','wb') as f:\n",
        "    pkl.dump(test_image, f)"
      ]
    },
    {
      "cell_type": "markdown",
      "metadata": {
        "id": "d1a7AgGSmAHD"
      },
      "source": [
        "#Load Images"
      ]
    },
    {
      "cell_type": "code",
      "execution_count": null,
      "metadata": {
        "colab": {
          "base_uri": "https://localhost:8080/",
          "height": 235
        },
        "id": "6Ozv-q2YTkXo",
        "outputId": "c6b43f49-a5df-4222-a480-84f84f958419"
      },
      "outputs": [
        {
          "output_type": "error",
          "ename": "EOFError",
          "evalue": "ignored",
          "traceback": [
            "\u001b[0;31m---------------------------------------------------------------------------\u001b[0m",
            "\u001b[0;31mEOFError\u001b[0m                                  Traceback (most recent call last)",
            "\u001b[0;32m<ipython-input-68-28c364eb67e9>\u001b[0m in \u001b[0;36m<cell line: 1>\u001b[0;34m()\u001b[0m\n\u001b[1;32m      1\u001b[0m \u001b[0;32mwith\u001b[0m \u001b[0mopen\u001b[0m\u001b[0;34m(\u001b[0m\u001b[0mdataset_path\u001b[0m\u001b[0;34m+\u001b[0m\u001b[0;34m'train.pkl'\u001b[0m\u001b[0;34m,\u001b[0m\u001b[0;34m'rb'\u001b[0m\u001b[0;34m)\u001b[0m \u001b[0;32mas\u001b[0m \u001b[0mf\u001b[0m\u001b[0;34m:\u001b[0m\u001b[0;34m\u001b[0m\u001b[0;34m\u001b[0m\u001b[0m\n\u001b[0;32m----> 2\u001b[0;31m   \u001b[0mtrain_image\u001b[0m \u001b[0;34m=\u001b[0m \u001b[0mpkl\u001b[0m\u001b[0;34m.\u001b[0m\u001b[0mload\u001b[0m\u001b[0;34m(\u001b[0m\u001b[0mf\u001b[0m\u001b[0;34m)\u001b[0m\u001b[0;34m\u001b[0m\u001b[0;34m\u001b[0m\u001b[0m\n\u001b[0m\u001b[1;32m      3\u001b[0m   \u001b[0mprint\u001b[0m\u001b[0;34m(\u001b[0m\u001b[0;34m\"Training Images:-- \"\u001b[0m\u001b[0;34m,\u001b[0m\u001b[0mtrain_image\u001b[0m\u001b[0;34m.\u001b[0m\u001b[0mshape\u001b[0m\u001b[0;34m)\u001b[0m\u001b[0;34m\u001b[0m\u001b[0;34m\u001b[0m\u001b[0m\n\u001b[1;32m      4\u001b[0m \u001b[0;34m\u001b[0m\u001b[0m\n\u001b[1;32m      5\u001b[0m \u001b[0;32mwith\u001b[0m \u001b[0mopen\u001b[0m\u001b[0;34m(\u001b[0m\u001b[0mdataset_path\u001b[0m\u001b[0;34m+\u001b[0m\u001b[0;34m'test.pkl'\u001b[0m\u001b[0;34m,\u001b[0m\u001b[0;34m'rb'\u001b[0m\u001b[0;34m)\u001b[0m \u001b[0;32mas\u001b[0m \u001b[0mf\u001b[0m\u001b[0;34m:\u001b[0m\u001b[0;34m\u001b[0m\u001b[0;34m\u001b[0m\u001b[0m\n",
            "\u001b[0;31mEOFError\u001b[0m: Ran out of input"
          ]
        }
      ],
      "source": [
        "with open(dataset_path+'train.pkl','rb') as f:\n",
        "  train_image = pkl.load(f)\n",
        "  print(\"Training Images:-- \",train_image.shape)\n",
        "\n",
        "with open(dataset_path+'test.pkl','rb') as f:\n",
        "  test_image = pkl.load(f)\n",
        "  print(\"Test Images:-- \",test_image.shape)\n",
        ""
      ]
    },
    {
      "cell_type": "markdown",
      "metadata": {
        "id": "M8Y8KBGYIF1U"
      },
      "source": [
        "## Callback"
      ]
    },
    {
      "cell_type": "code",
      "execution_count": null,
      "metadata": {
        "id": "Mx-ztMlxHlN-"
      },
      "outputs": [],
      "source": [
        "def checkpoint_fn(name):\n",
        "  filepath =f'/content/drive/MyDrive/New folder/Model/{name}.h5'\n",
        "  checkpoint = ModelCheckpoint(filepath=filepath, monitor='val_accuracy', verbose=1, save_best_only=True, save_weights_only=False, mode='auto')\n",
        "  early = EarlyStopping(monitor='val_accuracy', min_delta=0, patience=20, verbose=1, mode='auto')\n",
        "  return [checkpoint,early]\n"
      ]
    },
    {
      "cell_type": "markdown",
      "metadata": {
        "id": "74CwjLETmMO2"
      },
      "source": [
        "## VGG16 model"
      ]
    },
    {
      "cell_type": "code",
      "execution_count": null,
      "metadata": {
        "id": "g5vq6KqOXJ6h"
      },
      "outputs": [],
      "source": [
        "def VGG16_model(input_shape, n_classes, optimizer, fine_tune=0):\n",
        "    \"\"\"\n",
        "    Compiles a model integrated with VGG16 pretrained layers\n",
        "\n",
        "    input_shape: tuple - the shape of input images (width, height, channels)\n",
        "    n_classes: int - number of classes for the output layer\n",
        "    optimizer: string - instantiated optimizer to use for training. Defaults to 'RMSProp'\n",
        "    fine_tune: int - The number of pre-trained layers to unfreeze.\n",
        "                If set to 0, all pretrained layers will freeze during training\n",
        "    \"\"\"\n",
        "\n",
        "    # Pretrained convolutional layers are loaded using the Imagenet weights.\n",
        "    # Include_top is set to False, in order to exclude the model's fully-connected layers.\n",
        "    conv_base = VGG16(include_top=False,\n",
        "                     weights='imagenet',\n",
        "                     input_shape=input_shape)\n",
        "\n",
        "    # Defines how many layers to freeze during training.\n",
        "    # Layers in the convolutional base are switched from trainable to non-trainable\n",
        "    # depending on the size of the fine-tuning parameter.\n",
        "    if fine_tune > 0:\n",
        "        for layer in conv_base.layers[:-fine_tune]:\n",
        "            layer.trainable = False\n",
        "    else:\n",
        "        for layer in conv_base.layers:\n",
        "            layer.trainable = False\n",
        "\n",
        "    # Create a new 'top' of the model (i.e. fully-connected layers).\n",
        "    # This is 'bootstrapping' a new top_model onto the pretrained layers.\n",
        "    top_model = conv_base.output\n",
        "    top_model = Flatten()(top_model)\n",
        "    # top_model = Dense(4096, activation='relu')(top_model)\n",
        "    top_model = Dense(536, activation='relu')(top_model)\n",
        "    # top_model = Dropout(0.2)(top_model)\n",
        "    output_layer = Dense(n_classes, activation='softmax')(top_model)\n",
        "\n",
        "    # Group the convolutional base and new fully-connected layers into a Model object.\n",
        "    model = Model(inputs=conv_base.input, outputs=output_layer)\n",
        "\n",
        "    # Compiles the model for training.\n",
        "    model.compile(optimizer=optimizer,\n",
        "                  loss='sparse_categorical_crossentropy',\n",
        "                  metrics=['accuracy'])\n",
        "\n",
        "    return model"
      ]
    },
    {
      "cell_type": "code",
      "execution_count": null,
      "metadata": {
        "id": "ydxAMVNjXODq"
      },
      "outputs": [],
      "source": [
        "input_shape = (100, 100, 3)\n",
        "n_epochs = 30\n",
        "n_classes = 6"
      ]
    },
    {
      "cell_type": "code",
      "execution_count": null,
      "metadata": {
        "colab": {
          "base_uri": "https://localhost:8080/"
        },
        "id": "G912b6VsXRZ0",
        "outputId": "f4d61397-ec4b-4ef4-c098-b0329a12e047"
      },
      "outputs": [
        {
          "output_type": "stream",
          "name": "stdout",
          "text": [
            "Downloading data from https://storage.googleapis.com/tensorflow/keras-applications/vgg16/vgg16_weights_tf_dim_ordering_tf_kernels_notop.h5\n",
            "58889256/58889256 [==============================] - 0s 0us/step\n"
          ]
        }
      ],
      "source": [
        "# Building img_prediction layer using Image_model\n",
        "vgg16_img = VGG16_model(input_shape, n_classes,Adam(3e-3), fine_tune=2)"
      ]
    },
    {
      "cell_type": "code",
      "execution_count": null,
      "metadata": {
        "id": "OAFyju8BspEm"
      },
      "outputs": [],
      "source": [
        "# base_img.summary()"
      ]
    },
    {
      "cell_type": "code",
      "execution_count": null,
      "metadata": {
        "colab": {
          "base_uri": "https://localhost:8080/"
        },
        "id": "112wTdyhXWda",
        "outputId": "5e0baf48-f897-4eef-a7ac-97f844324c5b"
      },
      "outputs": [
        {
          "output_type": "stream",
          "name": "stdout",
          "text": [
            "Epoch 1/30\n",
            "148/148 [==============================] - ETA: 0s - loss: 1.1508 - accuracy: 0.5726\n",
            "Epoch 1: val_accuracy improved from -inf to 0.57333, saving model to /content/drive/MyDrive/New folder/Model/vgg16.h5\n",
            "148/148 [==============================] - 627s 4s/step - loss: 1.1508 - accuracy: 0.5726 - val_loss: 1.1217 - val_accuracy: 0.5733\n",
            "Epoch 2/30\n",
            "148/148 [==============================] - ETA: 0s - loss: 1.1304 - accuracy: 0.5961\n",
            "Epoch 2: val_accuracy improved from 0.57333 to 0.58667, saving model to /content/drive/MyDrive/New folder/Model/vgg16.h5\n",
            "148/148 [==============================] - 636s 4s/step - loss: 1.1304 - accuracy: 0.5961 - val_loss: 1.1312 - val_accuracy: 0.5867\n",
            "Epoch 3/30\n",
            "148/148 [==============================] - ETA: 0s - loss: 1.1065 - accuracy: 0.6099\n",
            "Epoch 3: val_accuracy did not improve from 0.58667\n",
            "148/148 [==============================] - 623s 4s/step - loss: 1.1065 - accuracy: 0.6099 - val_loss: 1.1247 - val_accuracy: 0.5733\n",
            "Epoch 4/30\n",
            "148/148 [==============================] - ETA: 0s - loss: 1.0661 - accuracy: 0.5997\n",
            "Epoch 4: val_accuracy did not improve from 0.58667\n",
            "148/148 [==============================] - 600s 4s/step - loss: 1.0661 - accuracy: 0.5997 - val_loss: 1.1251 - val_accuracy: 0.5695\n",
            "Epoch 5/30\n",
            "148/148 [==============================] - ETA: 0s - loss: 1.0348 - accuracy: 0.6067\n",
            "Epoch 5: val_accuracy did not improve from 0.58667\n",
            "148/148 [==============================] - 627s 4s/step - loss: 1.0348 - accuracy: 0.6067 - val_loss: 1.1312 - val_accuracy: 0.5638\n",
            "Epoch 6/30\n",
            "148/148 [==============================] - ETA: 0s - loss: 1.0411 - accuracy: 0.6118\n",
            "Epoch 6: val_accuracy improved from 0.58667 to 0.58857, saving model to /content/drive/MyDrive/New folder/Model/vgg16.h5\n",
            "148/148 [==============================] - 644s 4s/step - loss: 1.0411 - accuracy: 0.6118 - val_loss: 1.1907 - val_accuracy: 0.5886\n",
            "Epoch 7/30\n",
            "148/148 [==============================] - ETA: 0s - loss: 0.9944 - accuracy: 0.6209\n",
            "Epoch 7: val_accuracy improved from 0.58857 to 0.60190, saving model to /content/drive/MyDrive/New folder/Model/vgg16.h5\n",
            "148/148 [==============================] - 627s 4s/step - loss: 0.9944 - accuracy: 0.6209 - val_loss: 1.1142 - val_accuracy: 0.6019\n",
            "Epoch 8/30\n",
            "148/148 [==============================] - ETA: 0s - loss: 0.9969 - accuracy: 0.6222\n",
            "Epoch 8: val_accuracy did not improve from 0.60190\n",
            "148/148 [==============================] - 625s 4s/step - loss: 0.9969 - accuracy: 0.6222 - val_loss: 1.0512 - val_accuracy: 0.5962\n",
            "Epoch 9/30\n",
            "148/148 [==============================] - ETA: 0s - loss: 1.0007 - accuracy: 0.6258\n",
            "Epoch 9: val_accuracy did not improve from 0.60190\n",
            "148/148 [==============================] - 625s 4s/step - loss: 1.0007 - accuracy: 0.6258 - val_loss: 1.1705 - val_accuracy: 0.5848\n",
            "Epoch 10/30\n",
            "148/148 [==============================] - ETA: 0s - loss: 0.9879 - accuracy: 0.6249\n",
            "Epoch 10: val_accuracy did not improve from 0.60190\n",
            "148/148 [==============================] - 624s 4s/step - loss: 0.9879 - accuracy: 0.6249 - val_loss: 1.1855 - val_accuracy: 0.5905\n",
            "Epoch 11/30\n",
            "148/148 [==============================] - ETA: 0s - loss: 0.9792 - accuracy: 0.6292\n",
            "Epoch 11: val_accuracy did not improve from 0.60190\n",
            "148/148 [==============================] - 629s 4s/step - loss: 0.9792 - accuracy: 0.6292 - val_loss: 1.0900 - val_accuracy: 0.5905\n",
            "Epoch 12/30\n",
            "148/148 [==============================] - ETA: 0s - loss: 0.9689 - accuracy: 0.6353\n",
            "Epoch 12: val_accuracy did not improve from 0.60190\n",
            "148/148 [==============================] - 601s 4s/step - loss: 0.9689 - accuracy: 0.6353 - val_loss: 1.2413 - val_accuracy: 0.6000\n",
            "Epoch 13/30\n",
            "148/148 [==============================] - ETA: 0s - loss: 0.9490 - accuracy: 0.6315\n",
            "Epoch 13: val_accuracy did not improve from 0.60190\n",
            "148/148 [==============================] - 629s 4s/step - loss: 0.9490 - accuracy: 0.6315 - val_loss: 1.1331 - val_accuracy: 0.5905\n",
            "Epoch 14/30\n",
            "148/148 [==============================] - ETA: 0s - loss: 0.9488 - accuracy: 0.6324\n",
            "Epoch 14: val_accuracy did not improve from 0.60190\n",
            "148/148 [==============================] - 624s 4s/step - loss: 0.9488 - accuracy: 0.6324 - val_loss: 1.1319 - val_accuracy: 0.5829\n",
            "Epoch 15/30\n",
            "148/148 [==============================] - ETA: 0s - loss: 0.9280 - accuracy: 0.6404\n",
            "Epoch 15: val_accuracy did not improve from 0.60190\n",
            "148/148 [==============================] - 627s 4s/step - loss: 0.9280 - accuracy: 0.6404 - val_loss: 1.1199 - val_accuracy: 0.5905\n",
            "Epoch 16/30\n",
            "148/148 [==============================] - ETA: 0s - loss: 0.9142 - accuracy: 0.6453\n",
            "Epoch 16: val_accuracy did not improve from 0.60190\n",
            "148/148 [==============================] - 626s 4s/step - loss: 0.9142 - accuracy: 0.6453 - val_loss: 1.2624 - val_accuracy: 0.5924\n",
            "Epoch 17/30\n",
            "148/148 [==============================] - ETA: 0s - loss: 0.9326 - accuracy: 0.6453\n",
            "Epoch 17: val_accuracy did not improve from 0.60190\n",
            "148/148 [==============================] - 626s 4s/step - loss: 0.9326 - accuracy: 0.6453 - val_loss: 1.1483 - val_accuracy: 0.5962\n",
            "Epoch 18/30\n",
            "148/148 [==============================] - ETA: 0s - loss: 0.9402 - accuracy: 0.6417\n",
            "Epoch 18: val_accuracy improved from 0.60190 to 0.60762, saving model to /content/drive/MyDrive/New folder/Model/vgg16.h5\n",
            "148/148 [==============================] - 627s 4s/step - loss: 0.9402 - accuracy: 0.6417 - val_loss: 1.1768 - val_accuracy: 0.6076\n",
            "Epoch 19/30\n",
            "148/148 [==============================] - ETA: 0s - loss: 0.9197 - accuracy: 0.6478\n",
            "Epoch 19: val_accuracy did not improve from 0.60762\n",
            "148/148 [==============================] - 630s 4s/step - loss: 0.9197 - accuracy: 0.6478 - val_loss: 1.1967 - val_accuracy: 0.5962\n",
            "Epoch 20/30\n",
            "148/148 [==============================] - ETA: 0s - loss: 0.9407 - accuracy: 0.6499\n",
            "Epoch 20: val_accuracy did not improve from 0.60762\n",
            "148/148 [==============================] - 629s 4s/step - loss: 0.9407 - accuracy: 0.6499 - val_loss: 1.3253 - val_accuracy: 0.6057\n",
            "Epoch 21/30\n",
            "148/148 [==============================] - ETA: 0s - loss: 0.9161 - accuracy: 0.6557\n",
            "Epoch 21: val_accuracy did not improve from 0.60762\n",
            "148/148 [==============================] - 603s 4s/step - loss: 0.9161 - accuracy: 0.6557 - val_loss: 1.2523 - val_accuracy: 0.5943\n",
            "Epoch 22/30\n",
            "148/148 [==============================] - ETA: 0s - loss: 1.0890 - accuracy: 0.6281\n",
            "Epoch 22: val_accuracy did not improve from 0.60762\n",
            "148/148 [==============================] - 604s 4s/step - loss: 1.0890 - accuracy: 0.6281 - val_loss: 1.1825 - val_accuracy: 0.5543\n",
            "Epoch 23/30\n",
            "148/148 [==============================] - ETA: 0s - loss: 1.2748 - accuracy: 0.6010\n",
            "Epoch 23: val_accuracy did not improve from 0.60762\n",
            "148/148 [==============================] - 626s 4s/step - loss: 1.2748 - accuracy: 0.6010 - val_loss: 1.1747 - val_accuracy: 0.5752\n",
            "Epoch 24/30\n",
            "148/148 [==============================] - ETA: 0s - loss: 0.9668 - accuracy: 0.6406\n",
            "Epoch 24: val_accuracy did not improve from 0.60762\n",
            "148/148 [==============================] - 627s 4s/step - loss: 0.9668 - accuracy: 0.6406 - val_loss: 1.3289 - val_accuracy: 0.5810\n",
            "Epoch 25/30\n",
            " 27/148 [====>.........................] - ETA: 7:18 - loss: 0.8794 - accuracy: 0.6574"
          ]
        }
      ],
      "source": [
        "vgg16_history = vgg16_img.fit(train_image,train_data['enc_label'],\n",
        "                            batch_size=32,\n",
        "                            epochs=n_epochs,\n",
        "                            callbacks=checkpoint_fn('vgg16'),\n",
        "                            validation_split = 0.1)"
      ]
    },
    {
      "cell_type": "code",
      "execution_count": null,
      "metadata": {
        "id": "a3YimSkYEpyf"
      },
      "outputs": [],
      "source": [
        "from keras.models import load_model\n",
        "vgg16_model = load_model('/content/drive/MyDrive/New folder/Model/vgg16.h5')"
      ]
    },
    {
      "cell_type": "code",
      "execution_count": null,
      "metadata": {
        "colab": {
          "base_uri": "https://localhost:8080/"
        },
        "id": "ZJAuuEXQKy_g",
        "outputId": "89ee5a96-46ba-439e-d235-b25e4658206e"
      },
      "outputs": [
        {
          "name": "stdout",
          "output_type": "stream",
          "text": [
            "19/19 [==============================] - 1s 60ms/step\n"
          ]
        }
      ],
      "source": [
        "y_pred=np.argmax(vgg16_model.predict(test_image),axis=-1)"
      ]
    },
    {
      "cell_type": "code",
      "execution_count": null,
      "metadata": {
        "colab": {
          "base_uri": "https://localhost:8080/"
        },
        "id": "-gGqeBOSLSFh",
        "outputId": "bed97b2d-6228-463b-9c76-c8f0254bafc7"
      },
      "outputs": [
        {
          "name": "stdout",
          "output_type": "stream",
          "text": [
            "              precision    recall  f1-score   support\n",
            "\n",
            "           0       0.78      0.86      0.82       291\n",
            "           1       0.74      0.57      0.64       144\n",
            "           2       0.52      0.42      0.46        55\n",
            "           3       0.35      0.61      0.45        36\n",
            "           4       0.58      0.51      0.54        37\n",
            "           5       0.55      0.29      0.37        21\n",
            "\n",
            "    accuracy                           0.69       584\n",
            "   macro avg       0.59      0.54      0.55       584\n",
            "weighted avg       0.70      0.69      0.69       584\n",
            "\n"
          ]
        }
      ],
      "source": [
        "print(classification_report(test_data[\"enc_label\"],y_pred))"
      ]
    },
    {
      "cell_type": "code",
      "execution_count": null,
      "metadata": {
        "colab": {
          "base_uri": "https://localhost:8080/"
        },
        "id": "lVJWJ72nFyj0",
        "outputId": "5f3f9aef-cc75-42f8-97ba-3b4d74ade5ae"
      },
      "outputs": [
        {
          "data": {
            "text/plain": [
              "0.6852908675145871"
            ]
          },
          "execution_count": 21,
          "metadata": {},
          "output_type": "execute_result"
        }
      ],
      "source": [
        "f1_score(test_data[\"enc_label\"], y_pred, average='weighted')"
      ]
    },
    {
      "cell_type": "markdown",
      "metadata": {
        "id": "sxixmi10BdXE"
      },
      "source": [
        "# Build VGG19 model"
      ]
    },
    {
      "cell_type": "code",
      "execution_count": null,
      "metadata": {
        "id": "oBm54Ec6hDC5"
      },
      "outputs": [],
      "source": [
        "# from keras.applications.vgg16 import preprocess_input\n"
      ]
    },
    {
      "cell_type": "markdown",
      "metadata": {
        "id": "retAwGqxCpGl"
      },
      "source": [
        "## VGG19 Model"
      ]
    },
    {
      "cell_type": "code",
      "execution_count": null,
      "metadata": {
        "id": "F5zwWwNECr3u"
      },
      "outputs": [],
      "source": [
        "def VGG19_model(input_shape, n_classes, optimizer='rmsprop'):\n",
        "    \"\"\"\n",
        "    Compiles a model integrated with VGG16 pretrained layers\n",
        "\n",
        "    input_shape: tuple - the shape of input images (width, height, channels)\n",
        "    n_classes: int - number of classes for the output layer\n",
        "    optimizer: string - instantiated optimizer to use for training. Defaults to 'RMSProp'\n",
        "    fine_tune: int - The number of pre-trained layers to unfreeze.\n",
        "                If set to 0, all pretrained layers will freeze during training\n",
        "    \"\"\"\n",
        "    keras.backend.clear_session()\n",
        "    # Pretrained convolutional layers are loaded using the Imagenet weights.\n",
        "    # Include_top is set to False, in order to exclude the model's fully-connected layers.\n",
        "    conv_base = VGG19(include_top=False,\n",
        "                     weights='imagenet',\n",
        "                     input_shape=input_shape)\n",
        "\n",
        "    # Defines how many layers to freeze during training.\n",
        "    # Layers in the convolutional base are switched from trainable to non-trainable\n",
        "    # depending on the size of the fine-tuning parameter.\n",
        "\n",
        "    for layer in conv_base.layers:\n",
        "          layer.trainable = False\n",
        "\n",
        "    # Create a new 'top' of the model (i.e. fully-connected layers).\n",
        "    # This is 'bootstrapping' a new top_model onto the pretrained layers.\n",
        "    top_model = conv_base.output\n",
        "    top_model = Flatten()(top_model)\n",
        "    # top_model = Dense(4096, activation='relu')(top_model)\n",
        "    top_model = Dense(536, activation='relu')(top_model)\n",
        "    # top_model = Dropout(0.2)(top_model)\n",
        "    output_layer = Dense(n_classes, activation='softmax')(top_model)\n",
        "\n",
        "    # Group the convolutional base and new fully-connected layers into a Model object.\n",
        "    model = Model(inputs=conv_base.input, outputs=output_layer)\n",
        "\n",
        "    # Compiles the model for training.\n",
        "    model.compile(optimizer=optimizer,\n",
        "                  loss='sparse_categorical_crossentropy',\n",
        "                  metrics=['accuracy'])\n",
        "\n",
        "    return model"
      ]
    },
    {
      "cell_type": "code",
      "execution_count": null,
      "metadata": {
        "id": "FQJAJ22nEEht"
      },
      "outputs": [],
      "source": [
        "input_shape = (100, 100, 3)\n",
        "n_epochs = 30\n",
        "n_classes = 6"
      ]
    },
    {
      "cell_type": "code",
      "execution_count": null,
      "metadata": {
        "colab": {
          "base_uri": "https://localhost:8080/"
        },
        "id": "jz3KbR4uaga5",
        "outputId": "4515c060-4abe-41d3-8340-81dbc9dfc3f6"
      },
      "outputs": [
        {
          "name": "stdout",
          "output_type": "stream",
          "text": [
            "Downloading data from https://storage.googleapis.com/tensorflow/keras-applications/vgg19/vgg19_weights_tf_dim_ordering_tf_kernels_notop.h5\n",
            "80134624/80134624 [==============================] - 0s 0us/step\n"
          ]
        }
      ],
      "source": [
        "# Building img_prediction layer using Image_model\n",
        "vgg19_img = VGG19_model(input_shape, n_classes,Adam(learning_rate=1e-3))"
      ]
    },
    {
      "cell_type": "code",
      "execution_count": null,
      "metadata": {
        "colab": {
          "base_uri": "https://localhost:8080/"
        },
        "id": "FZr1iCupEOXM",
        "outputId": "95541647-ab9d-4d71-c5f2-b79ddde79741"
      },
      "outputs": [
        {
          "name": "stdout",
          "output_type": "stream",
          "text": [
            "Epoch 1/30\n",
            "147/148 [============================>.] - ETA: 0s - loss: 3.8976 - accuracy: 0.6420\n",
            "Epoch 1: val_accuracy improved from -inf to 0.64571, saving model to /content/drive/MyDrive/New folder/Model/vgg19.h5\n",
            "148/148 [==============================] - 11s 68ms/step - loss: 3.8874 - accuracy: 0.6425 - val_loss: 1.0972 - val_accuracy: 0.6457\n",
            "Epoch 2/30\n",
            "148/148 [==============================] - ETA: 0s - loss: 0.4281 - accuracy: 0.8431\n",
            "Epoch 2: val_accuracy improved from 0.64571 to 0.71238, saving model to /content/drive/MyDrive/New folder/Model/vgg19.h5\n",
            "148/148 [==============================] - 9s 58ms/step - loss: 0.4281 - accuracy: 0.8431 - val_loss: 1.1569 - val_accuracy: 0.7124\n",
            "Epoch 3/30\n",
            "148/148 [==============================] - ETA: 0s - loss: 0.1910 - accuracy: 0.9337\n",
            "Epoch 3: val_accuracy did not improve from 0.71238\n",
            "148/148 [==============================] - 8s 51ms/step - loss: 0.1910 - accuracy: 0.9337 - val_loss: 1.3516 - val_accuracy: 0.6952\n",
            "Epoch 4/30\n",
            "148/148 [==============================] - ETA: 0s - loss: 0.0650 - accuracy: 0.9818\n",
            "Epoch 4: val_accuracy did not improve from 0.71238\n",
            "148/148 [==============================] - 8s 52ms/step - loss: 0.0650 - accuracy: 0.9818 - val_loss: 1.5771 - val_accuracy: 0.6819\n",
            "Epoch 5/30\n",
            "147/148 [============================>.] - ETA: 0s - loss: 0.0211 - accuracy: 0.9972\n",
            "Epoch 5: val_accuracy did not improve from 0.71238\n",
            "148/148 [==============================] - 8s 52ms/step - loss: 0.0211 - accuracy: 0.9972 - val_loss: 1.6437 - val_accuracy: 0.7105\n",
            "Epoch 6/30\n",
            "147/148 [============================>.] - ETA: 0s - loss: 0.0072 - accuracy: 0.9991\n",
            "Epoch 6: val_accuracy did not improve from 0.71238\n",
            "148/148 [==============================] - 8s 52ms/step - loss: 0.0071 - accuracy: 0.9992 - val_loss: 1.7312 - val_accuracy: 0.7105\n",
            "Epoch 7/30\n",
            "147/148 [============================>.] - ETA: 0s - loss: 0.0034 - accuracy: 0.9996\n",
            "Epoch 7: val_accuracy improved from 0.71238 to 0.71810, saving model to /content/drive/MyDrive/New folder/Model/vgg19.h5\n",
            "148/148 [==============================] - 9s 58ms/step - loss: 0.0034 - accuracy: 0.9996 - val_loss: 1.8486 - val_accuracy: 0.7181\n",
            "Epoch 8/30\n",
            "147/148 [============================>.] - ETA: 0s - loss: 0.0023 - accuracy: 0.9996\n",
            "Epoch 8: val_accuracy did not improve from 0.71810\n",
            "148/148 [==============================] - 8s 51ms/step - loss: 0.0023 - accuracy: 0.9996 - val_loss: 1.8887 - val_accuracy: 0.7086\n",
            "Epoch 9/30\n",
            "147/148 [============================>.] - ETA: 0s - loss: 0.0014 - accuracy: 0.9998\n",
            "Epoch 9: val_accuracy improved from 0.71810 to 0.72000, saving model to /content/drive/MyDrive/New folder/Model/vgg19.h5\n",
            "148/148 [==============================] - 8s 57ms/step - loss: 0.0014 - accuracy: 0.9998 - val_loss: 1.9397 - val_accuracy: 0.7200\n",
            "Epoch 10/30\n",
            "148/148 [==============================] - ETA: 0s - loss: 0.0011 - accuracy: 0.9998\n",
            "Epoch 10: val_accuracy did not improve from 0.72000\n",
            "148/148 [==============================] - 8s 51ms/step - loss: 0.0011 - accuracy: 0.9998 - val_loss: 2.0111 - val_accuracy: 0.7086\n",
            "Epoch 11/30\n",
            "148/148 [==============================] - ETA: 0s - loss: 6.9353e-04 - accuracy: 1.0000\n",
            "Epoch 11: val_accuracy did not improve from 0.72000\n",
            "148/148 [==============================] - 8s 52ms/step - loss: 6.9353e-04 - accuracy: 1.0000 - val_loss: 2.0459 - val_accuracy: 0.7105\n",
            "Epoch 12/30\n",
            "148/148 [==============================] - ETA: 0s - loss: 5.3381e-04 - accuracy: 1.0000\n",
            "Epoch 12: val_accuracy did not improve from 0.72000\n",
            "148/148 [==============================] - 8s 51ms/step - loss: 5.3381e-04 - accuracy: 1.0000 - val_loss: 2.0788 - val_accuracy: 0.7105\n",
            "Epoch 13/30\n",
            "148/148 [==============================] - ETA: 0s - loss: 4.3633e-04 - accuracy: 1.0000\n",
            "Epoch 13: val_accuracy did not improve from 0.72000\n",
            "148/148 [==============================] - 8s 51ms/step - loss: 4.3633e-04 - accuracy: 1.0000 - val_loss: 2.1068 - val_accuracy: 0.7086\n",
            "Epoch 14/30\n",
            "148/148 [==============================] - ETA: 0s - loss: 3.6486e-04 - accuracy: 1.0000\n",
            "Epoch 14: val_accuracy did not improve from 0.72000\n",
            "148/148 [==============================] - 8s 51ms/step - loss: 3.6486e-04 - accuracy: 1.0000 - val_loss: 2.1347 - val_accuracy: 0.7086\n",
            "Epoch 15/30\n",
            "147/148 [============================>.] - ETA: 0s - loss: 3.1025e-04 - accuracy: 1.0000\n",
            "Epoch 15: val_accuracy did not improve from 0.72000\n",
            "148/148 [==============================] - 8s 55ms/step - loss: 3.0943e-04 - accuracy: 1.0000 - val_loss: 2.1589 - val_accuracy: 0.7086\n",
            "Epoch 16/30\n",
            "148/148 [==============================] - ETA: 0s - loss: 2.6426e-04 - accuracy: 1.0000\n",
            "Epoch 16: val_accuracy did not improve from 0.72000\n",
            "148/148 [==============================] - 8s 51ms/step - loss: 2.6426e-04 - accuracy: 1.0000 - val_loss: 2.1834 - val_accuracy: 0.7105\n",
            "Epoch 17/30\n",
            "148/148 [==============================] - ETA: 0s - loss: 2.2864e-04 - accuracy: 1.0000\n",
            "Epoch 17: val_accuracy did not improve from 0.72000\n",
            "148/148 [==============================] - 8s 55ms/step - loss: 2.2864e-04 - accuracy: 1.0000 - val_loss: 2.2070 - val_accuracy: 0.7162\n",
            "Epoch 18/30\n",
            "147/148 [============================>.] - ETA: 0s - loss: 1.9973e-04 - accuracy: 1.0000\n",
            "Epoch 18: val_accuracy did not improve from 0.72000\n",
            "148/148 [==============================] - 8s 51ms/step - loss: 1.9924e-04 - accuracy: 1.0000 - val_loss: 2.2273 - val_accuracy: 0.7143\n",
            "Epoch 19/30\n",
            "148/148 [==============================] - ETA: 0s - loss: 1.7360e-04 - accuracy: 1.0000\n",
            "Epoch 19: val_accuracy did not improve from 0.72000\n",
            "148/148 [==============================] - 8s 51ms/step - loss: 1.7360e-04 - accuracy: 1.0000 - val_loss: 2.2409 - val_accuracy: 0.7143\n",
            "Epoch 20/30\n",
            "147/148 [============================>.] - ETA: 0s - loss: 1.5338e-04 - accuracy: 1.0000\n",
            "Epoch 20: val_accuracy did not improve from 0.72000\n",
            "148/148 [==============================] - 8s 51ms/step - loss: 1.5307e-04 - accuracy: 1.0000 - val_loss: 2.2526 - val_accuracy: 0.7143\n",
            "Epoch 21/30\n",
            "148/148 [==============================] - ETA: 0s - loss: 1.3510e-04 - accuracy: 1.0000\n",
            "Epoch 21: val_accuracy did not improve from 0.72000\n",
            "148/148 [==============================] - 8s 51ms/step - loss: 1.3510e-04 - accuracy: 1.0000 - val_loss: 2.2719 - val_accuracy: 0.7143\n",
            "Epoch 22/30\n",
            "147/148 [============================>.] - ETA: 0s - loss: 1.1970e-04 - accuracy: 1.0000\n",
            "Epoch 22: val_accuracy did not improve from 0.72000\n",
            "148/148 [==============================] - 8s 51ms/step - loss: 1.1989e-04 - accuracy: 1.0000 - val_loss: 2.2853 - val_accuracy: 0.7124\n",
            "Epoch 23/30\n",
            "148/148 [==============================] - ETA: 0s - loss: 1.0662e-04 - accuracy: 1.0000\n",
            "Epoch 23: val_accuracy did not improve from 0.72000\n",
            "148/148 [==============================] - 8s 51ms/step - loss: 1.0662e-04 - accuracy: 1.0000 - val_loss: 2.3017 - val_accuracy: 0.7143\n",
            "Epoch 24/30\n",
            "147/148 [============================>.] - ETA: 0s - loss: 9.3649e-05 - accuracy: 1.0000\n",
            "Epoch 24: val_accuracy did not improve from 0.72000\n",
            "148/148 [==============================] - 8s 51ms/step - loss: 9.5141e-05 - accuracy: 1.0000 - val_loss: 2.3150 - val_accuracy: 0.7143\n",
            "Epoch 25/30\n",
            "148/148 [==============================] - ETA: 0s - loss: 8.5118e-05 - accuracy: 1.0000\n",
            "Epoch 25: val_accuracy did not improve from 0.72000\n",
            "148/148 [==============================] - 8s 51ms/step - loss: 8.5118e-05 - accuracy: 1.0000 - val_loss: 2.3312 - val_accuracy: 0.7124\n",
            "Epoch 26/30\n",
            "148/148 [==============================] - ETA: 0s - loss: 7.6083e-05 - accuracy: 1.0000\n",
            "Epoch 26: val_accuracy did not improve from 0.72000\n",
            "148/148 [==============================] - 8s 52ms/step - loss: 7.6083e-05 - accuracy: 1.0000 - val_loss: 2.3488 - val_accuracy: 0.7105\n",
            "Epoch 27/30\n",
            "148/148 [==============================] - ETA: 0s - loss: 6.8504e-05 - accuracy: 1.0000\n",
            "Epoch 27: val_accuracy did not improve from 0.72000\n",
            "148/148 [==============================] - 8s 51ms/step - loss: 6.8504e-05 - accuracy: 1.0000 - val_loss: 2.3662 - val_accuracy: 0.7124\n",
            "Epoch 28/30\n",
            "148/148 [==============================] - ETA: 0s - loss: 6.1843e-05 - accuracy: 1.0000\n",
            "Epoch 28: val_accuracy did not improve from 0.72000\n",
            "148/148 [==============================] - 8s 55ms/step - loss: 6.1843e-05 - accuracy: 1.0000 - val_loss: 2.3792 - val_accuracy: 0.7124\n",
            "Epoch 29/30\n",
            "148/148 [==============================] - ETA: 0s - loss: 5.5798e-05 - accuracy: 1.0000\n",
            "Epoch 29: val_accuracy did not improve from 0.72000\n",
            "148/148 [==============================] - 8s 51ms/step - loss: 5.5798e-05 - accuracy: 1.0000 - val_loss: 2.3992 - val_accuracy: 0.7124\n",
            "Epoch 29: early stopping\n"
          ]
        }
      ],
      "source": [
        "vgg19_history = vgg19_img.fit(train_image,train_data['enc_label'],\n",
        "                            batch_size=32,\n",
        "                           epochs=n_epochs,\n",
        "                           callbacks=checkpoint_fn('vgg19'),\n",
        "                            validation_split= 0.1 )"
      ]
    },
    {
      "cell_type": "code",
      "execution_count": null,
      "metadata": {
        "id": "WZsDCiwnEUSO"
      },
      "outputs": [],
      "source": [
        "from keras.models import load_model\n",
        "saved_model = load_model('/content/drive/MyDrive/New folder/Model/vgg19.h5')"
      ]
    },
    {
      "cell_type": "code",
      "execution_count": null,
      "metadata": {
        "colab": {
          "base_uri": "https://localhost:8080/"
        },
        "id": "yg4jFhc5EWiN",
        "outputId": "5c7ac8be-35b4-466e-9e47-f3c4cfc30869"
      },
      "outputs": [
        {
          "name": "stdout",
          "output_type": "stream",
          "text": [
            "19/19 [==============================] - 1s 45ms/step\n"
          ]
        }
      ],
      "source": [
        "y_pred=np.argmax(saved_model.predict(test_image),axis=-1)"
      ]
    },
    {
      "cell_type": "code",
      "execution_count": null,
      "metadata": {
        "colab": {
          "base_uri": "https://localhost:8080/"
        },
        "id": "70GQ9ckaEYnN",
        "outputId": "3e89178d-9640-4697-a723-6599b5345057"
      },
      "outputs": [
        {
          "name": "stdout",
          "output_type": "stream",
          "text": [
            "              precision    recall  f1-score   support\n",
            "\n",
            "           0       0.78      0.84      0.81       291\n",
            "           1       0.64      0.67      0.66       144\n",
            "           2       0.51      0.44      0.47        55\n",
            "           3       0.58      0.53      0.55        36\n",
            "           4       0.70      0.51      0.59        37\n",
            "           5       0.71      0.48      0.57        21\n",
            "\n",
            "    accuracy                           0.71       584\n",
            "   macro avg       0.65      0.58      0.61       584\n",
            "weighted avg       0.70      0.71      0.70       584\n",
            "\n"
          ]
        }
      ],
      "source": [
        "print(classification_report(test_data[\"enc_label\"],y_pred))"
      ]
    },
    {
      "cell_type": "code",
      "execution_count": null,
      "metadata": {
        "colab": {
          "base_uri": "https://localhost:8080/"
        },
        "id": "rjsYbBlAD7pC",
        "outputId": "76963b2f-18da-4859-871b-edf557f35dab"
      },
      "outputs": [
        {
          "data": {
            "text/plain": [
              "0.7019679040817086"
            ]
          },
          "execution_count": 29,
          "metadata": {},
          "output_type": "execute_result"
        }
      ],
      "source": [
        "f1_score(test_data[\"enc_label\"], y_pred, average='weighted')"
      ]
    },
    {
      "cell_type": "markdown",
      "metadata": {
        "id": "h1nYW5v_AHPP"
      },
      "source": [
        "# Build Inception Model"
      ]
    },
    {
      "cell_type": "code",
      "execution_count": null,
      "metadata": {
        "id": "yhQUCSHm2JzG"
      },
      "outputs": [],
      "source": [
        "# from keras.applications.inception_v3 import preprocess_input"
      ]
    },
    {
      "cell_type": "markdown",
      "metadata": {
        "id": "sLfbX3lJEREr"
      },
      "source": [
        "## Inception Model"
      ]
    },
    {
      "cell_type": "code",
      "execution_count": null,
      "metadata": {
        "id": "8YPrrRaDEyeF"
      },
      "outputs": [],
      "source": [
        "def INCEPTION_model(input_shape, n_classes, optimizer='rmsprop'):\n",
        "    \"\"\"\n",
        "    Compiles a model integrated with VGG16 pretrained layers\n",
        "\n",
        "    input_shape: tuple - the shape of input images (width, height, channels)\n",
        "    n_classes: int - number of classes for the output layer\n",
        "    optimizer: string - instantiated optimizer to use for training. Defaults to 'RMSProp'\n",
        "    fine_tune: int - The number of pre-trained layers to unfreeze.\n",
        "                If set to 0, all pretrained layers will freeze during training\n",
        "    \"\"\"\n",
        "    keras.backend.clear_session()\n",
        "    # Pretrained convolutional layers are loaded using the Imagenet weights.\n",
        "    # Include_top is set to False, in order to exclude the model's fully-connected layers.\n",
        "    conv_base = InceptionV3(include_top=False,\n",
        "                     weights='imagenet',\n",
        "                     input_shape=input_shape)\n",
        "\n",
        "    # Defines how many layers to freeze during training.\n",
        "    # Layers in the convolutional base are switched from trainable to non-trainable\n",
        "    # depending on the size of the fine-tuning parameter.\n",
        "\n",
        "    for layer in conv_base.layers:\n",
        "          layer.trainable = False\n",
        "\n",
        "    # Create a new 'top' of the model (i.e. fully-connected layers).\n",
        "    # This is 'bootstrapping' a new top_model onto the pretrained layers.\n",
        "    top_model = conv_base.output\n",
        "    top_model = Flatten()(top_model)\n",
        "    # top_model = Dense(4096, activation='relu')(top_model)\n",
        "    top_model = Dense(536, activation='relu')(top_model)\n",
        "    # top_model = Dropout(0.2)(top_model)\n",
        "    output_layer = Dense(n_classes, activation='softmax')(top_model)\n",
        "\n",
        "    # Group the convolutional base and new fully-connected layers into a Model object.\n",
        "    model = Model(inputs=conv_base.input, outputs=output_layer)\n",
        "\n",
        "    # Compiles the model for training.\n",
        "    model.compile(optimizer=optimizer,\n",
        "                  loss='sparse_categorical_crossentropy',\n",
        "                  metrics=['accuracy'])\n",
        "\n",
        "    return model"
      ]
    },
    {
      "cell_type": "code",
      "execution_count": null,
      "metadata": {
        "id": "OjelFlakE4Ft"
      },
      "outputs": [],
      "source": [
        "input_shape = (100, 100, 3)\n",
        "n_epochs = 30\n",
        "n_classes = 6"
      ]
    },
    {
      "cell_type": "code",
      "execution_count": null,
      "metadata": {
        "id": "bRB1u6Q6dp9S"
      },
      "outputs": [],
      "source": [
        "# Building img_prediction layer using Image_model\n",
        "inception_img = INCEPTION_model(input_shape, n_classes,Adam(learning_rate=1e-3))"
      ]
    },
    {
      "cell_type": "code",
      "execution_count": null,
      "metadata": {
        "colab": {
          "base_uri": "https://localhost:8080/"
        },
        "id": "mHIDbIPNE8Z8",
        "outputId": "548d4a52-71fc-4741-fa45-aae08a3fc8a3"
      },
      "outputs": [
        {
          "name": "stdout",
          "output_type": "stream",
          "text": [
            "Epoch 1/30\n",
            "146/148 [============================>.] - ETA: 0s - loss: 19.8056 - accuracy: 0.3902\n",
            "Epoch 1: val_accuracy improved from -inf to 0.36571, saving model to /content/drive/MyDrive/New folder/Model/Inception.h5\n",
            "148/148 [==============================] - 10s 42ms/step - loss: 19.6558 - accuracy: 0.3914 - val_loss: 4.6393 - val_accuracy: 0.3657\n",
            "Epoch 2/30\n",
            "147/148 [============================>.] - ETA: 0s - loss: 3.5306 - accuracy: 0.4324\n",
            "Epoch 2: val_accuracy improved from 0.36571 to 0.49333, saving model to /content/drive/MyDrive/New folder/Model/Inception.h5\n",
            "148/148 [==============================] - 4s 30ms/step - loss: 3.5245 - accuracy: 0.4333 - val_loss: 3.3863 - val_accuracy: 0.4933\n",
            "Epoch 3/30\n",
            "146/148 [============================>.] - ETA: 0s - loss: 1.8597 - accuracy: 0.4912\n",
            "Epoch 3: val_accuracy did not improve from 0.49333\n",
            "148/148 [==============================] - 4s 24ms/step - loss: 1.8555 - accuracy: 0.4915 - val_loss: 1.7249 - val_accuracy: 0.4362\n",
            "Epoch 4/30\n",
            "147/148 [============================>.] - ETA: 0s - loss: 1.5397 - accuracy: 0.5017\n",
            "Epoch 4: val_accuracy improved from 0.49333 to 0.50857, saving model to /content/drive/MyDrive/New folder/Model/Inception.h5\n",
            "148/148 [==============================] - 4s 30ms/step - loss: 1.5390 - accuracy: 0.5021 - val_loss: 1.7211 - val_accuracy: 0.5086\n",
            "Epoch 5/30\n",
            "148/148 [==============================] - ETA: 0s - loss: 1.3225 - accuracy: 0.5282\n",
            "Epoch 5: val_accuracy did not improve from 0.50857\n",
            "148/148 [==============================] - 4s 24ms/step - loss: 1.3225 - accuracy: 0.5282 - val_loss: 1.6777 - val_accuracy: 0.3962\n",
            "Epoch 6/30\n",
            "148/148 [==============================] - ETA: 0s - loss: 1.2246 - accuracy: 0.5502\n",
            "Epoch 6: val_accuracy improved from 0.50857 to 0.51238, saving model to /content/drive/MyDrive/New folder/Model/Inception.h5\n",
            "148/148 [==============================] - 5s 32ms/step - loss: 1.2246 - accuracy: 0.5502 - val_loss: 1.5314 - val_accuracy: 0.5124\n",
            "Epoch 7/30\n",
            "147/148 [============================>.] - ETA: 0s - loss: 1.2143 - accuracy: 0.5523\n",
            "Epoch 7: val_accuracy did not improve from 0.51238\n",
            "148/148 [==============================] - 4s 25ms/step - loss: 1.2142 - accuracy: 0.5525 - val_loss: 1.4155 - val_accuracy: 0.5124\n",
            "Epoch 8/30\n",
            "146/148 [============================>.] - ETA: 0s - loss: 1.1546 - accuracy: 0.5616\n",
            "Epoch 8: val_accuracy did not improve from 0.51238\n",
            "148/148 [==============================] - 4s 25ms/step - loss: 1.1537 - accuracy: 0.5623 - val_loss: 1.3709 - val_accuracy: 0.4971\n",
            "Epoch 9/30\n",
            "148/148 [==============================] - ETA: 0s - loss: 1.1141 - accuracy: 0.5858\n",
            "Epoch 9: val_accuracy improved from 0.51238 to 0.52381, saving model to /content/drive/MyDrive/New folder/Model/Inception.h5\n",
            "148/148 [==============================] - 5s 37ms/step - loss: 1.1141 - accuracy: 0.5858 - val_loss: 1.3708 - val_accuracy: 0.5238\n",
            "Epoch 10/30\n",
            "146/148 [============================>.] - ETA: 0s - loss: 1.1000 - accuracy: 0.5860\n",
            "Epoch 10: val_accuracy did not improve from 0.52381\n",
            "148/148 [==============================] - 4s 27ms/step - loss: 1.0976 - accuracy: 0.5873 - val_loss: 1.3998 - val_accuracy: 0.4933\n",
            "Epoch 11/30\n",
            "147/148 [============================>.] - ETA: 0s - loss: 1.1068 - accuracy: 0.5893\n",
            "Epoch 11: val_accuracy did not improve from 0.52381\n",
            "148/148 [==============================] - 4s 25ms/step - loss: 1.1076 - accuracy: 0.5887 - val_loss: 1.3629 - val_accuracy: 0.5181\n",
            "Epoch 12/30\n",
            "147/148 [============================>.] - ETA: 0s - loss: 1.0743 - accuracy: 0.5972\n",
            "Epoch 12: val_accuracy did not improve from 0.52381\n",
            "148/148 [==============================] - 4s 25ms/step - loss: 1.0745 - accuracy: 0.5968 - val_loss: 1.3873 - val_accuracy: 0.5067\n",
            "Epoch 13/30\n",
            "147/148 [============================>.] - ETA: 0s - loss: 1.0726 - accuracy: 0.6063\n",
            "Epoch 13: val_accuracy did not improve from 0.52381\n",
            "148/148 [==============================] - 4s 26ms/step - loss: 1.0728 - accuracy: 0.6055 - val_loss: 1.4067 - val_accuracy: 0.4800\n",
            "Epoch 14/30\n",
            "147/148 [============================>.] - ETA: 0s - loss: 1.0617 - accuracy: 0.5972\n",
            "Epoch 14: val_accuracy did not improve from 0.52381\n",
            "148/148 [==============================] - 4s 24ms/step - loss: 1.0610 - accuracy: 0.5978 - val_loss: 1.4025 - val_accuracy: 0.4648\n",
            "Epoch 15/30\n",
            "147/148 [============================>.] - ETA: 0s - loss: 1.0550 - accuracy: 0.6003\n",
            "Epoch 15: val_accuracy did not improve from 0.52381\n",
            "148/148 [==============================] - 4s 24ms/step - loss: 1.0566 - accuracy: 0.6002 - val_loss: 1.4112 - val_accuracy: 0.4990\n",
            "Epoch 16/30\n",
            "148/148 [==============================] - ETA: 0s - loss: 1.0637 - accuracy: 0.5972\n",
            "Epoch 16: val_accuracy did not improve from 0.52381\n",
            "148/148 [==============================] - 4s 24ms/step - loss: 1.0637 - accuracy: 0.5972 - val_loss: 1.4943 - val_accuracy: 0.4667\n",
            "Epoch 17/30\n",
            "146/148 [============================>.] - ETA: 0s - loss: 1.0792 - accuracy: 0.5920\n",
            "Epoch 17: val_accuracy did not improve from 0.52381\n",
            "148/148 [==============================] - 4s 24ms/step - loss: 1.0789 - accuracy: 0.5923 - val_loss: 1.4803 - val_accuracy: 0.5086\n",
            "Epoch 18/30\n",
            "148/148 [==============================] - ETA: 0s - loss: 1.0527 - accuracy: 0.5995\n",
            "Epoch 18: val_accuracy did not improve from 0.52381\n",
            "148/148 [==============================] - 4s 26ms/step - loss: 1.0527 - accuracy: 0.5995 - val_loss: 1.4825 - val_accuracy: 0.5124\n",
            "Epoch 19/30\n",
            "148/148 [==============================] - ETA: 0s - loss: 1.0484 - accuracy: 0.6080\n",
            "Epoch 19: val_accuracy did not improve from 0.52381\n",
            "148/148 [==============================] - 4s 24ms/step - loss: 1.0484 - accuracy: 0.6080 - val_loss: 1.3582 - val_accuracy: 0.5048\n",
            "Epoch 20/30\n",
            "146/148 [============================>.] - ETA: 0s - loss: 1.0223 - accuracy: 0.6102\n",
            "Epoch 20: val_accuracy did not improve from 0.52381\n",
            "148/148 [==============================] - 4s 24ms/step - loss: 1.0235 - accuracy: 0.6101 - val_loss: 1.4638 - val_accuracy: 0.5067\n",
            "Epoch 21/30\n",
            "148/148 [==============================] - ETA: 0s - loss: 1.0248 - accuracy: 0.6038\n",
            "Epoch 21: val_accuracy did not improve from 0.52381\n",
            "148/148 [==============================] - 4s 26ms/step - loss: 1.0248 - accuracy: 0.6038 - val_loss: 1.4180 - val_accuracy: 0.4705\n",
            "Epoch 22/30\n",
            "148/148 [==============================] - ETA: 0s - loss: 1.0116 - accuracy: 0.6146\n",
            "Epoch 22: val_accuracy did not improve from 0.52381\n",
            "148/148 [==============================] - 4s 24ms/step - loss: 1.0116 - accuracy: 0.6146 - val_loss: 1.4323 - val_accuracy: 0.4914\n",
            "Epoch 23/30\n",
            "147/148 [============================>.] - ETA: 0s - loss: 1.0462 - accuracy: 0.6014\n",
            "Epoch 23: val_accuracy did not improve from 0.52381\n",
            "148/148 [==============================] - 4s 27ms/step - loss: 1.0452 - accuracy: 0.6023 - val_loss: 1.4795 - val_accuracy: 0.4819\n",
            "Epoch 24/30\n",
            "147/148 [============================>.] - ETA: 0s - loss: 1.0559 - accuracy: 0.6029\n",
            "Epoch 24: val_accuracy did not improve from 0.52381\n",
            "148/148 [==============================] - 4s 27ms/step - loss: 1.0587 - accuracy: 0.6021 - val_loss: 1.4598 - val_accuracy: 0.5010\n",
            "Epoch 25/30\n",
            "146/148 [============================>.] - ETA: 0s - loss: 1.0268 - accuracy: 0.6085\n",
            "Epoch 25: val_accuracy did not improve from 0.52381\n",
            "148/148 [==============================] - 4s 24ms/step - loss: 1.0267 - accuracy: 0.6086 - val_loss: 1.3687 - val_accuracy: 0.5010\n",
            "Epoch 26/30\n",
            "146/148 [============================>.] - ETA: 0s - loss: 1.0446 - accuracy: 0.6068\n",
            "Epoch 26: val_accuracy did not improve from 0.52381\n",
            "148/148 [==============================] - 4s 24ms/step - loss: 1.0460 - accuracy: 0.6055 - val_loss: 1.4574 - val_accuracy: 0.4324\n",
            "Epoch 27/30\n",
            "147/148 [============================>.] - ETA: 0s - loss: 1.0630 - accuracy: 0.5967\n",
            "Epoch 27: val_accuracy did not improve from 0.52381\n",
            "148/148 [==============================] - 4s 24ms/step - loss: 1.0636 - accuracy: 0.5966 - val_loss: 1.4917 - val_accuracy: 0.5181\n",
            "Epoch 28/30\n",
            "148/148 [==============================] - ETA: 0s - loss: 1.0353 - accuracy: 0.6050\n",
            "Epoch 28: val_accuracy did not improve from 0.52381\n",
            "148/148 [==============================] - 4s 26ms/step - loss: 1.0353 - accuracy: 0.6050 - val_loss: 1.6465 - val_accuracy: 0.4267\n",
            "Epoch 29/30\n",
            "148/148 [==============================] - ETA: 0s - loss: 1.0288 - accuracy: 0.6118\n",
            "Epoch 29: val_accuracy did not improve from 0.52381\n",
            "148/148 [==============================] - 4s 24ms/step - loss: 1.0288 - accuracy: 0.6118 - val_loss: 1.4774 - val_accuracy: 0.5181\n",
            "Epoch 29: early stopping\n"
          ]
        }
      ],
      "source": [
        "incept_history = inception_img.fit(train_image,train_data['enc_label'],\n",
        "                            batch_size=32,\n",
        "                           epochs=n_epochs,\n",
        "                           callbacks=checkpoint_fn('Inception'),\n",
        "                            validation_split = 0.1)"
      ]
    },
    {
      "cell_type": "code",
      "execution_count": null,
      "metadata": {
        "id": "Ht5zV_V2FDk2"
      },
      "outputs": [],
      "source": [
        "from keras.models import load_model\n",
        "saved_model = load_model('/content/drive/MyDrive/New folder/Model/Inception.h5')"
      ]
    },
    {
      "cell_type": "code",
      "execution_count": null,
      "metadata": {
        "colab": {
          "base_uri": "https://localhost:8080/"
        },
        "id": "6JjwhaoMFF1F",
        "outputId": "b51f9382-75ae-4ad0-8f0c-7999531c046c"
      },
      "outputs": [
        {
          "name": "stdout",
          "output_type": "stream",
          "text": [
            "19/19 [==============================] - 2s 59ms/step\n"
          ]
        }
      ],
      "source": [
        "y_pred=np.argmax(saved_model.predict(test_image),axis=-1)"
      ]
    },
    {
      "cell_type": "code",
      "execution_count": null,
      "metadata": {
        "colab": {
          "base_uri": "https://localhost:8080/"
        },
        "id": "0NRxfEYcFHz_",
        "outputId": "180f9ca7-8ad2-42be-e573-7b5e3809e05c"
      },
      "outputs": [
        {
          "name": "stdout",
          "output_type": "stream",
          "text": [
            "              precision    recall  f1-score   support\n",
            "\n",
            "           0       0.56      0.88      0.69       291\n",
            "           1       0.50      0.35      0.42       144\n",
            "           2       0.33      0.04      0.07        55\n",
            "           3       0.29      0.06      0.09        36\n",
            "           4       0.29      0.05      0.09        37\n",
            "           5       0.00      0.00      0.00        21\n",
            "\n",
            "    accuracy                           0.54       584\n",
            "   macro avg       0.33      0.23      0.23       584\n",
            "weighted avg       0.47      0.54      0.46       584\n",
            "\n"
          ]
        }
      ],
      "source": [
        "print(classification_report(test_data[\"enc_label\"],y_pred))"
      ]
    },
    {
      "cell_type": "code",
      "execution_count": null,
      "metadata": {
        "colab": {
          "base_uri": "https://localhost:8080/"
        },
        "id": "t1LTGTAFE84y",
        "outputId": "e2f8ff37-7206-4072-a9f8-56404fcf4a6e"
      },
      "outputs": [
        {
          "data": {
            "text/plain": [
              "0.463649643562885"
            ]
          },
          "execution_count": 43,
          "metadata": {},
          "output_type": "execute_result"
        }
      ],
      "source": [
        "f1_score(test_data[\"enc_label\"], y_pred, average='weighted')"
      ]
    },
    {
      "cell_type": "markdown",
      "metadata": {
        "id": "-fkk5ai-AOmx"
      },
      "source": [
        "# Build Resnet Model"
      ]
    },
    {
      "cell_type": "code",
      "execution_count": null,
      "metadata": {
        "id": "676NxlZWAf9K"
      },
      "outputs": [],
      "source": [
        "\n",
        "# from tensorflow.keras.applications.resnet50  import preprocess_input"
      ]
    },
    {
      "cell_type": "markdown",
      "metadata": {
        "id": "d9PZs-ahFTlW"
      },
      "source": [
        "## Resnet50"
      ]
    },
    {
      "cell_type": "code",
      "execution_count": null,
      "metadata": {
        "id": "62kp-UTdFTSt"
      },
      "outputs": [],
      "source": [
        "def Resnet50_model(input_shape, n_classes, optimizer='rmsprop'):\n",
        "    \"\"\"\n",
        "    Compiles a model integrated with VGG16 pretrained layers\n",
        "\n",
        "    input_shape: tuple - the shape of input images (width, height, channels)\n",
        "    n_classes: int - number of classes for the output layer\n",
        "    optimizer: string - instantiated optimizer to use for training. Defaults to 'RMSProp'\n",
        "    fine_tune: int - The number of pre-trained layers to unfreeze.\n",
        "                If set to 0, all pretrained layers will freeze during training\n",
        "    \"\"\"\n",
        "\n",
        "    # Pretrained convolutional layers are loaded using the Imagenet weights.\n",
        "    # Include_top is set to False, in order to exclude the model's fully-connected layers.\n",
        "    keras.backend.clear_session()\n",
        "    conv_base = ResNet50(include_top=False,\n",
        "                     weights='imagenet',\n",
        "                     input_shape=input_shape)\n",
        "\n",
        "    # Defines how many layers to freeze during training.\n",
        "    # Layers in the convolutional base are switched from trainable to non-trainable\n",
        "    # depending on the size of the fine-tuning parameter.\n",
        "    for layer in conv_base.layers:\n",
        "        layer.trainable = False\n",
        "\n",
        "    # Create a new 'top' of the model (i.e. fully-connected layers).\n",
        "    # This is 'bootstrapping' a new top_model onto the pretrained layers.\n",
        "    top_model = conv_base.output\n",
        "    top_model = GlobalAveragePooling2D()(top_model)\n",
        "    # # top_model = Dense(4096, activation='relu')(top_model)\n",
        "    top_model = Dense(100, activation='relu')(top_model)\n",
        "    # top_model = Dropout(0.2)(top_model)\n",
        "    output_layer = Dense(n_classes, activation='softmax')(top_model)\n",
        "\n",
        "    # Group the convolutional base and new fully-connected layers into a Model object.\n",
        "    model = Model(inputs=conv_base.input, outputs=output_layer)\n",
        "\n",
        "    # Compiles the model for training.\n",
        "    model.compile(optimizer=optimizer,\n",
        "                  loss='sparse_categorical_crossentropy',\n",
        "                  metrics=['accuracy'])\n",
        "\n",
        "    return model"
      ]
    },
    {
      "cell_type": "code",
      "execution_count": null,
      "metadata": {
        "id": "lpNj0jMVF4Fd"
      },
      "outputs": [],
      "source": [
        "input_shape = (100, 100, 3)\n",
        "n_epochs = 30\n",
        "n_classes = 6"
      ]
    },
    {
      "cell_type": "code",
      "execution_count": null,
      "metadata": {
        "colab": {
          "base_uri": "https://localhost:8080/"
        },
        "id": "6Kahp2gue-AS",
        "outputId": "9ed253ba-c397-4c1e-c774-4f6e8c0bb610"
      },
      "outputs": [
        {
          "name": "stdout",
          "output_type": "stream",
          "text": [
            "Downloading data from https://storage.googleapis.com/tensorflow/keras-applications/resnet/resnet50_weights_tf_dim_ordering_tf_kernels_notop.h5\n",
            "94765736/94765736 [==============================] - 1s 0us/step\n"
          ]
        }
      ],
      "source": [
        "# Building img_prediction layer using Image_model\n",
        "resnet_img = Resnet50_model(input_shape, n_classes, Adam(learning_rate=1e-3))"
      ]
    },
    {
      "cell_type": "code",
      "execution_count": null,
      "metadata": {
        "colab": {
          "base_uri": "https://localhost:8080/"
        },
        "id": "K6CUnR5UF6Kl",
        "outputId": "db687687-c44d-48ce-b826-7659354eda1c"
      },
      "outputs": [
        {
          "name": "stdout",
          "output_type": "stream",
          "text": [
            "Epoch 1/30\n",
            "148/148 [==============================] - ETA: 0s - loss: 0.9117 - accuracy: 0.6747\n",
            "Epoch 1: val_accuracy improved from -inf to 0.71238, saving model to /content/drive/MyDrive/New folder/Model/Resnet50.h5\n",
            "148/148 [==============================] - 19s 61ms/step - loss: 0.9117 - accuracy: 0.6747 - val_loss: 0.8575 - val_accuracy: 0.7124\n",
            "Epoch 2/30\n",
            "147/148 [============================>.] - ETA: 0s - loss: 0.6245 - accuracy: 0.7700\n",
            "Epoch 2: val_accuracy did not improve from 0.71238\n",
            "148/148 [==============================] - 6s 38ms/step - loss: 0.6230 - accuracy: 0.7706 - val_loss: 0.8873 - val_accuracy: 0.6857\n",
            "Epoch 3/30\n",
            "147/148 [============================>.] - ETA: 0s - loss: 0.5124 - accuracy: 0.8046\n",
            "Epoch 3: val_accuracy did not improve from 0.71238\n",
            "148/148 [==============================] - 5s 36ms/step - loss: 0.5127 - accuracy: 0.8045 - val_loss: 0.8178 - val_accuracy: 0.7029\n",
            "Epoch 4/30\n",
            "147/148 [============================>.] - ETA: 0s - loss: 0.4159 - accuracy: 0.8467\n",
            "Epoch 4: val_accuracy did not improve from 0.71238\n",
            "148/148 [==============================] - 5s 37ms/step - loss: 0.4161 - accuracy: 0.8465 - val_loss: 0.8516 - val_accuracy: 0.7029\n",
            "Epoch 5/30\n",
            "147/148 [============================>.] - ETA: 0s - loss: 0.3409 - accuracy: 0.8788\n",
            "Epoch 5: val_accuracy improved from 0.71238 to 0.71619, saving model to /content/drive/MyDrive/New folder/Model/Resnet50.h5\n",
            "148/148 [==============================] - 7s 48ms/step - loss: 0.3409 - accuracy: 0.8789 - val_loss: 0.9050 - val_accuracy: 0.7162\n",
            "Epoch 6/30\n",
            "147/148 [============================>.] - ETA: 0s - loss: 0.2661 - accuracy: 0.9126\n",
            "Epoch 6: val_accuracy improved from 0.71619 to 0.72381, saving model to /content/drive/MyDrive/New folder/Model/Resnet50.h5\n",
            "148/148 [==============================] - 6s 41ms/step - loss: 0.2672 - accuracy: 0.9121 - val_loss: 0.9220 - val_accuracy: 0.7238\n",
            "Epoch 7/30\n",
            "147/148 [============================>.] - ETA: 0s - loss: 0.2048 - accuracy: 0.9386\n",
            "Epoch 7: val_accuracy did not improve from 0.72381\n",
            "148/148 [==============================] - 6s 39ms/step - loss: 0.2045 - accuracy: 0.9386 - val_loss: 1.0415 - val_accuracy: 0.6952\n",
            "Epoch 8/30\n",
            "147/148 [============================>.] - ETA: 0s - loss: 0.1613 - accuracy: 0.9520\n",
            "Epoch 8: val_accuracy did not improve from 0.72381\n",
            "148/148 [==============================] - 5s 37ms/step - loss: 0.1611 - accuracy: 0.9521 - val_loss: 1.0420 - val_accuracy: 0.7238\n",
            "Epoch 9/30\n",
            "147/148 [============================>.] - ETA: 0s - loss: 0.1210 - accuracy: 0.9702\n",
            "Epoch 9: val_accuracy improved from 0.72381 to 0.72762, saving model to /content/drive/MyDrive/New folder/Model/Resnet50.h5\n",
            "148/148 [==============================] - 7s 49ms/step - loss: 0.1209 - accuracy: 0.9704 - val_loss: 1.0884 - val_accuracy: 0.7276\n",
            "Epoch 10/30\n",
            "147/148 [============================>.] - ETA: 0s - loss: 0.0814 - accuracy: 0.9855\n",
            "Epoch 10: val_accuracy did not improve from 0.72762\n",
            "148/148 [==============================] - 6s 37ms/step - loss: 0.0813 - accuracy: 0.9856 - val_loss: 1.1534 - val_accuracy: 0.7162\n",
            "Epoch 11/30\n",
            "147/148 [============================>.] - ETA: 0s - loss: 0.0588 - accuracy: 0.9921\n",
            "Epoch 11: val_accuracy did not improve from 0.72762\n",
            "148/148 [==============================] - 6s 37ms/step - loss: 0.0593 - accuracy: 0.9917 - val_loss: 1.2706 - val_accuracy: 0.6914\n",
            "Epoch 12/30\n",
            "147/148 [============================>.] - ETA: 0s - loss: 0.0546 - accuracy: 0.9926\n",
            "Epoch 12: val_accuracy did not improve from 0.72762\n",
            "148/148 [==============================] - 5s 37ms/step - loss: 0.0546 - accuracy: 0.9926 - val_loss: 1.3381 - val_accuracy: 0.7276\n",
            "Epoch 13/30\n",
            "147/148 [============================>.] - ETA: 0s - loss: 0.0282 - accuracy: 0.9989\n",
            "Epoch 13: val_accuracy did not improve from 0.72762\n",
            "148/148 [==============================] - 6s 37ms/step - loss: 0.0284 - accuracy: 0.9989 - val_loss: 1.4007 - val_accuracy: 0.7257\n",
            "Epoch 14/30\n",
            "147/148 [============================>.] - ETA: 0s - loss: 0.0212 - accuracy: 0.9996\n",
            "Epoch 14: val_accuracy did not improve from 0.72762\n",
            "148/148 [==============================] - 6s 37ms/step - loss: 0.0211 - accuracy: 0.9996 - val_loss: 1.4309 - val_accuracy: 0.7143\n",
            "Epoch 15/30\n",
            "147/148 [============================>.] - ETA: 0s - loss: 0.0136 - accuracy: 1.0000\n",
            "Epoch 15: val_accuracy did not improve from 0.72762\n",
            "148/148 [==============================] - 5s 37ms/step - loss: 0.0137 - accuracy: 1.0000 - val_loss: 1.4525 - val_accuracy: 0.7162\n",
            "Epoch 16/30\n",
            "147/148 [============================>.] - ETA: 0s - loss: 0.0108 - accuracy: 1.0000\n",
            "Epoch 16: val_accuracy did not improve from 0.72762\n",
            "148/148 [==============================] - 5s 36ms/step - loss: 0.0107 - accuracy: 1.0000 - val_loss: 1.5090 - val_accuracy: 0.7143\n",
            "Epoch 17/30\n",
            "147/148 [============================>.] - ETA: 0s - loss: 0.0082 - accuracy: 1.0000\n",
            "Epoch 17: val_accuracy did not improve from 0.72762\n",
            "148/148 [==============================] - 5s 36ms/step - loss: 0.0082 - accuracy: 1.0000 - val_loss: 1.5640 - val_accuracy: 0.7200\n",
            "Epoch 18/30\n",
            "147/148 [============================>.] - ETA: 0s - loss: 0.0066 - accuracy: 1.0000\n",
            "Epoch 18: val_accuracy did not improve from 0.72762\n",
            "148/148 [==============================] - 5s 36ms/step - loss: 0.0066 - accuracy: 1.0000 - val_loss: 1.5876 - val_accuracy: 0.7276\n",
            "Epoch 19/30\n",
            "147/148 [============================>.] - ETA: 0s - loss: 0.0056 - accuracy: 1.0000\n",
            "Epoch 19: val_accuracy did not improve from 0.72762\n",
            "148/148 [==============================] - 5s 36ms/step - loss: 0.0056 - accuracy: 1.0000 - val_loss: 1.6249 - val_accuracy: 0.7219\n",
            "Epoch 20/30\n",
            "147/148 [============================>.] - ETA: 0s - loss: 0.0046 - accuracy: 1.0000\n",
            "Epoch 20: val_accuracy did not improve from 0.72762\n",
            "148/148 [==============================] - 5s 36ms/step - loss: 0.0046 - accuracy: 1.0000 - val_loss: 1.6372 - val_accuracy: 0.7162\n",
            "Epoch 21/30\n",
            "147/148 [============================>.] - ETA: 0s - loss: 0.0040 - accuracy: 1.0000\n",
            "Epoch 21: val_accuracy did not improve from 0.72762\n",
            "148/148 [==============================] - 5s 37ms/step - loss: 0.0040 - accuracy: 1.0000 - val_loss: 1.6965 - val_accuracy: 0.7200\n",
            "Epoch 22/30\n",
            "147/148 [============================>.] - ETA: 0s - loss: 0.0035 - accuracy: 1.0000\n",
            "Epoch 22: val_accuracy did not improve from 0.72762\n",
            "148/148 [==============================] - 5s 36ms/step - loss: 0.0035 - accuracy: 1.0000 - val_loss: 1.7021 - val_accuracy: 0.7200\n",
            "Epoch 23/30\n",
            "147/148 [============================>.] - ETA: 0s - loss: 0.0030 - accuracy: 1.0000\n",
            "Epoch 23: val_accuracy did not improve from 0.72762\n",
            "148/148 [==============================] - 5s 36ms/step - loss: 0.0030 - accuracy: 1.0000 - val_loss: 1.7250 - val_accuracy: 0.7181\n",
            "Epoch 24/30\n",
            "147/148 [============================>.] - ETA: 0s - loss: 0.0026 - accuracy: 1.0000\n",
            "Epoch 24: val_accuracy did not improve from 0.72762\n",
            "148/148 [==============================] - 5s 37ms/step - loss: 0.0026 - accuracy: 1.0000 - val_loss: 1.7584 - val_accuracy: 0.7162\n",
            "Epoch 25/30\n",
            "147/148 [============================>.] - ETA: 0s - loss: 0.0023 - accuracy: 1.0000\n",
            "Epoch 25: val_accuracy did not improve from 0.72762\n",
            "148/148 [==============================] - 5s 36ms/step - loss: 0.0023 - accuracy: 1.0000 - val_loss: 1.7665 - val_accuracy: 0.7181\n",
            "Epoch 26/30\n",
            "147/148 [============================>.] - ETA: 0s - loss: 0.0020 - accuracy: 1.0000\n",
            "Epoch 26: val_accuracy did not improve from 0.72762\n",
            "148/148 [==============================] - 5s 36ms/step - loss: 0.0020 - accuracy: 1.0000 - val_loss: 1.7985 - val_accuracy: 0.7181\n",
            "Epoch 27/30\n",
            "147/148 [============================>.] - ETA: 0s - loss: 0.0018 - accuracy: 1.0000\n",
            "Epoch 27: val_accuracy did not improve from 0.72762\n",
            "148/148 [==============================] - 5s 37ms/step - loss: 0.0018 - accuracy: 1.0000 - val_loss: 1.8332 - val_accuracy: 0.7200\n",
            "Epoch 28/30\n",
            "147/148 [============================>.] - ETA: 0s - loss: 0.0016 - accuracy: 1.0000\n",
            "Epoch 28: val_accuracy did not improve from 0.72762\n",
            "148/148 [==============================] - 6s 37ms/step - loss: 0.0016 - accuracy: 1.0000 - val_loss: 1.8523 - val_accuracy: 0.7200\n",
            "Epoch 29/30\n",
            "147/148 [============================>.] - ETA: 0s - loss: 0.0014 - accuracy: 1.0000\n",
            "Epoch 29: val_accuracy did not improve from 0.72762\n",
            "148/148 [==============================] - 5s 37ms/step - loss: 0.0014 - accuracy: 1.0000 - val_loss: 1.8587 - val_accuracy: 0.7219\n",
            "Epoch 29: early stopping\n"
          ]
        }
      ],
      "source": [
        "resnet_history = resnet_img.fit(train_image,train_data['enc_label'],\n",
        "                            batch_size=32,\n",
        "                           epochs=n_epochs,\n",
        "                           callbacks=checkpoint_fn('Resnet50'),\n",
        "                            validation_split=0.1)"
      ]
    },
    {
      "cell_type": "code",
      "execution_count": null,
      "metadata": {
        "id": "3RBT4JWwF8VN"
      },
      "outputs": [],
      "source": [
        "from keras.models import load_model\n",
        "saved_model = load_model('/content/drive/MyDrive/New folder/Model/Resnet50.h5')"
      ]
    },
    {
      "cell_type": "code",
      "execution_count": null,
      "metadata": {
        "colab": {
          "base_uri": "https://localhost:8080/"
        },
        "id": "FTnTqUbvF-cf",
        "outputId": "6ecbc91d-2ec7-4d2c-b3e8-984d8f4cb740"
      },
      "outputs": [
        {
          "name": "stdout",
          "output_type": "stream",
          "text": [
            "19/19 [==============================] - 2s 52ms/step\n"
          ]
        }
      ],
      "source": [
        "y_pred=np.argmax(saved_model.predict(test_image),axis=-1)"
      ]
    },
    {
      "cell_type": "code",
      "execution_count": null,
      "metadata": {
        "colab": {
          "base_uri": "https://localhost:8080/"
        },
        "id": "_5hD9Bb_GAVV",
        "outputId": "f2fce1e1-c54a-4efc-d03c-1d6bca365fd5"
      },
      "outputs": [
        {
          "name": "stdout",
          "output_type": "stream",
          "text": [
            "              precision    recall  f1-score   support\n",
            "\n",
            "           0       0.82      0.80      0.81       291\n",
            "           1       0.70      0.61      0.65       144\n",
            "           2       0.43      0.58      0.49        55\n",
            "           3       0.68      0.69      0.68        36\n",
            "           4       0.63      0.70      0.67        37\n",
            "           5       0.60      0.57      0.59        21\n",
            "\n",
            "    accuracy                           0.71       584\n",
            "   macro avg       0.64      0.66      0.65       584\n",
            "weighted avg       0.72      0.71      0.72       584\n",
            "\n"
          ]
        }
      ],
      "source": [
        "print(classification_report(test_data[\"enc_label\"],y_pred))"
      ]
    },
    {
      "cell_type": "code",
      "execution_count": null,
      "metadata": {
        "colab": {
          "base_uri": "https://localhost:8080/"
        },
        "id": "_nEXzrtdH1Mw",
        "outputId": "3ed000b7-d00d-4a9f-cadb-a7175c17fa83"
      },
      "outputs": [
        {
          "data": {
            "text/plain": [
              "0.7173581334519564"
            ]
          },
          "execution_count": 19,
          "metadata": {},
          "output_type": "execute_result"
        }
      ],
      "source": [
        "f1_score(test_data[\"enc_label\"], y_pred, average='weighted')"
      ]
    },
    {
      "cell_type": "markdown",
      "metadata": {
        "id": "LGDF5EA2VRUq"
      },
      "source": []
    },
    {
      "cell_type": "markdown",
      "metadata": {
        "id": "AbPtMivgVTcv"
      },
      "source": []
    },
    {
      "cell_type": "markdown",
      "metadata": {
        "id": "zsNK1u66VU9F"
      },
      "source": [
        "# Text Model"
      ]
    },
    {
      "cell_type": "markdown",
      "metadata": {
        "id": "EecKwizxV1d9"
      },
      "source": [
        "## Clean Text"
      ]
    },
    {
      "cell_type": "code",
      "execution_count": null,
      "metadata": {
        "colab": {
          "base_uri": "https://localhost:8080/"
        },
        "id": "-Do06VaHVbqs",
        "outputId": "c861adbb-b96e-42c4-b3af-6697064750b5"
      },
      "outputs": [
        {
          "output_type": "stream",
          "name": "stderr",
          "text": [
            "[nltk_data] Downloading package stopwords to /root/nltk_data...\n",
            "[nltk_data]   Unzipping corpora/stopwords.zip.\n"
          ]
        },
        {
          "output_type": "execute_result",
          "data": {
            "text/plain": [
              "True"
            ]
          },
          "metadata": {},
          "execution_count": 10
        }
      ],
      "source": [
        "import nltk\n",
        "nltk.download('stopwords')\n"
      ]
    },
    {
      "cell_type": "code",
      "execution_count": null,
      "metadata": {
        "id": "Ggrz6_XPWMcT"
      },
      "outputs": [],
      "source": [
        "STOPWORDS = set(stopwords.words('english'))\n",
        "REPLACE_BY_SPACE_RE = re.compile('[/(){}\\[\\]\\|@,;]')\n",
        "BAD_SYMBOLS_RE = re.compile('[^0-9a-z #+_]')\n",
        "EMAIL = re.compile('^([a-zA-Z0-9_\\-\\.]+)@([a-zA-Z0-9_\\-\\.]+)\\.([a-zA-Z]{2,5})$')\n",
        "# NUMBERS = re.compile(['0-9'])\n",
        "STOPWORDS = set(stopwords.words('english'))"
      ]
    },
    {
      "cell_type": "code",
      "execution_count": null,
      "metadata": {
        "id": "AwROx9cvWZwG"
      },
      "outputs": [],
      "source": [
        "# def clean_text(text):\n",
        "#     \"\"\"\n",
        "#         text: a string\n",
        "\n",
        "#         return: modified initial string\n",
        "#     \"\"\"\n",
        "#     text = text.lower()\n",
        "#     text = EMAIL.sub('', text)\n",
        "# # #     text = NUMBERS.sub('',text)\n",
        "# #     text = REPLACE_BY_SPACE_RE.sub(' ',text)\n",
        "# #     text = BAD_SYMBOLS_RE.sub('',text)\n",
        "# #     text = text.replace('x','')\n",
        "#     # text = ' '.join(word for word in text.split() if word not in STOPWORDS)\n",
        "\n",
        "#     return text"
      ]
    },
    {
      "cell_type": "code",
      "execution_count": null,
      "metadata": {
        "id": "H8vLV44yI2ig"
      },
      "outputs": [],
      "source": [
        "'''\n",
        "Text Cleaning\n",
        "'''\n",
        "from bs4 import BeautifulSoup\n",
        "def clean_text(row):\n",
        "  #to remove HTML tags\n",
        "  text = BeautifulSoup(row, 'html.parser').get_text()\n",
        "  d = re.sub(r'(https|http)?:\\/\\/(\\w|\\.|\\/|\\?|\\=|\\&|\\%)*\\b', '', text, flags=re.MULTILINE) #This line is for removing url\n",
        "  post = d.replace('\\n', '')\n",
        "  post = post.replace('—', ' ')\n",
        "  # to remove accented characters\n",
        "  # to remove special characters and numbers\n",
        "  # define the pattern to keep\n",
        "  pat = r'[^#@a-zA-z0-9]'\n",
        "  text = re.sub(pat, ' ', post)\n",
        "  #to remove punctuation\n",
        "  #text = ''.join([c for c in text if c not in string.punctuation])\n",
        "  # to remove special characters\n",
        "  #pattern = r'^\\s*|\\s\\s*'\n",
        "  #text = re.sub(pattern, ' ', text).strip()\n",
        "  # convert into lower case\n",
        "  text = text.lower()\n",
        "  # Stopword Removing\n",
        "  #tokenizer = ToktokTokenizer()\n",
        "  # convert sentence into token of words\n",
        "  #tokens = tokenizer.tokenize(text)\n",
        "  #tokens = [token.strip() for token in tokens]\n",
        "\n",
        "\n",
        "  return text"
      ]
    },
    {
      "cell_type": "code",
      "execution_count": null,
      "metadata": {
        "id": "Q4i3MR39W00a"
      },
      "outputs": [],
      "source": [
        "train_data['clean_Text'] = train_data['tweet'].apply(clean_text)\n",
        "test_data['clean_Text'] = test_data['tweet'].apply(clean_text)"
      ]
    },
    {
      "cell_type": "code",
      "execution_count": null,
      "metadata": {
        "colab": {
          "base_uri": "https://localhost:8080/",
          "height": 71
        },
        "id": "ldAlQxr1W-u5",
        "outputId": "0e590a87-2c4b-4dcd-9c55-346bf093eb19"
      },
      "outputs": [
        {
          "data": {
            "application/vnd.google.colaboratory.intrinsic+json": {
              "type": "string"
            },
            "text/plain": [
              "'  we are really getting into the christmas spirit at miracle tiny toes    this little miracle and her friends are getting excited for christmas watch to find out why   featuring kendal leigh #baby #babyboutique #babies1stchristmas #babiesofinstagram #babykeepsake #keepsake #christmas #winter #instagram #babyshower #babygift #unisex #babyboy #babygirl #perfect #fashion #fashionista #advert #ad #advertising #festive #boutiquestore #christmasshopping #shop #miracles #miracletinytoes #worldwideshipping #worldwide #organic #instavideo'"
            ]
          },
          "execution_count": 14,
          "metadata": {},
          "output_type": "execute_result"
        }
      ],
      "source": [
        "test_data['clean_Text'][0]"
      ]
    },
    {
      "cell_type": "code",
      "execution_count": null,
      "metadata": {
        "colab": {
          "base_uri": "https://localhost:8080/"
        },
        "id": "7kRT4aDmBlz7",
        "outputId": "124f6dd4-f04f-447a-d362-0c78cccd3b63"
      },
      "outputs": [
        {
          "data": {
            "text/plain": [
              "array([0, 1, 2, 3, 4, 5])"
            ]
          },
          "execution_count": 15,
          "metadata": {},
          "output_type": "execute_result"
        }
      ],
      "source": [
        "np.unique(train_data['enc_label'])"
      ]
    },
    {
      "cell_type": "code",
      "execution_count": null,
      "metadata": {
        "colab": {
          "base_uri": "https://localhost:8080/"
        },
        "id": "zV9FqppcBysy",
        "outputId": "184b0f4d-0cf3-4876-adf6-8e2c0f8d6287"
      },
      "outputs": [
        {
          "data": {
            "text/plain": [
              "0    2666\n",
              "1    1246\n",
              "2     459\n",
              "3     348\n",
              "4     309\n",
              "5     219\n",
              "Name: enc_label, dtype: int64"
            ]
          },
          "execution_count": 45,
          "metadata": {},
          "output_type": "execute_result"
        }
      ],
      "source": [
        "train_data['enc_label'].value_counts()"
      ]
    },
    {
      "cell_type": "code",
      "execution_count": null,
      "metadata": {
        "colab": {
          "base_uri": "https://localhost:8080/",
          "height": 337
        },
        "id": "cRd69yuxYKe1",
        "outputId": "252940ad-b1b3-4fac-ae04-8e9edb5297a5"
      },
      "outputs": [
        {
          "data": {
            "text/html": [
              "\n",
              "  <div id=\"df-fe1f2ef4-20da-4ae3-9cbe-a4f95c681f7b\">\n",
              "    <div class=\"colab-df-container\">\n",
              "      <div>\n",
              "<style scoped>\n",
              "    .dataframe tbody tr th:only-of-type {\n",
              "        vertical-align: middle;\n",
              "    }\n",
              "\n",
              "    .dataframe tbody tr th {\n",
              "        vertical-align: top;\n",
              "    }\n",
              "\n",
              "    .dataframe thead th {\n",
              "        text-align: right;\n",
              "    }\n",
              "</style>\n",
              "<table border=\"1\" class=\"dataframe\">\n",
              "  <thead>\n",
              "    <tr style=\"text-align: right;\">\n",
              "      <th></th>\n",
              "      <th>filename</th>\n",
              "      <th>tweet</th>\n",
              "      <th>label</th>\n",
              "      <th>image</th>\n",
              "      <th>enc_label</th>\n",
              "      <th>clean_Text</th>\n",
              "    </tr>\n",
              "  </thead>\n",
              "  <tbody>\n",
              "    <tr>\n",
              "      <th>0</th>\n",
              "      <td>ad_2017-11-25_10-36-26.txt</td>\n",
              "      <td>⭐ We are really getting into the christmas spi...</td>\n",
              "      <td>non_damage</td>\n",
              "      <td>ad_2017-11-25_10-36-26.jpg</td>\n",
              "      <td>0</td>\n",
              "      <td>we are really getting into the christmas spi...</td>\n",
              "    </tr>\n",
              "    <tr>\n",
              "      <th>1</th>\n",
              "      <td>building_2017-10-30_17-26-34.txt</td>\n",
              "      <td>IJOY uv board has the competetive price and ve...</td>\n",
              "      <td>non_damage</td>\n",
              "      <td>building_2017-10-30_17-26-34.jpg</td>\n",
              "      <td>0</td>\n",
              "      <td>ijoy uv board has the competetive price and ve...</td>\n",
              "    </tr>\n",
              "    <tr>\n",
              "      <th>2</th>\n",
              "      <td>floodwater_2017-09-04_04-46-10.txt</td>\n",
              "      <td>Arriving in Kalkundi island destroyed in #bang...</td>\n",
              "      <td>flood</td>\n",
              "      <td>floodwater_2017-09-04_04-46-10.jpg</td>\n",
              "      <td>3</td>\n",
              "      <td>arriving in kalkundi island destroyed in #bang...</td>\n",
              "    </tr>\n",
              "    <tr>\n",
              "      <th>3</th>\n",
              "      <td>accrafloods_2015-06-06_16-59-56.txt</td>\n",
              "      <td>\bHi my lovelies, check out My first hand exper...</td>\n",
              "      <td>flood</td>\n",
              "      <td>accrafloods_2015-06-06_16-59-56.jpg</td>\n",
              "      <td>3</td>\n",
              "      <td>hi my lovelies  check out my first hand exper...</td>\n",
              "    </tr>\n",
              "    <tr>\n",
              "      <th>4</th>\n",
              "      <td>buildingfire_2016-10-02_03-07-17.txt</td>\n",
              "      <td>The Hamilton fire service during an exercise a...</td>\n",
              "      <td>fires</td>\n",
              "      <td>buildingfire_2016-10-02_03-07-17.jpg</td>\n",
              "      <td>4</td>\n",
              "      <td>the hamilton fire service during an exercise a...</td>\n",
              "    </tr>\n",
              "  </tbody>\n",
              "</table>\n",
              "</div>\n",
              "      <button class=\"colab-df-convert\" onclick=\"convertToInteractive('df-fe1f2ef4-20da-4ae3-9cbe-a4f95c681f7b')\"\n",
              "              title=\"Convert this dataframe to an interactive table.\"\n",
              "              style=\"display:none;\">\n",
              "        \n",
              "  <svg xmlns=\"http://www.w3.org/2000/svg\" height=\"24px\"viewBox=\"0 0 24 24\"\n",
              "       width=\"24px\">\n",
              "    <path d=\"M0 0h24v24H0V0z\" fill=\"none\"/>\n",
              "    <path d=\"M18.56 5.44l.94 2.06.94-2.06 2.06-.94-2.06-.94-.94-2.06-.94 2.06-2.06.94zm-11 1L8.5 8.5l.94-2.06 2.06-.94-2.06-.94L8.5 2.5l-.94 2.06-2.06.94zm10 10l.94 2.06.94-2.06 2.06-.94-2.06-.94-.94-2.06-.94 2.06-2.06.94z\"/><path d=\"M17.41 7.96l-1.37-1.37c-.4-.4-.92-.59-1.43-.59-.52 0-1.04.2-1.43.59L10.3 9.45l-7.72 7.72c-.78.78-.78 2.05 0 2.83L4 21.41c.39.39.9.59 1.41.59.51 0 1.02-.2 1.41-.59l7.78-7.78 2.81-2.81c.8-.78.8-2.07 0-2.86zM5.41 20L4 18.59l7.72-7.72 1.47 1.35L5.41 20z\"/>\n",
              "  </svg>\n",
              "      </button>\n",
              "      \n",
              "  <style>\n",
              "    .colab-df-container {\n",
              "      display:flex;\n",
              "      flex-wrap:wrap;\n",
              "      gap: 12px;\n",
              "    }\n",
              "\n",
              "    .colab-df-convert {\n",
              "      background-color: #E8F0FE;\n",
              "      border: none;\n",
              "      border-radius: 50%;\n",
              "      cursor: pointer;\n",
              "      display: none;\n",
              "      fill: #1967D2;\n",
              "      height: 32px;\n",
              "      padding: 0 0 0 0;\n",
              "      width: 32px;\n",
              "    }\n",
              "\n",
              "    .colab-df-convert:hover {\n",
              "      background-color: #E2EBFA;\n",
              "      box-shadow: 0px 1px 2px rgba(60, 64, 67, 0.3), 0px 1px 3px 1px rgba(60, 64, 67, 0.15);\n",
              "      fill: #174EA6;\n",
              "    }\n",
              "\n",
              "    [theme=dark] .colab-df-convert {\n",
              "      background-color: #3B4455;\n",
              "      fill: #D2E3FC;\n",
              "    }\n",
              "\n",
              "    [theme=dark] .colab-df-convert:hover {\n",
              "      background-color: #434B5C;\n",
              "      box-shadow: 0px 1px 3px 1px rgba(0, 0, 0, 0.15);\n",
              "      filter: drop-shadow(0px 1px 2px rgba(0, 0, 0, 0.3));\n",
              "      fill: #FFFFFF;\n",
              "    }\n",
              "  </style>\n",
              "\n",
              "      <script>\n",
              "        const buttonEl =\n",
              "          document.querySelector('#df-fe1f2ef4-20da-4ae3-9cbe-a4f95c681f7b button.colab-df-convert');\n",
              "        buttonEl.style.display =\n",
              "          google.colab.kernel.accessAllowed ? 'block' : 'none';\n",
              "\n",
              "        async function convertToInteractive(key) {\n",
              "          const element = document.querySelector('#df-fe1f2ef4-20da-4ae3-9cbe-a4f95c681f7b');\n",
              "          const dataTable =\n",
              "            await google.colab.kernel.invokeFunction('convertToInteractive',\n",
              "                                                     [key], {});\n",
              "          if (!dataTable) return;\n",
              "\n",
              "          const docLinkHtml = 'Like what you see? Visit the ' +\n",
              "            '<a target=\"_blank\" href=https://colab.research.google.com/notebooks/data_table.ipynb>data table notebook</a>'\n",
              "            + ' to learn more about interactive tables.';\n",
              "          element.innerHTML = '';\n",
              "          dataTable['output_type'] = 'display_data';\n",
              "          await google.colab.output.renderOutput(dataTable, element);\n",
              "          const docLink = document.createElement('div');\n",
              "          docLink.innerHTML = docLinkHtml;\n",
              "          element.appendChild(docLink);\n",
              "        }\n",
              "      </script>\n",
              "    </div>\n",
              "  </div>\n",
              "  "
            ],
            "text/plain": [
              "                               filename  \\\n",
              "0            ad_2017-11-25_10-36-26.txt   \n",
              "1      building_2017-10-30_17-26-34.txt   \n",
              "2    floodwater_2017-09-04_04-46-10.txt   \n",
              "3   accrafloods_2015-06-06_16-59-56.txt   \n",
              "4  buildingfire_2016-10-02_03-07-17.txt   \n",
              "\n",
              "                                               tweet       label  \\\n",
              "0  ⭐ We are really getting into the christmas spi...  non_damage   \n",
              "1  IJOY uv board has the competetive price and ve...  non_damage   \n",
              "2  Arriving in Kalkundi island destroyed in #bang...       flood   \n",
              "3  \bHi my lovelies, check out My first hand exper...       flood   \n",
              "4  The Hamilton fire service during an exercise a...       fires   \n",
              "\n",
              "                                  image  enc_label  \\\n",
              "0            ad_2017-11-25_10-36-26.jpg          0   \n",
              "1      building_2017-10-30_17-26-34.jpg          0   \n",
              "2    floodwater_2017-09-04_04-46-10.jpg          3   \n",
              "3   accrafloods_2015-06-06_16-59-56.jpg          3   \n",
              "4  buildingfire_2016-10-02_03-07-17.jpg          4   \n",
              "\n",
              "                                          clean_Text  \n",
              "0    we are really getting into the christmas spi...  \n",
              "1  ijoy uv board has the competetive price and ve...  \n",
              "2  arriving in kalkundi island destroyed in #bang...  \n",
              "3   hi my lovelies  check out my first hand exper...  \n",
              "4  the hamilton fire service during an exercise a...  "
            ]
          },
          "execution_count": 17,
          "metadata": {},
          "output_type": "execute_result"
        }
      ],
      "source": [
        "test_data.head()"
      ]
    },
    {
      "cell_type": "markdown",
      "metadata": {
        "id": "jFXr3IgEZJFd"
      },
      "source": [
        "## Tokenization"
      ]
    },
    {
      "cell_type": "code",
      "execution_count": null,
      "metadata": {
        "colab": {
          "base_uri": "https://localhost:8080/"
        },
        "id": "1jQh2nN0YaF2",
        "outputId": "653fa985-a34a-488e-e765-175f5d5d754d"
      },
      "outputs": [
        {
          "name": "stdout",
          "output_type": "stream",
          "text": [
            "CPU times: user 313 ms, sys: 16.3 ms, total: 329 ms\n",
            "Wall time: 330 ms\n"
          ]
        }
      ],
      "source": [
        "%%time\n",
        "max_words = 100000\n",
        "\n",
        "from keras.preprocessing.text import Tokenizer\n",
        "\n",
        "tokenizer = Tokenizer(num_words = max_words, filters='!\"#$%&()*+,-./:;<=>?@[\\\\]^_`{|}~\\t\\n-',\n",
        "                      split=' ', char_level=False, oov_token=None, document_count=0)\n",
        "\n",
        "tokenizer.fit_on_texts(train_data['tweet'])\n"
      ]
    },
    {
      "cell_type": "code",
      "execution_count": null,
      "metadata": {
        "colab": {
          "base_uri": "https://localhost:8080/"
        },
        "id": "4rQWugWuZXWW",
        "outputId": "41407c2a-2c4d-4265-a2a2-a8e14ed596d9"
      },
      "outputs": [
        {
          "name": "stdout",
          "output_type": "stream",
          "text": [
            "44857\n",
            "CPU times: user 1.14 ms, sys: 0 ns, total: 1.14 ms\n",
            "Wall time: 1.12 ms\n"
          ]
        }
      ],
      "source": [
        "%%time\n",
        "word_counts = tokenizer.word_counts\n",
        "word_docs = tokenizer.word_docs\n",
        "word_index = tokenizer.word_index\n",
        "document_count = tokenizer.document_count\n",
        "vocab_size = len(word_counts) + 1\n",
        "print(vocab_size)"
      ]
    },
    {
      "cell_type": "markdown",
      "metadata": {
        "id": "o6DQCgGMZnyY"
      },
      "source": [
        "# Encoding Data into Numbers"
      ]
    },
    {
      "cell_type": "code",
      "execution_count": null,
      "metadata": {
        "colab": {
          "base_uri": "https://localhost:8080/"
        },
        "id": "k5asPaz8ZppD",
        "outputId": "b581af41-92d9-48ab-8688-32837fba9c39"
      },
      "outputs": [
        {
          "name": "stdout",
          "output_type": "stream",
          "text": [
            "CPU times: user 234 ms, sys: 0 ns, total: 234 ms\n",
            "Wall time: 234 ms\n"
          ]
        }
      ],
      "source": [
        "%%time\n",
        "# Convert string into list of integer indices\n",
        "train_sequences = tokenizer.texts_to_sequences(train_data['tweet'])\n",
        "test_sequences = tokenizer.texts_to_sequences(test_data['tweet'])"
      ]
    },
    {
      "cell_type": "code",
      "execution_count": null,
      "metadata": {
        "colab": {
          "base_uri": "https://localhost:8080/"
        },
        "id": "WVKyjUQtaOwB",
        "outputId": "bfd8a137-3aa5-4d51-ecd4-4e3b6cce194d"
      },
      "outputs": [
        {
          "name": "stdout",
          "output_type": "stream",
          "text": [
            "Found 44856 unique tokens.\n",
            "[1008, 187, 3238, 15, 100, 41618, 3721, 1057, 1008, 325, 41619]\n"
          ]
        }
      ],
      "source": [
        "word_index = tokenizer.word_index\n",
        "print('Found %s unique tokens.' % len(word_index))\n",
        "# print(train_data['cleanText'])\n",
        "print(train_sequences[4663])\n",
        ""
      ]
    },
    {
      "cell_type": "markdown",
      "metadata": {
        "id": "0gM4hXjJa2jj"
      },
      "source": [
        "### Pad sequence"
      ]
    },
    {
      "cell_type": "code",
      "execution_count": null,
      "metadata": {
        "colab": {
          "base_uri": "https://localhost:8080/"
        },
        "id": "MyP-y41Yax8a",
        "outputId": "b149d76c-346c-44a5-c475-5c78ebafdc44"
      },
      "outputs": [
        {
          "name": "stdout",
          "output_type": "stream",
          "text": [
            "Maximum Text length 386\n",
            "Maximum Text length 415\n",
            "Maximum Text length 415\n",
            "CPU times: user 8.1 ms, sys: 0 ns, total: 8.1 ms\n",
            "Wall time: 8.13 ms\n"
          ]
        }
      ],
      "source": [
        "%%time\n",
        "## Before padding length of different training examples\n",
        "# train data\n",
        "mx = len(train_sequences[0])\n",
        "for x in train_sequences:\n",
        "  mx =max(mx, len(x))\n",
        "print(\"Maximum Text length\",mx)\n",
        "#test data\n",
        "mx = len(test_sequences[0])\n",
        "for x in test_sequences:\n",
        "  mx =max(mx, len(x))\n",
        "print(\"Maximum Text length\",mx)\n",
        "#validation data\n",
        "mx = len(test_sequences[0])\n",
        "for x in test_sequences:\n",
        "  mx =max(mx, len(x))\n",
        "print(\"Maximum Text length\",mx)"
      ]
    },
    {
      "cell_type": "code",
      "execution_count": null,
      "metadata": {
        "id": "nMWx4Au9b_Qb"
      },
      "outputs": [],
      "source": [
        "from keras_preprocessing.sequence import pad_sequences"
      ]
    },
    {
      "cell_type": "code",
      "execution_count": null,
      "metadata": {
        "colab": {
          "base_uri": "https://localhost:8080/"
        },
        "id": "NK9I8o_IbYGi",
        "outputId": "7be86685-07cf-42d2-9217-0526a74f401e"
      },
      "outputs": [
        {
          "name": "stdout",
          "output_type": "stream",
          "text": [
            "[15779   966   617     3    13   415    20     4    51   778  1470   167\n",
            "    20    15  6758 15780  3372   126    14     1   778  1470     9  1086\n",
            "    19   132  1471     3   388    35   252   618   629   582  1818     2\n",
            "   132   925   451    62    12   710     2  9443    11   110  9444  2274\n",
            "  9445    11  3033     3    15  1941     2     9   342     1   159     2\n",
            "   287  6759   211     3  3373    11  3033    10 15781 15782  9444 15783\n",
            "     7     0     0     0     0     0     0     0     0     0     0     0\n",
            "     0     0     0     0     0     0     0     0     0     0     0     0\n",
            "     0     0     0     0]\n",
            "[17046  2459    54     1   879     2   252   110   350  2675  5955    79\n",
            "    42 17046  2459 17046  2459   266 17102 17046 10668   397   266  2459\n",
            " 17046  8265  3722 17046   266 17102 15707 17106  2459  1141  2873   737\n",
            "    17  5295  1238  5622  1238  8670   875    95   137  1861  1141  5704\n",
            "  5704 31841  8248     0     0     0     0     0     0     0     0     0\n",
            "     0     0     0     0     0     0     0     0     0     0     0     0\n",
            "     0     0     0     0     0     0     0     0     0     0     0     0\n",
            "     0     0     0     0     0     0     0     0     0     0     0     0\n",
            "     0     0     0     0]\n"
          ]
        }
      ],
      "source": [
        "##We can also determine maxlen by plotting the frequency distribution of the lengths\n",
        "train_corpus = pad_sequences(train_sequences, value=0.0, padding='post', maxlen= 100)\n",
        "test_corpus = pad_sequences(test_sequences, value=0.0, padding='post', maxlen= 100)\n",
        "\n",
        "## We get the maxlen value from the Length frequency distribution\n",
        "\n",
        "print(train_corpus[10])\n",
        "print(test_corpus[1])\n",
        "\n"
      ]
    },
    {
      "cell_type": "code",
      "execution_count": null,
      "metadata": {
        "id": "I24mSR9IC2xl"
      },
      "outputs": [],
      "source": [
        "y_train=np.array(train_data['enc_label']).reshape(-1,1)\n",
        "y_test=np.array(test_data['enc_label']).reshape(-1,1)"
      ]
    },
    {
      "cell_type": "markdown",
      "metadata": {
        "id": "61dGfg4GeIy2"
      },
      "source": [
        "## CNN with keras embedding"
      ]
    },
    {
      "cell_type": "markdown",
      "metadata": {
        "id": "yz0BQZEnRixb"
      },
      "source": [
        "## Model Parameters"
      ]
    },
    {
      "cell_type": "code",
      "execution_count": null,
      "metadata": {
        "id": "zw0wn1XjRh0B"
      },
      "outputs": [],
      "source": [
        "max_length = 100\n",
        "embedding_dim = 100\n",
        "number_of_classes = 6"
      ]
    },
    {
      "cell_type": "markdown",
      "metadata": {
        "id": "kCsGgg5BRsQ5"
      },
      "source": []
    },
    {
      "cell_type": "code",
      "execution_count": null,
      "metadata": {
        "id": "Vaor264HeVVo"
      },
      "outputs": [],
      "source": [
        "keras.backend.clear_session()\n",
        "\n",
        "# define CNN model\n",
        "\n",
        "def CNN():\n",
        "\n",
        "  input = Input(shape=(max_length,))\n",
        "  embedding = Embedding(max_words, embedding_dim)(input)\n",
        "  conv1 = Conv1D(128,2,activation='relu')(embedding)\n",
        "  pool1 = MaxPooling1D(2)(conv1)\n",
        "  flat = Flatten()(pool1)\n",
        "  output_layer = Dense(number_of_classes, activation='softmax')(flat)\n",
        "  model = Model(inputs=input, outputs=output_layer)\n",
        "\n",
        "  return model\n",
        "\n",
        "# call the model\n",
        "cnn_model = CNN()\n",
        "\n",
        "# cnn_model.summary()\n"
      ]
    },
    {
      "cell_type": "code",
      "execution_count": null,
      "metadata": {
        "id": "DJQAoSjBebx_"
      },
      "outputs": [],
      "source": [
        "cnn_model.compile(optimizer = Adam(),\n",
        "                      loss = 'sparse_categorical_crossentropy',\n",
        "                      metrics =['accuracy'])"
      ]
    },
    {
      "cell_type": "code",
      "execution_count": null,
      "metadata": {
        "colab": {
          "base_uri": "https://localhost:8080/"
        },
        "id": "gx9wfUwdekn3",
        "outputId": "0017d9d6-da78-437e-eb6a-737c8b51aefe"
      },
      "outputs": [
        {
          "name": "stdout",
          "output_type": "stream",
          "text": [
            "Epoch 1/10\n",
            "148/148 [==============================] - 3s 12ms/step - loss: 1.0979 - accuracy: 0.6065 - val_loss: 0.8355 - val_accuracy: 0.6781\n",
            "Epoch 2/10\n",
            "148/148 [==============================] - 1s 9ms/step - loss: 0.5895 - accuracy: 0.7772 - val_loss: 0.7262 - val_accuracy: 0.7600\n",
            "Epoch 3/10\n",
            "148/148 [==============================] - 1s 9ms/step - loss: 0.2985 - accuracy: 0.9039 - val_loss: 0.7259 - val_accuracy: 0.7771\n",
            "Epoch 4/10\n",
            "148/148 [==============================] - 1s 10ms/step - loss: 0.1003 - accuracy: 0.9795 - val_loss: 0.7275 - val_accuracy: 0.7981\n",
            "Epoch 5/10\n",
            "148/148 [==============================] - 1s 9ms/step - loss: 0.0393 - accuracy: 0.9928 - val_loss: 0.7488 - val_accuracy: 0.8038\n",
            "Epoch 6/10\n",
            "148/148 [==============================] - 1s 9ms/step - loss: 0.0211 - accuracy: 0.9949 - val_loss: 0.8015 - val_accuracy: 0.8038\n",
            "Epoch 7/10\n",
            "148/148 [==============================] - 1s 9ms/step - loss: 0.0161 - accuracy: 0.9968 - val_loss: 0.7962 - val_accuracy: 0.8019\n",
            "Epoch 8/10\n",
            "148/148 [==============================] - 1s 9ms/step - loss: 0.0129 - accuracy: 0.9975 - val_loss: 0.8238 - val_accuracy: 0.8019\n",
            "Epoch 9/10\n",
            "148/148 [==============================] - 1s 9ms/step - loss: 0.0107 - accuracy: 0.9975 - val_loss: 0.8945 - val_accuracy: 0.8000\n",
            "Epoch 10/10\n",
            "148/148 [==============================] - 1s 9ms/step - loss: 0.0117 - accuracy: 0.9979 - val_loss: 0.8935 - val_accuracy: 0.8019\n",
            "CPU times: user 12.6 s, sys: 774 ms, total: 13.4 s\n",
            "Wall time: 14.3 s\n"
          ]
        }
      ],
      "source": [
        "%%time\n",
        "history = cnn_model.fit(train_corpus,\n",
        "                              train_data['enc_label'],\n",
        "                              epochs = 10,\n",
        "                              batch_size = 32,\n",
        "                              verbose = 1,\n",
        "                              validation_split = 0.1)"
      ]
    },
    {
      "cell_type": "code",
      "execution_count": null,
      "metadata": {
        "colab": {
          "base_uri": "https://localhost:8080/"
        },
        "id": "mGBvwafBavoq",
        "outputId": "2b97e166-b665-43d1-cda7-22afb204cca2"
      },
      "outputs": [
        {
          "name": "stdout",
          "output_type": "stream",
          "text": [
            "19/19 [==============================] - 0s 4ms/step\n"
          ]
        }
      ],
      "source": [
        "y_pred = np.argmax(cnn_model.predict(test_corpus), axis=-1)"
      ]
    },
    {
      "cell_type": "code",
      "execution_count": null,
      "metadata": {
        "colab": {
          "base_uri": "https://localhost:8080/"
        },
        "id": "2_HY3JjleZwB",
        "outputId": "de03b9b2-963e-4d30-abf8-cb7cc4aaa346"
      },
      "outputs": [
        {
          "name": "stdout",
          "output_type": "stream",
          "text": [
            "              precision    recall  f1-score   support\n",
            "\n",
            "           0       0.96      0.92      0.94       291\n",
            "           1       0.84      0.83      0.83       144\n",
            "           2       0.52      0.75      0.61        55\n",
            "           3       0.71      0.75      0.73        36\n",
            "           4       0.75      0.57      0.65        37\n",
            "           5       0.83      0.71      0.77        21\n",
            "\n",
            "    accuracy                           0.84       584\n",
            "   macro avg       0.77      0.75      0.76       584\n",
            "weighted avg       0.86      0.84      0.85       584\n",
            "\n"
          ]
        }
      ],
      "source": [
        "print(classification_report(test_data['enc_label'],y_pred))"
      ]
    },
    {
      "cell_type": "markdown",
      "metadata": {
        "id": "fbCpW8KYay_b"
      },
      "source": [
        "# BiLstm"
      ]
    },
    {
      "cell_type": "code",
      "execution_count": null,
      "metadata": {
        "id": "JII4dLAQa2rp"
      },
      "outputs": [],
      "source": [
        "keras.backend.clear_session()\n",
        "\n",
        "max_length = 100\n",
        "embedding_dim = 100\n",
        "number_of_classes = 6\n",
        "\n",
        "\n",
        "# define bilstm model\n",
        "\n",
        "def lstm():\n",
        "\n",
        "\n",
        "   ###### BiLSTM Model #######\n",
        "  bi_text_inputs = Input(shape=(max_length,))\n",
        "  bi_embedding_layer = Embedding(max_words,embedding_dim)(bi_text_inputs)\n",
        "  LSTM_Layer_1 = Bidirectional(LSTM(32))(bi_embedding_layer)\n",
        "  bi_dense_layer_1 = Dense(number_of_classes, activation='softmax')(LSTM_Layer_1)\n",
        "  bilstm_model = Model(inputs=bi_text_inputs, outputs=bi_dense_layer_1)\n",
        "\n",
        "\n",
        "  return bilstm_model\n",
        "\n",
        "# call the model\n",
        "lstm_model = lstm()\n",
        "\n",
        "# lstm_model.summary()"
      ]
    },
    {
      "cell_type": "code",
      "execution_count": null,
      "metadata": {
        "id": "DvWky9yydLRq"
      },
      "outputs": [],
      "source": [
        "lstm_model.compile(optimizer = Adam(),\n",
        "                      loss = 'sparse_categorical_crossentropy',\n",
        "                      metrics =['accuracy'])"
      ]
    },
    {
      "cell_type": "code",
      "execution_count": null,
      "metadata": {
        "colab": {
          "base_uri": "https://localhost:8080/"
        },
        "id": "gD38__xedQYK",
        "outputId": "9d555b22-faf7-4291-927d-312517d71c7c"
      },
      "outputs": [
        {
          "name": "stdout",
          "output_type": "stream",
          "text": [
            "Epoch 1/10\n",
            "148/148 [==============================] - 7s 20ms/step - loss: 1.2242 - accuracy: 0.5667 - val_loss: 0.8848 - val_accuracy: 0.6800\n",
            "Epoch 2/10\n",
            "148/148 [==============================] - 2s 15ms/step - loss: 0.6288 - accuracy: 0.7696 - val_loss: 0.6879 - val_accuracy: 0.7505\n",
            "Epoch 3/10\n",
            "148/148 [==============================] - 2s 15ms/step - loss: 0.3897 - accuracy: 0.8585 - val_loss: 0.6294 - val_accuracy: 0.7790\n",
            "Epoch 4/10\n",
            "148/148 [==============================] - 2s 15ms/step - loss: 0.2496 - accuracy: 0.9242 - val_loss: 0.5842 - val_accuracy: 0.8076\n",
            "Epoch 5/10\n",
            "148/148 [==============================] - 2s 15ms/step - loss: 0.1371 - accuracy: 0.9767 - val_loss: 0.5445 - val_accuracy: 0.8381\n",
            "Epoch 6/10\n",
            "148/148 [==============================] - 2s 15ms/step - loss: 0.0703 - accuracy: 0.9877 - val_loss: 0.5381 - val_accuracy: 0.8419\n",
            "Epoch 7/10\n",
            "148/148 [==============================] - 2s 15ms/step - loss: 0.0454 - accuracy: 0.9939 - val_loss: 0.5619 - val_accuracy: 0.8495\n",
            "Epoch 8/10\n",
            "148/148 [==============================] - 2s 15ms/step - loss: 0.0252 - accuracy: 0.9956 - val_loss: 0.5532 - val_accuracy: 0.8457\n",
            "Epoch 9/10\n",
            "148/148 [==============================] - 2s 15ms/step - loss: 0.0180 - accuracy: 0.9975 - val_loss: 0.5346 - val_accuracy: 0.8533\n",
            "Epoch 10/10\n",
            "148/148 [==============================] - 3s 21ms/step - loss: 0.0131 - accuracy: 0.9983 - val_loss: 0.5522 - val_accuracy: 0.8495\n",
            "CPU times: user 26.7 s, sys: 1.79 s, total: 28.5 s\n",
            "Wall time: 43.5 s\n"
          ]
        }
      ],
      "source": [
        "%%time\n",
        "history = lstm_model.fit(train_corpus,\n",
        "                              train_data['enc_label'],\n",
        "                              epochs = 10,\n",
        "                              batch_size = 32,\n",
        "                              verbose = 1,\n",
        "                              validation_split = 0.1)"
      ]
    },
    {
      "cell_type": "code",
      "execution_count": null,
      "metadata": {
        "colab": {
          "base_uri": "https://localhost:8080/"
        },
        "id": "tedKp9SZd3uj",
        "outputId": "791e936e-d0a2-439d-df3f-dee3446cac9a"
      },
      "outputs": [
        {
          "name": "stdout",
          "output_type": "stream",
          "text": [
            "19/19 [==============================] - 1s 6ms/step\n"
          ]
        }
      ],
      "source": [
        "y_pred = np.argmax(lstm_model.predict(test_corpus), axis=-1)"
      ]
    },
    {
      "cell_type": "code",
      "execution_count": null,
      "metadata": {
        "colab": {
          "base_uri": "https://localhost:8080/"
        },
        "id": "GMFaXI2De8B6",
        "outputId": "dba1689d-e18f-45a6-aa7a-6ab852365614"
      },
      "outputs": [
        {
          "name": "stdout",
          "output_type": "stream",
          "text": [
            "              precision    recall  f1-score   support\n",
            "\n",
            "           0       0.96      0.94      0.95       291\n",
            "           1       0.82      0.80      0.81       144\n",
            "           2       0.67      0.64      0.65        55\n",
            "           3       0.54      0.86      0.67        36\n",
            "           4       0.89      0.65      0.75        37\n",
            "           5       0.78      0.86      0.82        21\n",
            "\n",
            "    accuracy                           0.85       584\n",
            "   macro avg       0.78      0.79      0.77       584\n",
            "weighted avg       0.86      0.85      0.85       584\n",
            "\n"
          ]
        }
      ],
      "source": [
        "print(classification_report(test_data['enc_label'],y_pred))"
      ]
    },
    {
      "cell_type": "markdown",
      "metadata": {
        "id": "CRyg_hunfQix"
      },
      "source": [
        "# BiLstm + CNN model"
      ]
    },
    {
      "cell_type": "code",
      "execution_count": null,
      "metadata": {
        "colab": {
          "base_uri": "https://localhost:8080/"
        },
        "id": "QFSFy2WOfUOx",
        "outputId": "50475d55-4098-4a0f-80f4-a844759e8681"
      },
      "outputs": [
        {
          "name": "stdout",
          "output_type": "stream",
          "text": [
            "Model: \"model\"\n",
            "_________________________________________________________________\n",
            " Layer (type)                Output Shape              Param #   \n",
            "=================================================================\n",
            " input_1 (InputLayer)        [(None, 100)]             0         \n",
            "                                                                 \n",
            " embedding (Embedding)       (None, 100, 100)          10000000  \n",
            "                                                                 \n",
            " bidirectional (Bidirectiona  (None, 100, 64)          34048     \n",
            " l)                                                              \n",
            "                                                                 \n",
            " conv1d (Conv1D)             (None, 99, 32)            4128      \n",
            "                                                                 \n",
            " max_pooling1d (MaxPooling1D  (None, 49, 32)           0         \n",
            " )                                                               \n",
            "                                                                 \n",
            " flatten (Flatten)           (None, 1568)              0         \n",
            "                                                                 \n",
            " dense (Dense)               (None, 6)                 9414      \n",
            "                                                                 \n",
            "=================================================================\n",
            "Total params: 10,047,590\n",
            "Trainable params: 10,047,590\n",
            "Non-trainable params: 0\n",
            "_________________________________________________________________\n"
          ]
        }
      ],
      "source": [
        "keras.backend.clear_session()\n",
        "\n",
        "# define bilstm + Cnn model\n",
        "\n",
        "def lstm_cnn():\n",
        "\n",
        "\n",
        "  lc_text_inputs = Input(shape=(max_length,))\n",
        "  lc_embedding_layer = Embedding(max_words,embedding_dim)(lc_text_inputs)\n",
        "  LSTM_Layer = Bidirectional(LSTM(32,return_sequences=True))(lc_embedding_layer)\n",
        "  lc_conv1 = Conv1D(32,2,activation='relu')(LSTM_Layer)\n",
        "  lc_pool1 = MaxPooling1D(2)(lc_conv1)\n",
        "  lc_flat = Flatten()(lc_pool1)\n",
        "  lc_dense_layer_1 = Dense(number_of_classes, activation='softmax')(lc_flat)\n",
        "  cnn_lstm_model = Model(inputs=lc_text_inputs, outputs=lc_dense_layer_1)\n",
        "\n",
        "\n",
        "  return cnn_lstm_model\n",
        "\n",
        "# call the model\n",
        "lstm_cnn_model = lstm_cnn()\n",
        "\n",
        "lstm_cnn_model.summary()"
      ]
    },
    {
      "cell_type": "code",
      "execution_count": null,
      "metadata": {
        "id": "MrkmxpY7fcwA"
      },
      "outputs": [],
      "source": [
        "lstm_cnn_model.compile(optimizer = 'adam',\n",
        "                      loss = 'sparse_categorical_crossentropy',\n",
        "                      metrics =['accuracy'])"
      ]
    },
    {
      "cell_type": "code",
      "execution_count": null,
      "metadata": {
        "colab": {
          "base_uri": "https://localhost:8080/"
        },
        "id": "gdx1AaNrfi85",
        "outputId": "78360f38-eae6-4b64-d318-d361b121206f"
      },
      "outputs": [
        {
          "name": "stdout",
          "output_type": "stream",
          "text": [
            "Epoch 1/10\n",
            "148/148 [==============================] - 6s 21ms/step - loss: 1.0503 - accuracy: 0.6262 - val_loss: 0.7913 - val_accuracy: 0.7029\n",
            "Epoch 2/10\n",
            "148/148 [==============================] - 2s 15ms/step - loss: 0.4774 - accuracy: 0.8158 - val_loss: 0.6013 - val_accuracy: 0.8038\n",
            "Epoch 3/10\n",
            "148/148 [==============================] - 2s 16ms/step - loss: 0.2241 - accuracy: 0.9235 - val_loss: 0.6468 - val_accuracy: 0.8286\n",
            "Epoch 4/10\n",
            "148/148 [==============================] - 2s 16ms/step - loss: 0.0851 - accuracy: 0.9776 - val_loss: 0.6774 - val_accuracy: 0.8152\n",
            "Epoch 5/10\n",
            "148/148 [==============================] - 2s 16ms/step - loss: 0.0364 - accuracy: 0.9915 - val_loss: 0.6918 - val_accuracy: 0.8381\n",
            "Epoch 6/10\n",
            "148/148 [==============================] - 2s 16ms/step - loss: 0.0210 - accuracy: 0.9951 - val_loss: 0.7246 - val_accuracy: 0.8514\n",
            "Epoch 7/10\n",
            "148/148 [==============================] - 2s 15ms/step - loss: 0.0159 - accuracy: 0.9964 - val_loss: 0.7884 - val_accuracy: 0.8533\n",
            "Epoch 8/10\n",
            "148/148 [==============================] - 2s 16ms/step - loss: 0.0132 - accuracy: 0.9962 - val_loss: 0.9365 - val_accuracy: 0.8286\n",
            "Epoch 9/10\n",
            "148/148 [==============================] - 2s 16ms/step - loss: 0.0118 - accuracy: 0.9966 - val_loss: 0.9347 - val_accuracy: 0.8381\n",
            "Epoch 10/10\n",
            "148/148 [==============================] - 2s 15ms/step - loss: 0.0104 - accuracy: 0.9968 - val_loss: 0.9134 - val_accuracy: 0.8362\n",
            "CPU times: user 27.6 s, sys: 1.73 s, total: 29.4 s\n",
            "Wall time: 26.8 s\n"
          ]
        }
      ],
      "source": [
        "%%time\n",
        "history = lstm_cnn_model.fit(train_corpus,\n",
        "                              train_data['enc_label'],\n",
        "                              epochs = 10,\n",
        "                              batch_size = 32,\n",
        "                              verbose = 1,\n",
        "                              validation_split = 0.1)"
      ]
    },
    {
      "cell_type": "code",
      "execution_count": null,
      "metadata": {
        "colab": {
          "base_uri": "https://localhost:8080/"
        },
        "id": "i6VhJEXsfzmK",
        "outputId": "b2fa9740-382f-4164-d5fa-2070105157a2"
      },
      "outputs": [
        {
          "name": "stdout",
          "output_type": "stream",
          "text": [
            "19/19 [==============================] - 1s 6ms/step\n"
          ]
        }
      ],
      "source": [
        "y_pred = np.argmax(lstm_cnn_model.predict(test_corpus), axis=-1)"
      ]
    },
    {
      "cell_type": "code",
      "execution_count": null,
      "metadata": {
        "colab": {
          "base_uri": "https://localhost:8080/"
        },
        "id": "jKPGT0gpgD2a",
        "outputId": "01a28f57-b777-4a93-8354-cf8f15ac248d"
      },
      "outputs": [
        {
          "name": "stdout",
          "output_type": "stream",
          "text": [
            "              precision    recall  f1-score   support\n",
            "\n",
            "           0       0.97      0.96      0.97       291\n",
            "           1       0.81      0.83      0.82       144\n",
            "           2       0.69      0.67      0.68        55\n",
            "           3       0.53      0.78      0.63        36\n",
            "           4       0.78      0.57      0.66        37\n",
            "           5       1.00      0.71      0.83        21\n",
            "\n",
            "    accuracy                           0.86       584\n",
            "   macro avg       0.80      0.75      0.76       584\n",
            "weighted avg       0.87      0.86      0.86       584\n",
            "\n"
          ]
        }
      ],
      "source": [
        "print(classification_report(test_data['enc_label'],y_pred))"
      ]
    },
    {
      "cell_type": "markdown",
      "metadata": {
        "id": "1pRY04iRH7cm"
      },
      "source": [
        "BILSTM+ATTENtion 01"
      ]
    },
    {
      "cell_type": "code",
      "execution_count": null,
      "metadata": {
        "id": "wtARHUpNIAFV"
      },
      "outputs": [],
      "source": [
        "from keras.layers import Layer\n",
        "from tensorflow.python.keras.layers import Concatenate\n",
        "import keras.backend as K"
      ]
    },
    {
      "cell_type": "code",
      "execution_count": null,
      "metadata": {
        "id": "1h3nyZmFOag-"
      },
      "outputs": [],
      "source": [
        "max_len = 200\n",
        "rnn_cell_size = 128"
      ]
    },
    {
      "cell_type": "code",
      "execution_count": null,
      "metadata": {
        "id": "xunRxogxIpD4"
      },
      "outputs": [],
      "source": [
        "class Attention(tf.keras.Model):\n",
        "    def __init__(self, units):\n",
        "        super(Attention, self).__init__()\n",
        "        self.W1 = tf.keras.layers.Dense(units)\n",
        "        self.W2 = tf.keras.layers.Dense(units)\n",
        "        self.V = tf.keras.layers.Dense(1)\n",
        "\n",
        "    def call(self, features, hidden):\n",
        "        hidden_with_time_axis = tf.expand_dims(hidden, 1)\n",
        "        score = tf.nn.tanh(self.W1(features) + self.W2(hidden_with_time_axis))\n",
        "        attention_weights = tf.nn.softmax(self.V(score), axis=1)\n",
        "        context_vector = attention_weights * features\n",
        "        context_vector = tf.reduce_sum(context_vector, axis=1)\n",
        "\n",
        "        return context_vector, attention_weights"
      ]
    },
    {
      "cell_type": "code",
      "execution_count": null,
      "metadata": {
        "id": "UsiqS_81XLKS"
      },
      "outputs": [],
      "source": [
        "sequence_input = Input(shape=(max_len,), dtype='int32')\n",
        "\n",
        "embedded_sequences = keras.layers.Embedding(max_words, 128, input_length=max_len)(sequence_input)"
      ]
    },
    {
      "cell_type": "code",
      "execution_count": null,
      "metadata": {
        "colab": {
          "base_uri": "https://localhost:8080/"
        },
        "id": "ubQb_TR3I1kW",
        "outputId": "1a3e9e86-1b8c-4bf9-b835-32e04da5969e"
      },
      "outputs": [
        {
          "name": "stderr",
          "output_type": "stream",
          "text": [
            "WARNING:tensorflow:Layer lstm_6 will not use cuDNN kernels since it doesn't meet the criteria. It will use a generic GPU kernel as fallback when running on GPU.\n",
            "WARNING:tensorflow:Layer lstm_6 will not use cuDNN kernels since it doesn't meet the criteria. It will use a generic GPU kernel as fallback when running on GPU.\n",
            "WARNING:tensorflow:Layer lstm_6 will not use cuDNN kernels since it doesn't meet the criteria. It will use a generic GPU kernel as fallback when running on GPU.\n",
            "WARNING:tensorflow:Layer lstm_7 will not use cuDNN kernels since it doesn't meet the criteria. It will use a generic GPU kernel as fallback when running on GPU.\n",
            "WARNING:tensorflow:Layer lstm_7 will not use cuDNN kernels since it doesn't meet the criteria. It will use a generic GPU kernel as fallback when running on GPU.\n",
            "WARNING:tensorflow:Layer lstm_7 will not use cuDNN kernels since it doesn't meet the criteria. It will use a generic GPU kernel as fallback when running on GPU.\n"
          ]
        }
      ],
      "source": [
        "import os\n",
        "lstm = tf.keras.layers.Bidirectional(tf.keras.layers.LSTM\n",
        "                                     (rnn_cell_size,\n",
        "                                      dropout=0.3,\n",
        "                                      return_sequences=True,\n",
        "                                      return_state=True,\n",
        "                                      recurrent_activation='relu',\n",
        "                                      recurrent_initializer='glorot_uniform'), name=\"bi_lstm_0\")(embedded_sequences)\n",
        "\n",
        "lstm, forward_h, forward_c, backward_h, backward_c = tf.keras.layers.Bidirectional(tf.keras.layers.LSTM(rnn_cell_size,dropout=0.2,return_sequences=True,return_state=True,\n",
        "      recurrent_activation='relu',\n",
        "      recurrent_initializer='glorot_uniform'))(lstm)"
      ]
    },
    {
      "cell_type": "code",
      "execution_count": null,
      "metadata": {
        "colab": {
          "base_uri": "https://localhost:8080/",
          "height": 380
        },
        "id": "anCyqjwOJwpQ",
        "outputId": "c5583d5f-408c-46a4-dfaf-b2eab74b19fa"
      },
      "outputs": [
        {
          "ename": "AttributeError",
          "evalue": "ignored",
          "output_type": "error",
          "traceback": [
            "\u001b[0;31m---------------------------------------------------------------------------\u001b[0m",
            "\u001b[0;31mAttributeError\u001b[0m                            Traceback (most recent call last)",
            "\u001b[0;32m<ipython-input-64-fc56fd8732d2>\u001b[0m in \u001b[0;36m<module>\u001b[0;34m\u001b[0m\n\u001b[0;32m----> 1\u001b[0;31m \u001b[0mstate_h\u001b[0m \u001b[0;34m=\u001b[0m \u001b[0mConcatenate\u001b[0m\u001b[0;34m(\u001b[0m\u001b[0;34m)\u001b[0m\u001b[0;34m(\u001b[0m\u001b[0;34m[\u001b[0m\u001b[0mforward_h\u001b[0m\u001b[0;34m,\u001b[0m \u001b[0mbackward_h\u001b[0m\u001b[0;34m]\u001b[0m\u001b[0;34m)\u001b[0m\u001b[0;34m\u001b[0m\u001b[0;34m\u001b[0m\u001b[0m\n\u001b[0m\u001b[1;32m      2\u001b[0m \u001b[0mstate_c\u001b[0m \u001b[0;34m=\u001b[0m \u001b[0mConcatenate\u001b[0m\u001b[0;34m(\u001b[0m\u001b[0;34m)\u001b[0m\u001b[0;34m(\u001b[0m\u001b[0;34m[\u001b[0m\u001b[0mforward_c\u001b[0m\u001b[0;34m,\u001b[0m \u001b[0mbackward_c\u001b[0m\u001b[0;34m]\u001b[0m\u001b[0;34m)\u001b[0m\u001b[0;34m\u001b[0m\u001b[0;34m\u001b[0m\u001b[0m\n\u001b[1;32m      3\u001b[0m \u001b[0;34m\u001b[0m\u001b[0m\n\u001b[1;32m      4\u001b[0m \u001b[0mcontext_vector\u001b[0m\u001b[0;34m,\u001b[0m \u001b[0mattention_weights\u001b[0m \u001b[0;34m=\u001b[0m \u001b[0mattention\u001b[0m\u001b[0;34m(\u001b[0m\u001b[0mlstm\u001b[0m\u001b[0;34m,\u001b[0m \u001b[0mstate_h\u001b[0m\u001b[0;34m)\u001b[0m\u001b[0;34m\u001b[0m\u001b[0;34m\u001b[0m\u001b[0m\n\u001b[1;32m      5\u001b[0m \u001b[0;34m\u001b[0m\u001b[0m\n",
            "\u001b[0;32m/usr/local/lib/python3.8/dist-packages/tensorflow/python/keras/engine/base_layer.py\u001b[0m in \u001b[0;36m__call__\u001b[0;34m(self, *args, **kwargs)\u001b[0m\n\u001b[1;32m   1047\u001b[0m           \u001b[0mself\u001b[0m\u001b[0;34m.\u001b[0m\u001b[0m_handle_activity_regularization\u001b[0m\u001b[0;34m(\u001b[0m\u001b[0minputs\u001b[0m\u001b[0;34m,\u001b[0m \u001b[0moutputs\u001b[0m\u001b[0;34m)\u001b[0m\u001b[0;34m\u001b[0m\u001b[0;34m\u001b[0m\u001b[0m\n\u001b[1;32m   1048\u001b[0m         \u001b[0;32mif\u001b[0m \u001b[0mself\u001b[0m\u001b[0;34m.\u001b[0m\u001b[0m_supports_masking\u001b[0m\u001b[0;34m:\u001b[0m\u001b[0;34m\u001b[0m\u001b[0;34m\u001b[0m\u001b[0m\n\u001b[0;32m-> 1049\u001b[0;31m           \u001b[0mself\u001b[0m\u001b[0;34m.\u001b[0m\u001b[0m_set_mask_metadata\u001b[0m\u001b[0;34m(\u001b[0m\u001b[0minputs\u001b[0m\u001b[0;34m,\u001b[0m \u001b[0moutputs\u001b[0m\u001b[0;34m,\u001b[0m \u001b[0minput_masks\u001b[0m\u001b[0;34m,\u001b[0m \u001b[0;32mnot\u001b[0m \u001b[0meager\u001b[0m\u001b[0;34m)\u001b[0m\u001b[0;34m\u001b[0m\u001b[0;34m\u001b[0m\u001b[0m\n\u001b[0m\u001b[1;32m   1050\u001b[0m         \u001b[0;32mif\u001b[0m \u001b[0mself\u001b[0m\u001b[0;34m.\u001b[0m\u001b[0m_saved_model_inputs_spec\u001b[0m \u001b[0;32mis\u001b[0m \u001b[0;32mNone\u001b[0m\u001b[0;34m:\u001b[0m\u001b[0;34m\u001b[0m\u001b[0;34m\u001b[0m\u001b[0m\n\u001b[1;32m   1051\u001b[0m           \u001b[0mself\u001b[0m\u001b[0;34m.\u001b[0m\u001b[0m_set_save_spec\u001b[0m\u001b[0;34m(\u001b[0m\u001b[0minputs\u001b[0m\u001b[0;34m)\u001b[0m\u001b[0;34m\u001b[0m\u001b[0;34m\u001b[0m\u001b[0m\n",
            "\u001b[0;32m/usr/local/lib/python3.8/dist-packages/tensorflow/python/keras/engine/base_layer.py\u001b[0m in \u001b[0;36m_set_mask_metadata\u001b[0;34m(self, inputs, outputs, previous_mask, build_graph)\u001b[0m\n\u001b[1;32m   2483\u001b[0m       \u001b[0;32mreturn\u001b[0m\u001b[0;34m\u001b[0m\u001b[0;34m\u001b[0m\u001b[0m\n\u001b[1;32m   2484\u001b[0m \u001b[0;34m\u001b[0m\u001b[0m\n\u001b[0;32m-> 2485\u001b[0;31m     \u001b[0moutput_masks\u001b[0m \u001b[0;34m=\u001b[0m \u001b[0mself\u001b[0m\u001b[0;34m.\u001b[0m\u001b[0mcompute_mask\u001b[0m\u001b[0;34m(\u001b[0m\u001b[0minputs\u001b[0m\u001b[0;34m,\u001b[0m \u001b[0mprevious_mask\u001b[0m\u001b[0;34m)\u001b[0m\u001b[0;34m\u001b[0m\u001b[0;34m\u001b[0m\u001b[0m\n\u001b[0m\u001b[1;32m   2486\u001b[0m     \u001b[0;32mif\u001b[0m \u001b[0moutput_masks\u001b[0m \u001b[0;32mis\u001b[0m \u001b[0;32mNone\u001b[0m\u001b[0;34m:\u001b[0m\u001b[0;34m\u001b[0m\u001b[0;34m\u001b[0m\u001b[0m\n\u001b[1;32m   2487\u001b[0m       \u001b[0;32mreturn\u001b[0m\u001b[0;34m\u001b[0m\u001b[0;34m\u001b[0m\u001b[0m\n",
            "\u001b[0;32m/usr/local/lib/python3.8/dist-packages/tensorflow/python/keras/layers/merge.py\u001b[0m in \u001b[0;36mcompute_mask\u001b[0;34m(self, inputs, mask)\u001b[0m\n\u001b[1;32m    557\u001b[0m         \u001b[0;31m# Input is unmasked. Append all 1s to masks,\u001b[0m\u001b[0;34m\u001b[0m\u001b[0;34m\u001b[0m\u001b[0;34m\u001b[0m\u001b[0m\n\u001b[1;32m    558\u001b[0m         \u001b[0mmasks\u001b[0m\u001b[0;34m.\u001b[0m\u001b[0mappend\u001b[0m\u001b[0;34m(\u001b[0m\u001b[0marray_ops\u001b[0m\u001b[0;34m.\u001b[0m\u001b[0mones_like\u001b[0m\u001b[0;34m(\u001b[0m\u001b[0minput_i\u001b[0m\u001b[0;34m,\u001b[0m \u001b[0mdtype\u001b[0m\u001b[0;34m=\u001b[0m\u001b[0;34m'bool'\u001b[0m\u001b[0;34m)\u001b[0m\u001b[0;34m)\u001b[0m\u001b[0;34m\u001b[0m\u001b[0;34m\u001b[0m\u001b[0m\n\u001b[0;32m--> 559\u001b[0;31m       \u001b[0;32melif\u001b[0m \u001b[0mbackend\u001b[0m\u001b[0;34m.\u001b[0m\u001b[0mndim\u001b[0m\u001b[0;34m(\u001b[0m\u001b[0mmask_i\u001b[0m\u001b[0;34m)\u001b[0m \u001b[0;34m<\u001b[0m \u001b[0mbackend\u001b[0m\u001b[0;34m.\u001b[0m\u001b[0mndim\u001b[0m\u001b[0;34m(\u001b[0m\u001b[0minput_i\u001b[0m\u001b[0;34m)\u001b[0m\u001b[0;34m:\u001b[0m\u001b[0;34m\u001b[0m\u001b[0;34m\u001b[0m\u001b[0m\n\u001b[0m\u001b[1;32m    560\u001b[0m         \u001b[0;31m# Mask is smaller than the input, expand it\u001b[0m\u001b[0;34m\u001b[0m\u001b[0;34m\u001b[0m\u001b[0;34m\u001b[0m\u001b[0m\n\u001b[1;32m    561\u001b[0m         \u001b[0mmasks\u001b[0m\u001b[0;34m.\u001b[0m\u001b[0mappend\u001b[0m\u001b[0;34m(\u001b[0m\u001b[0marray_ops\u001b[0m\u001b[0;34m.\u001b[0m\u001b[0mexpand_dims\u001b[0m\u001b[0;34m(\u001b[0m\u001b[0mmask_i\u001b[0m\u001b[0;34m,\u001b[0m \u001b[0maxis\u001b[0m\u001b[0;34m=\u001b[0m\u001b[0;34m-\u001b[0m\u001b[0;36m1\u001b[0m\u001b[0;34m)\u001b[0m\u001b[0;34m)\u001b[0m\u001b[0;34m\u001b[0m\u001b[0;34m\u001b[0m\u001b[0m\n",
            "\u001b[0;32m/usr/local/lib/python3.8/dist-packages/tensorflow/python/keras/backend.py\u001b[0m in \u001b[0;36mndim\u001b[0;34m(x)\u001b[0m\n\u001b[1;32m   1483\u001b[0m \u001b[0;34m\u001b[0m\u001b[0m\n\u001b[1;32m   1484\u001b[0m   \"\"\"\n\u001b[0;32m-> 1485\u001b[0;31m   \u001b[0;32mreturn\u001b[0m \u001b[0mx\u001b[0m\u001b[0;34m.\u001b[0m\u001b[0mshape\u001b[0m\u001b[0;34m.\u001b[0m\u001b[0mrank\u001b[0m\u001b[0;34m\u001b[0m\u001b[0;34m\u001b[0m\u001b[0m\n\u001b[0m\u001b[1;32m   1486\u001b[0m \u001b[0;34m\u001b[0m\u001b[0m\n\u001b[1;32m   1487\u001b[0m \u001b[0;34m\u001b[0m\u001b[0m\n",
            "\u001b[0;32m/usr/local/lib/python3.8/dist-packages/keras/engine/keras_tensor.py\u001b[0m in \u001b[0;36mshape\u001b[0;34m(self)\u001b[0m\n\u001b[1;32m    139\u001b[0m   \u001b[0;32mdef\u001b[0m \u001b[0mshape\u001b[0m\u001b[0;34m(\u001b[0m\u001b[0mself\u001b[0m\u001b[0;34m)\u001b[0m\u001b[0;34m:\u001b[0m\u001b[0;34m\u001b[0m\u001b[0;34m\u001b[0m\u001b[0m\n\u001b[1;32m    140\u001b[0m     \u001b[0;34m\"\"\"Returns the `TensorShape` symbolically inferred for this Keras output.\"\"\"\u001b[0m\u001b[0;34m\u001b[0m\u001b[0;34m\u001b[0m\u001b[0m\n\u001b[0;32m--> 141\u001b[0;31m     \u001b[0;32mreturn\u001b[0m \u001b[0mself\u001b[0m\u001b[0;34m.\u001b[0m\u001b[0m_type_spec\u001b[0m\u001b[0;34m.\u001b[0m\u001b[0mshape\u001b[0m\u001b[0;34m\u001b[0m\u001b[0;34m\u001b[0m\u001b[0m\n\u001b[0m\u001b[1;32m    142\u001b[0m \u001b[0;34m\u001b[0m\u001b[0m\n\u001b[1;32m    143\u001b[0m   \u001b[0;34m@\u001b[0m\u001b[0mclassmethod\u001b[0m\u001b[0;34m\u001b[0m\u001b[0;34m\u001b[0m\u001b[0m\n",
            "\u001b[0;31mAttributeError\u001b[0m: 'NoneTensorSpec' object has no attribute 'shape'"
          ]
        }
      ],
      "source": [
        "state_h = Concatenate()([forward_h, backward_h])\n",
        "state_c = Concatenate()([forward_c, backward_c])\n",
        "\n",
        "context_vector, attention_weights = attention(lstm, state_h)\n",
        "\n",
        "output = keras.layers.Dense(6, activation='softmax')(context_vector)\n",
        "\n",
        "model = keras.Model(inputs=sequence_input, outputs=output)\n",
        "\n",
        "# summarize layers\n",
        "print(model.summary())"
      ]
    },
    {
      "cell_type": "markdown",
      "metadata": {
        "id": "4jNSisaj9qDl"
      },
      "source": [
        "# BiLstm + Attention"
      ]
    },
    {
      "cell_type": "code",
      "execution_count": null,
      "metadata": {
        "id": "All_3u5fBALN"
      },
      "outputs": [],
      "source": [
        "from keras.layers import Layer\n",
        "import keras.backend as K"
      ]
    },
    {
      "cell_type": "code",
      "execution_count": null,
      "metadata": {
        "id": "rkB3sTHqA8mJ"
      },
      "outputs": [],
      "source": [
        "class attention(Layer):\n",
        "    def __init__(self,**kwargs):\n",
        "        super(attention,self).__init__(**kwargs)\n",
        "\n",
        "    def build(self,input_shape):\n",
        "        self.W=self.add_weight(name=\"att_weight\",shape=(input_shape[-1],1),initializer=\"normal\")\n",
        "        self.b=self.add_weight(name=\"att_bias\",shape=(input_shape[1],1),initializer=\"zeros\")\n",
        "        super(attention, self).build(input_shape)\n",
        "\n",
        "    def call(self,x):\n",
        "        et=K.squeeze(K.tanh(K.dot(x,self.W)+self.b),axis=-1)\n",
        "        at=K.softmax(et)\n",
        "        at=K.expand_dims(at,axis=-1)\n",
        "        output=x*at\n",
        "        return K.sum(output,axis=1)\n",
        "\n",
        "    def compute_output_shape(self,input_shape):\n",
        "        return (input_shape[0],input_shape[-1])\n",
        "\n",
        "    def get_config(self):\n",
        "        return super(attention,self).get_config()"
      ]
    },
    {
      "cell_type": "code",
      "execution_count": null,
      "metadata": {
        "colab": {
          "base_uri": "https://localhost:8080/"
        },
        "id": "9kfw4PmCuSE1",
        "outputId": "0ed486c3-0ac4-41ac-8293-f983bb737032"
      },
      "outputs": [
        {
          "name": "stderr",
          "output_type": "stream",
          "text": [
            "WARNING:tensorflow:Layer lstm will not use cuDNN kernels since it doesn't meet the criteria. It will use a generic GPU kernel as fallback when running on GPU.\n",
            "WARNING:tensorflow:Layer lstm will not use cuDNN kernels since it doesn't meet the criteria. It will use a generic GPU kernel as fallback when running on GPU.\n",
            "WARNING:tensorflow:Layer lstm will not use cuDNN kernels since it doesn't meet the criteria. It will use a generic GPU kernel as fallback when running on GPU.\n"
          ]
        },
        {
          "name": "stdout",
          "output_type": "stream",
          "text": [
            "Model: \"Text_model\"\n",
            "_________________________________________________________________\n",
            " Layer (type)                Output Shape              Param #   \n",
            "=================================================================\n",
            " input (InputLayer)          [(None, 100)]             0         \n",
            "                                                                 \n",
            " embedding (Embedding)       (None, 100, 100)          10000000  \n",
            "                                                                 \n",
            " bidirectional (Bidirectiona  (None, 100, 512)         731136    \n",
            " l)                                                              \n",
            "                                                                 \n",
            " attention (attention)       (None, 512)               612       \n",
            "                                                                 \n",
            " Dense_layer (Dense)         (None, 6)                 3078      \n",
            "                                                                 \n",
            "=================================================================\n",
            "Total params: 10,734,826\n",
            "Trainable params: 10,734,826\n",
            "Non-trainable params: 0\n",
            "_________________________________________________________________\n"
          ]
        }
      ],
      "source": [
        "keras.backend.clear_session()\n",
        "\n",
        "max_length = 100\n",
        "embedding_dim = 100\n",
        "number_of_classes = 6\n",
        "\n",
        "inputs=Input(shape=(max_length,), name='input')\n",
        "x=Embedding(max_words,embedding_dim)(inputs)\n",
        "att_in=Bidirectional(LSTM(256,return_sequences=True,dropout=0.3,recurrent_dropout=0.2))(x)\n",
        "att_out=attention()(att_in)\n",
        "outputs=Dense(6,activation='softmax',trainable=True, name=\"Dense_layer\")(att_out)\n",
        "model=Model(inputs,outputs,name='Text_model')\n",
        "model.summary()"
      ]
    },
    {
      "cell_type": "code",
      "execution_count": null,
      "metadata": {
        "id": "2dMynN91DFo5"
      },
      "outputs": [],
      "source": [
        "model.compile(optimizer = Adam(learning_rate=3e-3),\n",
        "                      loss = 'sparse_categorical_crossentropy',\n",
        "                      metrics =['accuracy'])"
      ]
    },
    {
      "cell_type": "code",
      "execution_count": null,
      "metadata": {
        "colab": {
          "base_uri": "https://localhost:8080/"
        },
        "id": "lusBvqdtDl8J",
        "outputId": "9c81a45e-20ec-41a1-9e61-fc7ef17eec89"
      },
      "outputs": [
        {
          "name": "stdout",
          "output_type": "stream",
          "text": [
            "Epoch 1/10\n",
            "148/148 [==============================] - ETA: 0s - loss: 1.0937 - accuracy: 0.6036\n",
            "Epoch 1: val_accuracy improved from -inf to 0.70095, saving model to /content/drive/MyDrive/New folder/Model/bilstmAttention.h5\n",
            "148/148 [==============================] - 128s 839ms/step - loss: 1.0937 - accuracy: 0.6036 - val_loss: 0.7622 - val_accuracy: 0.7010\n",
            "Epoch 2/10\n",
            "148/148 [==============================] - ETA: 0s - loss: 0.5461 - accuracy: 0.8052\n",
            "Epoch 2: val_accuracy improved from 0.70095 to 0.78857, saving model to /content/drive/MyDrive/New folder/Model/bilstmAttention.h5\n",
            "148/148 [==============================] - 122s 827ms/step - loss: 0.5461 - accuracy: 0.8052 - val_loss: 0.5807 - val_accuracy: 0.7886\n",
            "Epoch 3/10\n",
            "148/148 [==============================] - ETA: 0s - loss: 0.2761 - accuracy: 0.9144\n",
            "Epoch 3: val_accuracy improved from 0.78857 to 0.90286, saving model to /content/drive/MyDrive/New folder/Model/bilstmAttention.h5\n",
            "148/148 [==============================] - 133s 901ms/step - loss: 0.2761 - accuracy: 0.9144 - val_loss: 0.3717 - val_accuracy: 0.9029\n",
            "Epoch 4/10\n",
            "148/148 [==============================] - ETA: 0s - loss: 0.1177 - accuracy: 0.9625\n",
            "Epoch 4: val_accuracy did not improve from 0.90286\n",
            "148/148 [==============================] - 122s 821ms/step - loss: 0.1177 - accuracy: 0.9625 - val_loss: 0.4531 - val_accuracy: 0.8667\n",
            "Epoch 5/10\n",
            "148/148 [==============================] - ETA: 0s - loss: 0.0594 - accuracy: 0.9822\n",
            "Epoch 5: val_accuracy did not improve from 0.90286\n",
            "148/148 [==============================] - 122s 827ms/step - loss: 0.0594 - accuracy: 0.9822 - val_loss: 0.3599 - val_accuracy: 0.8971\n",
            "Epoch 6/10\n",
            "148/148 [==============================] - ETA: 0s - loss: 0.0339 - accuracy: 0.9917\n",
            "Epoch 6: val_accuracy did not improve from 0.90286\n",
            "148/148 [==============================] - 121s 815ms/step - loss: 0.0339 - accuracy: 0.9917 - val_loss: 0.4284 - val_accuracy: 0.8800\n",
            "Epoch 7/10\n",
            "148/148 [==============================] - ETA: 0s - loss: 0.0221 - accuracy: 0.9947\n",
            "Epoch 7: val_accuracy did not improve from 0.90286\n",
            "148/148 [==============================] - 122s 823ms/step - loss: 0.0221 - accuracy: 0.9947 - val_loss: 0.4032 - val_accuracy: 0.8952\n",
            "Epoch 8/10\n",
            "148/148 [==============================] - ETA: 0s - loss: 0.0124 - accuracy: 0.9972\n",
            "Epoch 8: val_accuracy did not improve from 0.90286\n",
            "148/148 [==============================] - 120s 809ms/step - loss: 0.0124 - accuracy: 0.9972 - val_loss: 0.4745 - val_accuracy: 0.8952\n",
            "Epoch 9/10\n",
            "148/148 [==============================] - ETA: 0s - loss: 0.0117 - accuracy: 0.9970\n",
            "Epoch 9: val_accuracy did not improve from 0.90286\n",
            "148/148 [==============================] - 121s 820ms/step - loss: 0.0117 - accuracy: 0.9970 - val_loss: 0.5396 - val_accuracy: 0.8838\n",
            "Epoch 10/10\n",
            "148/148 [==============================] - ETA: 0s - loss: 0.0180 - accuracy: 0.9956\n",
            "Epoch 10: val_accuracy did not improve from 0.90286\n",
            "148/148 [==============================] - 121s 818ms/step - loss: 0.0180 - accuracy: 0.9956 - val_loss: 0.4613 - val_accuracy: 0.8990\n",
            "CPU times: user 31min 17s, sys: 3min 40s, total: 34min 57s\n",
            "Wall time: 21min 25s\n"
          ]
        }
      ],
      "source": [
        "%%time\n",
        "history = model.fit(train_corpus,\n",
        "                              train_data['enc_label'],\n",
        "                              epochs = 10,\n",
        "                              batch_size = 32,\n",
        "                              callbacks=checkpoint_fn('bilstmAttention'),\n",
        "                              validation_split = 0.1)"
      ]
    },
    {
      "cell_type": "code",
      "execution_count": null,
      "metadata": {
        "id": "4WR9CTd1Acp7"
      },
      "outputs": [],
      "source": [
        "# from keras.models import load_model\n",
        "# saved_model = load_model('/content/drive/MyDrive/New folder/Model/bilstmAttention.h5')"
      ]
    },
    {
      "cell_type": "code",
      "execution_count": null,
      "metadata": {
        "colab": {
          "base_uri": "https://localhost:8080/"
        },
        "id": "mUsJw3-eJ4_q",
        "outputId": "320793af-ebf4-449d-aadb-8de8e1532382"
      },
      "outputs": [
        {
          "name": "stdout",
          "output_type": "stream",
          "text": [
            "19/19 [==============================] - 2s 63ms/step\n"
          ]
        }
      ],
      "source": [
        "y_pred = np.argmax(model.predict(test_corpus), axis=-1)"
      ]
    },
    {
      "cell_type": "code",
      "execution_count": null,
      "metadata": {
        "colab": {
          "base_uri": "https://localhost:8080/"
        },
        "id": "URWUEl-EKAhS",
        "outputId": "359c3c56-4f8a-41cb-ec14-b6a0e731387c"
      },
      "outputs": [
        {
          "name": "stdout",
          "output_type": "stream",
          "text": [
            "              precision    recall  f1-score   support\n",
            "\n",
            "           0       0.96      0.97      0.96       291\n",
            "           1       0.84      0.83      0.84       144\n",
            "           2       0.73      0.73      0.73        55\n",
            "           3       0.66      0.81      0.73        36\n",
            "           4       0.81      0.68      0.74        37\n",
            "           5       0.86      0.86      0.86        21\n",
            "\n",
            "    accuracy                           0.88       584\n",
            "   macro avg       0.81      0.81      0.81       584\n",
            "weighted avg       0.88      0.88      0.88       584\n",
            "\n"
          ]
        }
      ],
      "source": [
        "print(classification_report(test_data['enc_label'],y_pred))"
      ]
    },
    {
      "cell_type": "markdown",
      "metadata": {
        "id": "aCQM1UHmqHe0"
      },
      "source": [
        "# Bert-Embedding"
      ]
    },
    {
      "cell_type": "code",
      "execution_count": null,
      "metadata": {
        "id": "mG9fwoQnKf3q",
        "colab": {
          "base_uri": "https://localhost:8080/"
        },
        "outputId": "4b32b2b4-ca16-4c3c-fbf8-47106915ed09"
      },
      "outputs": [
        {
          "output_type": "stream",
          "name": "stdout",
          "text": [
            "Looking in indexes: https://pypi.org/simple, https://us-python.pkg.dev/colab-wheels/public/simple/\n",
            "Collecting transformers\n",
            "  Downloading transformers-4.26.1-py3-none-any.whl (6.3 MB)\n",
            "\u001b[2K     \u001b[90m━━━━━━━━━━━━━━━━━━━━━━━━━━━━━━━━━━━━━━━━\u001b[0m \u001b[32m6.3/6.3 MB\u001b[0m \u001b[31m57.5 MB/s\u001b[0m eta \u001b[36m0:00:00\u001b[0m\n",
            "\u001b[?25hRequirement already satisfied: tqdm>=4.27 in /usr/local/lib/python3.8/dist-packages (from transformers) (4.64.1)\n",
            "Collecting huggingface-hub<1.0,>=0.11.0\n",
            "  Downloading huggingface_hub-0.12.1-py3-none-any.whl (190 kB)\n",
            "\u001b[2K     \u001b[90m━━━━━━━━━━━━━━━━━━━━━━━━━━━━━━━━━━━━━━\u001b[0m \u001b[32m190.3/190.3 KB\u001b[0m \u001b[31m19.0 MB/s\u001b[0m eta \u001b[36m0:00:00\u001b[0m\n",
            "\u001b[?25hRequirement already satisfied: requests in /usr/local/lib/python3.8/dist-packages (from transformers) (2.25.1)\n",
            "Requirement already satisfied: packaging>=20.0 in /usr/local/lib/python3.8/dist-packages (from transformers) (23.0)\n",
            "Requirement already satisfied: pyyaml>=5.1 in /usr/local/lib/python3.8/dist-packages (from transformers) (6.0)\n",
            "Collecting tokenizers!=0.11.3,<0.14,>=0.11.1\n",
            "  Downloading tokenizers-0.13.2-cp38-cp38-manylinux_2_17_x86_64.manylinux2014_x86_64.whl (7.6 MB)\n",
            "\u001b[2K     \u001b[90m━━━━━━━━━━━━━━━━━━━━━━━━━━━━━━━━━━━━━━━━\u001b[0m \u001b[32m7.6/7.6 MB\u001b[0m \u001b[31m47.8 MB/s\u001b[0m eta \u001b[36m0:00:00\u001b[0m\n",
            "\u001b[?25hRequirement already satisfied: regex!=2019.12.17 in /usr/local/lib/python3.8/dist-packages (from transformers) (2022.6.2)\n",
            "Requirement already satisfied: numpy>=1.17 in /usr/local/lib/python3.8/dist-packages (from transformers) (1.22.4)\n",
            "Requirement already satisfied: filelock in /usr/local/lib/python3.8/dist-packages (from transformers) (3.9.0)\n",
            "Requirement already satisfied: typing-extensions>=3.7.4.3 in /usr/local/lib/python3.8/dist-packages (from huggingface-hub<1.0,>=0.11.0->transformers) (4.5.0)\n",
            "Requirement already satisfied: certifi>=2017.4.17 in /usr/local/lib/python3.8/dist-packages (from requests->transformers) (2022.12.7)\n",
            "Requirement already satisfied: urllib3<1.27,>=1.21.1 in /usr/local/lib/python3.8/dist-packages (from requests->transformers) (1.26.14)\n",
            "Requirement already satisfied: idna<3,>=2.5 in /usr/local/lib/python3.8/dist-packages (from requests->transformers) (2.10)\n",
            "Requirement already satisfied: chardet<5,>=3.0.2 in /usr/local/lib/python3.8/dist-packages (from requests->transformers) (4.0.0)\n",
            "Installing collected packages: tokenizers, huggingface-hub, transformers\n",
            "Successfully installed huggingface-hub-0.12.1 tokenizers-0.13.2 transformers-4.26.1\n"
          ]
        }
      ],
      "source": [
        "!pip install transformers"
      ]
    },
    {
      "cell_type": "code",
      "execution_count": null,
      "metadata": {
        "id": "HV4TMcQjKymx"
      },
      "outputs": [],
      "source": [
        "############################## Sentence Encoding for Transformers\n",
        "\n",
        "def bert_encode(data,maximum_length,tokenizer) :\n",
        "  input_ids = []\n",
        "  attention_masks = []\n",
        "\n",
        "\n",
        "  for i in range(len(data.clean_Text)):\n",
        "      encoded = tokenizer.encode_plus(\n",
        "\n",
        "        data.clean_Text[i],\n",
        "        add_special_tokens=True,\n",
        "        max_length=maximum_length,\n",
        "        pad_to_max_length=True,\n",
        "        truncation=True,\n",
        "        return_attention_mask=True,\n",
        "        # return_tensors='pt'\n",
        "\n",
        "      )\n",
        "\n",
        "      input_ids.append(encoded['input_ids'])\n",
        "      attention_masks.append(encoded['attention_mask'])\n",
        "  return np.array(input_ids),np.array(attention_masks)"
      ]
    },
    {
      "cell_type": "code",
      "execution_count": null,
      "metadata": {
        "id": "1EKBdUOsLTSt"
      },
      "outputs": [],
      "source": [
        "#######################################             Model Defination\n",
        "\n",
        "#  output[0:, :, :] ----> word embeddings\n",
        "#  output[:, 0, :]  ----> Sentence Embedding\n",
        "\n",
        "\n",
        "def create_model(bert_model,max_len):\n",
        "  input_ids = Input(shape=(max_len,),dtype='int32')\n",
        "  attention_masks = Input(shape=(max_len,),dtype='int32')\n",
        "  output = bert_model([input_ids,attention_masks])\n",
        "  output = output[0]\n",
        "  # last_hidden_state, pooler_output = output[0]                            ## 0 for distillbert\n",
        "  #output = Dense(32,activation='relu')(output[:, 0, :])\n",
        "  #output = Dropout(0.1)(output)\n",
        "\n",
        "  output1 = Dense(6,activation='softmax')(output[:, 0, :])\n",
        "  model = Model(inputs = [input_ids,attention_masks],outputs = output1)\n",
        "  return model"
      ]
    },
    {
      "cell_type": "markdown",
      "metadata": {
        "id": "r9a4Duzbq8dm"
      },
      "source": [
        "# multilingual-bert"
      ]
    },
    {
      "cell_type": "code",
      "execution_count": null,
      "metadata": {
        "id": "j4b23l5yksq9",
        "colab": {
          "base_uri": "https://localhost:8080/",
          "height": 113,
          "referenced_widgets": [
            "21a5abb464ae40aa900dc35d231bf15e",
            "ac39a067d77c47e6893bbe4de7862321",
            "1d96b1ee2208411e9e8484d6aeafcbf2",
            "6e7c39e47c7c41d2959e23d3353be4b1",
            "bdaf6016eef64610aa1564b5772c4e1b",
            "014ac49af5af4f66a769f376accd86fa",
            "d2e2f1d6559c4a75b0bfb1cb23345d7d",
            "551a75596ec34daf8709f11f610f88a2",
            "448703a04390479884a1cbb0b364f17d",
            "169a31fdcc56455487395f1c53805757",
            "e078705ee08c47a694dd953b60716b00",
            "da3a2fb2b1b14a3c98bbaa8049807dc6",
            "33c4e3d573b042e995f13dbe048a32a9",
            "2c155768b0a54048b954f09492d0d558",
            "e53ab3f5cacf4deda2e6f3850644b907",
            "e99c2b0eae72404d83e9a10444fb4e54",
            "dd0313ec8b3c42e48979ffb398139a63",
            "20e02bb4178b4c6889ee659a4204e6a5",
            "947c86db1f9c4bd4bf21c9077b623a79",
            "e71be7f1187c499fa223ec92f438b737",
            "e4f03b6b7afe432db893b88173e969a0",
            "e4ceed8f93234e528fd5c65b2cbdc121",
            "afe3722992d34b5497904df5699c4e3d",
            "1b57f4e36a364be0849f18cd88c27978",
            "0fd62429ebcf4c30a9bdff669abc3ce1",
            "639ade03c0f74c2f8bf4dd3b554731d4",
            "4ea35ac8b6434c4b9351266d11dfe64a",
            "9c19619aa9bd4b41b746ed8d4750c9ed",
            "4e9b2d26a25e42ddb53e33164239c02c",
            "0f26e8f3de174661968e69291e235cb7",
            "23aef432210e4decaa892b04e3c73a7a",
            "a6a7bf215a36481ca6e7ae71b726deda",
            "b08901c7f67b4cdebcbbeb42f237fea5"
          ]
        },
        "outputId": "6f32aed3-1718-422a-f842-6312b9101024"
      },
      "outputs": [
        {
          "output_type": "display_data",
          "data": {
            "text/plain": [
              "Downloading (…)solve/main/vocab.txt:   0%|          | 0.00/996k [00:00<?, ?B/s]"
            ],
            "application/vnd.jupyter.widget-view+json": {
              "version_major": 2,
              "version_minor": 0,
              "model_id": "21a5abb464ae40aa900dc35d231bf15e"
            }
          },
          "metadata": {}
        },
        {
          "output_type": "display_data",
          "data": {
            "text/plain": [
              "Downloading (…)okenizer_config.json:   0%|          | 0.00/29.0 [00:00<?, ?B/s]"
            ],
            "application/vnd.jupyter.widget-view+json": {
              "version_major": 2,
              "version_minor": 0,
              "model_id": "da3a2fb2b1b14a3c98bbaa8049807dc6"
            }
          },
          "metadata": {}
        },
        {
          "output_type": "display_data",
          "data": {
            "text/plain": [
              "Downloading (…)lve/main/config.json:   0%|          | 0.00/625 [00:00<?, ?B/s]"
            ],
            "application/vnd.jupyter.widget-view+json": {
              "version_major": 2,
              "version_minor": 0,
              "model_id": "afe3722992d34b5497904df5699c4e3d"
            }
          },
          "metadata": {}
        }
      ],
      "source": [
        "from transformers import BertTokenizer\n",
        "tokenizer = BertTokenizer.from_pretrained('bert-base-multilingual-cased')"
      ]
    },
    {
      "cell_type": "code",
      "source": [
        "vocab_size = tokenizer.vocab_size\n",
        "\n",
        "print(\"Vocabulary size:\", vocab_size)"
      ],
      "metadata": {
        "colab": {
          "base_uri": "https://localhost:8080/"
        },
        "id": "6Z1z7MOniUh6",
        "outputId": "19da10ed-6b28-453a-90c3-ad03ec145fb9"
      },
      "execution_count": null,
      "outputs": [
        {
          "output_type": "stream",
          "name": "stdout",
          "text": [
            "Vocabulary size: 119547\n"
          ]
        }
      ]
    },
    {
      "cell_type": "code",
      "execution_count": null,
      "metadata": {
        "colab": {
          "base_uri": "https://localhost:8080/",
          "height": 200
        },
        "id": "_ARPbPtfksq-",
        "outputId": "1cefcb29-d19c-4cec-9bbd-d55b7a722d72"
      },
      "outputs": [
        {
          "output_type": "error",
          "ename": "NameError",
          "evalue": "ignored",
          "traceback": [
            "\u001b[0;31m---------------------------------------------------------------------------\u001b[0m",
            "\u001b[0;31mNameError\u001b[0m                                 Traceback (most recent call last)",
            "\u001b[0;32m<ipython-input-7-949724bbf7dc>\u001b[0m in \u001b[0;36m<module>\u001b[0;34m\u001b[0m\n\u001b[0;32m----> 1\u001b[0;31m \u001b[0mtrain_input_ids\u001b[0m\u001b[0;34m,\u001b[0m\u001b[0mtrain_attention_masks\u001b[0m \u001b[0;34m=\u001b[0m \u001b[0mbert_encode\u001b[0m\u001b[0;34m(\u001b[0m\u001b[0mtrain_data\u001b[0m\u001b[0;34m,\u001b[0m\u001b[0;36m100\u001b[0m\u001b[0;34m,\u001b[0m\u001b[0mtokenizer\u001b[0m\u001b[0;34m)\u001b[0m\u001b[0;34m\u001b[0m\u001b[0;34m\u001b[0m\u001b[0m\n\u001b[0m\u001b[1;32m      2\u001b[0m \u001b[0;31m# valid_input_ids,valid_attention_masks = bert_encode(valid_data,50,tokenizer)\u001b[0m\u001b[0;34m\u001b[0m\u001b[0;34m\u001b[0m\u001b[0;34m\u001b[0m\u001b[0m\n\u001b[1;32m      3\u001b[0m \u001b[0mtest_input_ids\u001b[0m\u001b[0;34m,\u001b[0m\u001b[0mtest_attention_masks\u001b[0m \u001b[0;34m=\u001b[0m \u001b[0mbert_encode\u001b[0m\u001b[0;34m(\u001b[0m\u001b[0mtest_data\u001b[0m\u001b[0;34m,\u001b[0m\u001b[0;36m100\u001b[0m\u001b[0;34m,\u001b[0m\u001b[0mtokenizer\u001b[0m\u001b[0;34m)\u001b[0m\u001b[0;34m\u001b[0m\u001b[0;34m\u001b[0m\u001b[0m\n",
            "\u001b[0;31mNameError\u001b[0m: name 'train_data' is not defined"
          ]
        }
      ],
      "source": [
        "train_input_ids,train_attention_masks = bert_encode(train_data,100,tokenizer)\n",
        "# valid_input_ids,valid_attention_masks = bert_encode(valid_data,50,tokenizer)\n",
        "test_input_ids,test_attention_masks = bert_encode(test_data,100,tokenizer)"
      ]
    },
    {
      "cell_type": "code",
      "execution_count": null,
      "metadata": {
        "colab": {
          "base_uri": "https://localhost:8080/",
          "height": 156,
          "referenced_widgets": [
            "823692dc71b34a6eb4ba78b0b4885108",
            "429f98ee4ad14ef8927afb34cdd788c2",
            "f2a2ca59c01c481b95fdd0fe5fb394b8",
            "2da84cee9b1444e3880cda37f53791b8",
            "0f60ada67786456dad8c8e28cea54d62",
            "35dcdacf202748c38c7e88a294bd41df",
            "56b08b70e73643158575b4ef9a38ee0b",
            "e0da4aba86ce401c960d5d5e535e93a9",
            "42cdbe34812043afa5b2f039e381b616",
            "4238383b76564ee7b1b00ac08df79cf4",
            "77508b335e134775b051e72caa9ea4e6"
          ]
        },
        "id": "Z2A1mjk0ksq_",
        "outputId": "c16a62b8-2866-410a-8c10-1d7f9ebe4124"
      },
      "outputs": [
        {
          "output_type": "display_data",
          "data": {
            "text/plain": [
              "Downloading (…)\"tf_model.h5\";:   0%|          | 0.00/1.08G [00:00<?, ?B/s]"
            ],
            "application/vnd.jupyter.widget-view+json": {
              "version_major": 2,
              "version_minor": 0,
              "model_id": "823692dc71b34a6eb4ba78b0b4885108"
            }
          },
          "metadata": {}
        },
        {
          "output_type": "stream",
          "name": "stderr",
          "text": [
            "Some layers from the model checkpoint at bert-base-multilingual-cased were not used when initializing TFBertModel: ['nsp___cls', 'mlm___cls']\n",
            "- This IS expected if you are initializing TFBertModel from the checkpoint of a model trained on another task or with another architecture (e.g. initializing a BertForSequenceClassification model from a BertForPreTraining model).\n",
            "- This IS NOT expected if you are initializing TFBertModel from the checkpoint of a model that you expect to be exactly identical (initializing a BertForSequenceClassification model from a BertForSequenceClassification model).\n",
            "All the layers of TFBertModel were initialized from the model checkpoint at bert-base-multilingual-cased.\n",
            "If your task is similar to the task the model of the checkpoint was trained on, you can already use TFBertModel for predictions without further training.\n"
          ]
        }
      ],
      "source": [
        "from transformers import TFBertModel\n",
        "bert_model = TFBertModel.from_pretrained('bert-base-multilingual-cased')"
      ]
    },
    {
      "cell_type": "code",
      "source": [
        "with open(\"vocab.txt\", \"r\", encoding=\"utf-8\") as f:\n",
        "    vocab_list = f.read().splitlines()\n",
        "\n",
        "print(\"Vocabulary size:\", len(vocab_list))"
      ],
      "metadata": {
        "colab": {
          "base_uri": "https://localhost:8080/",
          "height": 218
        },
        "id": "N3_g1tgaiveg",
        "outputId": "62e15ce8-be73-477b-8278-c849182d6036"
      },
      "execution_count": null,
      "outputs": [
        {
          "output_type": "error",
          "ename": "FileNotFoundError",
          "evalue": "ignored",
          "traceback": [
            "\u001b[0;31m---------------------------------------------------------------------------\u001b[0m",
            "\u001b[0;31mFileNotFoundError\u001b[0m                         Traceback (most recent call last)",
            "\u001b[0;32m<ipython-input-9-e70d0f48be33>\u001b[0m in \u001b[0;36m<module>\u001b[0;34m\u001b[0m\n\u001b[0;32m----> 1\u001b[0;31m \u001b[0;32mwith\u001b[0m \u001b[0mopen\u001b[0m\u001b[0;34m(\u001b[0m\u001b[0;34m\"vocab.txt\"\u001b[0m\u001b[0;34m,\u001b[0m \u001b[0;34m\"r\"\u001b[0m\u001b[0;34m,\u001b[0m \u001b[0mencoding\u001b[0m\u001b[0;34m=\u001b[0m\u001b[0;34m\"utf-8\"\u001b[0m\u001b[0;34m)\u001b[0m \u001b[0;32mas\u001b[0m \u001b[0mf\u001b[0m\u001b[0;34m:\u001b[0m\u001b[0;34m\u001b[0m\u001b[0;34m\u001b[0m\u001b[0m\n\u001b[0m\u001b[1;32m      2\u001b[0m     \u001b[0mvocab_list\u001b[0m \u001b[0;34m=\u001b[0m \u001b[0mf\u001b[0m\u001b[0;34m.\u001b[0m\u001b[0mread\u001b[0m\u001b[0;34m(\u001b[0m\u001b[0;34m)\u001b[0m\u001b[0;34m.\u001b[0m\u001b[0msplitlines\u001b[0m\u001b[0;34m(\u001b[0m\u001b[0;34m)\u001b[0m\u001b[0;34m\u001b[0m\u001b[0;34m\u001b[0m\u001b[0m\n\u001b[1;32m      3\u001b[0m \u001b[0;34m\u001b[0m\u001b[0m\n\u001b[1;32m      4\u001b[0m \u001b[0mprint\u001b[0m\u001b[0;34m(\u001b[0m\u001b[0;34m\"Vocabulary size:\"\u001b[0m\u001b[0;34m,\u001b[0m \u001b[0mlen\u001b[0m\u001b[0;34m(\u001b[0m\u001b[0mvocab_list\u001b[0m\u001b[0;34m)\u001b[0m\u001b[0;34m)\u001b[0m\u001b[0;34m\u001b[0m\u001b[0;34m\u001b[0m\u001b[0m\n",
            "\u001b[0;31mFileNotFoundError\u001b[0m: [Errno 2] No such file or directory: 'vocab.txt'"
          ]
        }
      ]
    },
    {
      "cell_type": "code",
      "execution_count": null,
      "metadata": {
        "id": "GuzGa409ksrA"
      },
      "outputs": [],
      "source": [
        "### Checkpoint\n",
        "filepath = '/content/drive/MyDrive/New folder/Model/bert_model.h5'\n",
        "checkpoint = keras.callbacks.ModelCheckpoint(filepath, monitor='val_accuracy', verbose=2, save_best_only=True,\n",
        "                                             save_weights_only=True, mode='max' )\n"
      ]
    },
    {
      "cell_type": "code",
      "execution_count": null,
      "metadata": {
        "id": "HEoAVMErksrA",
        "colab": {
          "base_uri": "https://localhost:8080/"
        },
        "outputId": "70063784-f294-4be2-e20f-2c53aff660d0"
      },
      "outputs": [
        {
          "output_type": "stream",
          "name": "stdout",
          "text": [
            "Model: \"model\"\n",
            "__________________________________________________________________________________________________\n",
            " Layer (type)                   Output Shape         Param #     Connected to                     \n",
            "==================================================================================================\n",
            " input_1 (InputLayer)           [(None, 100)]        0           []                               \n",
            "                                                                                                  \n",
            " input_2 (InputLayer)           [(None, 100)]        0           []                               \n",
            "                                                                                                  \n",
            " tf_bert_model (TFBertModel)    TFBaseModelOutputWi  177853440   ['input_1[0][0]',                \n",
            "                                thPoolingAndCrossAt               'input_2[0][0]']                \n",
            "                                tentions(last_hidde                                               \n",
            "                                n_state=(None, 100,                                               \n",
            "                                 768),                                                            \n",
            "                                 pooler_output=(Non                                               \n",
            "                                e, 768),                                                          \n",
            "                                 past_key_values=No                                               \n",
            "                                ne, hidden_states=N                                               \n",
            "                                one, attentions=Non                                               \n",
            "                                e, cross_attentions                                               \n",
            "                                =None)                                                            \n",
            "                                                                                                  \n",
            " tf.__operators__.getitem (Slic  (None, 768)         0           ['tf_bert_model[0][0]']          \n",
            " ingOpLambda)                                                                                     \n",
            "                                                                                                  \n",
            " dense (Dense)                  (None, 6)            4614        ['tf.__operators__.getitem[0][0]'\n",
            "                                                                 ]                                \n",
            "                                                                                                  \n",
            "==================================================================================================\n",
            "Total params: 177,858,054\n",
            "Trainable params: 177,858,054\n",
            "Non-trainable params: 0\n",
            "__________________________________________________________________________________________________\n"
          ]
        },
        {
          "output_type": "stream",
          "name": "stderr",
          "text": [
            "/usr/local/lib/python3.8/dist-packages/keras/optimizers/optimizer_v2/adam.py:110: UserWarning: The `lr` argument is deprecated, use `learning_rate` instead.\n",
            "  super(Adam, self).__init__(name, **kwargs)\n"
          ]
        }
      ],
      "source": [
        "keras.backend.clear_session()\n",
        "# 3e-4, 1e-4, 5e-5, 3e-5,1e-5\n",
        "model = create_model(bert_model,100)\n",
        "model.compile(Adam(lr=1e-5), loss='sparse_categorical_crossentropy', metrics=['accuracy'])\n",
        "model.summary()"
      ]
    },
    {
      "cell_type": "code",
      "execution_count": null,
      "metadata": {
        "colab": {
          "base_uri": "https://localhost:8080/"
        },
        "id": "vQ5EMzEEksrB",
        "outputId": "5a018e69-6ea4-4b5f-ba03-964c81b9cea5"
      },
      "outputs": [
        {
          "name": "stdout",
          "output_type": "stream",
          "text": [
            "Epoch 1/6\n"
          ]
        },
        {
          "name": "stderr",
          "output_type": "stream",
          "text": [
            "WARNING:tensorflow:Gradients do not exist for variables ['tf_bert_model/bert/pooler/dense/kernel:0', 'tf_bert_model/bert/pooler/dense/bias:0'] when minimizing the loss. If you're using `model.compile()`, did you forget to provide a `loss`argument?\n",
            "WARNING:tensorflow:Gradients do not exist for variables ['tf_bert_model/bert/pooler/dense/kernel:0', 'tf_bert_model/bert/pooler/dense/bias:0'] when minimizing the loss. If you're using `model.compile()`, did you forget to provide a `loss`argument?\n"
          ]
        },
        {
          "name": "stdout",
          "output_type": "stream",
          "text": [
            "296/296 [==============================] - ETA: 0s - loss: 0.5687 - accuracy: 0.8035\n",
            "Epoch 1: val_accuracy improved from -inf to 0.88190, saving model to /content/drive/MyDrive/New folder/Model/bert_model.h5\n",
            "296/296 [==============================] - 133s 398ms/step - loss: 0.5687 - accuracy: 0.8035 - val_loss: 0.3495 - val_accuracy: 0.8819\n",
            "Epoch 2/6\n",
            "296/296 [==============================] - ETA: 0s - loss: 0.2424 - accuracy: 0.9180\n",
            "Epoch 2: val_accuracy improved from 0.88190 to 0.91619, saving model to /content/drive/MyDrive/New folder/Model/bert_model.h5\n",
            "296/296 [==============================] - 121s 409ms/step - loss: 0.2424 - accuracy: 0.9180 - val_loss: 0.2875 - val_accuracy: 0.9162\n",
            "Epoch 3/6\n",
            "296/296 [==============================] - ETA: 0s - loss: 0.1763 - accuracy: 0.9348\n",
            "Epoch 3: val_accuracy did not improve from 0.91619\n",
            "296/296 [==============================] - 114s 385ms/step - loss: 0.1763 - accuracy: 0.9348 - val_loss: 0.2949 - val_accuracy: 0.8952\n",
            "Epoch 4/6\n",
            "296/296 [==============================] - ETA: 0s - loss: 0.1187 - accuracy: 0.9598\n",
            "Epoch 4: val_accuracy did not improve from 0.91619\n",
            "296/296 [==============================] - 114s 384ms/step - loss: 0.1187 - accuracy: 0.9598 - val_loss: 0.3404 - val_accuracy: 0.8914\n",
            "Epoch 5/6\n",
            "296/296 [==============================] - ETA: 0s - loss: 0.0811 - accuracy: 0.9727\n",
            "Epoch 5: val_accuracy did not improve from 0.91619\n",
            "296/296 [==============================] - 114s 384ms/step - loss: 0.0811 - accuracy: 0.9727 - val_loss: 0.4112 - val_accuracy: 0.8819\n",
            "Epoch 6/6\n",
            "296/296 [==============================] - ETA: 0s - loss: 0.0657 - accuracy: 0.9748\n",
            "Epoch 6: val_accuracy did not improve from 0.91619\n",
            "296/296 [==============================] - 114s 384ms/step - loss: 0.0657 - accuracy: 0.9748 - val_loss: 0.3778 - val_accuracy: 0.9048\n"
          ]
        },
        {
          "data": {
            "text/plain": [
              "<keras.callbacks.History at 0x7f7777645100>"
            ]
          },
          "execution_count": 41,
          "metadata": {},
          "output_type": "execute_result"
        }
      ],
      "source": [
        "model.fit([train_input_ids,train_attention_masks],\n",
        "                    train_data['enc_label'],\n",
        "                    validation_split = 0.1,\n",
        "                    epochs=6,\n",
        "                    batch_size=16,\n",
        "                    callbacks = [checkpoint]\n",
        "                    # class_weight = weight\n",
        "          )"
      ]
    },
    {
      "cell_type": "code",
      "execution_count": null,
      "metadata": {
        "colab": {
          "base_uri": "https://localhost:8080/"
        },
        "id": "FhJL_-etoiBS",
        "outputId": "6af45ae8-4761-47a3-d85d-7976769e750c"
      },
      "outputs": [
        {
          "output_type": "stream",
          "name": "stdout",
          "text": [
            "19/19 [==============================] - 8s 210ms/step\n",
            "              precision    recall  f1-score   support\n",
            "\n",
            "           0       0.96      0.99      0.97       291\n",
            "           1       0.86      0.87      0.86       144\n",
            "           2       0.81      0.69      0.75        55\n",
            "           3       0.72      0.78      0.75        36\n",
            "           4       0.82      0.73      0.77        37\n",
            "           5       0.90      0.90      0.90        21\n",
            "\n",
            "    accuracy                           0.90       584\n",
            "   macro avg       0.84      0.83      0.83       584\n",
            "weighted avg       0.90      0.90      0.90       584\n",
            "\n"
          ]
        }
      ],
      "source": [
        "model = create_model(bert_model,100)\n",
        "# Load the saved model\n",
        "model.load_weights('/content/drive/MyDrive/New folder/Model/bert_model.h5')\n",
        "y_pred = np.argmax(model.predict([test_input_ids,test_attention_masks]), axis=-1)\n",
        "print(classification_report(test_data[\"enc_label\"], y_pred))"
      ]
    },
    {
      "cell_type": "code",
      "source": [
        "f1_score(test_data[\"enc_label\"], y_pred, average='weighted')"
      ],
      "metadata": {
        "colab": {
          "base_uri": "https://localhost:8080/"
        },
        "id": "FaWmtJ67wbh2",
        "outputId": "25b7de25-bd93-4098-d333-7cf9ca662fe8"
      },
      "execution_count": null,
      "outputs": [
        {
          "output_type": "execute_result",
          "data": {
            "text/plain": [
              "0.8957710864038345"
            ]
          },
          "metadata": {},
          "execution_count": 67
        }
      ]
    },
    {
      "cell_type": "markdown",
      "metadata": {
        "id": "NZIB-5v0rEur"
      },
      "source": [
        "## resnet + bert"
      ]
    },
    {
      "cell_type": "code",
      "source": [
        "def create_bert_resnet_model ():\n",
        "  keras.backend.clear_session()\n",
        "  # create the base pre-trained model\n",
        "  resnet = ResNet50(weights='imagenet', include_top=False,input_shape=(100, 100, 3))\n",
        "  for layer in resnet.layers[0:-10]:\n",
        "      layer.trainable = False\n",
        "  # add a global spatial average pooling layer\n",
        "  x = resnet.output\n",
        "  pool = GlobalAveragePooling2D()(x)\n",
        "  # let's add a fully-connected layer\n",
        "  flat = Flatten()(pool)\n",
        "  # and a logistic layer -- let's say we have 200 classes\n",
        "  hidden2 = Dense(200, activation='relu')(flat)\n",
        "  # this is the model we will train\n",
        "  resnet_img_model = Model(inputs=resnet.input, outputs=hidden2)\n",
        "\n",
        "\n",
        "  # Text Model\n",
        "  bert_model = TFBertModel.from_pretrained('bert-base-multilingual-cased')\n",
        "  input_ids = Input(shape=(100,),dtype='int32')\n",
        "  attention_masks = Input(shape=(100,),dtype='int32')\n",
        "  output = bert_model([input_ids,attention_masks])\n",
        "  output = output[0]\n",
        "  # last_hidden_state, pooler_output = output[0]                            ## 0 for distillbert\n",
        "  #output = Dense(32,activation='relu')(output[:, 0, :])\n",
        "  #output = Dropout(0.1)(output)\n",
        "\n",
        "  output1 = Dense(200, activation='relu')(output[:, 0, :])\n",
        "  bert_model = Model(inputs = [input_ids,attention_masks],outputs = output1)\n",
        "\n",
        "  # Concatenating the output of 2 classifiers\n",
        "  con_layer = keras.layers.concatenate([resnet_img_model.output, bert_model.output])\n",
        "  dropout = Dropout(0.2)(con_layer)\n",
        "  final_dense = Dense(100, activation=\"relu\")(dropout)\n",
        "  out = Dense(6,activation='softmax')(final_dense)\n",
        "\n",
        "  #Defining model input and output\n",
        "  com_model = Model(inputs = [resnet_img_model.input, bert_model.input], outputs=out)\n",
        "\n",
        "  return com_model"
      ],
      "metadata": {
        "id": "txkBvfuAgWvo"
      },
      "execution_count": null,
      "outputs": []
    },
    {
      "cell_type": "code",
      "source": [
        "model = create_bert_resnet_model()"
      ],
      "metadata": {
        "colab": {
          "base_uri": "https://localhost:8080/"
        },
        "id": "xlxOglqog84P",
        "outputId": "5f0a3ce9-2ffe-4ab2-fa23-7b2b0dd42c4a"
      },
      "execution_count": null,
      "outputs": [
        {
          "output_type": "stream",
          "name": "stderr",
          "text": [
            "Some layers from the model checkpoint at bert-base-multilingual-cased were not used when initializing TFBertModel: ['mlm___cls', 'nsp___cls']\n",
            "- This IS expected if you are initializing TFBertModel from the checkpoint of a model trained on another task or with another architecture (e.g. initializing a BertForSequenceClassification model from a BertForPreTraining model).\n",
            "- This IS NOT expected if you are initializing TFBertModel from the checkpoint of a model that you expect to be exactly identical (initializing a BertForSequenceClassification model from a BertForSequenceClassification model).\n",
            "All the layers of TFBertModel were initialized from the model checkpoint at bert-base-multilingual-cased.\n",
            "If your task is similar to the task the model of the checkpoint was trained on, you can already use TFBertModel for predictions without further training.\n"
          ]
        }
      ]
    },
    {
      "cell_type": "code",
      "source": [
        "# 3e-4---->  0.76, 1e-4 ---> 0.72, 5e-5 ---> .8987239486293646, 3e-5---> 0.9316320633014693,1e-5---> .9018863525937759"
      ],
      "metadata": {
        "id": "Ee1J49BVjTWY"
      },
      "execution_count": null,
      "outputs": []
    },
    {
      "cell_type": "code",
      "source": [
        "model.compile(loss='sparse_categorical_crossentropy',\n",
        "                      optimizer=Adam(learning_rate=3e-5),\n",
        "                      metrics = [\"accuracy\"])"
      ],
      "metadata": {
        "id": "6G1KDrhLhFjn"
      },
      "execution_count": null,
      "outputs": []
    },
    {
      "cell_type": "code",
      "source": [
        "filepath = f'/content/drive/MyDrive/New folder/Model/bert_resnet.h5'\n",
        "checkpoint = keras.callbacks.ModelCheckpoint(filepath, monitor='val_accuracy', verbose=2, save_best_only=True,\n",
        "                                             save_weights_only=True, mode='max' )"
      ],
      "metadata": {
        "id": "VLqHU0WRhI_-"
      },
      "execution_count": null,
      "outputs": []
    },
    {
      "cell_type": "code",
      "source": [
        "model.fit([train_image,train_input_ids,train_attention_masks],\n",
        "          train_data['enc_label'],\n",
        "          batch_size=16,\n",
        "          epochs=7,\n",
        "          validation_split=0.10,\n",
        "          verbose =1,\n",
        "          callbacks = [checkpoint] )"
      ],
      "metadata": {
        "colab": {
          "base_uri": "https://localhost:8080/"
        },
        "id": "XuyhN32-hNCO",
        "outputId": "4df70d2a-ae1f-4439-b3e0-763acee117d6"
      },
      "execution_count": null,
      "outputs": [
        {
          "output_type": "stream",
          "name": "stdout",
          "text": [
            "Epoch 1/7\n"
          ]
        },
        {
          "output_type": "stream",
          "name": "stderr",
          "text": [
            "WARNING:tensorflow:Gradients do not exist for variables ['tf_bert_model/bert/pooler/dense/kernel:0', 'tf_bert_model/bert/pooler/dense/bias:0'] when minimizing the loss. If you're using `model.compile()`, did you forget to provide a `loss`argument?\n",
            "WARNING:tensorflow:Gradients do not exist for variables ['tf_bert_model/bert/pooler/dense/kernel:0', 'tf_bert_model/bert/pooler/dense/bias:0'] when minimizing the loss. If you're using `model.compile()`, did you forget to provide a `loss`argument?\n"
          ]
        },
        {
          "output_type": "stream",
          "name": "stdout",
          "text": [
            "296/296 [==============================] - ETA: 0s - loss: 0.5584 - accuracy: 0.8111\n",
            "Epoch 1: val_accuracy improved from -inf to 0.90857, saving model to /content/drive/MyDrive/New folder/Model/bert_resnet.h5\n",
            "296/296 [==============================] - 181s 518ms/step - loss: 0.5584 - accuracy: 0.8111 - val_loss: 0.2756 - val_accuracy: 0.9086\n",
            "Epoch 2/7\n",
            "296/296 [==============================] - ETA: 0s - loss: 0.2088 - accuracy: 0.9348\n",
            "Epoch 2: val_accuracy did not improve from 0.90857\n",
            "296/296 [==============================] - 128s 434ms/step - loss: 0.2088 - accuracy: 0.9348 - val_loss: 0.2913 - val_accuracy: 0.9086\n",
            "Epoch 3/7\n",
            "296/296 [==============================] - ETA: 0s - loss: 0.1320 - accuracy: 0.9557\n",
            "Epoch 3: val_accuracy improved from 0.90857 to 0.91238, saving model to /content/drive/MyDrive/New folder/Model/bert_resnet.h5\n",
            "296/296 [==============================] - 136s 459ms/step - loss: 0.1320 - accuracy: 0.9557 - val_loss: 0.2718 - val_accuracy: 0.9124\n",
            "Epoch 4/7\n",
            "296/296 [==============================] - ETA: 0s - loss: 0.0793 - accuracy: 0.9759\n",
            "Epoch 4: val_accuracy improved from 0.91238 to 0.92000, saving model to /content/drive/MyDrive/New folder/Model/bert_resnet.h5\n",
            "296/296 [==============================] - 134s 451ms/step - loss: 0.0793 - accuracy: 0.9759 - val_loss: 0.2943 - val_accuracy: 0.9200\n",
            "Epoch 5/7\n",
            "296/296 [==============================] - ETA: 0s - loss: 0.0637 - accuracy: 0.9807\n",
            "Epoch 5: val_accuracy did not improve from 0.92000\n",
            "296/296 [==============================] - 126s 425ms/step - loss: 0.0637 - accuracy: 0.9807 - val_loss: 0.3387 - val_accuracy: 0.8971\n",
            "Epoch 6/7\n",
            "296/296 [==============================] - ETA: 0s - loss: 0.0800 - accuracy: 0.9729\n",
            "Epoch 6: val_accuracy did not improve from 0.92000\n",
            "296/296 [==============================] - 125s 424ms/step - loss: 0.0800 - accuracy: 0.9729 - val_loss: 0.3341 - val_accuracy: 0.9162\n",
            "Epoch 7/7\n",
            "296/296 [==============================] - ETA: 0s - loss: 0.0258 - accuracy: 0.9932\n",
            "Epoch 7: val_accuracy improved from 0.92000 to 0.92381, saving model to /content/drive/MyDrive/New folder/Model/bert_resnet.h5\n",
            "296/296 [==============================] - 133s 451ms/step - loss: 0.0258 - accuracy: 0.9932 - val_loss: 0.2933 - val_accuracy: 0.9238\n"
          ]
        },
        {
          "output_type": "execute_result",
          "data": {
            "text/plain": [
              "<keras.callbacks.History at 0x7f378e48a4f0>"
            ]
          },
          "metadata": {},
          "execution_count": 23
        }
      ]
    },
    {
      "cell_type": "code",
      "source": [
        "model = create_bert_resnet_model()\n",
        "# Load the saved model\n",
        "model.load_weights('/content/drive/MyDrive/New folder/Model/bert_resnet.h5')\n",
        "y_pred = np.argmax(model.predict([test_image,test_input_ids,test_attention_masks]), axis=-1)\n",
        "print(classification_report(test_data[\"enc_label\"], y_pred))"
      ],
      "metadata": {
        "colab": {
          "base_uri": "https://localhost:8080/"
        },
        "id": "n2rwW5oxnLZo",
        "outputId": "ad1c6c43-1327-429a-a075-2b1b6adc01a7"
      },
      "execution_count": null,
      "outputs": [
        {
          "output_type": "stream",
          "name": "stderr",
          "text": [
            "Some layers from the model checkpoint at bert-base-multilingual-cased were not used when initializing TFBertModel: ['mlm___cls', 'nsp___cls']\n",
            "- This IS expected if you are initializing TFBertModel from the checkpoint of a model trained on another task or with another architecture (e.g. initializing a BertForSequenceClassification model from a BertForPreTraining model).\n",
            "- This IS NOT expected if you are initializing TFBertModel from the checkpoint of a model that you expect to be exactly identical (initializing a BertForSequenceClassification model from a BertForSequenceClassification model).\n",
            "All the layers of TFBertModel were initialized from the model checkpoint at bert-base-multilingual-cased.\n",
            "If your task is similar to the task the model of the checkpoint was trained on, you can already use TFBertModel for predictions without further training.\n"
          ]
        },
        {
          "output_type": "stream",
          "name": "stdout",
          "text": [
            "19/19 [==============================] - 9s 262ms/step\n",
            "              precision    recall  f1-score   support\n",
            "\n",
            "           0       0.99      0.99      0.99       291\n",
            "           1       0.88      0.90      0.89       144\n",
            "           2       0.83      0.82      0.83        55\n",
            "           3       0.82      0.89      0.85        36\n",
            "           4       1.00      0.84      0.91        37\n",
            "           5       0.91      0.95      0.93        21\n",
            "\n",
            "    accuracy                           0.93       584\n",
            "   macro avg       0.90      0.90      0.90       584\n",
            "weighted avg       0.93      0.93      0.93       584\n",
            "\n"
          ]
        }
      ]
    },
    {
      "cell_type": "code",
      "source": [
        "f1_score(test_data[\"enc_label\"], y_pred, average='weighted')"
      ],
      "metadata": {
        "colab": {
          "base_uri": "https://localhost:8080/"
        },
        "id": "MZZD9elqvbrh",
        "outputId": "49ba21d0-5dbb-4761-fef8-d40314660798"
      },
      "execution_count": null,
      "outputs": [
        {
          "output_type": "execute_result",
          "data": {
            "text/plain": [
              "0.9316320633014693"
            ]
          },
          "metadata": {},
          "execution_count": 25
        }
      ]
    },
    {
      "cell_type": "markdown",
      "metadata": {
        "id": "9gNykDA9rGxq"
      },
      "source": [
        "# English-bert"
      ]
    },
    {
      "cell_type": "code",
      "execution_count": null,
      "metadata": {
        "colab": {
          "base_uri": "https://localhost:8080/",
          "height": 113,
          "referenced_widgets": [
            "e505d9ee09f64784a39daded4f42803d",
            "f15270b2ebd547bea1a4816f5921877b",
            "45f06950d738483cb63d9a6dba27307a",
            "cc572aa7506e42ab8470537dfe3aae0a",
            "a7071b9119b94d378223abb88688f7b7",
            "61bd19f9065c4a2ca3d4b50790aa88ac",
            "32600d8468c5497d912f754cfe2c040f",
            "0937f76d8b2049f8bf29c6317011b693",
            "4269512b72cc438782a49c045f1d2340",
            "eca6f9b9dc434e0a92f9bd5d3b79c9fd",
            "c49229da85e2424896a69398b89daabd",
            "decdf8c2112745b1924e1a139433d6e8",
            "4437c248f78f423da833c7d3c68de1a3",
            "6f13b830876549af84ba446b4a0f02b6",
            "66bf42884c054963adb7c8d7fbbb0a73",
            "4a37976df02f440d888e48edbbe7d122",
            "db677aa94076488683c520107cc010ab",
            "d0bdaa24cdcf4f60947f08f09764c234",
            "62490dfd18804035a5c6723d05e24f01",
            "8992de81f5c44b968437ca5a8d1c5f65",
            "0230487e1aaa473fbbf2bd31062af138",
            "54345366d37b4496baca8d8d24a2afb1",
            "5fd42170c0d64e439fecd80e048e1bb8",
            "7f803e5ef9ea4919a74912f0b6a46b2c",
            "9593c7236fca44d8a6577b2e6fd2df8d",
            "c39b1f643a02486ebec920c71309e30e",
            "84465c121d3b44e695244e6d7b0e22f9",
            "1824d6b06b184c6e8144b240ebf21da0",
            "0b559de6b7ac487c831dc6c897b8dc43",
            "f42260de1d51495b9017c1ba9b279a50",
            "37235141ca1b4750aeaf61b0cc0876c9",
            "36ee2c9078ed431996d87d6b34c70757",
            "0c1171e0f75048c9898c3267e30857d6"
          ]
        },
        "id": "yOvhRy76rotq",
        "outputId": "53bfbdc7-55c7-481d-9001-40b9ff0afb39"
      },
      "outputs": [
        {
          "output_type": "display_data",
          "data": {
            "text/plain": [
              "Downloading:   0%|          | 0.00/232k [00:00<?, ?B/s]"
            ],
            "application/vnd.jupyter.widget-view+json": {
              "version_major": 2,
              "version_minor": 0,
              "model_id": "e505d9ee09f64784a39daded4f42803d"
            }
          },
          "metadata": {}
        },
        {
          "output_type": "display_data",
          "data": {
            "text/plain": [
              "Downloading:   0%|          | 0.00/28.0 [00:00<?, ?B/s]"
            ],
            "application/vnd.jupyter.widget-view+json": {
              "version_major": 2,
              "version_minor": 0,
              "model_id": "decdf8c2112745b1924e1a139433d6e8"
            }
          },
          "metadata": {}
        },
        {
          "output_type": "display_data",
          "data": {
            "text/plain": [
              "Downloading:   0%|          | 0.00/570 [00:00<?, ?B/s]"
            ],
            "application/vnd.jupyter.widget-view+json": {
              "version_major": 2,
              "version_minor": 0,
              "model_id": "5fd42170c0d64e439fecd80e048e1bb8"
            }
          },
          "metadata": {}
        }
      ],
      "source": [
        "from transformers import BertTokenizer\n",
        "tokenizer = BertTokenizer.from_pretrained('bert-base-uncased')"
      ]
    },
    {
      "cell_type": "code",
      "execution_count": null,
      "metadata": {
        "colab": {
          "base_uri": "https://localhost:8080/"
        },
        "id": "50TFYdLCrotr",
        "outputId": "55cdde4a-e71e-4f6c-d9b4-f004e72715f9"
      },
      "outputs": [
        {
          "output_type": "stream",
          "name": "stderr",
          "text": [
            "/usr/local/lib/python3.8/dist-packages/transformers/tokenization_utils_base.py:2336: FutureWarning: The `pad_to_max_length` argument is deprecated and will be removed in a future version, use `padding=True` or `padding='longest'` to pad to the longest sequence in the batch, or use `padding='max_length'` to pad to a max length. In this case, you can give a specific length with `max_length` (e.g. `max_length=45`) or leave max_length to None to pad to the maximal input size of the model (e.g. 512 for Bert).\n",
            "  warnings.warn(\n"
          ]
        }
      ],
      "source": [
        "train_input_ids,train_attention_masks = bert_encode(train_data,100,tokenizer)\n",
        "# valid_input_ids,valid_attention_masks = bert_encode(valid_data,50,tokenizer)\n",
        "test_input_ids,test_attention_masks = bert_encode(test_data,100,tokenizer)"
      ]
    },
    {
      "cell_type": "code",
      "execution_count": null,
      "metadata": {
        "colab": {
          "base_uri": "https://localhost:8080/",
          "height": 161,
          "referenced_widgets": [
            "ff10c4a5adcc4fd8ac958f3e07cec4b1",
            "a4b38e79cb4146d9b378034c0de739fd",
            "ef01edfeab17480696506733839a579b",
            "756261c7c7e742cf8c0555515c1d6e80",
            "aae20380842048a1bc0febc2635686cb",
            "fddaef2174e040e5862f1f0106af2b7f",
            "2b2353150a4d43bbaa40da5d62e8e54f",
            "1e014c718e99489bb8feef62f99e579c",
            "b27136d3869942dc8e9333a14daa1176",
            "03b924d7d2c24d80b8dcd0bf5cb1f815",
            "4fde42b2856340349dc2d6774e445feb"
          ]
        },
        "id": "wsPVHvQcrotr",
        "outputId": "82a45a3f-ce10-497d-b497-c50cd53f64ec"
      },
      "outputs": [
        {
          "output_type": "display_data",
          "data": {
            "text/plain": [
              "Downloading:   0%|          | 0.00/536M [00:00<?, ?B/s]"
            ],
            "application/vnd.jupyter.widget-view+json": {
              "version_major": 2,
              "version_minor": 0,
              "model_id": "ff10c4a5adcc4fd8ac958f3e07cec4b1"
            }
          },
          "metadata": {}
        },
        {
          "output_type": "stream",
          "name": "stderr",
          "text": [
            "Some layers from the model checkpoint at bert-base-uncased were not used when initializing TFBertModel: ['mlm___cls', 'nsp___cls']\n",
            "- This IS expected if you are initializing TFBertModel from the checkpoint of a model trained on another task or with another architecture (e.g. initializing a BertForSequenceClassification model from a BertForPreTraining model).\n",
            "- This IS NOT expected if you are initializing TFBertModel from the checkpoint of a model that you expect to be exactly identical (initializing a BertForSequenceClassification model from a BertForSequenceClassification model).\n",
            "All the layers of TFBertModel were initialized from the model checkpoint at bert-base-uncased.\n",
            "If your task is similar to the task the model of the checkpoint was trained on, you can already use TFBertModel for predictions without further training.\n"
          ]
        }
      ],
      "source": [
        "from transformers import TFBertModel\n",
        "bert_model = TFBertModel.from_pretrained('bert-base-uncased')"
      ]
    },
    {
      "cell_type": "code",
      "execution_count": null,
      "metadata": {
        "id": "RlOeRgqQrotr"
      },
      "outputs": [],
      "source": [
        "### Checkpoint\n",
        "filepath = '/content/drive/MyDrive/New folder/Model/bert_eng_model.h5'\n",
        "checkpoint = keras.callbacks.ModelCheckpoint(filepath, monitor='val_accuracy', verbose=2, save_best_only=True,\n",
        "                                             save_weights_only=True, mode='max' )\n"
      ]
    },
    {
      "cell_type": "code",
      "execution_count": null,
      "metadata": {
        "colab": {
          "base_uri": "https://localhost:8080/"
        },
        "id": "1DTc3-Xerots",
        "outputId": "1713207b-bc09-4782-ccd0-eb87c7d6683f"
      },
      "outputs": [
        {
          "name": "stdout",
          "output_type": "stream",
          "text": [
            "Model: \"model\"\n",
            "__________________________________________________________________________________________________\n",
            " Layer (type)                   Output Shape         Param #     Connected to                     \n",
            "==================================================================================================\n",
            " input_1 (InputLayer)           [(None, 100)]        0           []                               \n",
            "                                                                                                  \n",
            " input_2 (InputLayer)           [(None, 100)]        0           []                               \n",
            "                                                                                                  \n",
            " tf_bert_model (TFBertModel)    TFBaseModelOutputWi  109482240   ['input_1[0][0]',                \n",
            "                                thPoolingAndCrossAt               'input_2[0][0]']                \n",
            "                                tentions(last_hidde                                               \n",
            "                                n_state=(None, 100,                                               \n",
            "                                 768),                                                            \n",
            "                                 pooler_output=(Non                                               \n",
            "                                e, 768),                                                          \n",
            "                                 past_key_values=No                                               \n",
            "                                ne, hidden_states=N                                               \n",
            "                                one, attentions=Non                                               \n",
            "                                e, cross_attentions                                               \n",
            "                                =None)                                                            \n",
            "                                                                                                  \n",
            " tf.__operators__.getitem (Slic  (None, 768)         0           ['tf_bert_model[0][0]']          \n",
            " ingOpLambda)                                                                                     \n",
            "                                                                                                  \n",
            " dense (Dense)                  (None, 6)            4614        ['tf.__operators__.getitem[0][0]'\n",
            "                                                                 ]                                \n",
            "                                                                                                  \n",
            "==================================================================================================\n",
            "Total params: 109,486,854\n",
            "Trainable params: 109,486,854\n",
            "Non-trainable params: 0\n",
            "__________________________________________________________________________________________________\n"
          ]
        },
        {
          "name": "stderr",
          "output_type": "stream",
          "text": [
            "/usr/local/lib/python3.8/dist-packages/keras/optimizers/optimizer_v2/adam.py:110: UserWarning: The `lr` argument is deprecated, use `learning_rate` instead.\n",
            "  super(Adam, self).__init__(name, **kwargs)\n"
          ]
        }
      ],
      "source": [
        "keras.backend.clear_session()\n",
        "# 3e-4, 1e-4, 5e-5, 3e-5,1e-5\n",
        "model = create_model(bert_model,100)\n",
        "model.compile(Adam(lr=1e-5), loss='sparse_categorical_crossentropy', metrics=['accuracy'])\n",
        "model.summary()"
      ]
    },
    {
      "cell_type": "code",
      "execution_count": null,
      "metadata": {
        "colab": {
          "base_uri": "https://localhost:8080/"
        },
        "id": "Y4dbxyPSrots",
        "outputId": "a4532b32-aa82-43f5-bad5-b75c22a77f2a"
      },
      "outputs": [
        {
          "name": "stdout",
          "output_type": "stream",
          "text": [
            "Epoch 1/6\n"
          ]
        },
        {
          "name": "stderr",
          "output_type": "stream",
          "text": [
            "WARNING:tensorflow:Gradients do not exist for variables ['tf_bert_model/bert/pooler/dense/kernel:0', 'tf_bert_model/bert/pooler/dense/bias:0'] when minimizing the loss. If you're using `model.compile()`, did you forget to provide a `loss`argument?\n",
            "WARNING:tensorflow:Gradients do not exist for variables ['tf_bert_model/bert/pooler/dense/kernel:0', 'tf_bert_model/bert/pooler/dense/bias:0'] when minimizing the loss. If you're using `model.compile()`, did you forget to provide a `loss`argument?\n"
          ]
        },
        {
          "name": "stdout",
          "output_type": "stream",
          "text": [
            "296/296 [==============================] - ETA: 0s - loss: 0.5891 - accuracy: 0.7999\n",
            "Epoch 1: val_accuracy improved from -inf to 0.89905, saving model to /content/drive/MyDrive/New folder/Model/bert_eng_model.h5\n",
            "296/296 [==============================] - 125s 374ms/step - loss: 0.5891 - accuracy: 0.7999 - val_loss: 0.2929 - val_accuracy: 0.8990\n",
            "Epoch 2/6\n",
            "296/296 [==============================] - ETA: 0s - loss: 0.2365 - accuracy: 0.9174\n",
            "Epoch 2: val_accuracy did not improve from 0.89905\n",
            "296/296 [==============================] - 106s 357ms/step - loss: 0.2365 - accuracy: 0.9174 - val_loss: 0.2674 - val_accuracy: 0.8990\n",
            "Epoch 3/6\n",
            "296/296 [==============================] - ETA: 0s - loss: 0.1671 - accuracy: 0.9416\n",
            "Epoch 3: val_accuracy improved from 0.89905 to 0.91619, saving model to /content/drive/MyDrive/New folder/Model/bert_eng_model.h5\n",
            "296/296 [==============================] - 111s 375ms/step - loss: 0.1671 - accuracy: 0.9416 - val_loss: 0.2806 - val_accuracy: 0.9162\n",
            "Epoch 4/6\n",
            "296/296 [==============================] - ETA: 0s - loss: 0.1189 - accuracy: 0.9568\n",
            "Epoch 4: val_accuracy improved from 0.91619 to 0.92762, saving model to /content/drive/MyDrive/New folder/Model/bert_eng_model.h5\n",
            "296/296 [==============================] - 111s 375ms/step - loss: 0.1189 - accuracy: 0.9568 - val_loss: 0.3193 - val_accuracy: 0.9276\n",
            "Epoch 5/6\n",
            "296/296 [==============================] - ETA: 0s - loss: 0.0855 - accuracy: 0.9720\n",
            "Epoch 5: val_accuracy did not improve from 0.92762\n",
            "296/296 [==============================] - 105s 355ms/step - loss: 0.0855 - accuracy: 0.9720 - val_loss: 0.3772 - val_accuracy: 0.9162\n",
            "Epoch 6/6\n",
            "296/296 [==============================] - ETA: 0s - loss: 0.0567 - accuracy: 0.9822\n",
            "Epoch 6: val_accuracy did not improve from 0.92762\n",
            "296/296 [==============================] - 105s 356ms/step - loss: 0.0567 - accuracy: 0.9822 - val_loss: 0.3327 - val_accuracy: 0.9143\n"
          ]
        },
        {
          "data": {
            "text/plain": [
              "<keras.callbacks.History at 0x7f78e7c90fa0>"
            ]
          },
          "execution_count": 48,
          "metadata": {},
          "output_type": "execute_result"
        }
      ],
      "source": [
        "model.fit([train_input_ids,train_attention_masks],\n",
        "                    train_data['enc_label'],\n",
        "                    validation_split = 0.1,\n",
        "                    epochs=6,\n",
        "                    batch_size=16,\n",
        "                    callbacks = [checkpoint]\n",
        "                    # class_weight = weight\n",
        "          )"
      ]
    },
    {
      "cell_type": "code",
      "execution_count": null,
      "metadata": {
        "colab": {
          "base_uri": "https://localhost:8080/"
        },
        "id": "JX1aG_FBrots",
        "outputId": "46344848-688b-4b3a-ba22-0721a4d56446"
      },
      "outputs": [
        {
          "name": "stdout",
          "output_type": "stream",
          "text": [
            "19/19 [==============================] - 6s 204ms/step\n",
            "              precision    recall  f1-score   support\n",
            "\n",
            "           0       0.97      0.98      0.97       291\n",
            "           1       0.89      0.81      0.85       144\n",
            "           2       0.81      0.71      0.76        55\n",
            "           3       0.56      0.83      0.67        36\n",
            "           4       0.76      0.76      0.76        37\n",
            "           5       0.87      0.95      0.91        21\n",
            "\n",
            "    accuracy                           0.89       584\n",
            "   macro avg       0.81      0.84      0.82       584\n",
            "weighted avg       0.89      0.89      0.89       584\n",
            "\n"
          ]
        }
      ],
      "source": [
        "model = create_model(bert_model,100)\n",
        "# Load the saved model\n",
        "model.load_weights('/content/drive/MyDrive/New folder/Model/bert_eng_model.h5')\n",
        "y_pred = np.argmax(model.predict([test_input_ids,test_attention_masks]), axis=-1)\n",
        "print(classification_report(test_data[\"enc_label\"], y_pred))"
      ]
    },
    {
      "cell_type": "markdown",
      "source": [
        "## eng_bert + resnet"
      ],
      "metadata": {
        "id": "ixPbv0pwtx5m"
      }
    },
    {
      "cell_type": "code",
      "source": [
        "def create_engbert_resnet_model ():\n",
        "  keras.backend.clear_session()\n",
        "  # create the base pre-trained model\n",
        "  resnet = ResNet50(weights='imagenet', include_top=False,input_shape=(100, 100, 3))\n",
        "  for layer in resnet.layers[0:-10]:\n",
        "      layer.trainable = False\n",
        "  # add a global spatial average pooling layer\n",
        "  x = resnet.output\n",
        "  pool = GlobalAveragePooling2D()(x)\n",
        "  # let's add a fully-connected layer\n",
        "  flat = Flatten()(pool)\n",
        "  # and a logistic layer -- let's say we have 200 classes\n",
        "  hidden2 = Dense(200, activation='relu')(flat)\n",
        "  # this is the model we will train\n",
        "  resnet_img_model = Model(inputs=resnet.input, outputs=hidden2)\n",
        "\n",
        "\n",
        "  # Text Model\n",
        "  bert_model = TFBertModel.from_pretrained('bert-base-uncased')\n",
        "  input_ids = Input(shape=(100,),dtype='int32')\n",
        "  attention_masks = Input(shape=(100,),dtype='int32')\n",
        "  output = bert_model([input_ids,attention_masks])\n",
        "  output = output[0]\n",
        "  # last_hidden_state, pooler_output = output[0]                            ## 0 for distillbert\n",
        "  #output = Dense(32,activation='relu')(output[:, 0, :])\n",
        "  #output = Dropout(0.1)(output)\n",
        "\n",
        "  output1 = Dense(200, activation='relu')(output[:, 0, :])\n",
        "  bert_model = Model(inputs = [input_ids,attention_masks],outputs = output1)\n",
        "\n",
        "  # Concatenating the output of 2 classifiers\n",
        "  con_layer = keras.layers.concatenate([resnet_img_model.output, bert_model.output])\n",
        "  dropout = Dropout(0.2)(con_layer)\n",
        "  final_dense = Dense(100, activation=\"relu\")(dropout)\n",
        "  out = Dense(6,activation='softmax')(final_dense)\n",
        "\n",
        "  #Defining model input and output\n",
        "  com_model = Model(inputs = [resnet_img_model.input, bert_model.input], outputs=out)\n",
        "\n",
        "  return com_model"
      ],
      "metadata": {
        "id": "Xv4Xga1RtxLL"
      },
      "execution_count": null,
      "outputs": []
    },
    {
      "cell_type": "code",
      "source": [
        "model = create_engbert_resnet_model()"
      ],
      "metadata": {
        "colab": {
          "base_uri": "https://localhost:8080/"
        },
        "id": "WFxt_pjsuOKr",
        "outputId": "a6ff8e4c-e695-4f4c-8db6-852562bddfaa"
      },
      "execution_count": null,
      "outputs": [
        {
          "output_type": "stream",
          "name": "stderr",
          "text": [
            "Some layers from the model checkpoint at bert-base-uncased were not used when initializing TFBertModel: ['mlm___cls', 'nsp___cls']\n",
            "- This IS expected if you are initializing TFBertModel from the checkpoint of a model trained on another task or with another architecture (e.g. initializing a BertForSequenceClassification model from a BertForPreTraining model).\n",
            "- This IS NOT expected if you are initializing TFBertModel from the checkpoint of a model that you expect to be exactly identical (initializing a BertForSequenceClassification model from a BertForSequenceClassification model).\n",
            "All the layers of TFBertModel were initialized from the model checkpoint at bert-base-uncased.\n",
            "If your task is similar to the task the model of the checkpoint was trained on, you can already use TFBertModel for predictions without further training.\n"
          ]
        }
      ]
    },
    {
      "cell_type": "code",
      "source": [
        "# 3e-4---->  0.76, 1e-4 ---> 0.72, 5e-5 ---> .8987239486293646, 3e-5---> 0.9316320633014693,1e-5---> .9018863525937759"
      ],
      "metadata": {
        "id": "SvhYVbrnyXhZ"
      },
      "execution_count": null,
      "outputs": []
    },
    {
      "cell_type": "code",
      "source": [
        "model.compile(loss='sparse_categorical_crossentropy',\n",
        "                      optimizer=Adam(learning_rate=3e-5),\n",
        "                      metrics = [\"accuracy\"])"
      ],
      "metadata": {
        "id": "tiJlGwmGuX1m"
      },
      "execution_count": null,
      "outputs": []
    },
    {
      "cell_type": "code",
      "source": [
        "filepath = f'/content/drive/MyDrive/New folder/Model/engbert_resnet.h5'\n",
        "checkpoint = keras.callbacks.ModelCheckpoint(filepath, monitor='val_accuracy', verbose=2, save_best_only=True,\n",
        "                                             save_weights_only=True, mode='max' )"
      ],
      "metadata": {
        "id": "0nYN1JFcukta"
      },
      "execution_count": null,
      "outputs": []
    },
    {
      "cell_type": "code",
      "source": [
        "model.fit([train_image,train_input_ids,train_attention_masks],\n",
        "          train_data['enc_label'],\n",
        "          batch_size=16,\n",
        "          epochs=7,\n",
        "          validation_split=0.10,\n",
        "          verbose =1,\n",
        "          callbacks = [checkpoint] )"
      ],
      "metadata": {
        "colab": {
          "base_uri": "https://localhost:8080/"
        },
        "id": "gX-Grfaqusfm",
        "outputId": "21e56197-85ae-452f-f58b-361c6580dc4a"
      },
      "execution_count": null,
      "outputs": [
        {
          "output_type": "stream",
          "name": "stdout",
          "text": [
            "Epoch 1/7\n"
          ]
        },
        {
          "output_type": "stream",
          "name": "stderr",
          "text": [
            "WARNING:tensorflow:Gradients do not exist for variables ['tf_bert_model/bert/pooler/dense/kernel:0', 'tf_bert_model/bert/pooler/dense/bias:0'] when minimizing the loss. If you're using `model.compile()`, did you forget to provide a `loss`argument?\n",
            "WARNING:tensorflow:Gradients do not exist for variables ['tf_bert_model/bert/pooler/dense/kernel:0', 'tf_bert_model/bert/pooler/dense/bias:0'] when minimizing the loss. If you're using `model.compile()`, did you forget to provide a `loss`argument?\n"
          ]
        },
        {
          "output_type": "stream",
          "name": "stdout",
          "text": [
            "296/296 [==============================] - ETA: 0s - loss: 0.5076 - accuracy: 0.8266\n",
            "Epoch 1: val_accuracy improved from -inf to 0.89714, saving model to /content/drive/MyDrive/New folder/Model/engbert_resnet.h5\n",
            "296/296 [==============================] - 149s 417ms/step - loss: 0.5076 - accuracy: 0.8266 - val_loss: 0.2673 - val_accuracy: 0.8971\n",
            "Epoch 2/7\n",
            "296/296 [==============================] - ETA: 0s - loss: 0.1752 - accuracy: 0.9401\n",
            "Epoch 2: val_accuracy improved from 0.89714 to 0.91429, saving model to /content/drive/MyDrive/New folder/Model/engbert_resnet.h5\n",
            "296/296 [==============================] - 122s 410ms/step - loss: 0.1752 - accuracy: 0.9401 - val_loss: 0.2768 - val_accuracy: 0.9143\n",
            "Epoch 3/7\n",
            "296/296 [==============================] - ETA: 0s - loss: 0.1017 - accuracy: 0.9651\n",
            "Epoch 3: val_accuracy improved from 0.91429 to 0.92190, saving model to /content/drive/MyDrive/New folder/Model/engbert_resnet.h5\n",
            "296/296 [==============================] - 121s 409ms/step - loss: 0.1017 - accuracy: 0.9651 - val_loss: 0.2866 - val_accuracy: 0.9219\n",
            "Epoch 4/7\n",
            "296/296 [==============================] - ETA: 0s - loss: 0.0650 - accuracy: 0.9809\n",
            "Epoch 4: val_accuracy improved from 0.92190 to 0.92381, saving model to /content/drive/MyDrive/New folder/Model/engbert_resnet.h5\n",
            "296/296 [==============================] - 121s 410ms/step - loss: 0.0650 - accuracy: 0.9809 - val_loss: 0.2899 - val_accuracy: 0.9238\n",
            "Epoch 5/7\n",
            "296/296 [==============================] - ETA: 0s - loss: 0.0359 - accuracy: 0.9884\n",
            "Epoch 5: val_accuracy did not improve from 0.92381\n",
            "296/296 [==============================] - 116s 393ms/step - loss: 0.0359 - accuracy: 0.9884 - val_loss: 0.2999 - val_accuracy: 0.9219\n",
            "Epoch 6/7\n",
            "296/296 [==============================] - ETA: 0s - loss: 0.0161 - accuracy: 0.9956\n",
            "Epoch 6: val_accuracy did not improve from 0.92381\n",
            "296/296 [==============================] - 116s 392ms/step - loss: 0.0161 - accuracy: 0.9956 - val_loss: 0.3444 - val_accuracy: 0.9124\n",
            "Epoch 7/7\n",
            "296/296 [==============================] - ETA: 0s - loss: 0.0076 - accuracy: 0.9985\n",
            "Epoch 7: val_accuracy did not improve from 0.92381\n",
            "296/296 [==============================] - 116s 392ms/step - loss: 0.0076 - accuracy: 0.9985 - val_loss: 0.5010 - val_accuracy: 0.8857\n"
          ]
        },
        {
          "output_type": "execute_result",
          "data": {
            "text/plain": [
              "<keras.callbacks.History at 0x7f386db0fb50>"
            ]
          },
          "metadata": {},
          "execution_count": 34
        }
      ]
    },
    {
      "cell_type": "code",
      "source": [
        "model = create_engbert_resnet_model()\n",
        "# Load the saved model\n",
        "model.load_weights('/content/drive/MyDrive/New folder/Model/engbert_resnet.h5')\n",
        "y_pred = np.argmax(model.predict([test_image,test_input_ids,test_attention_masks]), axis=-1)\n",
        "print(classification_report(test_data[\"enc_label\"], y_pred))"
      ],
      "metadata": {
        "colab": {
          "base_uri": "https://localhost:8080/"
        },
        "id": "hAidFpI_ys4V",
        "outputId": "a5db9223-8a04-4325-9282-955d0cb8855c"
      },
      "execution_count": null,
      "outputs": [
        {
          "output_type": "stream",
          "name": "stderr",
          "text": [
            "Some layers from the model checkpoint at bert-base-uncased were not used when initializing TFBertModel: ['mlm___cls', 'nsp___cls']\n",
            "- This IS expected if you are initializing TFBertModel from the checkpoint of a model trained on another task or with another architecture (e.g. initializing a BertForSequenceClassification model from a BertForPreTraining model).\n",
            "- This IS NOT expected if you are initializing TFBertModel from the checkpoint of a model that you expect to be exactly identical (initializing a BertForSequenceClassification model from a BertForSequenceClassification model).\n",
            "All the layers of TFBertModel were initialized from the model checkpoint at bert-base-uncased.\n",
            "If your task is similar to the task the model of the checkpoint was trained on, you can already use TFBertModel for predictions without further training.\n"
          ]
        },
        {
          "output_type": "stream",
          "name": "stdout",
          "text": [
            "19/19 [==============================] - 8s 253ms/step\n",
            "              precision    recall  f1-score   support\n",
            "\n",
            "           0       0.97      0.98      0.98       291\n",
            "           1       0.89      0.87      0.88       144\n",
            "           2       0.86      0.76      0.81        55\n",
            "           3       0.72      0.86      0.78        36\n",
            "           4       0.89      0.89      0.89        37\n",
            "           5       0.95      0.90      0.93        21\n",
            "\n",
            "    accuracy                           0.92       584\n",
            "   macro avg       0.88      0.88      0.88       584\n",
            "weighted avg       0.92      0.92      0.92       584\n",
            "\n"
          ]
        }
      ]
    },
    {
      "cell_type": "code",
      "source": [
        "f1_score(test_data[\"enc_label\"], y_pred, average='weighted')"
      ],
      "metadata": {
        "colab": {
          "base_uri": "https://localhost:8080/"
        },
        "id": "tV1hPCUW4Ugk",
        "outputId": "470904c7-ae5b-4155-de91-8d8a96f49e59"
      },
      "execution_count": null,
      "outputs": [
        {
          "output_type": "execute_result",
          "data": {
            "text/plain": [
              "0.9177890050020595"
            ]
          },
          "metadata": {},
          "execution_count": 38
        }
      ]
    },
    {
      "cell_type": "markdown",
      "source": [
        "# Tweet-bert"
      ],
      "metadata": {
        "id": "Wehzlg8W4oQR"
      }
    },
    {
      "cell_type": "code",
      "execution_count": null,
      "metadata": {
        "colab": {
          "base_uri": "https://localhost:8080/"
        },
        "outputId": "95a9c85c-96d6-48b6-ad5b-98f155d37e6c",
        "id": "BS6EGjaw5rHZ"
      },
      "outputs": [
        {
          "output_type": "stream",
          "name": "stderr",
          "text": [
            "emoji is not installed, thus not converting emoticons or emojis into text. Install emoji: pip3 install emoji==0.6.0\n",
            "Special tokens have been added in the vocabulary, make sure the associated word embeddings are fine-tuned or trained.\n"
          ]
        }
      ],
      "source": [
        "\n",
        "from transformers import AutoModel, AutoTokenizer\n",
        "tokenizer = AutoTokenizer.from_pretrained(\"vinai/bertweet-base\", use_fast=False)\n"
      ]
    },
    {
      "cell_type": "code",
      "execution_count": null,
      "metadata": {
        "colab": {
          "base_uri": "https://localhost:8080/"
        },
        "outputId": "988389d2-9757-46a7-ba60-dda671ef2cad",
        "id": "XQsTol5f5rHa"
      },
      "outputs": [
        {
          "output_type": "stream",
          "name": "stderr",
          "text": [
            "/usr/local/lib/python3.8/dist-packages/transformers/tokenization_utils_base.py:2336: FutureWarning: The `pad_to_max_length` argument is deprecated and will be removed in a future version, use `padding=True` or `padding='longest'` to pad to the longest sequence in the batch, or use `padding='max_length'` to pad to a max length. In this case, you can give a specific length with `max_length` (e.g. `max_length=45`) or leave max_length to None to pad to the maximal input size of the model (e.g. 512 for Bert).\n",
            "  warnings.warn(\n"
          ]
        }
      ],
      "source": [
        "train_input_ids,train_attention_masks = bert_encode(train_data,100,tokenizer)\n",
        "# valid_input_ids,valid_attention_masks = bert_encode(valid_data,50,tokenizer)\n",
        "test_input_ids,test_attention_masks = bert_encode(test_data,100,tokenizer)"
      ]
    },
    {
      "cell_type": "code",
      "execution_count": null,
      "metadata": {
        "colab": {
          "base_uri": "https://localhost:8080/"
        },
        "outputId": "410095f8-cb4f-4c68-f404-ceda22112507",
        "id": "9Ri8FYM_5rHa"
      },
      "outputs": [
        {
          "output_type": "stream",
          "name": "stderr",
          "text": [
            "Some layers from the model checkpoint at vinai/bertweet-base were not used when initializing TFRobertaModel: ['lm_head']\n",
            "- This IS expected if you are initializing TFRobertaModel from the checkpoint of a model trained on another task or with another architecture (e.g. initializing a BertForSequenceClassification model from a BertForPreTraining model).\n",
            "- This IS NOT expected if you are initializing TFRobertaModel from the checkpoint of a model that you expect to be exactly identical (initializing a BertForSequenceClassification model from a BertForSequenceClassification model).\n",
            "All the layers of TFRobertaModel were initialized from the model checkpoint at vinai/bertweet-base.\n",
            "If your task is similar to the task the model of the checkpoint was trained on, you can already use TFRobertaModel for predictions without further training.\n"
          ]
        }
      ],
      "source": [
        "\n",
        "from transformers import TFAutoModel\n",
        "bertweet = TFAutoModel.from_pretrained(\"vinai/bertweet-base\")\n",
        "# bertweet = AutoModel.from_pretrained(\"vinai/bertweet-base\")\n",
        "# # bert_model = TFBertModel.from_pretrained('vinai/bertweet-base')"
      ]
    },
    {
      "cell_type": "code",
      "execution_count": null,
      "metadata": {
        "id": "Z9Mudlga5rHa"
      },
      "outputs": [],
      "source": [
        "### Checkpoint\n",
        "filepath = '/content/drive/MyDrive/New folder/Model/bert_tweet_model.h5'\n",
        "checkpoint = keras.callbacks.ModelCheckpoint(filepath, monitor='val_accuracy', verbose=2, save_best_only=True,\n",
        "                                             save_weights_only=True, mode='max' )\n"
      ]
    },
    {
      "cell_type": "code",
      "execution_count": null,
      "metadata": {
        "colab": {
          "base_uri": "https://localhost:8080/"
        },
        "outputId": "e99ba0cc-d100-4ac3-d15a-a75296cdda53",
        "id": "UZATe0RD5rHb"
      },
      "outputs": [
        {
          "output_type": "stream",
          "name": "stdout",
          "text": [
            "Model: \"model\"\n",
            "__________________________________________________________________________________________________\n",
            " Layer (type)                   Output Shape         Param #     Connected to                     \n",
            "==================================================================================================\n",
            " input_1 (InputLayer)           [(None, 100)]        0           []                               \n",
            "                                                                                                  \n",
            " input_2 (InputLayer)           [(None, 100)]        0           []                               \n",
            "                                                                                                  \n",
            " tf_roberta_model (TFRobertaMod  TFBaseModelOutputWi  134899968  ['input_1[0][0]',                \n",
            " el)                            thPoolingAndCrossAt               'input_2[0][0]']                \n",
            "                                tentions(last_hidde                                               \n",
            "                                n_state=(None, 100,                                               \n",
            "                                 768),                                                            \n",
            "                                 pooler_output=(Non                                               \n",
            "                                e, 768),                                                          \n",
            "                                 past_key_values=No                                               \n",
            "                                ne, hidden_states=N                                               \n",
            "                                one, attentions=Non                                               \n",
            "                                e, cross_attentions                                               \n",
            "                                =None)                                                            \n",
            "                                                                                                  \n",
            " tf.__operators__.getitem (Slic  (None, 768)         0           ['tf_roberta_model[2][0]']       \n",
            " ingOpLambda)                                                                                     \n",
            "                                                                                                  \n",
            " dense (Dense)                  (None, 6)            4614        ['tf.__operators__.getitem[0][0]'\n",
            "                                                                 ]                                \n",
            "                                                                                                  \n",
            "==================================================================================================\n",
            "Total params: 134,904,582\n",
            "Trainable params: 134,904,582\n",
            "Non-trainable params: 0\n",
            "__________________________________________________________________________________________________\n"
          ]
        },
        {
          "output_type": "stream",
          "name": "stderr",
          "text": [
            "/usr/local/lib/python3.8/dist-packages/keras/optimizers/optimizer_v2/adam.py:110: UserWarning: The `lr` argument is deprecated, use `learning_rate` instead.\n",
            "  super(Adam, self).__init__(name, **kwargs)\n"
          ]
        }
      ],
      "source": [
        "keras.backend.clear_session()\n",
        "# 3e-4, 1e-4, 5e-5, 3e-5,1e-5\n",
        "model = create_model(bertweet,100)\n",
        "model.compile(Adam(lr=1e-5), loss='sparse_categorical_crossentropy', metrics=['accuracy'])\n",
        "model.summary()"
      ]
    },
    {
      "cell_type": "code",
      "execution_count": null,
      "metadata": {
        "colab": {
          "base_uri": "https://localhost:8080/"
        },
        "outputId": "6098f616-548c-4c8c-fa8c-3da23a334834",
        "id": "OL5CiO7u5rHb"
      },
      "outputs": [
        {
          "output_type": "stream",
          "name": "stdout",
          "text": [
            "Epoch 1/6\n"
          ]
        },
        {
          "output_type": "stream",
          "name": "stderr",
          "text": [
            "WARNING:tensorflow:Gradients do not exist for variables ['tf_roberta_model/roberta/pooler/dense/kernel:0', 'tf_roberta_model/roberta/pooler/dense/bias:0'] when minimizing the loss. If you're using `model.compile()`, did you forget to provide a `loss`argument?\n",
            "WARNING:tensorflow:Gradients do not exist for variables ['tf_roberta_model/roberta/pooler/dense/kernel:0', 'tf_roberta_model/roberta/pooler/dense/bias:0'] when minimizing the loss. If you're using `model.compile()`, did you forget to provide a `loss`argument?\n"
          ]
        },
        {
          "output_type": "stream",
          "name": "stdout",
          "text": [
            "296/296 [==============================] - ETA: 0s - loss: 0.5985 - accuracy: 0.7999\n",
            "Epoch 1: val_accuracy improved from -inf to 0.88381, saving model to /content/drive/MyDrive/New folder/Model/bert_tweet_model.h5\n",
            "296/296 [==============================] - 126s 373ms/step - loss: 0.5985 - accuracy: 0.7999 - val_loss: 0.3268 - val_accuracy: 0.8838\n",
            "Epoch 2/6\n",
            "296/296 [==============================] - ETA: 0s - loss: 0.2504 - accuracy: 0.9195\n",
            "Epoch 2: val_accuracy improved from 0.88381 to 0.89905, saving model to /content/drive/MyDrive/New folder/Model/bert_tweet_model.h5\n",
            "296/296 [==============================] - 111s 375ms/step - loss: 0.2504 - accuracy: 0.9195 - val_loss: 0.2943 - val_accuracy: 0.8990\n",
            "Epoch 3/6\n",
            "296/296 [==============================] - ETA: 0s - loss: 0.1971 - accuracy: 0.9348\n",
            "Epoch 3: val_accuracy improved from 0.89905 to 0.90476, saving model to /content/drive/MyDrive/New folder/Model/bert_tweet_model.h5\n",
            "296/296 [==============================] - 111s 375ms/step - loss: 0.1971 - accuracy: 0.9348 - val_loss: 0.2793 - val_accuracy: 0.9048\n",
            "Epoch 4/6\n",
            "296/296 [==============================] - ETA: 0s - loss: 0.1643 - accuracy: 0.9426\n",
            "Epoch 4: val_accuracy improved from 0.90476 to 0.93333, saving model to /content/drive/MyDrive/New folder/Model/bert_tweet_model.h5\n",
            "296/296 [==============================] - 111s 374ms/step - loss: 0.1643 - accuracy: 0.9426 - val_loss: 0.2656 - val_accuracy: 0.9333\n",
            "Epoch 5/6\n",
            "296/296 [==============================] - ETA: 0s - loss: 0.1264 - accuracy: 0.9570\n",
            "Epoch 5: val_accuracy did not improve from 0.93333\n",
            "296/296 [==============================] - 106s 358ms/step - loss: 0.1264 - accuracy: 0.9570 - val_loss: 0.2645 - val_accuracy: 0.9238\n",
            "Epoch 6/6\n",
            "296/296 [==============================] - ETA: 0s - loss: 0.1136 - accuracy: 0.9625\n",
            "Epoch 6: val_accuracy did not improve from 0.93333\n",
            "296/296 [==============================] - 106s 357ms/step - loss: 0.1136 - accuracy: 0.9625 - val_loss: 0.2737 - val_accuracy: 0.9124\n"
          ]
        },
        {
          "output_type": "execute_result",
          "data": {
            "text/plain": [
              "<keras.callbacks.History at 0x7f3202e23040>"
            ]
          },
          "metadata": {},
          "execution_count": 42
        }
      ],
      "source": [
        "model.fit([train_input_ids,train_attention_masks],\n",
        "                    train_data['enc_label'],\n",
        "                    validation_split = 0.1,\n",
        "                    epochs=6,\n",
        "                    batch_size=16,\n",
        "                    callbacks = [checkpoint]\n",
        "                    # class_weight = weight\n",
        "          )"
      ]
    },
    {
      "cell_type": "code",
      "execution_count": null,
      "metadata": {
        "colab": {
          "base_uri": "https://localhost:8080/"
        },
        "outputId": "f3240a01-a6f7-4363-a11f-607dc00725cb",
        "id": "81faDRFz5rHb"
      },
      "outputs": [
        {
          "output_type": "stream",
          "name": "stdout",
          "text": [
            "19/19 [==============================] - 7s 200ms/step\n",
            "              precision    recall  f1-score   support\n",
            "\n",
            "           0       0.98      0.98      0.98       291\n",
            "           1       0.90      0.85      0.87       144\n",
            "           2       0.77      0.73      0.75        55\n",
            "           3       0.65      0.83      0.73        36\n",
            "           4       0.82      0.84      0.83        37\n",
            "           5       0.91      0.95      0.93        21\n",
            "\n",
            "    accuracy                           0.90       584\n",
            "   macro avg       0.84      0.86      0.85       584\n",
            "weighted avg       0.91      0.90      0.90       584\n",
            "\n"
          ]
        }
      ],
      "source": [
        "model = create_model(bertweet,100)\n",
        "# Load the saved model\n",
        "model.load_weights('/content/drive/MyDrive/New folder/Model/bert_tweet_model.h5')\n",
        "y_pred = np.argmax(model.predict([test_input_ids,test_attention_masks]), axis=-1)\n",
        "print(classification_report(test_data[\"enc_label\"], y_pred))"
      ]
    },
    {
      "cell_type": "markdown",
      "metadata": {
        "id": "a6ejdSiS2IAr"
      },
      "source": [
        "# Multimodal"
      ]
    },
    {
      "cell_type": "code",
      "execution_count": null,
      "metadata": {
        "id": "-WSAiErGkLVu"
      },
      "outputs": [],
      "source": [
        "from keras.layers import concatenate\n",
        "from tensorflow.keras.layers import Concatenate, Dense, Input, LSTM, Embedding, Dropout, Activation, GRU, Flatten"
      ]
    },
    {
      "cell_type": "code",
      "execution_count": null,
      "metadata": {
        "id": "X2FAbp57IG5E"
      },
      "outputs": [],
      "source": [
        "def create_lstm_attention_resnet_model ():\n",
        "  keras.backend.clear_session()\n",
        "  # create the base pre-trained model\n",
        "  resnet = ResNet50(weights='imagenet', include_top=False,input_shape=(100, 100, 3))\n",
        "  for layer in resnet.layers[0:-10]:\n",
        "      layer.trainable = False\n",
        "  # add a global spatial average pooling layer\n",
        "  x = resnet.output\n",
        "  pool = GlobalAveragePooling2D()(x)\n",
        "  # let's add a fully-connected layer\n",
        "  flat = Flatten()(pool)\n",
        "  # and a logistic layer -- let's say we have 200 classes\n",
        "  hidden2 = Dense(200, activation='relu')(flat)\n",
        "  # this is the model we will train\n",
        "  resnet_img_model = Model(inputs=resnet.input, outputs=hidden2)\n",
        "\n",
        "\n",
        "  # Text Model\n",
        "\n",
        "  class Attention(tf.keras.Model):\n",
        "      def __init__(self, units):\n",
        "          super(Attention, self).__init__()\n",
        "          self.W1 = tf.keras.layers.Dense(units)\n",
        "          self.W2 = tf.keras.layers.Dense(units)\n",
        "          self.V = tf.keras.layers.Dense(1)\n",
        "\n",
        "      def call(self, features, hidden):\n",
        "          # hidden shape == (batch_size, hidden size)\n",
        "          # hidden_with_time_axis shape == (batch_size, 1, hidden size)\n",
        "          # we are doing this to perform addition to calculate the score\n",
        "          hidden_with_time_axis = tf.expand_dims(hidden, 1)\n",
        "\n",
        "          # score shape == (batch_size, max_length, 1)\n",
        "          # we get 1 at the last axis because we are applying score to self.V\n",
        "          # the shape of the tensor before applying self.V is (batch_size, max_length, units)\n",
        "          score = tf.nn.tanh(\n",
        "              self.W1(features) + self.W2(hidden_with_time_axis))\n",
        "          # attention_weights shape == (batch_size, max_length, 1)\n",
        "          attention_weights = tf.nn.softmax(self.V(score), axis=1)\n",
        "\n",
        "          # context_vector shape after sum == (batch_size, hidden_size)\n",
        "          context_vector = attention_weights * features\n",
        "          context_vector = tf.reduce_sum(context_vector, axis=1)\n",
        "          return context_vector, attention_weights\n",
        "\n",
        "  sequence_input = Input(shape=(100,), dtype=\"int32\")\n",
        "  embedded_sequences = Embedding(vocab_size, 100)(sequence_input)\n",
        "  lstm = Bidirectional(LSTM(128, return_sequences = True,dropout=0.01), name=\"bi_lstm_0\")(embedded_sequences)\n",
        "  # Getting our LSTM outputs\n",
        "  (lstm, forward_h, forward_c, backward_h, backward_c) = Bidirectional(LSTM(128, return_sequences=True, return_state=True), name=\"bi_lstm_1\")(lstm)\n",
        "\n",
        "  state_h = Concatenate()([forward_h, backward_h])\n",
        "  state_c = Concatenate()([forward_c, backward_c])\n",
        "  context_vector, attention_weights = Attention(20)(lstm, state_h)\n",
        "  dense1 = Dense(200, activation=\"relu\")(context_vector)\n",
        "\n",
        "\n",
        "  lstm_attention_model = Model(inputs=sequence_input, outputs=dense1)\n",
        "\n",
        "  # Concatenating the output of 2 classifiers\n",
        "  con_layer = keras.layers.concatenate([resnet_img_model.output, lstm_attention_model.output])\n",
        "  dropout = Dropout(0.2)(con_layer)\n",
        "  final_dense = Dense(100, activation=\"relu\")(dropout)\n",
        "  out = Dense(6,activation='softmax')(final_dense)\n",
        "\n",
        "  #Defining model input and output\n",
        "  com_model = Model(inputs = [resnet_img_model.input, lstm_attention_model.input], outputs=out)\n",
        "\n",
        "  return com_model"
      ]
    },
    {
      "cell_type": "code",
      "execution_count": null,
      "metadata": {
        "id": "c9Js1gE3IRtT"
      },
      "outputs": [],
      "source": [
        "model = create_lstm_attention_resnet_model()"
      ]
    },
    {
      "cell_type": "code",
      "execution_count": null,
      "metadata": {
        "id": "Snpfz3sVJAhD"
      },
      "outputs": [],
      "source": [
        "model.compile(loss='sparse_categorical_crossentropy',\n",
        "                      optimizer=Adam(),\n",
        "                      metrics = [\"accuracy\"])"
      ]
    },
    {
      "cell_type": "code",
      "execution_count": null,
      "metadata": {
        "id": "bH4pjMLqth_c"
      },
      "outputs": [],
      "source": [
        "filepath = f'/content/drive/MyDrive/New folder/Model/Attn_multi.h5'\n",
        "checkpoint = keras.callbacks.ModelCheckpoint(filepath, monitor='val_accuracy', verbose=2, save_best_only=True,\n",
        "                                             save_weights_only=True, mode='max' )"
      ]
    },
    {
      "cell_type": "code",
      "execution_count": null,
      "metadata": {
        "colab": {
          "base_uri": "https://localhost:8080/",
          "height": 1000
        },
        "id": "3Obo2o9FJEfk",
        "outputId": "3070013e-dcad-4c1a-fbfc-16fc3dd53d35"
      },
      "outputs": [
        {
          "name": "stdout",
          "output_type": "stream",
          "text": [
            "Epoch 1/50\n",
            "148/148 [==============================] - ETA: 0s - loss: 0.7541 - accuracy: 0.7325\n",
            "Epoch 1: val_accuracy improved from -inf to 0.79238, saving model to /content/drive/MyDrive/New folder/Model/Attn_multi.h5\n",
            "148/148 [==============================] - 22s 93ms/step - loss: 0.7541 - accuracy: 0.7325 - val_loss: 0.7999 - val_accuracy: 0.7924\n",
            "Epoch 2/50\n",
            "148/148 [==============================] - ETA: 0s - loss: 0.3102 - accuracy: 0.8988\n",
            "Epoch 2: val_accuracy improved from 0.79238 to 0.82286, saving model to /content/drive/MyDrive/New folder/Model/Attn_multi.h5\n",
            "148/148 [==============================] - 10s 69ms/step - loss: 0.3102 - accuracy: 0.8988 - val_loss: 0.6268 - val_accuracy: 0.8229\n",
            "Epoch 3/50\n",
            "148/148 [==============================] - ETA: 0s - loss: 0.1401 - accuracy: 0.9551\n",
            "Epoch 3: val_accuracy improved from 0.82286 to 0.86095, saving model to /content/drive/MyDrive/New folder/Model/Attn_multi.h5\n",
            "148/148 [==============================] - 10s 70ms/step - loss: 0.1401 - accuracy: 0.9551 - val_loss: 0.5687 - val_accuracy: 0.8610\n",
            "Epoch 4/50\n",
            "148/148 [==============================] - ETA: 0s - loss: 0.0742 - accuracy: 0.9769\n",
            "Epoch 4: val_accuracy improved from 0.86095 to 0.86667, saving model to /content/drive/MyDrive/New folder/Model/Attn_multi.h5\n",
            "148/148 [==============================] - 12s 84ms/step - loss: 0.0742 - accuracy: 0.9769 - val_loss: 0.5409 - val_accuracy: 0.8667\n",
            "Epoch 5/50\n",
            "148/148 [==============================] - ETA: 0s - loss: 0.0645 - accuracy: 0.9812\n",
            "Epoch 5: val_accuracy did not improve from 0.86667\n",
            "148/148 [==============================] - 10s 68ms/step - loss: 0.0645 - accuracy: 0.9812 - val_loss: 0.5793 - val_accuracy: 0.8610\n",
            "Epoch 6/50\n",
            "147/148 [============================>.] - ETA: 0s - loss: 0.0383 - accuracy: 0.9900\n",
            "Epoch 6: val_accuracy improved from 0.86667 to 0.88381, saving model to /content/drive/MyDrive/New folder/Model/Attn_multi.h5\n",
            "148/148 [==============================] - 12s 81ms/step - loss: 0.0383 - accuracy: 0.9900 - val_loss: 0.5634 - val_accuracy: 0.8838\n",
            "Epoch 7/50\n",
            "148/148 [==============================] - ETA: 0s - loss: 0.0307 - accuracy: 0.9911\n",
            "Epoch 7: val_accuracy did not improve from 0.88381\n",
            "148/148 [==============================] - 10s 66ms/step - loss: 0.0307 - accuracy: 0.9911 - val_loss: 0.6655 - val_accuracy: 0.8533\n",
            "Epoch 8/50\n",
            "148/148 [==============================] - ETA: 0s - loss: 0.0219 - accuracy: 0.9939\n",
            "Epoch 8: val_accuracy did not improve from 0.88381\n",
            "148/148 [==============================] - 10s 67ms/step - loss: 0.0219 - accuracy: 0.9939 - val_loss: 0.7454 - val_accuracy: 0.8743\n",
            "Epoch 9/50\n",
            "147/148 [============================>.] - ETA: 0s - loss: 0.0167 - accuracy: 0.9962\n",
            "Epoch 9: val_accuracy did not improve from 0.88381\n",
            "148/148 [==============================] - 10s 65ms/step - loss: 0.0167 - accuracy: 0.9962 - val_loss: 0.7221 - val_accuracy: 0.8705\n",
            "Epoch 10/50\n",
            "148/148 [==============================] - ETA: 0s - loss: 0.0269 - accuracy: 0.9909\n",
            "Epoch 10: val_accuracy did not improve from 0.88381\n",
            "148/148 [==============================] - 10s 65ms/step - loss: 0.0269 - accuracy: 0.9909 - val_loss: 0.7628 - val_accuracy: 0.8476\n",
            "Epoch 11/50\n",
            "147/148 [============================>.] - ETA: 0s - loss: 0.0294 - accuracy: 0.9913\n",
            "Epoch 11: val_accuracy did not improve from 0.88381\n",
            "148/148 [==============================] - 10s 65ms/step - loss: 0.0293 - accuracy: 0.9913 - val_loss: 0.8591 - val_accuracy: 0.8686\n",
            "Epoch 12/50\n",
            "147/148 [============================>.] - ETA: 0s - loss: 0.0179 - accuracy: 0.9953\n",
            "Epoch 12: val_accuracy did not improve from 0.88381\n",
            "148/148 [==============================] - 10s 65ms/step - loss: 0.0179 - accuracy: 0.9953 - val_loss: 0.8582 - val_accuracy: 0.8667\n",
            "Epoch 13/50\n",
            "148/148 [==============================] - ETA: 0s - loss: 0.0186 - accuracy: 0.9934\n",
            "Epoch 13: val_accuracy did not improve from 0.88381\n",
            "148/148 [==============================] - 10s 65ms/step - loss: 0.0186 - accuracy: 0.9934 - val_loss: 0.9419 - val_accuracy: 0.8724\n",
            "Epoch 14/50\n",
            "148/148 [==============================] - ETA: 0s - loss: 0.0290 - accuracy: 0.9934\n",
            "Epoch 14: val_accuracy did not improve from 0.88381\n",
            "148/148 [==============================] - 10s 65ms/step - loss: 0.0290 - accuracy: 0.9934 - val_loss: 0.5550 - val_accuracy: 0.8819\n",
            "Epoch 15/50\n",
            "147/148 [============================>.] - ETA: 0s - loss: 0.0137 - accuracy: 0.9962\n",
            "Epoch 15: val_accuracy did not improve from 0.88381\n",
            "148/148 [==============================] - 10s 65ms/step - loss: 0.0137 - accuracy: 0.9962 - val_loss: 0.5430 - val_accuracy: 0.8724\n",
            "Epoch 16/50\n",
            "148/148 [==============================] - ETA: 0s - loss: 0.0048 - accuracy: 0.9987\n",
            "Epoch 16: val_accuracy did not improve from 0.88381\n",
            "148/148 [==============================] - 10s 65ms/step - loss: 0.0048 - accuracy: 0.9987 - val_loss: 0.6680 - val_accuracy: 0.8686\n",
            "Epoch 17/50\n",
            "148/148 [==============================] - ETA: 0s - loss: 0.0017 - accuracy: 0.9994\n",
            "Epoch 17: val_accuracy improved from 0.88381 to 0.88571, saving model to /content/drive/MyDrive/New folder/Model/Attn_multi.h5\n",
            "148/148 [==============================] - 11s 77ms/step - loss: 0.0017 - accuracy: 0.9994 - val_loss: 0.6719 - val_accuracy: 0.8857\n",
            "Epoch 18/50\n",
            "147/148 [============================>.] - ETA: 0s - loss: 6.4054e-04 - accuracy: 0.9996\n",
            "Epoch 18: val_accuracy did not improve from 0.88571\n",
            "148/148 [==============================] - 10s 67ms/step - loss: 8.7094e-04 - accuracy: 0.9994 - val_loss: 0.6675 - val_accuracy: 0.8800\n",
            "Epoch 19/50\n",
            "148/148 [==============================] - ETA: 0s - loss: 0.0028 - accuracy: 0.9998\n",
            "Epoch 19: val_accuracy did not improve from 0.88571\n",
            "148/148 [==============================] - 10s 66ms/step - loss: 0.0028 - accuracy: 0.9998 - val_loss: 0.6416 - val_accuracy: 0.8819\n",
            "Epoch 20/50\n",
            "148/148 [==============================] - ETA: 0s - loss: 0.0076 - accuracy: 0.9983\n",
            "Epoch 20: val_accuracy did not improve from 0.88571\n",
            "148/148 [==============================] - 10s 65ms/step - loss: 0.0076 - accuracy: 0.9983 - val_loss: 0.7374 - val_accuracy: 0.8686\n",
            "Epoch 21/50\n",
            "148/148 [==============================] - ETA: 0s - loss: 0.0057 - accuracy: 0.9987\n",
            "Epoch 21: val_accuracy did not improve from 0.88571\n",
            "148/148 [==============================] - 10s 65ms/step - loss: 0.0057 - accuracy: 0.9987 - val_loss: 0.6911 - val_accuracy: 0.8762\n",
            "Epoch 22/50\n",
            "147/148 [============================>.] - ETA: 0s - loss: 0.0069 - accuracy: 0.9983\n",
            "Epoch 22: val_accuracy improved from 0.88571 to 0.89143, saving model to /content/drive/MyDrive/New folder/Model/Attn_multi.h5\n",
            "148/148 [==============================] - 11s 77ms/step - loss: 0.0069 - accuracy: 0.9983 - val_loss: 0.7261 - val_accuracy: 0.8914\n",
            "Epoch 23/50\n",
            "148/148 [==============================] - ETA: 0s - loss: 0.0185 - accuracy: 0.9956\n",
            "Epoch 23: val_accuracy did not improve from 0.89143\n",
            "148/148 [==============================] - 10s 65ms/step - loss: 0.0185 - accuracy: 0.9956 - val_loss: 0.9203 - val_accuracy: 0.8819\n",
            "Epoch 24/50\n",
            "147/148 [============================>.] - ETA: 0s - loss: 0.0300 - accuracy: 0.9917\n",
            "Epoch 24: val_accuracy improved from 0.89143 to 0.89714, saving model to /content/drive/MyDrive/New folder/Model/Attn_multi.h5\n",
            "148/148 [==============================] - 12s 79ms/step - loss: 0.0299 - accuracy: 0.9917 - val_loss: 0.7079 - val_accuracy: 0.8971\n",
            "Epoch 25/50\n",
            "147/148 [============================>.] - ETA: 0s - loss: 0.0260 - accuracy: 0.9923\n",
            "Epoch 25: val_accuracy did not improve from 0.89714\n",
            "148/148 [==============================] - 10s 66ms/step - loss: 0.0259 - accuracy: 0.9924 - val_loss: 0.8332 - val_accuracy: 0.8552\n",
            "Epoch 26/50\n",
            "147/148 [============================>.] - ETA: 0s - loss: 0.0162 - accuracy: 0.9960\n",
            "Epoch 26: val_accuracy did not improve from 0.89714\n",
            "148/148 [==============================] - 10s 67ms/step - loss: 0.0162 - accuracy: 0.9960 - val_loss: 0.6909 - val_accuracy: 0.8819\n",
            "Epoch 27/50\n",
            "147/148 [============================>.] - ETA: 0s - loss: 0.0093 - accuracy: 0.9970\n",
            "Epoch 27: val_accuracy did not improve from 0.89714\n",
            "148/148 [==============================] - 10s 65ms/step - loss: 0.0093 - accuracy: 0.9970 - val_loss: 0.8290 - val_accuracy: 0.8781\n",
            "Epoch 28/50\n",
            "148/148 [==============================] - ETA: 0s - loss: 0.0084 - accuracy: 0.9970\n",
            "Epoch 28: val_accuracy did not improve from 0.89714\n",
            "148/148 [==============================] - 10s 67ms/step - loss: 0.0084 - accuracy: 0.9970 - val_loss: 0.7271 - val_accuracy: 0.8876\n",
            "Epoch 29/50\n",
            "148/148 [==============================] - ETA: 0s - loss: 0.0131 - accuracy: 0.9964\n",
            "Epoch 29: val_accuracy improved from 0.89714 to 0.89905, saving model to /content/drive/MyDrive/New folder/Model/Attn_multi.h5\n",
            "148/148 [==============================] - 13s 91ms/step - loss: 0.0131 - accuracy: 0.9964 - val_loss: 0.6293 - val_accuracy: 0.8990\n",
            "Epoch 30/50\n",
            "147/148 [============================>.] - ETA: 0s - loss: 0.0037 - accuracy: 0.9987\n",
            "Epoch 30: val_accuracy did not improve from 0.89905\n",
            "148/148 [==============================] - 10s 66ms/step - loss: 0.0037 - accuracy: 0.9987 - val_loss: 0.7219 - val_accuracy: 0.8895\n",
            "Epoch 31/50\n",
            "148/148 [==============================] - ETA: 0s - loss: 0.0057 - accuracy: 0.9983\n",
            "Epoch 31: val_accuracy did not improve from 0.89905\n",
            "148/148 [==============================] - 10s 67ms/step - loss: 0.0057 - accuracy: 0.9983 - val_loss: 0.7305 - val_accuracy: 0.8895\n",
            "Epoch 32/50\n",
            "148/148 [==============================] - ETA: 0s - loss: 0.0043 - accuracy: 0.9987\n",
            "Epoch 32: val_accuracy did not improve from 0.89905\n",
            "148/148 [==============================] - 10s 65ms/step - loss: 0.0043 - accuracy: 0.9987 - val_loss: 0.8278 - val_accuracy: 0.8781\n",
            "Epoch 33/50\n",
            "147/148 [============================>.] - ETA: 0s - loss: 0.0155 - accuracy: 0.9977\n",
            "Epoch 33: val_accuracy did not improve from 0.89905\n",
            "148/148 [==============================] - 10s 65ms/step - loss: 0.0155 - accuracy: 0.9977 - val_loss: 0.6336 - val_accuracy: 0.8914\n",
            "Epoch 34/50\n",
            "148/148 [==============================] - ETA: 0s - loss: 0.0012 - accuracy: 0.9996\n",
            "Epoch 34: val_accuracy did not improve from 0.89905\n",
            "148/148 [==============================] - 10s 65ms/step - loss: 0.0012 - accuracy: 0.9996 - val_loss: 0.6884 - val_accuracy: 0.8838\n",
            "Epoch 35/50\n",
            "147/148 [============================>.] - ETA: 0s - loss: 2.0765e-04 - accuracy: 1.0000\n",
            "Epoch 35: val_accuracy did not improve from 0.89905\n",
            "148/148 [==============================] - 10s 65ms/step - loss: 2.0686e-04 - accuracy: 1.0000 - val_loss: 0.7141 - val_accuracy: 0.8857\n",
            "Epoch 36/50\n",
            "148/148 [==============================] - ETA: 0s - loss: 7.3147e-05 - accuracy: 1.0000\n",
            "Epoch 36: val_accuracy did not improve from 0.89905\n",
            "148/148 [==============================] - 10s 65ms/step - loss: 7.3147e-05 - accuracy: 1.0000 - val_loss: 0.7378 - val_accuracy: 0.8857\n",
            "Epoch 37/50\n",
            "103/148 [===================>..........] - ETA: 2s - loss: 5.4161e-05 - accuracy: 1.0000"
          ]
        },
        {
          "ename": "KeyboardInterrupt",
          "evalue": "ignored",
          "output_type": "error",
          "traceback": [
            "\u001b[0;31m---------------------------------------------------------------------------\u001b[0m",
            "\u001b[0;31mKeyboardInterrupt\u001b[0m                         Traceback (most recent call last)",
            "\u001b[0;32m<ipython-input-46-11272d583647>\u001b[0m in \u001b[0;36m<module>\u001b[0;34m\u001b[0m\n\u001b[0;32m----> 1\u001b[0;31m model.fit([train_image,train_corpus],\n\u001b[0m\u001b[1;32m      2\u001b[0m           \u001b[0mtrain_data\u001b[0m\u001b[0;34m[\u001b[0m\u001b[0;34m'enc_label'\u001b[0m\u001b[0;34m]\u001b[0m\u001b[0;34m,\u001b[0m\u001b[0;34m\u001b[0m\u001b[0;34m\u001b[0m\u001b[0m\n\u001b[1;32m      3\u001b[0m           \u001b[0mbatch_size\u001b[0m\u001b[0;34m=\u001b[0m\u001b[0;36m32\u001b[0m\u001b[0;34m,\u001b[0m\u001b[0;34m\u001b[0m\u001b[0;34m\u001b[0m\u001b[0m\n\u001b[1;32m      4\u001b[0m           \u001b[0mepochs\u001b[0m\u001b[0;34m=\u001b[0m\u001b[0;36m50\u001b[0m\u001b[0;34m,\u001b[0m\u001b[0;34m\u001b[0m\u001b[0;34m\u001b[0m\u001b[0m\n\u001b[1;32m      5\u001b[0m           \u001b[0mvalidation_split\u001b[0m\u001b[0;34m=\u001b[0m\u001b[0;36m0.10\u001b[0m\u001b[0;34m,\u001b[0m\u001b[0;34m\u001b[0m\u001b[0;34m\u001b[0m\u001b[0m\n",
            "\u001b[0;32m/usr/local/lib/python3.8/dist-packages/keras/utils/traceback_utils.py\u001b[0m in \u001b[0;36merror_handler\u001b[0;34m(*args, **kwargs)\u001b[0m\n\u001b[1;32m     62\u001b[0m     \u001b[0mfiltered_tb\u001b[0m \u001b[0;34m=\u001b[0m \u001b[0;32mNone\u001b[0m\u001b[0;34m\u001b[0m\u001b[0;34m\u001b[0m\u001b[0m\n\u001b[1;32m     63\u001b[0m     \u001b[0;32mtry\u001b[0m\u001b[0;34m:\u001b[0m\u001b[0;34m\u001b[0m\u001b[0;34m\u001b[0m\u001b[0m\n\u001b[0;32m---> 64\u001b[0;31m       \u001b[0;32mreturn\u001b[0m \u001b[0mfn\u001b[0m\u001b[0;34m(\u001b[0m\u001b[0;34m*\u001b[0m\u001b[0margs\u001b[0m\u001b[0;34m,\u001b[0m \u001b[0;34m**\u001b[0m\u001b[0mkwargs\u001b[0m\u001b[0;34m)\u001b[0m\u001b[0;34m\u001b[0m\u001b[0;34m\u001b[0m\u001b[0m\n\u001b[0m\u001b[1;32m     65\u001b[0m     \u001b[0;32mexcept\u001b[0m \u001b[0mException\u001b[0m \u001b[0;32mas\u001b[0m \u001b[0me\u001b[0m\u001b[0;34m:\u001b[0m  \u001b[0;31m# pylint: disable=broad-except\u001b[0m\u001b[0;34m\u001b[0m\u001b[0;34m\u001b[0m\u001b[0m\n\u001b[1;32m     66\u001b[0m       \u001b[0mfiltered_tb\u001b[0m \u001b[0;34m=\u001b[0m \u001b[0m_process_traceback_frames\u001b[0m\u001b[0;34m(\u001b[0m\u001b[0me\u001b[0m\u001b[0;34m.\u001b[0m\u001b[0m__traceback__\u001b[0m\u001b[0;34m)\u001b[0m\u001b[0;34m\u001b[0m\u001b[0;34m\u001b[0m\u001b[0m\n",
            "\u001b[0;32m/usr/local/lib/python3.8/dist-packages/keras/engine/training.py\u001b[0m in \u001b[0;36mfit\u001b[0;34m(self, x, y, batch_size, epochs, verbose, callbacks, validation_split, validation_data, shuffle, class_weight, sample_weight, initial_epoch, steps_per_epoch, validation_steps, validation_batch_size, validation_freq, max_queue_size, workers, use_multiprocessing)\u001b[0m\n\u001b[1;32m   1407\u001b[0m                 _r=1):\n\u001b[1;32m   1408\u001b[0m               \u001b[0mcallbacks\u001b[0m\u001b[0;34m.\u001b[0m\u001b[0mon_train_batch_begin\u001b[0m\u001b[0;34m(\u001b[0m\u001b[0mstep\u001b[0m\u001b[0;34m)\u001b[0m\u001b[0;34m\u001b[0m\u001b[0;34m\u001b[0m\u001b[0m\n\u001b[0;32m-> 1409\u001b[0;31m               \u001b[0mtmp_logs\u001b[0m \u001b[0;34m=\u001b[0m \u001b[0mself\u001b[0m\u001b[0;34m.\u001b[0m\u001b[0mtrain_function\u001b[0m\u001b[0;34m(\u001b[0m\u001b[0miterator\u001b[0m\u001b[0;34m)\u001b[0m\u001b[0;34m\u001b[0m\u001b[0;34m\u001b[0m\u001b[0m\n\u001b[0m\u001b[1;32m   1410\u001b[0m               \u001b[0;32mif\u001b[0m \u001b[0mdata_handler\u001b[0m\u001b[0;34m.\u001b[0m\u001b[0mshould_sync\u001b[0m\u001b[0;34m:\u001b[0m\u001b[0;34m\u001b[0m\u001b[0;34m\u001b[0m\u001b[0m\n\u001b[1;32m   1411\u001b[0m                 \u001b[0mcontext\u001b[0m\u001b[0;34m.\u001b[0m\u001b[0masync_wait\u001b[0m\u001b[0;34m(\u001b[0m\u001b[0;34m)\u001b[0m\u001b[0;34m\u001b[0m\u001b[0;34m\u001b[0m\u001b[0m\n",
            "\u001b[0;32m/usr/local/lib/python3.8/dist-packages/tensorflow/python/util/traceback_utils.py\u001b[0m in \u001b[0;36merror_handler\u001b[0;34m(*args, **kwargs)\u001b[0m\n\u001b[1;32m    148\u001b[0m     \u001b[0mfiltered_tb\u001b[0m \u001b[0;34m=\u001b[0m \u001b[0;32mNone\u001b[0m\u001b[0;34m\u001b[0m\u001b[0;34m\u001b[0m\u001b[0m\n\u001b[1;32m    149\u001b[0m     \u001b[0;32mtry\u001b[0m\u001b[0;34m:\u001b[0m\u001b[0;34m\u001b[0m\u001b[0;34m\u001b[0m\u001b[0m\n\u001b[0;32m--> 150\u001b[0;31m       \u001b[0;32mreturn\u001b[0m \u001b[0mfn\u001b[0m\u001b[0;34m(\u001b[0m\u001b[0;34m*\u001b[0m\u001b[0margs\u001b[0m\u001b[0;34m,\u001b[0m \u001b[0;34m**\u001b[0m\u001b[0mkwargs\u001b[0m\u001b[0;34m)\u001b[0m\u001b[0;34m\u001b[0m\u001b[0;34m\u001b[0m\u001b[0m\n\u001b[0m\u001b[1;32m    151\u001b[0m     \u001b[0;32mexcept\u001b[0m \u001b[0mException\u001b[0m \u001b[0;32mas\u001b[0m \u001b[0me\u001b[0m\u001b[0;34m:\u001b[0m\u001b[0;34m\u001b[0m\u001b[0;34m\u001b[0m\u001b[0m\n\u001b[1;32m    152\u001b[0m       \u001b[0mfiltered_tb\u001b[0m \u001b[0;34m=\u001b[0m \u001b[0m_process_traceback_frames\u001b[0m\u001b[0;34m(\u001b[0m\u001b[0me\u001b[0m\u001b[0;34m.\u001b[0m\u001b[0m__traceback__\u001b[0m\u001b[0;34m)\u001b[0m\u001b[0;34m\u001b[0m\u001b[0;34m\u001b[0m\u001b[0m\n",
            "\u001b[0;32m/usr/local/lib/python3.8/dist-packages/tensorflow/python/eager/def_function.py\u001b[0m in \u001b[0;36m__call__\u001b[0;34m(self, *args, **kwds)\u001b[0m\n\u001b[1;32m    913\u001b[0m \u001b[0;34m\u001b[0m\u001b[0m\n\u001b[1;32m    914\u001b[0m       \u001b[0;32mwith\u001b[0m \u001b[0mOptionalXlaContext\u001b[0m\u001b[0;34m(\u001b[0m\u001b[0mself\u001b[0m\u001b[0;34m.\u001b[0m\u001b[0m_jit_compile\u001b[0m\u001b[0;34m)\u001b[0m\u001b[0;34m:\u001b[0m\u001b[0;34m\u001b[0m\u001b[0;34m\u001b[0m\u001b[0m\n\u001b[0;32m--> 915\u001b[0;31m         \u001b[0mresult\u001b[0m \u001b[0;34m=\u001b[0m \u001b[0mself\u001b[0m\u001b[0;34m.\u001b[0m\u001b[0m_call\u001b[0m\u001b[0;34m(\u001b[0m\u001b[0;34m*\u001b[0m\u001b[0margs\u001b[0m\u001b[0;34m,\u001b[0m \u001b[0;34m**\u001b[0m\u001b[0mkwds\u001b[0m\u001b[0;34m)\u001b[0m\u001b[0;34m\u001b[0m\u001b[0;34m\u001b[0m\u001b[0m\n\u001b[0m\u001b[1;32m    916\u001b[0m \u001b[0;34m\u001b[0m\u001b[0m\n\u001b[1;32m    917\u001b[0m       \u001b[0mnew_tracing_count\u001b[0m \u001b[0;34m=\u001b[0m \u001b[0mself\u001b[0m\u001b[0;34m.\u001b[0m\u001b[0mexperimental_get_tracing_count\u001b[0m\u001b[0;34m(\u001b[0m\u001b[0;34m)\u001b[0m\u001b[0;34m\u001b[0m\u001b[0;34m\u001b[0m\u001b[0m\n",
            "\u001b[0;32m/usr/local/lib/python3.8/dist-packages/tensorflow/python/eager/def_function.py\u001b[0m in \u001b[0;36m_call\u001b[0;34m(self, *args, **kwds)\u001b[0m\n\u001b[1;32m    945\u001b[0m       \u001b[0;31m# In this case we have created variables on the first call, so we run the\u001b[0m\u001b[0;34m\u001b[0m\u001b[0;34m\u001b[0m\u001b[0;34m\u001b[0m\u001b[0m\n\u001b[1;32m    946\u001b[0m       \u001b[0;31m# defunned version which is guaranteed to never create variables.\u001b[0m\u001b[0;34m\u001b[0m\u001b[0;34m\u001b[0m\u001b[0;34m\u001b[0m\u001b[0m\n\u001b[0;32m--> 947\u001b[0;31m       \u001b[0;32mreturn\u001b[0m \u001b[0mself\u001b[0m\u001b[0;34m.\u001b[0m\u001b[0m_stateless_fn\u001b[0m\u001b[0;34m(\u001b[0m\u001b[0;34m*\u001b[0m\u001b[0margs\u001b[0m\u001b[0;34m,\u001b[0m \u001b[0;34m**\u001b[0m\u001b[0mkwds\u001b[0m\u001b[0;34m)\u001b[0m  \u001b[0;31m# pylint: disable=not-callable\u001b[0m\u001b[0;34m\u001b[0m\u001b[0;34m\u001b[0m\u001b[0m\n\u001b[0m\u001b[1;32m    948\u001b[0m     \u001b[0;32melif\u001b[0m \u001b[0mself\u001b[0m\u001b[0;34m.\u001b[0m\u001b[0m_stateful_fn\u001b[0m \u001b[0;32mis\u001b[0m \u001b[0;32mnot\u001b[0m \u001b[0;32mNone\u001b[0m\u001b[0;34m:\u001b[0m\u001b[0;34m\u001b[0m\u001b[0;34m\u001b[0m\u001b[0m\n\u001b[1;32m    949\u001b[0m       \u001b[0;31m# Release the lock early so that multiple threads can perform the call\u001b[0m\u001b[0;34m\u001b[0m\u001b[0;34m\u001b[0m\u001b[0;34m\u001b[0m\u001b[0m\n",
            "\u001b[0;32m/usr/local/lib/python3.8/dist-packages/tensorflow/python/eager/function.py\u001b[0m in \u001b[0;36m__call__\u001b[0;34m(self, *args, **kwargs)\u001b[0m\n\u001b[1;32m   2451\u001b[0m       (graph_function,\n\u001b[1;32m   2452\u001b[0m        filtered_flat_args) = self._maybe_define_function(args, kwargs)\n\u001b[0;32m-> 2453\u001b[0;31m     return graph_function._call_flat(\n\u001b[0m\u001b[1;32m   2454\u001b[0m         filtered_flat_args, captured_inputs=graph_function.captured_inputs)  # pylint: disable=protected-access\n\u001b[1;32m   2455\u001b[0m \u001b[0;34m\u001b[0m\u001b[0m\n",
            "\u001b[0;32m/usr/local/lib/python3.8/dist-packages/tensorflow/python/eager/function.py\u001b[0m in \u001b[0;36m_call_flat\u001b[0;34m(self, args, captured_inputs, cancellation_manager)\u001b[0m\n\u001b[1;32m   1858\u001b[0m         and executing_eagerly):\n\u001b[1;32m   1859\u001b[0m       \u001b[0;31m# No tape is watching; skip to running the function.\u001b[0m\u001b[0;34m\u001b[0m\u001b[0;34m\u001b[0m\u001b[0;34m\u001b[0m\u001b[0m\n\u001b[0;32m-> 1860\u001b[0;31m       return self._build_call_outputs(self._inference_function.call(\n\u001b[0m\u001b[1;32m   1861\u001b[0m           ctx, args, cancellation_manager=cancellation_manager))\n\u001b[1;32m   1862\u001b[0m     forward_backward = self._select_forward_and_backward_functions(\n",
            "\u001b[0;32m/usr/local/lib/python3.8/dist-packages/tensorflow/python/eager/function.py\u001b[0m in \u001b[0;36mcall\u001b[0;34m(self, ctx, args, cancellation_manager)\u001b[0m\n\u001b[1;32m    495\u001b[0m       \u001b[0;32mwith\u001b[0m \u001b[0m_InterpolateFunctionError\u001b[0m\u001b[0;34m(\u001b[0m\u001b[0mself\u001b[0m\u001b[0;34m)\u001b[0m\u001b[0;34m:\u001b[0m\u001b[0;34m\u001b[0m\u001b[0;34m\u001b[0m\u001b[0m\n\u001b[1;32m    496\u001b[0m         \u001b[0;32mif\u001b[0m \u001b[0mcancellation_manager\u001b[0m \u001b[0;32mis\u001b[0m \u001b[0;32mNone\u001b[0m\u001b[0;34m:\u001b[0m\u001b[0;34m\u001b[0m\u001b[0;34m\u001b[0m\u001b[0m\n\u001b[0;32m--> 497\u001b[0;31m           outputs = execute.execute(\n\u001b[0m\u001b[1;32m    498\u001b[0m               \u001b[0mstr\u001b[0m\u001b[0;34m(\u001b[0m\u001b[0mself\u001b[0m\u001b[0;34m.\u001b[0m\u001b[0msignature\u001b[0m\u001b[0;34m.\u001b[0m\u001b[0mname\u001b[0m\u001b[0;34m)\u001b[0m\u001b[0;34m,\u001b[0m\u001b[0;34m\u001b[0m\u001b[0;34m\u001b[0m\u001b[0m\n\u001b[1;32m    499\u001b[0m               \u001b[0mnum_outputs\u001b[0m\u001b[0;34m=\u001b[0m\u001b[0mself\u001b[0m\u001b[0;34m.\u001b[0m\u001b[0m_num_outputs\u001b[0m\u001b[0;34m,\u001b[0m\u001b[0;34m\u001b[0m\u001b[0;34m\u001b[0m\u001b[0m\n",
            "\u001b[0;32m/usr/local/lib/python3.8/dist-packages/tensorflow/python/eager/execute.py\u001b[0m in \u001b[0;36mquick_execute\u001b[0;34m(op_name, num_outputs, inputs, attrs, ctx, name)\u001b[0m\n\u001b[1;32m     52\u001b[0m   \u001b[0;32mtry\u001b[0m\u001b[0;34m:\u001b[0m\u001b[0;34m\u001b[0m\u001b[0;34m\u001b[0m\u001b[0m\n\u001b[1;32m     53\u001b[0m     \u001b[0mctx\u001b[0m\u001b[0;34m.\u001b[0m\u001b[0mensure_initialized\u001b[0m\u001b[0;34m(\u001b[0m\u001b[0;34m)\u001b[0m\u001b[0;34m\u001b[0m\u001b[0;34m\u001b[0m\u001b[0m\n\u001b[0;32m---> 54\u001b[0;31m     tensors = pywrap_tfe.TFE_Py_Execute(ctx._handle, device_name, op_name,\n\u001b[0m\u001b[1;32m     55\u001b[0m                                         inputs, attrs, num_outputs)\n\u001b[1;32m     56\u001b[0m   \u001b[0;32mexcept\u001b[0m \u001b[0mcore\u001b[0m\u001b[0;34m.\u001b[0m\u001b[0m_NotOkStatusException\u001b[0m \u001b[0;32mas\u001b[0m \u001b[0me\u001b[0m\u001b[0;34m:\u001b[0m\u001b[0;34m\u001b[0m\u001b[0;34m\u001b[0m\u001b[0m\n",
            "\u001b[0;31mKeyboardInterrupt\u001b[0m: "
          ]
        }
      ],
      "source": [
        "model.fit([train_image,train_corpus],\n",
        "          train_data['enc_label'],\n",
        "          batch_size=32,\n",
        "          epochs=50,\n",
        "          validation_split=0.10,\n",
        "          verbose =1,\n",
        "          callbacks = [checkpoint] )"
      ]
    },
    {
      "cell_type": "code",
      "execution_count": null,
      "metadata": {
        "colab": {
          "base_uri": "https://localhost:8080/"
        },
        "id": "P-r2nX1sxG4E",
        "outputId": "0ac0e6cc-fc9b-4413-e495-42ec68e1c2cc"
      },
      "outputs": [
        {
          "name": "stdout",
          "output_type": "stream",
          "text": [
            "19/19 [==============================] - 3s 59ms/step\n",
            "              precision    recall  f1-score   support\n",
            "\n",
            "           0       0.98      0.96      0.97       291\n",
            "           1       0.83      0.90      0.87       144\n",
            "           2       0.93      0.69      0.79        55\n",
            "           3       0.72      0.81      0.76        36\n",
            "           4       0.82      0.89      0.86        37\n",
            "           5       0.82      0.86      0.84        21\n",
            "\n",
            "    accuracy                           0.90       584\n",
            "   macro avg       0.85      0.85      0.85       584\n",
            "weighted avg       0.91      0.90      0.90       584\n",
            "\n"
          ]
        }
      ],
      "source": [
        "model = create_lstm_attention_resnet_model()\n",
        "# Load the saved model\n",
        "model.load_weights('/content/drive/MyDrive/New folder/Model/Attn_multi.h5')\n",
        "y_pred = np.argmax(model.predict([test_image,test_corpus]), axis=-1)\n",
        "print(classification_report(test_data[\"enc_label\"], y_pred))"
      ]
    },
    {
      "cell_type": "code",
      "execution_count": null,
      "metadata": {
        "colab": {
          "base_uri": "https://localhost:8080/"
        },
        "id": "RGq1gfDEzMdf",
        "outputId": "c7aa3112-1feb-4203-de5a-daf7fbb6cb98"
      },
      "outputs": [
        {
          "data": {
            "text/plain": [
              "0.9041570181626415"
            ]
          },
          "execution_count": 48,
          "metadata": {},
          "output_type": "execute_result"
        }
      ],
      "source": [
        "f1_score(test_data[\"enc_label\"], y_pred, average='weighted')"
      ]
    },
    {
      "cell_type": "code",
      "execution_count": null,
      "metadata": {
        "id": "0bo89K7RMHx1"
      },
      "outputs": [],
      "source": []
    },
    {
      "cell_type": "markdown",
      "metadata": {
        "id": "RoCU_fhicKwt"
      },
      "source": [
        "# Inception + BilstmAttention"
      ]
    },
    {
      "cell_type": "code",
      "execution_count": null,
      "metadata": {
        "id": "HC1Efvy7jAcH"
      },
      "outputs": [],
      "source": [
        "keras.backend.clear_session()\n",
        "\n",
        "max_length = 100\n",
        "embedding_dim = 100\n",
        "number_of_classes = 6\n",
        "\n",
        "inputs=Input(shape=(max_length,), name='input')\n",
        "x=Embedding(max_words,embedding_dim)(inputs)\n",
        "att_in=Bidirectional(LSTM(32,return_sequences=True,dropout=0.3,recurrent_dropout=0.2))(x)\n",
        "att_out=attention()(att_in)\n",
        "branch_1 = Dense(512, activation='relu')(att_out)\n",
        "\n",
        "# Image input branch - a pre-trained Inception module followed by an added fully connected layer\n",
        "base_model = InceptionV3(weights='imagenet', include_top=False)\n",
        "# Freeze Inception's weights - we don't want to train these\n",
        "for layer in base_model.layers:\n",
        "    layer.trainable = False\n",
        "\n",
        "# add a fully connected layer after Inception - we do want to train these\n",
        "branch_2 = base_model.output\n",
        "branch_2 = GlobalAveragePooling2D()(branch_2)\n",
        "branch_2 = Dense(1024, activation='relu')(branch_2)\n",
        "\n",
        "# merge the text input branch and the image input branch and add another fully connected layer\n",
        "joint = concatenate([branch_1, branch_2])\n",
        "joint = Dense(512, activation='relu')(joint)\n",
        "joint = Dropout(0.5)(joint)\n",
        "predictions = Dense(6, activation='softmax')(joint)\n",
        "\n",
        "full_model = Model(inputs=[base_model.input,inputs], outputs=[predictions])\n",
        "\n",
        "full_model.compile(loss='sparse_categorical_crossentropy',\n",
        "                   optimizer='rmsprop',\n",
        "                   metrics=['accuracy'])\n"
      ]
    },
    {
      "cell_type": "code",
      "execution_count": null,
      "metadata": {
        "colab": {
          "base_uri": "https://localhost:8080/"
        },
        "id": "YGiq0hFVjEKf",
        "outputId": "75825c76-dd15-4915-9167-8bdb70b0fa17"
      },
      "outputs": [
        {
          "name": "stdout",
          "output_type": "stream",
          "text": [
            "Epoch 1/10\n",
            "148/148 [==============================] - 130s 825ms/step - loss: 15.1645 - accuracy: 0.4884 - val_loss: 2.0563 - val_accuracy: 0.6838\n",
            "Epoch 2/10\n",
            "148/148 [==============================] - 121s 815ms/step - loss: 1.1835 - accuracy: 0.6815 - val_loss: 0.8587 - val_accuracy: 0.6990\n",
            "Epoch 3/10\n",
            "148/148 [==============================] - 118s 798ms/step - loss: 0.8220 - accuracy: 0.7313 - val_loss: 0.9588 - val_accuracy: 0.6419\n",
            "Epoch 4/10\n",
            "148/148 [==============================] - 121s 818ms/step - loss: 0.6938 - accuracy: 0.7637 - val_loss: 0.9106 - val_accuracy: 0.6514\n",
            "Epoch 5/10\n",
            "148/148 [==============================] - 119s 802ms/step - loss: 0.6219 - accuracy: 0.7781 - val_loss: 1.6691 - val_accuracy: 0.7143\n",
            "Epoch 6/10\n",
            "148/148 [==============================] - 119s 805ms/step - loss: 0.5639 - accuracy: 0.8030 - val_loss: 0.8522 - val_accuracy: 0.7467\n",
            "Epoch 7/10\n",
            "148/148 [==============================] - 118s 796ms/step - loss: 0.5323 - accuracy: 0.8073 - val_loss: 0.9106 - val_accuracy: 0.7448\n",
            "Epoch 8/10\n",
            "148/148 [==============================] - 120s 813ms/step - loss: 0.4588 - accuracy: 0.8414 - val_loss: 1.1554 - val_accuracy: 0.6667\n",
            "Epoch 9/10\n",
            "148/148 [==============================] - 118s 801ms/step - loss: 0.4103 - accuracy: 0.8583 - val_loss: 0.8983 - val_accuracy: 0.7657\n",
            "Epoch 10/10\n",
            "148/148 [==============================] - 130s 881ms/step - loss: 0.3894 - accuracy: 0.8738 - val_loss: 1.8260 - val_accuracy: 0.7448\n"
          ]
        }
      ],
      "source": [
        "\n",
        "history = full_model.fit([train_image, train_corpus], train_data['enc_label'],\n",
        "                         epochs=10, batch_size=32,\n",
        "                         verbose=1, validation_split=0.1, shuffle=True)"
      ]
    },
    {
      "cell_type": "code",
      "execution_count": null,
      "metadata": {
        "colab": {
          "base_uri": "https://localhost:8080/"
        },
        "id": "nGsyXeboeUD1",
        "outputId": "be33aa49-eec0-4ebc-f081-07a84cefb023"
      },
      "outputs": [
        {
          "name": "stdout",
          "output_type": "stream",
          "text": [
            "19/19 [==============================] - 1s 53ms/step\n"
          ]
        }
      ],
      "source": [
        "y_pred = np.argmax(model.predict(test_corpus), axis=-1)"
      ]
    },
    {
      "cell_type": "code",
      "execution_count": null,
      "metadata": {
        "colab": {
          "base_uri": "https://localhost:8080/"
        },
        "id": "Pgz1WjepeXd7",
        "outputId": "5641653c-a8ee-4218-bdaa-731acb36a1f6"
      },
      "outputs": [
        {
          "name": "stdout",
          "output_type": "stream",
          "text": [
            "              precision    recall  f1-score   support\n",
            "\n",
            "           0       0.96      0.98      0.97       291\n",
            "           1       0.89      0.76      0.82       144\n",
            "           2       0.75      0.75      0.75        55\n",
            "           3       0.68      0.83      0.75        36\n",
            "           4       0.69      0.73      0.71        37\n",
            "           5       0.77      0.95      0.85        21\n",
            "\n",
            "    accuracy                           0.88       584\n",
            "   macro avg       0.79      0.83      0.81       584\n",
            "weighted avg       0.88      0.88      0.88       584\n",
            "\n"
          ]
        }
      ],
      "source": [
        "print(classification_report(test_data['enc_label'],y_pred))"
      ]
    },
    {
      "cell_type": "code",
      "execution_count": null,
      "metadata": {
        "colab": {
          "base_uri": "https://localhost:8080/"
        },
        "id": "ir77p3BKj3U0",
        "outputId": "5de6b5a3-2b71-4bc8-e620-589fde0f993d"
      },
      "outputs": [
        {
          "data": {
            "text/plain": [
              "0.8766296049066437"
            ]
          },
          "execution_count": 93,
          "metadata": {},
          "output_type": "execute_result"
        }
      ],
      "source": [
        "f1_score(test_data[\"enc_label\"], y_pred, average='weighted')"
      ]
    },
    {
      "cell_type": "markdown",
      "metadata": {
        "id": "OXaBwh_qcSbw"
      },
      "source": [
        "# Resnet50 + BilstmAttention"
      ]
    },
    {
      "cell_type": "code",
      "execution_count": null,
      "metadata": {
        "id": "2XF4QHS_cXv9"
      },
      "outputs": [],
      "source": [
        "keras.backend.clear_session()\n",
        "\n",
        "max_length = 100\n",
        "embedding_dim = 100\n",
        "number_of_classes = 6\n",
        "\n",
        "inputs=Input(shape=(max_length,), name='input')\n",
        "x=Embedding(max_words,embedding_dim)(inputs)\n",
        "att_in=Bidirectional(LSTM(256,return_sequences=True,dropout=0.3,recurrent_dropout=0.2))(x)\n",
        "att_out=attention()(att_in)\n",
        "branch_1 = Dense(256, activation='relu')(att_out)\n",
        "\n",
        "# Image input branch - a pre-trained Inception module followed by an added fully connected layer\n",
        "base_model = ResNet50(weights='imagenet', include_top=False)\n",
        "# Freeze Inception's weights - we don't want to train these\n",
        "for layer in base_model.layers:\n",
        "    layer.trainable = False\n",
        "\n",
        "# add a fully connected layer after Inception - we do want to train these\n",
        "branch_2 = base_model.output\n",
        "branch_2 = GlobalAveragePooling2D()(branch_2)\n",
        "branch_2 = Dense(512, activation='relu')(branch_2)\n",
        "\n",
        "# merge the text input branch and the image input branch and add another fully connected layer\n",
        "joint = concatenate([branch_1, branch_2])\n",
        "joint = Dense(100, activation='relu')(joint)\n",
        "# joint = Dropout(0.5)(joint)\n",
        "predictions = Dense(6, activation='softmax')(joint)\n",
        "\n",
        "full_model = Model(inputs=[base_model.input,inputs], outputs=[predictions])\n",
        "\n",
        "full_model.compile(loss='sparse_categorical_crossentropy',\n",
        "                   optimizer=Adam(),\n",
        "                   metrics=['accuracy'])\n"
      ]
    },
    {
      "cell_type": "code",
      "execution_count": null,
      "metadata": {
        "colab": {
          "base_uri": "https://localhost:8080/"
        },
        "id": "TzUn0CMmj_Wh",
        "outputId": "99ad7c47-f917-4dc9-8550-36d935642a5e"
      },
      "outputs": [
        {
          "name": "stdout",
          "output_type": "stream",
          "text": [
            "Epoch 1/10\n",
            "148/148 [==============================] - ETA: 0s - loss: 0.8883 - accuracy: 0.6872\n",
            "Epoch 1: val_accuracy improved from -inf to 0.73905, saving model to /content/drive/MyDrive/New folder/Model/ResBiLstmAttention.h5\n",
            "148/148 [==============================] - 153s 933ms/step - loss: 0.8883 - accuracy: 0.6872 - val_loss: 0.7871 - val_accuracy: 0.7390\n",
            "Epoch 2/10\n",
            "148/148 [==============================] - ETA: 0s - loss: 0.4523 - accuracy: 0.8386\n",
            "Epoch 2: val_accuracy improved from 0.73905 to 0.77524, saving model to /content/drive/MyDrive/New folder/Model/ResBiLstmAttention.h5\n",
            "148/148 [==============================] - 133s 899ms/step - loss: 0.4523 - accuracy: 0.8386 - val_loss: 0.6807 - val_accuracy: 0.7752\n",
            "Epoch 3/10\n",
            "148/148 [==============================] - ETA: 0s - loss: 0.2665 - accuracy: 0.9039\n",
            "Epoch 3: val_accuracy improved from 0.77524 to 0.79048, saving model to /content/drive/MyDrive/New folder/Model/ResBiLstmAttention.h5\n",
            "148/148 [==============================] - 135s 912ms/step - loss: 0.2665 - accuracy: 0.9039 - val_loss: 0.6223 - val_accuracy: 0.7905\n",
            "Epoch 4/10\n",
            "148/148 [==============================] - ETA: 0s - loss: 0.1670 - accuracy: 0.9460\n",
            "Epoch 4: val_accuracy did not improve from 0.79048\n",
            "148/148 [==============================] - 132s 894ms/step - loss: 0.1670 - accuracy: 0.9460 - val_loss: 0.6684 - val_accuracy: 0.7733\n",
            "Epoch 5/10\n",
            "148/148 [==============================] - ETA: 0s - loss: 0.1158 - accuracy: 0.9608\n",
            "Epoch 5: val_accuracy improved from 0.79048 to 0.83238, saving model to /content/drive/MyDrive/New folder/Model/ResBiLstmAttention.h5\n",
            "148/148 [==============================] - 133s 898ms/step - loss: 0.1158 - accuracy: 0.9608 - val_loss: 0.6221 - val_accuracy: 0.8324\n",
            "Epoch 6/10\n",
            "148/148 [==============================] - ETA: 0s - loss: 0.0453 - accuracy: 0.9869\n",
            "Epoch 6: val_accuracy did not improve from 0.83238\n",
            "148/148 [==============================] - 129s 874ms/step - loss: 0.0453 - accuracy: 0.9869 - val_loss: 0.6631 - val_accuracy: 0.8210\n",
            "Epoch 7/10\n",
            "148/148 [==============================] - ETA: 0s - loss: 0.0272 - accuracy: 0.9915\n",
            "Epoch 7: val_accuracy did not improve from 0.83238\n",
            "148/148 [==============================] - 130s 881ms/step - loss: 0.0272 - accuracy: 0.9915 - val_loss: 0.7568 - val_accuracy: 0.8114\n",
            "Epoch 8/10\n",
            "148/148 [==============================] - ETA: 0s - loss: 0.0122 - accuracy: 0.9968\n",
            "Epoch 8: val_accuracy did not improve from 0.83238\n",
            "148/148 [==============================] - 132s 891ms/step - loss: 0.0122 - accuracy: 0.9968 - val_loss: 0.7935 - val_accuracy: 0.8324\n",
            "Epoch 9/10\n",
            "148/148 [==============================] - ETA: 0s - loss: 0.0110 - accuracy: 0.9972\n",
            "Epoch 9: val_accuracy did not improve from 0.83238\n",
            "148/148 [==============================] - 128s 867ms/step - loss: 0.0110 - accuracy: 0.9972 - val_loss: 0.8000 - val_accuracy: 0.8305\n",
            "Epoch 10/10\n",
            "148/148 [==============================] - ETA: 0s - loss: 0.0019 - accuracy: 0.9998\n",
            "Epoch 10: val_accuracy improved from 0.83238 to 0.84571, saving model to /content/drive/MyDrive/New folder/Model/ResBiLstmAttention.h5\n",
            "148/148 [==============================] - 133s 899ms/step - loss: 0.0019 - accuracy: 0.9998 - val_loss: 0.8132 - val_accuracy: 0.8457\n"
          ]
        }
      ],
      "source": [
        "history = full_model.fit([train_image, train_corpus], train_data['enc_label'],\n",
        "                         epochs=10, batch_size=32,\n",
        "                         verbose=1, validation_split=0.1, callbacks=checkpoint_fn('ResBiLstmAttention'),shuffle=True)"
      ]
    },
    {
      "cell_type": "code",
      "execution_count": null,
      "metadata": {
        "colab": {
          "base_uri": "https://localhost:8080/"
        },
        "id": "QN7vBxOWpREf",
        "outputId": "a583ff2b-1adf-4905-fc54-7714cf5e9c74"
      },
      "outputs": [
        {
          "name": "stdout",
          "output_type": "stream",
          "text": [
            "19/19 [==============================] - 3s 95ms/step\n"
          ]
        }
      ],
      "source": [
        "y_pred = np.argmax(full_model.predict([test_image,test_corpus]), axis=-1)"
      ]
    },
    {
      "cell_type": "code",
      "execution_count": null,
      "metadata": {
        "colab": {
          "base_uri": "https://localhost:8080/"
        },
        "id": "Ul8b9xGFqkJT",
        "outputId": "039a537e-74c7-40ab-8a9b-7f7ec36e124a"
      },
      "outputs": [
        {
          "name": "stdout",
          "output_type": "stream",
          "text": [
            "              precision    recall  f1-score   support\n",
            "\n",
            "           0       0.97      0.97      0.97       291\n",
            "           1       0.85      0.81      0.83       144\n",
            "           2       0.66      0.75      0.70        55\n",
            "           3       0.73      0.75      0.74        36\n",
            "           4       0.79      0.81      0.80        37\n",
            "           5       0.88      0.71      0.79        21\n",
            "\n",
            "    accuracy                           0.88       584\n",
            "   macro avg       0.81      0.80      0.81       584\n",
            "weighted avg       0.88      0.88      0.88       584\n",
            "\n"
          ]
        }
      ],
      "source": [
        "print(classification_report(test_data[\"enc_label\"], y_pred))"
      ]
    },
    {
      "cell_type": "code",
      "execution_count": null,
      "metadata": {
        "colab": {
          "base_uri": "https://localhost:8080/"
        },
        "id": "bUh5UXOUpW-H",
        "outputId": "e7243f63-24b2-42b0-8a65-0f488486c9d9"
      },
      "outputs": [
        {
          "data": {
            "text/plain": [
              "0.8790411547323996"
            ]
          },
          "execution_count": 33,
          "metadata": {},
          "output_type": "execute_result"
        }
      ],
      "source": [
        "f1_score(test_data[\"enc_label\"], y_pred, average='weighted')"
      ]
    },
    {
      "cell_type": "code",
      "execution_count": null,
      "metadata": {
        "id": "Jj7r6GPurHd0"
      },
      "outputs": [],
      "source": []
    }
  ],
  "metadata": {
    "colab": {
      "collapsed_sections": [
        "Pi3rTxuGhe8n",
        "M8Y8KBGYIF1U",
        "DGv1paZBWDmI",
        "74CwjLETmMO2",
        "sxixmi10BdXE",
        "retAwGqxCpGl",
        "h1nYW5v_AHPP",
        "sLfbX3lJEREr",
        "d9PZs-ahFTlW",
        "jFXr3IgEZJFd",
        "o6DQCgGMZnyY",
        "yz0BQZEnRixb",
        "fbCpW8KYay_b",
        "CRyg_hunfQix",
        "4jNSisaj9qDl",
        "aCQM1UHmqHe0",
        "r9a4Duzbq8dm",
        "NZIB-5v0rEur",
        "9gNykDA9rGxq",
        "ixPbv0pwtx5m",
        "Wehzlg8W4oQR",
        "a6ejdSiS2IAr",
        "RoCU_fhicKwt",
        "OXaBwh_qcSbw"
      ],
      "provenance": [],
      "include_colab_link": true
    },
    "gpuClass": "standard",
    "kernelspec": {
      "display_name": "Python 3",
      "name": "python3"
    },
    "language_info": {
      "name": "python"
    },
    "widgets": {
      "application/vnd.jupyter.widget-state+json": {
        "e505d9ee09f64784a39daded4f42803d": {
          "model_module": "@jupyter-widgets/controls",
          "model_name": "HBoxModel",
          "model_module_version": "1.5.0",
          "state": {
            "_dom_classes": [],
            "_model_module": "@jupyter-widgets/controls",
            "_model_module_version": "1.5.0",
            "_model_name": "HBoxModel",
            "_view_count": null,
            "_view_module": "@jupyter-widgets/controls",
            "_view_module_version": "1.5.0",
            "_view_name": "HBoxView",
            "box_style": "",
            "children": [
              "IPY_MODEL_f15270b2ebd547bea1a4816f5921877b",
              "IPY_MODEL_45f06950d738483cb63d9a6dba27307a",
              "IPY_MODEL_cc572aa7506e42ab8470537dfe3aae0a"
            ],
            "layout": "IPY_MODEL_a7071b9119b94d378223abb88688f7b7"
          }
        },
        "f15270b2ebd547bea1a4816f5921877b": {
          "model_module": "@jupyter-widgets/controls",
          "model_name": "HTMLModel",
          "model_module_version": "1.5.0",
          "state": {
            "_dom_classes": [],
            "_model_module": "@jupyter-widgets/controls",
            "_model_module_version": "1.5.0",
            "_model_name": "HTMLModel",
            "_view_count": null,
            "_view_module": "@jupyter-widgets/controls",
            "_view_module_version": "1.5.0",
            "_view_name": "HTMLView",
            "description": "",
            "description_tooltip": null,
            "layout": "IPY_MODEL_61bd19f9065c4a2ca3d4b50790aa88ac",
            "placeholder": "​",
            "style": "IPY_MODEL_32600d8468c5497d912f754cfe2c040f",
            "value": "Downloading: 100%"
          }
        },
        "45f06950d738483cb63d9a6dba27307a": {
          "model_module": "@jupyter-widgets/controls",
          "model_name": "FloatProgressModel",
          "model_module_version": "1.5.0",
          "state": {
            "_dom_classes": [],
            "_model_module": "@jupyter-widgets/controls",
            "_model_module_version": "1.5.0",
            "_model_name": "FloatProgressModel",
            "_view_count": null,
            "_view_module": "@jupyter-widgets/controls",
            "_view_module_version": "1.5.0",
            "_view_name": "ProgressView",
            "bar_style": "success",
            "description": "",
            "description_tooltip": null,
            "layout": "IPY_MODEL_0937f76d8b2049f8bf29c6317011b693",
            "max": 231508,
            "min": 0,
            "orientation": "horizontal",
            "style": "IPY_MODEL_4269512b72cc438782a49c045f1d2340",
            "value": 231508
          }
        },
        "cc572aa7506e42ab8470537dfe3aae0a": {
          "model_module": "@jupyter-widgets/controls",
          "model_name": "HTMLModel",
          "model_module_version": "1.5.0",
          "state": {
            "_dom_classes": [],
            "_model_module": "@jupyter-widgets/controls",
            "_model_module_version": "1.5.0",
            "_model_name": "HTMLModel",
            "_view_count": null,
            "_view_module": "@jupyter-widgets/controls",
            "_view_module_version": "1.5.0",
            "_view_name": "HTMLView",
            "description": "",
            "description_tooltip": null,
            "layout": "IPY_MODEL_eca6f9b9dc434e0a92f9bd5d3b79c9fd",
            "placeholder": "​",
            "style": "IPY_MODEL_c49229da85e2424896a69398b89daabd",
            "value": " 232k/232k [00:00&lt;00:00, 360kB/s]"
          }
        },
        "a7071b9119b94d378223abb88688f7b7": {
          "model_module": "@jupyter-widgets/base",
          "model_name": "LayoutModel",
          "model_module_version": "1.2.0",
          "state": {
            "_model_module": "@jupyter-widgets/base",
            "_model_module_version": "1.2.0",
            "_model_name": "LayoutModel",
            "_view_count": null,
            "_view_module": "@jupyter-widgets/base",
            "_view_module_version": "1.2.0",
            "_view_name": "LayoutView",
            "align_content": null,
            "align_items": null,
            "align_self": null,
            "border": null,
            "bottom": null,
            "display": null,
            "flex": null,
            "flex_flow": null,
            "grid_area": null,
            "grid_auto_columns": null,
            "grid_auto_flow": null,
            "grid_auto_rows": null,
            "grid_column": null,
            "grid_gap": null,
            "grid_row": null,
            "grid_template_areas": null,
            "grid_template_columns": null,
            "grid_template_rows": null,
            "height": null,
            "justify_content": null,
            "justify_items": null,
            "left": null,
            "margin": null,
            "max_height": null,
            "max_width": null,
            "min_height": null,
            "min_width": null,
            "object_fit": null,
            "object_position": null,
            "order": null,
            "overflow": null,
            "overflow_x": null,
            "overflow_y": null,
            "padding": null,
            "right": null,
            "top": null,
            "visibility": null,
            "width": null
          }
        },
        "61bd19f9065c4a2ca3d4b50790aa88ac": {
          "model_module": "@jupyter-widgets/base",
          "model_name": "LayoutModel",
          "model_module_version": "1.2.0",
          "state": {
            "_model_module": "@jupyter-widgets/base",
            "_model_module_version": "1.2.0",
            "_model_name": "LayoutModel",
            "_view_count": null,
            "_view_module": "@jupyter-widgets/base",
            "_view_module_version": "1.2.0",
            "_view_name": "LayoutView",
            "align_content": null,
            "align_items": null,
            "align_self": null,
            "border": null,
            "bottom": null,
            "display": null,
            "flex": null,
            "flex_flow": null,
            "grid_area": null,
            "grid_auto_columns": null,
            "grid_auto_flow": null,
            "grid_auto_rows": null,
            "grid_column": null,
            "grid_gap": null,
            "grid_row": null,
            "grid_template_areas": null,
            "grid_template_columns": null,
            "grid_template_rows": null,
            "height": null,
            "justify_content": null,
            "justify_items": null,
            "left": null,
            "margin": null,
            "max_height": null,
            "max_width": null,
            "min_height": null,
            "min_width": null,
            "object_fit": null,
            "object_position": null,
            "order": null,
            "overflow": null,
            "overflow_x": null,
            "overflow_y": null,
            "padding": null,
            "right": null,
            "top": null,
            "visibility": null,
            "width": null
          }
        },
        "32600d8468c5497d912f754cfe2c040f": {
          "model_module": "@jupyter-widgets/controls",
          "model_name": "DescriptionStyleModel",
          "model_module_version": "1.5.0",
          "state": {
            "_model_module": "@jupyter-widgets/controls",
            "_model_module_version": "1.5.0",
            "_model_name": "DescriptionStyleModel",
            "_view_count": null,
            "_view_module": "@jupyter-widgets/base",
            "_view_module_version": "1.2.0",
            "_view_name": "StyleView",
            "description_width": ""
          }
        },
        "0937f76d8b2049f8bf29c6317011b693": {
          "model_module": "@jupyter-widgets/base",
          "model_name": "LayoutModel",
          "model_module_version": "1.2.0",
          "state": {
            "_model_module": "@jupyter-widgets/base",
            "_model_module_version": "1.2.0",
            "_model_name": "LayoutModel",
            "_view_count": null,
            "_view_module": "@jupyter-widgets/base",
            "_view_module_version": "1.2.0",
            "_view_name": "LayoutView",
            "align_content": null,
            "align_items": null,
            "align_self": null,
            "border": null,
            "bottom": null,
            "display": null,
            "flex": null,
            "flex_flow": null,
            "grid_area": null,
            "grid_auto_columns": null,
            "grid_auto_flow": null,
            "grid_auto_rows": null,
            "grid_column": null,
            "grid_gap": null,
            "grid_row": null,
            "grid_template_areas": null,
            "grid_template_columns": null,
            "grid_template_rows": null,
            "height": null,
            "justify_content": null,
            "justify_items": null,
            "left": null,
            "margin": null,
            "max_height": null,
            "max_width": null,
            "min_height": null,
            "min_width": null,
            "object_fit": null,
            "object_position": null,
            "order": null,
            "overflow": null,
            "overflow_x": null,
            "overflow_y": null,
            "padding": null,
            "right": null,
            "top": null,
            "visibility": null,
            "width": null
          }
        },
        "4269512b72cc438782a49c045f1d2340": {
          "model_module": "@jupyter-widgets/controls",
          "model_name": "ProgressStyleModel",
          "model_module_version": "1.5.0",
          "state": {
            "_model_module": "@jupyter-widgets/controls",
            "_model_module_version": "1.5.0",
            "_model_name": "ProgressStyleModel",
            "_view_count": null,
            "_view_module": "@jupyter-widgets/base",
            "_view_module_version": "1.2.0",
            "_view_name": "StyleView",
            "bar_color": null,
            "description_width": ""
          }
        },
        "eca6f9b9dc434e0a92f9bd5d3b79c9fd": {
          "model_module": "@jupyter-widgets/base",
          "model_name": "LayoutModel",
          "model_module_version": "1.2.0",
          "state": {
            "_model_module": "@jupyter-widgets/base",
            "_model_module_version": "1.2.0",
            "_model_name": "LayoutModel",
            "_view_count": null,
            "_view_module": "@jupyter-widgets/base",
            "_view_module_version": "1.2.0",
            "_view_name": "LayoutView",
            "align_content": null,
            "align_items": null,
            "align_self": null,
            "border": null,
            "bottom": null,
            "display": null,
            "flex": null,
            "flex_flow": null,
            "grid_area": null,
            "grid_auto_columns": null,
            "grid_auto_flow": null,
            "grid_auto_rows": null,
            "grid_column": null,
            "grid_gap": null,
            "grid_row": null,
            "grid_template_areas": null,
            "grid_template_columns": null,
            "grid_template_rows": null,
            "height": null,
            "justify_content": null,
            "justify_items": null,
            "left": null,
            "margin": null,
            "max_height": null,
            "max_width": null,
            "min_height": null,
            "min_width": null,
            "object_fit": null,
            "object_position": null,
            "order": null,
            "overflow": null,
            "overflow_x": null,
            "overflow_y": null,
            "padding": null,
            "right": null,
            "top": null,
            "visibility": null,
            "width": null
          }
        },
        "c49229da85e2424896a69398b89daabd": {
          "model_module": "@jupyter-widgets/controls",
          "model_name": "DescriptionStyleModel",
          "model_module_version": "1.5.0",
          "state": {
            "_model_module": "@jupyter-widgets/controls",
            "_model_module_version": "1.5.0",
            "_model_name": "DescriptionStyleModel",
            "_view_count": null,
            "_view_module": "@jupyter-widgets/base",
            "_view_module_version": "1.2.0",
            "_view_name": "StyleView",
            "description_width": ""
          }
        },
        "decdf8c2112745b1924e1a139433d6e8": {
          "model_module": "@jupyter-widgets/controls",
          "model_name": "HBoxModel",
          "model_module_version": "1.5.0",
          "state": {
            "_dom_classes": [],
            "_model_module": "@jupyter-widgets/controls",
            "_model_module_version": "1.5.0",
            "_model_name": "HBoxModel",
            "_view_count": null,
            "_view_module": "@jupyter-widgets/controls",
            "_view_module_version": "1.5.0",
            "_view_name": "HBoxView",
            "box_style": "",
            "children": [
              "IPY_MODEL_4437c248f78f423da833c7d3c68de1a3",
              "IPY_MODEL_6f13b830876549af84ba446b4a0f02b6",
              "IPY_MODEL_66bf42884c054963adb7c8d7fbbb0a73"
            ],
            "layout": "IPY_MODEL_4a37976df02f440d888e48edbbe7d122"
          }
        },
        "4437c248f78f423da833c7d3c68de1a3": {
          "model_module": "@jupyter-widgets/controls",
          "model_name": "HTMLModel",
          "model_module_version": "1.5.0",
          "state": {
            "_dom_classes": [],
            "_model_module": "@jupyter-widgets/controls",
            "_model_module_version": "1.5.0",
            "_model_name": "HTMLModel",
            "_view_count": null,
            "_view_module": "@jupyter-widgets/controls",
            "_view_module_version": "1.5.0",
            "_view_name": "HTMLView",
            "description": "",
            "description_tooltip": null,
            "layout": "IPY_MODEL_db677aa94076488683c520107cc010ab",
            "placeholder": "​",
            "style": "IPY_MODEL_d0bdaa24cdcf4f60947f08f09764c234",
            "value": "Downloading: 100%"
          }
        },
        "6f13b830876549af84ba446b4a0f02b6": {
          "model_module": "@jupyter-widgets/controls",
          "model_name": "FloatProgressModel",
          "model_module_version": "1.5.0",
          "state": {
            "_dom_classes": [],
            "_model_module": "@jupyter-widgets/controls",
            "_model_module_version": "1.5.0",
            "_model_name": "FloatProgressModel",
            "_view_count": null,
            "_view_module": "@jupyter-widgets/controls",
            "_view_module_version": "1.5.0",
            "_view_name": "ProgressView",
            "bar_style": "success",
            "description": "",
            "description_tooltip": null,
            "layout": "IPY_MODEL_62490dfd18804035a5c6723d05e24f01",
            "max": 28,
            "min": 0,
            "orientation": "horizontal",
            "style": "IPY_MODEL_8992de81f5c44b968437ca5a8d1c5f65",
            "value": 28
          }
        },
        "66bf42884c054963adb7c8d7fbbb0a73": {
          "model_module": "@jupyter-widgets/controls",
          "model_name": "HTMLModel",
          "model_module_version": "1.5.0",
          "state": {
            "_dom_classes": [],
            "_model_module": "@jupyter-widgets/controls",
            "_model_module_version": "1.5.0",
            "_model_name": "HTMLModel",
            "_view_count": null,
            "_view_module": "@jupyter-widgets/controls",
            "_view_module_version": "1.5.0",
            "_view_name": "HTMLView",
            "description": "",
            "description_tooltip": null,
            "layout": "IPY_MODEL_0230487e1aaa473fbbf2bd31062af138",
            "placeholder": "​",
            "style": "IPY_MODEL_54345366d37b4496baca8d8d24a2afb1",
            "value": " 28.0/28.0 [00:00&lt;00:00, 1.19kB/s]"
          }
        },
        "4a37976df02f440d888e48edbbe7d122": {
          "model_module": "@jupyter-widgets/base",
          "model_name": "LayoutModel",
          "model_module_version": "1.2.0",
          "state": {
            "_model_module": "@jupyter-widgets/base",
            "_model_module_version": "1.2.0",
            "_model_name": "LayoutModel",
            "_view_count": null,
            "_view_module": "@jupyter-widgets/base",
            "_view_module_version": "1.2.0",
            "_view_name": "LayoutView",
            "align_content": null,
            "align_items": null,
            "align_self": null,
            "border": null,
            "bottom": null,
            "display": null,
            "flex": null,
            "flex_flow": null,
            "grid_area": null,
            "grid_auto_columns": null,
            "grid_auto_flow": null,
            "grid_auto_rows": null,
            "grid_column": null,
            "grid_gap": null,
            "grid_row": null,
            "grid_template_areas": null,
            "grid_template_columns": null,
            "grid_template_rows": null,
            "height": null,
            "justify_content": null,
            "justify_items": null,
            "left": null,
            "margin": null,
            "max_height": null,
            "max_width": null,
            "min_height": null,
            "min_width": null,
            "object_fit": null,
            "object_position": null,
            "order": null,
            "overflow": null,
            "overflow_x": null,
            "overflow_y": null,
            "padding": null,
            "right": null,
            "top": null,
            "visibility": null,
            "width": null
          }
        },
        "db677aa94076488683c520107cc010ab": {
          "model_module": "@jupyter-widgets/base",
          "model_name": "LayoutModel",
          "model_module_version": "1.2.0",
          "state": {
            "_model_module": "@jupyter-widgets/base",
            "_model_module_version": "1.2.0",
            "_model_name": "LayoutModel",
            "_view_count": null,
            "_view_module": "@jupyter-widgets/base",
            "_view_module_version": "1.2.0",
            "_view_name": "LayoutView",
            "align_content": null,
            "align_items": null,
            "align_self": null,
            "border": null,
            "bottom": null,
            "display": null,
            "flex": null,
            "flex_flow": null,
            "grid_area": null,
            "grid_auto_columns": null,
            "grid_auto_flow": null,
            "grid_auto_rows": null,
            "grid_column": null,
            "grid_gap": null,
            "grid_row": null,
            "grid_template_areas": null,
            "grid_template_columns": null,
            "grid_template_rows": null,
            "height": null,
            "justify_content": null,
            "justify_items": null,
            "left": null,
            "margin": null,
            "max_height": null,
            "max_width": null,
            "min_height": null,
            "min_width": null,
            "object_fit": null,
            "object_position": null,
            "order": null,
            "overflow": null,
            "overflow_x": null,
            "overflow_y": null,
            "padding": null,
            "right": null,
            "top": null,
            "visibility": null,
            "width": null
          }
        },
        "d0bdaa24cdcf4f60947f08f09764c234": {
          "model_module": "@jupyter-widgets/controls",
          "model_name": "DescriptionStyleModel",
          "model_module_version": "1.5.0",
          "state": {
            "_model_module": "@jupyter-widgets/controls",
            "_model_module_version": "1.5.0",
            "_model_name": "DescriptionStyleModel",
            "_view_count": null,
            "_view_module": "@jupyter-widgets/base",
            "_view_module_version": "1.2.0",
            "_view_name": "StyleView",
            "description_width": ""
          }
        },
        "62490dfd18804035a5c6723d05e24f01": {
          "model_module": "@jupyter-widgets/base",
          "model_name": "LayoutModel",
          "model_module_version": "1.2.0",
          "state": {
            "_model_module": "@jupyter-widgets/base",
            "_model_module_version": "1.2.0",
            "_model_name": "LayoutModel",
            "_view_count": null,
            "_view_module": "@jupyter-widgets/base",
            "_view_module_version": "1.2.0",
            "_view_name": "LayoutView",
            "align_content": null,
            "align_items": null,
            "align_self": null,
            "border": null,
            "bottom": null,
            "display": null,
            "flex": null,
            "flex_flow": null,
            "grid_area": null,
            "grid_auto_columns": null,
            "grid_auto_flow": null,
            "grid_auto_rows": null,
            "grid_column": null,
            "grid_gap": null,
            "grid_row": null,
            "grid_template_areas": null,
            "grid_template_columns": null,
            "grid_template_rows": null,
            "height": null,
            "justify_content": null,
            "justify_items": null,
            "left": null,
            "margin": null,
            "max_height": null,
            "max_width": null,
            "min_height": null,
            "min_width": null,
            "object_fit": null,
            "object_position": null,
            "order": null,
            "overflow": null,
            "overflow_x": null,
            "overflow_y": null,
            "padding": null,
            "right": null,
            "top": null,
            "visibility": null,
            "width": null
          }
        },
        "8992de81f5c44b968437ca5a8d1c5f65": {
          "model_module": "@jupyter-widgets/controls",
          "model_name": "ProgressStyleModel",
          "model_module_version": "1.5.0",
          "state": {
            "_model_module": "@jupyter-widgets/controls",
            "_model_module_version": "1.5.0",
            "_model_name": "ProgressStyleModel",
            "_view_count": null,
            "_view_module": "@jupyter-widgets/base",
            "_view_module_version": "1.2.0",
            "_view_name": "StyleView",
            "bar_color": null,
            "description_width": ""
          }
        },
        "0230487e1aaa473fbbf2bd31062af138": {
          "model_module": "@jupyter-widgets/base",
          "model_name": "LayoutModel",
          "model_module_version": "1.2.0",
          "state": {
            "_model_module": "@jupyter-widgets/base",
            "_model_module_version": "1.2.0",
            "_model_name": "LayoutModel",
            "_view_count": null,
            "_view_module": "@jupyter-widgets/base",
            "_view_module_version": "1.2.0",
            "_view_name": "LayoutView",
            "align_content": null,
            "align_items": null,
            "align_self": null,
            "border": null,
            "bottom": null,
            "display": null,
            "flex": null,
            "flex_flow": null,
            "grid_area": null,
            "grid_auto_columns": null,
            "grid_auto_flow": null,
            "grid_auto_rows": null,
            "grid_column": null,
            "grid_gap": null,
            "grid_row": null,
            "grid_template_areas": null,
            "grid_template_columns": null,
            "grid_template_rows": null,
            "height": null,
            "justify_content": null,
            "justify_items": null,
            "left": null,
            "margin": null,
            "max_height": null,
            "max_width": null,
            "min_height": null,
            "min_width": null,
            "object_fit": null,
            "object_position": null,
            "order": null,
            "overflow": null,
            "overflow_x": null,
            "overflow_y": null,
            "padding": null,
            "right": null,
            "top": null,
            "visibility": null,
            "width": null
          }
        },
        "54345366d37b4496baca8d8d24a2afb1": {
          "model_module": "@jupyter-widgets/controls",
          "model_name": "DescriptionStyleModel",
          "model_module_version": "1.5.0",
          "state": {
            "_model_module": "@jupyter-widgets/controls",
            "_model_module_version": "1.5.0",
            "_model_name": "DescriptionStyleModel",
            "_view_count": null,
            "_view_module": "@jupyter-widgets/base",
            "_view_module_version": "1.2.0",
            "_view_name": "StyleView",
            "description_width": ""
          }
        },
        "5fd42170c0d64e439fecd80e048e1bb8": {
          "model_module": "@jupyter-widgets/controls",
          "model_name": "HBoxModel",
          "model_module_version": "1.5.0",
          "state": {
            "_dom_classes": [],
            "_model_module": "@jupyter-widgets/controls",
            "_model_module_version": "1.5.0",
            "_model_name": "HBoxModel",
            "_view_count": null,
            "_view_module": "@jupyter-widgets/controls",
            "_view_module_version": "1.5.0",
            "_view_name": "HBoxView",
            "box_style": "",
            "children": [
              "IPY_MODEL_7f803e5ef9ea4919a74912f0b6a46b2c",
              "IPY_MODEL_9593c7236fca44d8a6577b2e6fd2df8d",
              "IPY_MODEL_c39b1f643a02486ebec920c71309e30e"
            ],
            "layout": "IPY_MODEL_84465c121d3b44e695244e6d7b0e22f9"
          }
        },
        "7f803e5ef9ea4919a74912f0b6a46b2c": {
          "model_module": "@jupyter-widgets/controls",
          "model_name": "HTMLModel",
          "model_module_version": "1.5.0",
          "state": {
            "_dom_classes": [],
            "_model_module": "@jupyter-widgets/controls",
            "_model_module_version": "1.5.0",
            "_model_name": "HTMLModel",
            "_view_count": null,
            "_view_module": "@jupyter-widgets/controls",
            "_view_module_version": "1.5.0",
            "_view_name": "HTMLView",
            "description": "",
            "description_tooltip": null,
            "layout": "IPY_MODEL_1824d6b06b184c6e8144b240ebf21da0",
            "placeholder": "​",
            "style": "IPY_MODEL_0b559de6b7ac487c831dc6c897b8dc43",
            "value": "Downloading: 100%"
          }
        },
        "9593c7236fca44d8a6577b2e6fd2df8d": {
          "model_module": "@jupyter-widgets/controls",
          "model_name": "FloatProgressModel",
          "model_module_version": "1.5.0",
          "state": {
            "_dom_classes": [],
            "_model_module": "@jupyter-widgets/controls",
            "_model_module_version": "1.5.0",
            "_model_name": "FloatProgressModel",
            "_view_count": null,
            "_view_module": "@jupyter-widgets/controls",
            "_view_module_version": "1.5.0",
            "_view_name": "ProgressView",
            "bar_style": "success",
            "description": "",
            "description_tooltip": null,
            "layout": "IPY_MODEL_f42260de1d51495b9017c1ba9b279a50",
            "max": 570,
            "min": 0,
            "orientation": "horizontal",
            "style": "IPY_MODEL_37235141ca1b4750aeaf61b0cc0876c9",
            "value": 570
          }
        },
        "c39b1f643a02486ebec920c71309e30e": {
          "model_module": "@jupyter-widgets/controls",
          "model_name": "HTMLModel",
          "model_module_version": "1.5.0",
          "state": {
            "_dom_classes": [],
            "_model_module": "@jupyter-widgets/controls",
            "_model_module_version": "1.5.0",
            "_model_name": "HTMLModel",
            "_view_count": null,
            "_view_module": "@jupyter-widgets/controls",
            "_view_module_version": "1.5.0",
            "_view_name": "HTMLView",
            "description": "",
            "description_tooltip": null,
            "layout": "IPY_MODEL_36ee2c9078ed431996d87d6b34c70757",
            "placeholder": "​",
            "style": "IPY_MODEL_0c1171e0f75048c9898c3267e30857d6",
            "value": " 570/570 [00:00&lt;00:00, 34.0kB/s]"
          }
        },
        "84465c121d3b44e695244e6d7b0e22f9": {
          "model_module": "@jupyter-widgets/base",
          "model_name": "LayoutModel",
          "model_module_version": "1.2.0",
          "state": {
            "_model_module": "@jupyter-widgets/base",
            "_model_module_version": "1.2.0",
            "_model_name": "LayoutModel",
            "_view_count": null,
            "_view_module": "@jupyter-widgets/base",
            "_view_module_version": "1.2.0",
            "_view_name": "LayoutView",
            "align_content": null,
            "align_items": null,
            "align_self": null,
            "border": null,
            "bottom": null,
            "display": null,
            "flex": null,
            "flex_flow": null,
            "grid_area": null,
            "grid_auto_columns": null,
            "grid_auto_flow": null,
            "grid_auto_rows": null,
            "grid_column": null,
            "grid_gap": null,
            "grid_row": null,
            "grid_template_areas": null,
            "grid_template_columns": null,
            "grid_template_rows": null,
            "height": null,
            "justify_content": null,
            "justify_items": null,
            "left": null,
            "margin": null,
            "max_height": null,
            "max_width": null,
            "min_height": null,
            "min_width": null,
            "object_fit": null,
            "object_position": null,
            "order": null,
            "overflow": null,
            "overflow_x": null,
            "overflow_y": null,
            "padding": null,
            "right": null,
            "top": null,
            "visibility": null,
            "width": null
          }
        },
        "1824d6b06b184c6e8144b240ebf21da0": {
          "model_module": "@jupyter-widgets/base",
          "model_name": "LayoutModel",
          "model_module_version": "1.2.0",
          "state": {
            "_model_module": "@jupyter-widgets/base",
            "_model_module_version": "1.2.0",
            "_model_name": "LayoutModel",
            "_view_count": null,
            "_view_module": "@jupyter-widgets/base",
            "_view_module_version": "1.2.0",
            "_view_name": "LayoutView",
            "align_content": null,
            "align_items": null,
            "align_self": null,
            "border": null,
            "bottom": null,
            "display": null,
            "flex": null,
            "flex_flow": null,
            "grid_area": null,
            "grid_auto_columns": null,
            "grid_auto_flow": null,
            "grid_auto_rows": null,
            "grid_column": null,
            "grid_gap": null,
            "grid_row": null,
            "grid_template_areas": null,
            "grid_template_columns": null,
            "grid_template_rows": null,
            "height": null,
            "justify_content": null,
            "justify_items": null,
            "left": null,
            "margin": null,
            "max_height": null,
            "max_width": null,
            "min_height": null,
            "min_width": null,
            "object_fit": null,
            "object_position": null,
            "order": null,
            "overflow": null,
            "overflow_x": null,
            "overflow_y": null,
            "padding": null,
            "right": null,
            "top": null,
            "visibility": null,
            "width": null
          }
        },
        "0b559de6b7ac487c831dc6c897b8dc43": {
          "model_module": "@jupyter-widgets/controls",
          "model_name": "DescriptionStyleModel",
          "model_module_version": "1.5.0",
          "state": {
            "_model_module": "@jupyter-widgets/controls",
            "_model_module_version": "1.5.0",
            "_model_name": "DescriptionStyleModel",
            "_view_count": null,
            "_view_module": "@jupyter-widgets/base",
            "_view_module_version": "1.2.0",
            "_view_name": "StyleView",
            "description_width": ""
          }
        },
        "f42260de1d51495b9017c1ba9b279a50": {
          "model_module": "@jupyter-widgets/base",
          "model_name": "LayoutModel",
          "model_module_version": "1.2.0",
          "state": {
            "_model_module": "@jupyter-widgets/base",
            "_model_module_version": "1.2.0",
            "_model_name": "LayoutModel",
            "_view_count": null,
            "_view_module": "@jupyter-widgets/base",
            "_view_module_version": "1.2.0",
            "_view_name": "LayoutView",
            "align_content": null,
            "align_items": null,
            "align_self": null,
            "border": null,
            "bottom": null,
            "display": null,
            "flex": null,
            "flex_flow": null,
            "grid_area": null,
            "grid_auto_columns": null,
            "grid_auto_flow": null,
            "grid_auto_rows": null,
            "grid_column": null,
            "grid_gap": null,
            "grid_row": null,
            "grid_template_areas": null,
            "grid_template_columns": null,
            "grid_template_rows": null,
            "height": null,
            "justify_content": null,
            "justify_items": null,
            "left": null,
            "margin": null,
            "max_height": null,
            "max_width": null,
            "min_height": null,
            "min_width": null,
            "object_fit": null,
            "object_position": null,
            "order": null,
            "overflow": null,
            "overflow_x": null,
            "overflow_y": null,
            "padding": null,
            "right": null,
            "top": null,
            "visibility": null,
            "width": null
          }
        },
        "37235141ca1b4750aeaf61b0cc0876c9": {
          "model_module": "@jupyter-widgets/controls",
          "model_name": "ProgressStyleModel",
          "model_module_version": "1.5.0",
          "state": {
            "_model_module": "@jupyter-widgets/controls",
            "_model_module_version": "1.5.0",
            "_model_name": "ProgressStyleModel",
            "_view_count": null,
            "_view_module": "@jupyter-widgets/base",
            "_view_module_version": "1.2.0",
            "_view_name": "StyleView",
            "bar_color": null,
            "description_width": ""
          }
        },
        "36ee2c9078ed431996d87d6b34c70757": {
          "model_module": "@jupyter-widgets/base",
          "model_name": "LayoutModel",
          "model_module_version": "1.2.0",
          "state": {
            "_model_module": "@jupyter-widgets/base",
            "_model_module_version": "1.2.0",
            "_model_name": "LayoutModel",
            "_view_count": null,
            "_view_module": "@jupyter-widgets/base",
            "_view_module_version": "1.2.0",
            "_view_name": "LayoutView",
            "align_content": null,
            "align_items": null,
            "align_self": null,
            "border": null,
            "bottom": null,
            "display": null,
            "flex": null,
            "flex_flow": null,
            "grid_area": null,
            "grid_auto_columns": null,
            "grid_auto_flow": null,
            "grid_auto_rows": null,
            "grid_column": null,
            "grid_gap": null,
            "grid_row": null,
            "grid_template_areas": null,
            "grid_template_columns": null,
            "grid_template_rows": null,
            "height": null,
            "justify_content": null,
            "justify_items": null,
            "left": null,
            "margin": null,
            "max_height": null,
            "max_width": null,
            "min_height": null,
            "min_width": null,
            "object_fit": null,
            "object_position": null,
            "order": null,
            "overflow": null,
            "overflow_x": null,
            "overflow_y": null,
            "padding": null,
            "right": null,
            "top": null,
            "visibility": null,
            "width": null
          }
        },
        "0c1171e0f75048c9898c3267e30857d6": {
          "model_module": "@jupyter-widgets/controls",
          "model_name": "DescriptionStyleModel",
          "model_module_version": "1.5.0",
          "state": {
            "_model_module": "@jupyter-widgets/controls",
            "_model_module_version": "1.5.0",
            "_model_name": "DescriptionStyleModel",
            "_view_count": null,
            "_view_module": "@jupyter-widgets/base",
            "_view_module_version": "1.2.0",
            "_view_name": "StyleView",
            "description_width": ""
          }
        },
        "ff10c4a5adcc4fd8ac958f3e07cec4b1": {
          "model_module": "@jupyter-widgets/controls",
          "model_name": "HBoxModel",
          "model_module_version": "1.5.0",
          "state": {
            "_dom_classes": [],
            "_model_module": "@jupyter-widgets/controls",
            "_model_module_version": "1.5.0",
            "_model_name": "HBoxModel",
            "_view_count": null,
            "_view_module": "@jupyter-widgets/controls",
            "_view_module_version": "1.5.0",
            "_view_name": "HBoxView",
            "box_style": "",
            "children": [
              "IPY_MODEL_a4b38e79cb4146d9b378034c0de739fd",
              "IPY_MODEL_ef01edfeab17480696506733839a579b",
              "IPY_MODEL_756261c7c7e742cf8c0555515c1d6e80"
            ],
            "layout": "IPY_MODEL_aae20380842048a1bc0febc2635686cb"
          }
        },
        "a4b38e79cb4146d9b378034c0de739fd": {
          "model_module": "@jupyter-widgets/controls",
          "model_name": "HTMLModel",
          "model_module_version": "1.5.0",
          "state": {
            "_dom_classes": [],
            "_model_module": "@jupyter-widgets/controls",
            "_model_module_version": "1.5.0",
            "_model_name": "HTMLModel",
            "_view_count": null,
            "_view_module": "@jupyter-widgets/controls",
            "_view_module_version": "1.5.0",
            "_view_name": "HTMLView",
            "description": "",
            "description_tooltip": null,
            "layout": "IPY_MODEL_fddaef2174e040e5862f1f0106af2b7f",
            "placeholder": "​",
            "style": "IPY_MODEL_2b2353150a4d43bbaa40da5d62e8e54f",
            "value": "Downloading: 100%"
          }
        },
        "ef01edfeab17480696506733839a579b": {
          "model_module": "@jupyter-widgets/controls",
          "model_name": "FloatProgressModel",
          "model_module_version": "1.5.0",
          "state": {
            "_dom_classes": [],
            "_model_module": "@jupyter-widgets/controls",
            "_model_module_version": "1.5.0",
            "_model_name": "FloatProgressModel",
            "_view_count": null,
            "_view_module": "@jupyter-widgets/controls",
            "_view_module_version": "1.5.0",
            "_view_name": "ProgressView",
            "bar_style": "success",
            "description": "",
            "description_tooltip": null,
            "layout": "IPY_MODEL_1e014c718e99489bb8feef62f99e579c",
            "max": 536063208,
            "min": 0,
            "orientation": "horizontal",
            "style": "IPY_MODEL_b27136d3869942dc8e9333a14daa1176",
            "value": 536063208
          }
        },
        "756261c7c7e742cf8c0555515c1d6e80": {
          "model_module": "@jupyter-widgets/controls",
          "model_name": "HTMLModel",
          "model_module_version": "1.5.0",
          "state": {
            "_dom_classes": [],
            "_model_module": "@jupyter-widgets/controls",
            "_model_module_version": "1.5.0",
            "_model_name": "HTMLModel",
            "_view_count": null,
            "_view_module": "@jupyter-widgets/controls",
            "_view_module_version": "1.5.0",
            "_view_name": "HTMLView",
            "description": "",
            "description_tooltip": null,
            "layout": "IPY_MODEL_03b924d7d2c24d80b8dcd0bf5cb1f815",
            "placeholder": "​",
            "style": "IPY_MODEL_4fde42b2856340349dc2d6774e445feb",
            "value": " 536M/536M [00:08&lt;00:00, 78.7MB/s]"
          }
        },
        "aae20380842048a1bc0febc2635686cb": {
          "model_module": "@jupyter-widgets/base",
          "model_name": "LayoutModel",
          "model_module_version": "1.2.0",
          "state": {
            "_model_module": "@jupyter-widgets/base",
            "_model_module_version": "1.2.0",
            "_model_name": "LayoutModel",
            "_view_count": null,
            "_view_module": "@jupyter-widgets/base",
            "_view_module_version": "1.2.0",
            "_view_name": "LayoutView",
            "align_content": null,
            "align_items": null,
            "align_self": null,
            "border": null,
            "bottom": null,
            "display": null,
            "flex": null,
            "flex_flow": null,
            "grid_area": null,
            "grid_auto_columns": null,
            "grid_auto_flow": null,
            "grid_auto_rows": null,
            "grid_column": null,
            "grid_gap": null,
            "grid_row": null,
            "grid_template_areas": null,
            "grid_template_columns": null,
            "grid_template_rows": null,
            "height": null,
            "justify_content": null,
            "justify_items": null,
            "left": null,
            "margin": null,
            "max_height": null,
            "max_width": null,
            "min_height": null,
            "min_width": null,
            "object_fit": null,
            "object_position": null,
            "order": null,
            "overflow": null,
            "overflow_x": null,
            "overflow_y": null,
            "padding": null,
            "right": null,
            "top": null,
            "visibility": null,
            "width": null
          }
        },
        "fddaef2174e040e5862f1f0106af2b7f": {
          "model_module": "@jupyter-widgets/base",
          "model_name": "LayoutModel",
          "model_module_version": "1.2.0",
          "state": {
            "_model_module": "@jupyter-widgets/base",
            "_model_module_version": "1.2.0",
            "_model_name": "LayoutModel",
            "_view_count": null,
            "_view_module": "@jupyter-widgets/base",
            "_view_module_version": "1.2.0",
            "_view_name": "LayoutView",
            "align_content": null,
            "align_items": null,
            "align_self": null,
            "border": null,
            "bottom": null,
            "display": null,
            "flex": null,
            "flex_flow": null,
            "grid_area": null,
            "grid_auto_columns": null,
            "grid_auto_flow": null,
            "grid_auto_rows": null,
            "grid_column": null,
            "grid_gap": null,
            "grid_row": null,
            "grid_template_areas": null,
            "grid_template_columns": null,
            "grid_template_rows": null,
            "height": null,
            "justify_content": null,
            "justify_items": null,
            "left": null,
            "margin": null,
            "max_height": null,
            "max_width": null,
            "min_height": null,
            "min_width": null,
            "object_fit": null,
            "object_position": null,
            "order": null,
            "overflow": null,
            "overflow_x": null,
            "overflow_y": null,
            "padding": null,
            "right": null,
            "top": null,
            "visibility": null,
            "width": null
          }
        },
        "2b2353150a4d43bbaa40da5d62e8e54f": {
          "model_module": "@jupyter-widgets/controls",
          "model_name": "DescriptionStyleModel",
          "model_module_version": "1.5.0",
          "state": {
            "_model_module": "@jupyter-widgets/controls",
            "_model_module_version": "1.5.0",
            "_model_name": "DescriptionStyleModel",
            "_view_count": null,
            "_view_module": "@jupyter-widgets/base",
            "_view_module_version": "1.2.0",
            "_view_name": "StyleView",
            "description_width": ""
          }
        },
        "1e014c718e99489bb8feef62f99e579c": {
          "model_module": "@jupyter-widgets/base",
          "model_name": "LayoutModel",
          "model_module_version": "1.2.0",
          "state": {
            "_model_module": "@jupyter-widgets/base",
            "_model_module_version": "1.2.0",
            "_model_name": "LayoutModel",
            "_view_count": null,
            "_view_module": "@jupyter-widgets/base",
            "_view_module_version": "1.2.0",
            "_view_name": "LayoutView",
            "align_content": null,
            "align_items": null,
            "align_self": null,
            "border": null,
            "bottom": null,
            "display": null,
            "flex": null,
            "flex_flow": null,
            "grid_area": null,
            "grid_auto_columns": null,
            "grid_auto_flow": null,
            "grid_auto_rows": null,
            "grid_column": null,
            "grid_gap": null,
            "grid_row": null,
            "grid_template_areas": null,
            "grid_template_columns": null,
            "grid_template_rows": null,
            "height": null,
            "justify_content": null,
            "justify_items": null,
            "left": null,
            "margin": null,
            "max_height": null,
            "max_width": null,
            "min_height": null,
            "min_width": null,
            "object_fit": null,
            "object_position": null,
            "order": null,
            "overflow": null,
            "overflow_x": null,
            "overflow_y": null,
            "padding": null,
            "right": null,
            "top": null,
            "visibility": null,
            "width": null
          }
        },
        "b27136d3869942dc8e9333a14daa1176": {
          "model_module": "@jupyter-widgets/controls",
          "model_name": "ProgressStyleModel",
          "model_module_version": "1.5.0",
          "state": {
            "_model_module": "@jupyter-widgets/controls",
            "_model_module_version": "1.5.0",
            "_model_name": "ProgressStyleModel",
            "_view_count": null,
            "_view_module": "@jupyter-widgets/base",
            "_view_module_version": "1.2.0",
            "_view_name": "StyleView",
            "bar_color": null,
            "description_width": ""
          }
        },
        "03b924d7d2c24d80b8dcd0bf5cb1f815": {
          "model_module": "@jupyter-widgets/base",
          "model_name": "LayoutModel",
          "model_module_version": "1.2.0",
          "state": {
            "_model_module": "@jupyter-widgets/base",
            "_model_module_version": "1.2.0",
            "_model_name": "LayoutModel",
            "_view_count": null,
            "_view_module": "@jupyter-widgets/base",
            "_view_module_version": "1.2.0",
            "_view_name": "LayoutView",
            "align_content": null,
            "align_items": null,
            "align_self": null,
            "border": null,
            "bottom": null,
            "display": null,
            "flex": null,
            "flex_flow": null,
            "grid_area": null,
            "grid_auto_columns": null,
            "grid_auto_flow": null,
            "grid_auto_rows": null,
            "grid_column": null,
            "grid_gap": null,
            "grid_row": null,
            "grid_template_areas": null,
            "grid_template_columns": null,
            "grid_template_rows": null,
            "height": null,
            "justify_content": null,
            "justify_items": null,
            "left": null,
            "margin": null,
            "max_height": null,
            "max_width": null,
            "min_height": null,
            "min_width": null,
            "object_fit": null,
            "object_position": null,
            "order": null,
            "overflow": null,
            "overflow_x": null,
            "overflow_y": null,
            "padding": null,
            "right": null,
            "top": null,
            "visibility": null,
            "width": null
          }
        },
        "4fde42b2856340349dc2d6774e445feb": {
          "model_module": "@jupyter-widgets/controls",
          "model_name": "DescriptionStyleModel",
          "model_module_version": "1.5.0",
          "state": {
            "_model_module": "@jupyter-widgets/controls",
            "_model_module_version": "1.5.0",
            "_model_name": "DescriptionStyleModel",
            "_view_count": null,
            "_view_module": "@jupyter-widgets/base",
            "_view_module_version": "1.2.0",
            "_view_name": "StyleView",
            "description_width": ""
          }
        },
        "21a5abb464ae40aa900dc35d231bf15e": {
          "model_module": "@jupyter-widgets/controls",
          "model_name": "HBoxModel",
          "model_module_version": "1.5.0",
          "state": {
            "_dom_classes": [],
            "_model_module": "@jupyter-widgets/controls",
            "_model_module_version": "1.5.0",
            "_model_name": "HBoxModel",
            "_view_count": null,
            "_view_module": "@jupyter-widgets/controls",
            "_view_module_version": "1.5.0",
            "_view_name": "HBoxView",
            "box_style": "",
            "children": [
              "IPY_MODEL_ac39a067d77c47e6893bbe4de7862321",
              "IPY_MODEL_1d96b1ee2208411e9e8484d6aeafcbf2",
              "IPY_MODEL_6e7c39e47c7c41d2959e23d3353be4b1"
            ],
            "layout": "IPY_MODEL_bdaf6016eef64610aa1564b5772c4e1b"
          }
        },
        "ac39a067d77c47e6893bbe4de7862321": {
          "model_module": "@jupyter-widgets/controls",
          "model_name": "HTMLModel",
          "model_module_version": "1.5.0",
          "state": {
            "_dom_classes": [],
            "_model_module": "@jupyter-widgets/controls",
            "_model_module_version": "1.5.0",
            "_model_name": "HTMLModel",
            "_view_count": null,
            "_view_module": "@jupyter-widgets/controls",
            "_view_module_version": "1.5.0",
            "_view_name": "HTMLView",
            "description": "",
            "description_tooltip": null,
            "layout": "IPY_MODEL_014ac49af5af4f66a769f376accd86fa",
            "placeholder": "​",
            "style": "IPY_MODEL_d2e2f1d6559c4a75b0bfb1cb23345d7d",
            "value": "Downloading (…)solve/main/vocab.txt: 100%"
          }
        },
        "1d96b1ee2208411e9e8484d6aeafcbf2": {
          "model_module": "@jupyter-widgets/controls",
          "model_name": "FloatProgressModel",
          "model_module_version": "1.5.0",
          "state": {
            "_dom_classes": [],
            "_model_module": "@jupyter-widgets/controls",
            "_model_module_version": "1.5.0",
            "_model_name": "FloatProgressModel",
            "_view_count": null,
            "_view_module": "@jupyter-widgets/controls",
            "_view_module_version": "1.5.0",
            "_view_name": "ProgressView",
            "bar_style": "success",
            "description": "",
            "description_tooltip": null,
            "layout": "IPY_MODEL_551a75596ec34daf8709f11f610f88a2",
            "max": 995526,
            "min": 0,
            "orientation": "horizontal",
            "style": "IPY_MODEL_448703a04390479884a1cbb0b364f17d",
            "value": 995526
          }
        },
        "6e7c39e47c7c41d2959e23d3353be4b1": {
          "model_module": "@jupyter-widgets/controls",
          "model_name": "HTMLModel",
          "model_module_version": "1.5.0",
          "state": {
            "_dom_classes": [],
            "_model_module": "@jupyter-widgets/controls",
            "_model_module_version": "1.5.0",
            "_model_name": "HTMLModel",
            "_view_count": null,
            "_view_module": "@jupyter-widgets/controls",
            "_view_module_version": "1.5.0",
            "_view_name": "HTMLView",
            "description": "",
            "description_tooltip": null,
            "layout": "IPY_MODEL_169a31fdcc56455487395f1c53805757",
            "placeholder": "​",
            "style": "IPY_MODEL_e078705ee08c47a694dd953b60716b00",
            "value": " 996k/996k [00:00&lt;00:00, 2.48MB/s]"
          }
        },
        "bdaf6016eef64610aa1564b5772c4e1b": {
          "model_module": "@jupyter-widgets/base",
          "model_name": "LayoutModel",
          "model_module_version": "1.2.0",
          "state": {
            "_model_module": "@jupyter-widgets/base",
            "_model_module_version": "1.2.0",
            "_model_name": "LayoutModel",
            "_view_count": null,
            "_view_module": "@jupyter-widgets/base",
            "_view_module_version": "1.2.0",
            "_view_name": "LayoutView",
            "align_content": null,
            "align_items": null,
            "align_self": null,
            "border": null,
            "bottom": null,
            "display": null,
            "flex": null,
            "flex_flow": null,
            "grid_area": null,
            "grid_auto_columns": null,
            "grid_auto_flow": null,
            "grid_auto_rows": null,
            "grid_column": null,
            "grid_gap": null,
            "grid_row": null,
            "grid_template_areas": null,
            "grid_template_columns": null,
            "grid_template_rows": null,
            "height": null,
            "justify_content": null,
            "justify_items": null,
            "left": null,
            "margin": null,
            "max_height": null,
            "max_width": null,
            "min_height": null,
            "min_width": null,
            "object_fit": null,
            "object_position": null,
            "order": null,
            "overflow": null,
            "overflow_x": null,
            "overflow_y": null,
            "padding": null,
            "right": null,
            "top": null,
            "visibility": null,
            "width": null
          }
        },
        "014ac49af5af4f66a769f376accd86fa": {
          "model_module": "@jupyter-widgets/base",
          "model_name": "LayoutModel",
          "model_module_version": "1.2.0",
          "state": {
            "_model_module": "@jupyter-widgets/base",
            "_model_module_version": "1.2.0",
            "_model_name": "LayoutModel",
            "_view_count": null,
            "_view_module": "@jupyter-widgets/base",
            "_view_module_version": "1.2.0",
            "_view_name": "LayoutView",
            "align_content": null,
            "align_items": null,
            "align_self": null,
            "border": null,
            "bottom": null,
            "display": null,
            "flex": null,
            "flex_flow": null,
            "grid_area": null,
            "grid_auto_columns": null,
            "grid_auto_flow": null,
            "grid_auto_rows": null,
            "grid_column": null,
            "grid_gap": null,
            "grid_row": null,
            "grid_template_areas": null,
            "grid_template_columns": null,
            "grid_template_rows": null,
            "height": null,
            "justify_content": null,
            "justify_items": null,
            "left": null,
            "margin": null,
            "max_height": null,
            "max_width": null,
            "min_height": null,
            "min_width": null,
            "object_fit": null,
            "object_position": null,
            "order": null,
            "overflow": null,
            "overflow_x": null,
            "overflow_y": null,
            "padding": null,
            "right": null,
            "top": null,
            "visibility": null,
            "width": null
          }
        },
        "d2e2f1d6559c4a75b0bfb1cb23345d7d": {
          "model_module": "@jupyter-widgets/controls",
          "model_name": "DescriptionStyleModel",
          "model_module_version": "1.5.0",
          "state": {
            "_model_module": "@jupyter-widgets/controls",
            "_model_module_version": "1.5.0",
            "_model_name": "DescriptionStyleModel",
            "_view_count": null,
            "_view_module": "@jupyter-widgets/base",
            "_view_module_version": "1.2.0",
            "_view_name": "StyleView",
            "description_width": ""
          }
        },
        "551a75596ec34daf8709f11f610f88a2": {
          "model_module": "@jupyter-widgets/base",
          "model_name": "LayoutModel",
          "model_module_version": "1.2.0",
          "state": {
            "_model_module": "@jupyter-widgets/base",
            "_model_module_version": "1.2.0",
            "_model_name": "LayoutModel",
            "_view_count": null,
            "_view_module": "@jupyter-widgets/base",
            "_view_module_version": "1.2.0",
            "_view_name": "LayoutView",
            "align_content": null,
            "align_items": null,
            "align_self": null,
            "border": null,
            "bottom": null,
            "display": null,
            "flex": null,
            "flex_flow": null,
            "grid_area": null,
            "grid_auto_columns": null,
            "grid_auto_flow": null,
            "grid_auto_rows": null,
            "grid_column": null,
            "grid_gap": null,
            "grid_row": null,
            "grid_template_areas": null,
            "grid_template_columns": null,
            "grid_template_rows": null,
            "height": null,
            "justify_content": null,
            "justify_items": null,
            "left": null,
            "margin": null,
            "max_height": null,
            "max_width": null,
            "min_height": null,
            "min_width": null,
            "object_fit": null,
            "object_position": null,
            "order": null,
            "overflow": null,
            "overflow_x": null,
            "overflow_y": null,
            "padding": null,
            "right": null,
            "top": null,
            "visibility": null,
            "width": null
          }
        },
        "448703a04390479884a1cbb0b364f17d": {
          "model_module": "@jupyter-widgets/controls",
          "model_name": "ProgressStyleModel",
          "model_module_version": "1.5.0",
          "state": {
            "_model_module": "@jupyter-widgets/controls",
            "_model_module_version": "1.5.0",
            "_model_name": "ProgressStyleModel",
            "_view_count": null,
            "_view_module": "@jupyter-widgets/base",
            "_view_module_version": "1.2.0",
            "_view_name": "StyleView",
            "bar_color": null,
            "description_width": ""
          }
        },
        "169a31fdcc56455487395f1c53805757": {
          "model_module": "@jupyter-widgets/base",
          "model_name": "LayoutModel",
          "model_module_version": "1.2.0",
          "state": {
            "_model_module": "@jupyter-widgets/base",
            "_model_module_version": "1.2.0",
            "_model_name": "LayoutModel",
            "_view_count": null,
            "_view_module": "@jupyter-widgets/base",
            "_view_module_version": "1.2.0",
            "_view_name": "LayoutView",
            "align_content": null,
            "align_items": null,
            "align_self": null,
            "border": null,
            "bottom": null,
            "display": null,
            "flex": null,
            "flex_flow": null,
            "grid_area": null,
            "grid_auto_columns": null,
            "grid_auto_flow": null,
            "grid_auto_rows": null,
            "grid_column": null,
            "grid_gap": null,
            "grid_row": null,
            "grid_template_areas": null,
            "grid_template_columns": null,
            "grid_template_rows": null,
            "height": null,
            "justify_content": null,
            "justify_items": null,
            "left": null,
            "margin": null,
            "max_height": null,
            "max_width": null,
            "min_height": null,
            "min_width": null,
            "object_fit": null,
            "object_position": null,
            "order": null,
            "overflow": null,
            "overflow_x": null,
            "overflow_y": null,
            "padding": null,
            "right": null,
            "top": null,
            "visibility": null,
            "width": null
          }
        },
        "e078705ee08c47a694dd953b60716b00": {
          "model_module": "@jupyter-widgets/controls",
          "model_name": "DescriptionStyleModel",
          "model_module_version": "1.5.0",
          "state": {
            "_model_module": "@jupyter-widgets/controls",
            "_model_module_version": "1.5.0",
            "_model_name": "DescriptionStyleModel",
            "_view_count": null,
            "_view_module": "@jupyter-widgets/base",
            "_view_module_version": "1.2.0",
            "_view_name": "StyleView",
            "description_width": ""
          }
        },
        "da3a2fb2b1b14a3c98bbaa8049807dc6": {
          "model_module": "@jupyter-widgets/controls",
          "model_name": "HBoxModel",
          "model_module_version": "1.5.0",
          "state": {
            "_dom_classes": [],
            "_model_module": "@jupyter-widgets/controls",
            "_model_module_version": "1.5.0",
            "_model_name": "HBoxModel",
            "_view_count": null,
            "_view_module": "@jupyter-widgets/controls",
            "_view_module_version": "1.5.0",
            "_view_name": "HBoxView",
            "box_style": "",
            "children": [
              "IPY_MODEL_33c4e3d573b042e995f13dbe048a32a9",
              "IPY_MODEL_2c155768b0a54048b954f09492d0d558",
              "IPY_MODEL_e53ab3f5cacf4deda2e6f3850644b907"
            ],
            "layout": "IPY_MODEL_e99c2b0eae72404d83e9a10444fb4e54"
          }
        },
        "33c4e3d573b042e995f13dbe048a32a9": {
          "model_module": "@jupyter-widgets/controls",
          "model_name": "HTMLModel",
          "model_module_version": "1.5.0",
          "state": {
            "_dom_classes": [],
            "_model_module": "@jupyter-widgets/controls",
            "_model_module_version": "1.5.0",
            "_model_name": "HTMLModel",
            "_view_count": null,
            "_view_module": "@jupyter-widgets/controls",
            "_view_module_version": "1.5.0",
            "_view_name": "HTMLView",
            "description": "",
            "description_tooltip": null,
            "layout": "IPY_MODEL_dd0313ec8b3c42e48979ffb398139a63",
            "placeholder": "​",
            "style": "IPY_MODEL_20e02bb4178b4c6889ee659a4204e6a5",
            "value": "Downloading (…)okenizer_config.json: 100%"
          }
        },
        "2c155768b0a54048b954f09492d0d558": {
          "model_module": "@jupyter-widgets/controls",
          "model_name": "FloatProgressModel",
          "model_module_version": "1.5.0",
          "state": {
            "_dom_classes": [],
            "_model_module": "@jupyter-widgets/controls",
            "_model_module_version": "1.5.0",
            "_model_name": "FloatProgressModel",
            "_view_count": null,
            "_view_module": "@jupyter-widgets/controls",
            "_view_module_version": "1.5.0",
            "_view_name": "ProgressView",
            "bar_style": "success",
            "description": "",
            "description_tooltip": null,
            "layout": "IPY_MODEL_947c86db1f9c4bd4bf21c9077b623a79",
            "max": 29,
            "min": 0,
            "orientation": "horizontal",
            "style": "IPY_MODEL_e71be7f1187c499fa223ec92f438b737",
            "value": 29
          }
        },
        "e53ab3f5cacf4deda2e6f3850644b907": {
          "model_module": "@jupyter-widgets/controls",
          "model_name": "HTMLModel",
          "model_module_version": "1.5.0",
          "state": {
            "_dom_classes": [],
            "_model_module": "@jupyter-widgets/controls",
            "_model_module_version": "1.5.0",
            "_model_name": "HTMLModel",
            "_view_count": null,
            "_view_module": "@jupyter-widgets/controls",
            "_view_module_version": "1.5.0",
            "_view_name": "HTMLView",
            "description": "",
            "description_tooltip": null,
            "layout": "IPY_MODEL_e4f03b6b7afe432db893b88173e969a0",
            "placeholder": "​",
            "style": "IPY_MODEL_e4ceed8f93234e528fd5c65b2cbdc121",
            "value": " 29.0/29.0 [00:00&lt;00:00, 239B/s]"
          }
        },
        "e99c2b0eae72404d83e9a10444fb4e54": {
          "model_module": "@jupyter-widgets/base",
          "model_name": "LayoutModel",
          "model_module_version": "1.2.0",
          "state": {
            "_model_module": "@jupyter-widgets/base",
            "_model_module_version": "1.2.0",
            "_model_name": "LayoutModel",
            "_view_count": null,
            "_view_module": "@jupyter-widgets/base",
            "_view_module_version": "1.2.0",
            "_view_name": "LayoutView",
            "align_content": null,
            "align_items": null,
            "align_self": null,
            "border": null,
            "bottom": null,
            "display": null,
            "flex": null,
            "flex_flow": null,
            "grid_area": null,
            "grid_auto_columns": null,
            "grid_auto_flow": null,
            "grid_auto_rows": null,
            "grid_column": null,
            "grid_gap": null,
            "grid_row": null,
            "grid_template_areas": null,
            "grid_template_columns": null,
            "grid_template_rows": null,
            "height": null,
            "justify_content": null,
            "justify_items": null,
            "left": null,
            "margin": null,
            "max_height": null,
            "max_width": null,
            "min_height": null,
            "min_width": null,
            "object_fit": null,
            "object_position": null,
            "order": null,
            "overflow": null,
            "overflow_x": null,
            "overflow_y": null,
            "padding": null,
            "right": null,
            "top": null,
            "visibility": null,
            "width": null
          }
        },
        "dd0313ec8b3c42e48979ffb398139a63": {
          "model_module": "@jupyter-widgets/base",
          "model_name": "LayoutModel",
          "model_module_version": "1.2.0",
          "state": {
            "_model_module": "@jupyter-widgets/base",
            "_model_module_version": "1.2.0",
            "_model_name": "LayoutModel",
            "_view_count": null,
            "_view_module": "@jupyter-widgets/base",
            "_view_module_version": "1.2.0",
            "_view_name": "LayoutView",
            "align_content": null,
            "align_items": null,
            "align_self": null,
            "border": null,
            "bottom": null,
            "display": null,
            "flex": null,
            "flex_flow": null,
            "grid_area": null,
            "grid_auto_columns": null,
            "grid_auto_flow": null,
            "grid_auto_rows": null,
            "grid_column": null,
            "grid_gap": null,
            "grid_row": null,
            "grid_template_areas": null,
            "grid_template_columns": null,
            "grid_template_rows": null,
            "height": null,
            "justify_content": null,
            "justify_items": null,
            "left": null,
            "margin": null,
            "max_height": null,
            "max_width": null,
            "min_height": null,
            "min_width": null,
            "object_fit": null,
            "object_position": null,
            "order": null,
            "overflow": null,
            "overflow_x": null,
            "overflow_y": null,
            "padding": null,
            "right": null,
            "top": null,
            "visibility": null,
            "width": null
          }
        },
        "20e02bb4178b4c6889ee659a4204e6a5": {
          "model_module": "@jupyter-widgets/controls",
          "model_name": "DescriptionStyleModel",
          "model_module_version": "1.5.0",
          "state": {
            "_model_module": "@jupyter-widgets/controls",
            "_model_module_version": "1.5.0",
            "_model_name": "DescriptionStyleModel",
            "_view_count": null,
            "_view_module": "@jupyter-widgets/base",
            "_view_module_version": "1.2.0",
            "_view_name": "StyleView",
            "description_width": ""
          }
        },
        "947c86db1f9c4bd4bf21c9077b623a79": {
          "model_module": "@jupyter-widgets/base",
          "model_name": "LayoutModel",
          "model_module_version": "1.2.0",
          "state": {
            "_model_module": "@jupyter-widgets/base",
            "_model_module_version": "1.2.0",
            "_model_name": "LayoutModel",
            "_view_count": null,
            "_view_module": "@jupyter-widgets/base",
            "_view_module_version": "1.2.0",
            "_view_name": "LayoutView",
            "align_content": null,
            "align_items": null,
            "align_self": null,
            "border": null,
            "bottom": null,
            "display": null,
            "flex": null,
            "flex_flow": null,
            "grid_area": null,
            "grid_auto_columns": null,
            "grid_auto_flow": null,
            "grid_auto_rows": null,
            "grid_column": null,
            "grid_gap": null,
            "grid_row": null,
            "grid_template_areas": null,
            "grid_template_columns": null,
            "grid_template_rows": null,
            "height": null,
            "justify_content": null,
            "justify_items": null,
            "left": null,
            "margin": null,
            "max_height": null,
            "max_width": null,
            "min_height": null,
            "min_width": null,
            "object_fit": null,
            "object_position": null,
            "order": null,
            "overflow": null,
            "overflow_x": null,
            "overflow_y": null,
            "padding": null,
            "right": null,
            "top": null,
            "visibility": null,
            "width": null
          }
        },
        "e71be7f1187c499fa223ec92f438b737": {
          "model_module": "@jupyter-widgets/controls",
          "model_name": "ProgressStyleModel",
          "model_module_version": "1.5.0",
          "state": {
            "_model_module": "@jupyter-widgets/controls",
            "_model_module_version": "1.5.0",
            "_model_name": "ProgressStyleModel",
            "_view_count": null,
            "_view_module": "@jupyter-widgets/base",
            "_view_module_version": "1.2.0",
            "_view_name": "StyleView",
            "bar_color": null,
            "description_width": ""
          }
        },
        "e4f03b6b7afe432db893b88173e969a0": {
          "model_module": "@jupyter-widgets/base",
          "model_name": "LayoutModel",
          "model_module_version": "1.2.0",
          "state": {
            "_model_module": "@jupyter-widgets/base",
            "_model_module_version": "1.2.0",
            "_model_name": "LayoutModel",
            "_view_count": null,
            "_view_module": "@jupyter-widgets/base",
            "_view_module_version": "1.2.0",
            "_view_name": "LayoutView",
            "align_content": null,
            "align_items": null,
            "align_self": null,
            "border": null,
            "bottom": null,
            "display": null,
            "flex": null,
            "flex_flow": null,
            "grid_area": null,
            "grid_auto_columns": null,
            "grid_auto_flow": null,
            "grid_auto_rows": null,
            "grid_column": null,
            "grid_gap": null,
            "grid_row": null,
            "grid_template_areas": null,
            "grid_template_columns": null,
            "grid_template_rows": null,
            "height": null,
            "justify_content": null,
            "justify_items": null,
            "left": null,
            "margin": null,
            "max_height": null,
            "max_width": null,
            "min_height": null,
            "min_width": null,
            "object_fit": null,
            "object_position": null,
            "order": null,
            "overflow": null,
            "overflow_x": null,
            "overflow_y": null,
            "padding": null,
            "right": null,
            "top": null,
            "visibility": null,
            "width": null
          }
        },
        "e4ceed8f93234e528fd5c65b2cbdc121": {
          "model_module": "@jupyter-widgets/controls",
          "model_name": "DescriptionStyleModel",
          "model_module_version": "1.5.0",
          "state": {
            "_model_module": "@jupyter-widgets/controls",
            "_model_module_version": "1.5.0",
            "_model_name": "DescriptionStyleModel",
            "_view_count": null,
            "_view_module": "@jupyter-widgets/base",
            "_view_module_version": "1.2.0",
            "_view_name": "StyleView",
            "description_width": ""
          }
        },
        "afe3722992d34b5497904df5699c4e3d": {
          "model_module": "@jupyter-widgets/controls",
          "model_name": "HBoxModel",
          "model_module_version": "1.5.0",
          "state": {
            "_dom_classes": [],
            "_model_module": "@jupyter-widgets/controls",
            "_model_module_version": "1.5.0",
            "_model_name": "HBoxModel",
            "_view_count": null,
            "_view_module": "@jupyter-widgets/controls",
            "_view_module_version": "1.5.0",
            "_view_name": "HBoxView",
            "box_style": "",
            "children": [
              "IPY_MODEL_1b57f4e36a364be0849f18cd88c27978",
              "IPY_MODEL_0fd62429ebcf4c30a9bdff669abc3ce1",
              "IPY_MODEL_639ade03c0f74c2f8bf4dd3b554731d4"
            ],
            "layout": "IPY_MODEL_4ea35ac8b6434c4b9351266d11dfe64a"
          }
        },
        "1b57f4e36a364be0849f18cd88c27978": {
          "model_module": "@jupyter-widgets/controls",
          "model_name": "HTMLModel",
          "model_module_version": "1.5.0",
          "state": {
            "_dom_classes": [],
            "_model_module": "@jupyter-widgets/controls",
            "_model_module_version": "1.5.0",
            "_model_name": "HTMLModel",
            "_view_count": null,
            "_view_module": "@jupyter-widgets/controls",
            "_view_module_version": "1.5.0",
            "_view_name": "HTMLView",
            "description": "",
            "description_tooltip": null,
            "layout": "IPY_MODEL_9c19619aa9bd4b41b746ed8d4750c9ed",
            "placeholder": "​",
            "style": "IPY_MODEL_4e9b2d26a25e42ddb53e33164239c02c",
            "value": "Downloading (…)lve/main/config.json: 100%"
          }
        },
        "0fd62429ebcf4c30a9bdff669abc3ce1": {
          "model_module": "@jupyter-widgets/controls",
          "model_name": "FloatProgressModel",
          "model_module_version": "1.5.0",
          "state": {
            "_dom_classes": [],
            "_model_module": "@jupyter-widgets/controls",
            "_model_module_version": "1.5.0",
            "_model_name": "FloatProgressModel",
            "_view_count": null,
            "_view_module": "@jupyter-widgets/controls",
            "_view_module_version": "1.5.0",
            "_view_name": "ProgressView",
            "bar_style": "success",
            "description": "",
            "description_tooltip": null,
            "layout": "IPY_MODEL_0f26e8f3de174661968e69291e235cb7",
            "max": 625,
            "min": 0,
            "orientation": "horizontal",
            "style": "IPY_MODEL_23aef432210e4decaa892b04e3c73a7a",
            "value": 625
          }
        },
        "639ade03c0f74c2f8bf4dd3b554731d4": {
          "model_module": "@jupyter-widgets/controls",
          "model_name": "HTMLModel",
          "model_module_version": "1.5.0",
          "state": {
            "_dom_classes": [],
            "_model_module": "@jupyter-widgets/controls",
            "_model_module_version": "1.5.0",
            "_model_name": "HTMLModel",
            "_view_count": null,
            "_view_module": "@jupyter-widgets/controls",
            "_view_module_version": "1.5.0",
            "_view_name": "HTMLView",
            "description": "",
            "description_tooltip": null,
            "layout": "IPY_MODEL_a6a7bf215a36481ca6e7ae71b726deda",
            "placeholder": "​",
            "style": "IPY_MODEL_b08901c7f67b4cdebcbbeb42f237fea5",
            "value": " 625/625 [00:00&lt;00:00, 5.77kB/s]"
          }
        },
        "4ea35ac8b6434c4b9351266d11dfe64a": {
          "model_module": "@jupyter-widgets/base",
          "model_name": "LayoutModel",
          "model_module_version": "1.2.0",
          "state": {
            "_model_module": "@jupyter-widgets/base",
            "_model_module_version": "1.2.0",
            "_model_name": "LayoutModel",
            "_view_count": null,
            "_view_module": "@jupyter-widgets/base",
            "_view_module_version": "1.2.0",
            "_view_name": "LayoutView",
            "align_content": null,
            "align_items": null,
            "align_self": null,
            "border": null,
            "bottom": null,
            "display": null,
            "flex": null,
            "flex_flow": null,
            "grid_area": null,
            "grid_auto_columns": null,
            "grid_auto_flow": null,
            "grid_auto_rows": null,
            "grid_column": null,
            "grid_gap": null,
            "grid_row": null,
            "grid_template_areas": null,
            "grid_template_columns": null,
            "grid_template_rows": null,
            "height": null,
            "justify_content": null,
            "justify_items": null,
            "left": null,
            "margin": null,
            "max_height": null,
            "max_width": null,
            "min_height": null,
            "min_width": null,
            "object_fit": null,
            "object_position": null,
            "order": null,
            "overflow": null,
            "overflow_x": null,
            "overflow_y": null,
            "padding": null,
            "right": null,
            "top": null,
            "visibility": null,
            "width": null
          }
        },
        "9c19619aa9bd4b41b746ed8d4750c9ed": {
          "model_module": "@jupyter-widgets/base",
          "model_name": "LayoutModel",
          "model_module_version": "1.2.0",
          "state": {
            "_model_module": "@jupyter-widgets/base",
            "_model_module_version": "1.2.0",
            "_model_name": "LayoutModel",
            "_view_count": null,
            "_view_module": "@jupyter-widgets/base",
            "_view_module_version": "1.2.0",
            "_view_name": "LayoutView",
            "align_content": null,
            "align_items": null,
            "align_self": null,
            "border": null,
            "bottom": null,
            "display": null,
            "flex": null,
            "flex_flow": null,
            "grid_area": null,
            "grid_auto_columns": null,
            "grid_auto_flow": null,
            "grid_auto_rows": null,
            "grid_column": null,
            "grid_gap": null,
            "grid_row": null,
            "grid_template_areas": null,
            "grid_template_columns": null,
            "grid_template_rows": null,
            "height": null,
            "justify_content": null,
            "justify_items": null,
            "left": null,
            "margin": null,
            "max_height": null,
            "max_width": null,
            "min_height": null,
            "min_width": null,
            "object_fit": null,
            "object_position": null,
            "order": null,
            "overflow": null,
            "overflow_x": null,
            "overflow_y": null,
            "padding": null,
            "right": null,
            "top": null,
            "visibility": null,
            "width": null
          }
        },
        "4e9b2d26a25e42ddb53e33164239c02c": {
          "model_module": "@jupyter-widgets/controls",
          "model_name": "DescriptionStyleModel",
          "model_module_version": "1.5.0",
          "state": {
            "_model_module": "@jupyter-widgets/controls",
            "_model_module_version": "1.5.0",
            "_model_name": "DescriptionStyleModel",
            "_view_count": null,
            "_view_module": "@jupyter-widgets/base",
            "_view_module_version": "1.2.0",
            "_view_name": "StyleView",
            "description_width": ""
          }
        },
        "0f26e8f3de174661968e69291e235cb7": {
          "model_module": "@jupyter-widgets/base",
          "model_name": "LayoutModel",
          "model_module_version": "1.2.0",
          "state": {
            "_model_module": "@jupyter-widgets/base",
            "_model_module_version": "1.2.0",
            "_model_name": "LayoutModel",
            "_view_count": null,
            "_view_module": "@jupyter-widgets/base",
            "_view_module_version": "1.2.0",
            "_view_name": "LayoutView",
            "align_content": null,
            "align_items": null,
            "align_self": null,
            "border": null,
            "bottom": null,
            "display": null,
            "flex": null,
            "flex_flow": null,
            "grid_area": null,
            "grid_auto_columns": null,
            "grid_auto_flow": null,
            "grid_auto_rows": null,
            "grid_column": null,
            "grid_gap": null,
            "grid_row": null,
            "grid_template_areas": null,
            "grid_template_columns": null,
            "grid_template_rows": null,
            "height": null,
            "justify_content": null,
            "justify_items": null,
            "left": null,
            "margin": null,
            "max_height": null,
            "max_width": null,
            "min_height": null,
            "min_width": null,
            "object_fit": null,
            "object_position": null,
            "order": null,
            "overflow": null,
            "overflow_x": null,
            "overflow_y": null,
            "padding": null,
            "right": null,
            "top": null,
            "visibility": null,
            "width": null
          }
        },
        "23aef432210e4decaa892b04e3c73a7a": {
          "model_module": "@jupyter-widgets/controls",
          "model_name": "ProgressStyleModel",
          "model_module_version": "1.5.0",
          "state": {
            "_model_module": "@jupyter-widgets/controls",
            "_model_module_version": "1.5.0",
            "_model_name": "ProgressStyleModel",
            "_view_count": null,
            "_view_module": "@jupyter-widgets/base",
            "_view_module_version": "1.2.0",
            "_view_name": "StyleView",
            "bar_color": null,
            "description_width": ""
          }
        },
        "a6a7bf215a36481ca6e7ae71b726deda": {
          "model_module": "@jupyter-widgets/base",
          "model_name": "LayoutModel",
          "model_module_version": "1.2.0",
          "state": {
            "_model_module": "@jupyter-widgets/base",
            "_model_module_version": "1.2.0",
            "_model_name": "LayoutModel",
            "_view_count": null,
            "_view_module": "@jupyter-widgets/base",
            "_view_module_version": "1.2.0",
            "_view_name": "LayoutView",
            "align_content": null,
            "align_items": null,
            "align_self": null,
            "border": null,
            "bottom": null,
            "display": null,
            "flex": null,
            "flex_flow": null,
            "grid_area": null,
            "grid_auto_columns": null,
            "grid_auto_flow": null,
            "grid_auto_rows": null,
            "grid_column": null,
            "grid_gap": null,
            "grid_row": null,
            "grid_template_areas": null,
            "grid_template_columns": null,
            "grid_template_rows": null,
            "height": null,
            "justify_content": null,
            "justify_items": null,
            "left": null,
            "margin": null,
            "max_height": null,
            "max_width": null,
            "min_height": null,
            "min_width": null,
            "object_fit": null,
            "object_position": null,
            "order": null,
            "overflow": null,
            "overflow_x": null,
            "overflow_y": null,
            "padding": null,
            "right": null,
            "top": null,
            "visibility": null,
            "width": null
          }
        },
        "b08901c7f67b4cdebcbbeb42f237fea5": {
          "model_module": "@jupyter-widgets/controls",
          "model_name": "DescriptionStyleModel",
          "model_module_version": "1.5.0",
          "state": {
            "_model_module": "@jupyter-widgets/controls",
            "_model_module_version": "1.5.0",
            "_model_name": "DescriptionStyleModel",
            "_view_count": null,
            "_view_module": "@jupyter-widgets/base",
            "_view_module_version": "1.2.0",
            "_view_name": "StyleView",
            "description_width": ""
          }
        },
        "823692dc71b34a6eb4ba78b0b4885108": {
          "model_module": "@jupyter-widgets/controls",
          "model_name": "HBoxModel",
          "model_module_version": "1.5.0",
          "state": {
            "_dom_classes": [],
            "_model_module": "@jupyter-widgets/controls",
            "_model_module_version": "1.5.0",
            "_model_name": "HBoxModel",
            "_view_count": null,
            "_view_module": "@jupyter-widgets/controls",
            "_view_module_version": "1.5.0",
            "_view_name": "HBoxView",
            "box_style": "",
            "children": [
              "IPY_MODEL_429f98ee4ad14ef8927afb34cdd788c2",
              "IPY_MODEL_f2a2ca59c01c481b95fdd0fe5fb394b8",
              "IPY_MODEL_2da84cee9b1444e3880cda37f53791b8"
            ],
            "layout": "IPY_MODEL_0f60ada67786456dad8c8e28cea54d62"
          }
        },
        "429f98ee4ad14ef8927afb34cdd788c2": {
          "model_module": "@jupyter-widgets/controls",
          "model_name": "HTMLModel",
          "model_module_version": "1.5.0",
          "state": {
            "_dom_classes": [],
            "_model_module": "@jupyter-widgets/controls",
            "_model_module_version": "1.5.0",
            "_model_name": "HTMLModel",
            "_view_count": null,
            "_view_module": "@jupyter-widgets/controls",
            "_view_module_version": "1.5.0",
            "_view_name": "HTMLView",
            "description": "",
            "description_tooltip": null,
            "layout": "IPY_MODEL_35dcdacf202748c38c7e88a294bd41df",
            "placeholder": "​",
            "style": "IPY_MODEL_56b08b70e73643158575b4ef9a38ee0b",
            "value": "Downloading (…)&quot;tf_model.h5&quot;;: 100%"
          }
        },
        "f2a2ca59c01c481b95fdd0fe5fb394b8": {
          "model_module": "@jupyter-widgets/controls",
          "model_name": "FloatProgressModel",
          "model_module_version": "1.5.0",
          "state": {
            "_dom_classes": [],
            "_model_module": "@jupyter-widgets/controls",
            "_model_module_version": "1.5.0",
            "_model_name": "FloatProgressModel",
            "_view_count": null,
            "_view_module": "@jupyter-widgets/controls",
            "_view_module_version": "1.5.0",
            "_view_name": "ProgressView",
            "bar_style": "success",
            "description": "",
            "description_tooltip": null,
            "layout": "IPY_MODEL_e0da4aba86ce401c960d5d5e535e93a9",
            "max": 1083389348,
            "min": 0,
            "orientation": "horizontal",
            "style": "IPY_MODEL_42cdbe34812043afa5b2f039e381b616",
            "value": 1083389348
          }
        },
        "2da84cee9b1444e3880cda37f53791b8": {
          "model_module": "@jupyter-widgets/controls",
          "model_name": "HTMLModel",
          "model_module_version": "1.5.0",
          "state": {
            "_dom_classes": [],
            "_model_module": "@jupyter-widgets/controls",
            "_model_module_version": "1.5.0",
            "_model_name": "HTMLModel",
            "_view_count": null,
            "_view_module": "@jupyter-widgets/controls",
            "_view_module_version": "1.5.0",
            "_view_name": "HTMLView",
            "description": "",
            "description_tooltip": null,
            "layout": "IPY_MODEL_4238383b76564ee7b1b00ac08df79cf4",
            "placeholder": "​",
            "style": "IPY_MODEL_77508b335e134775b051e72caa9ea4e6",
            "value": " 1.08G/1.08G [00:10&lt;00:00, 136MB/s]"
          }
        },
        "0f60ada67786456dad8c8e28cea54d62": {
          "model_module": "@jupyter-widgets/base",
          "model_name": "LayoutModel",
          "model_module_version": "1.2.0",
          "state": {
            "_model_module": "@jupyter-widgets/base",
            "_model_module_version": "1.2.0",
            "_model_name": "LayoutModel",
            "_view_count": null,
            "_view_module": "@jupyter-widgets/base",
            "_view_module_version": "1.2.0",
            "_view_name": "LayoutView",
            "align_content": null,
            "align_items": null,
            "align_self": null,
            "border": null,
            "bottom": null,
            "display": null,
            "flex": null,
            "flex_flow": null,
            "grid_area": null,
            "grid_auto_columns": null,
            "grid_auto_flow": null,
            "grid_auto_rows": null,
            "grid_column": null,
            "grid_gap": null,
            "grid_row": null,
            "grid_template_areas": null,
            "grid_template_columns": null,
            "grid_template_rows": null,
            "height": null,
            "justify_content": null,
            "justify_items": null,
            "left": null,
            "margin": null,
            "max_height": null,
            "max_width": null,
            "min_height": null,
            "min_width": null,
            "object_fit": null,
            "object_position": null,
            "order": null,
            "overflow": null,
            "overflow_x": null,
            "overflow_y": null,
            "padding": null,
            "right": null,
            "top": null,
            "visibility": null,
            "width": null
          }
        },
        "35dcdacf202748c38c7e88a294bd41df": {
          "model_module": "@jupyter-widgets/base",
          "model_name": "LayoutModel",
          "model_module_version": "1.2.0",
          "state": {
            "_model_module": "@jupyter-widgets/base",
            "_model_module_version": "1.2.0",
            "_model_name": "LayoutModel",
            "_view_count": null,
            "_view_module": "@jupyter-widgets/base",
            "_view_module_version": "1.2.0",
            "_view_name": "LayoutView",
            "align_content": null,
            "align_items": null,
            "align_self": null,
            "border": null,
            "bottom": null,
            "display": null,
            "flex": null,
            "flex_flow": null,
            "grid_area": null,
            "grid_auto_columns": null,
            "grid_auto_flow": null,
            "grid_auto_rows": null,
            "grid_column": null,
            "grid_gap": null,
            "grid_row": null,
            "grid_template_areas": null,
            "grid_template_columns": null,
            "grid_template_rows": null,
            "height": null,
            "justify_content": null,
            "justify_items": null,
            "left": null,
            "margin": null,
            "max_height": null,
            "max_width": null,
            "min_height": null,
            "min_width": null,
            "object_fit": null,
            "object_position": null,
            "order": null,
            "overflow": null,
            "overflow_x": null,
            "overflow_y": null,
            "padding": null,
            "right": null,
            "top": null,
            "visibility": null,
            "width": null
          }
        },
        "56b08b70e73643158575b4ef9a38ee0b": {
          "model_module": "@jupyter-widgets/controls",
          "model_name": "DescriptionStyleModel",
          "model_module_version": "1.5.0",
          "state": {
            "_model_module": "@jupyter-widgets/controls",
            "_model_module_version": "1.5.0",
            "_model_name": "DescriptionStyleModel",
            "_view_count": null,
            "_view_module": "@jupyter-widgets/base",
            "_view_module_version": "1.2.0",
            "_view_name": "StyleView",
            "description_width": ""
          }
        },
        "e0da4aba86ce401c960d5d5e535e93a9": {
          "model_module": "@jupyter-widgets/base",
          "model_name": "LayoutModel",
          "model_module_version": "1.2.0",
          "state": {
            "_model_module": "@jupyter-widgets/base",
            "_model_module_version": "1.2.0",
            "_model_name": "LayoutModel",
            "_view_count": null,
            "_view_module": "@jupyter-widgets/base",
            "_view_module_version": "1.2.0",
            "_view_name": "LayoutView",
            "align_content": null,
            "align_items": null,
            "align_self": null,
            "border": null,
            "bottom": null,
            "display": null,
            "flex": null,
            "flex_flow": null,
            "grid_area": null,
            "grid_auto_columns": null,
            "grid_auto_flow": null,
            "grid_auto_rows": null,
            "grid_column": null,
            "grid_gap": null,
            "grid_row": null,
            "grid_template_areas": null,
            "grid_template_columns": null,
            "grid_template_rows": null,
            "height": null,
            "justify_content": null,
            "justify_items": null,
            "left": null,
            "margin": null,
            "max_height": null,
            "max_width": null,
            "min_height": null,
            "min_width": null,
            "object_fit": null,
            "object_position": null,
            "order": null,
            "overflow": null,
            "overflow_x": null,
            "overflow_y": null,
            "padding": null,
            "right": null,
            "top": null,
            "visibility": null,
            "width": null
          }
        },
        "42cdbe34812043afa5b2f039e381b616": {
          "model_module": "@jupyter-widgets/controls",
          "model_name": "ProgressStyleModel",
          "model_module_version": "1.5.0",
          "state": {
            "_model_module": "@jupyter-widgets/controls",
            "_model_module_version": "1.5.0",
            "_model_name": "ProgressStyleModel",
            "_view_count": null,
            "_view_module": "@jupyter-widgets/base",
            "_view_module_version": "1.2.0",
            "_view_name": "StyleView",
            "bar_color": null,
            "description_width": ""
          }
        },
        "4238383b76564ee7b1b00ac08df79cf4": {
          "model_module": "@jupyter-widgets/base",
          "model_name": "LayoutModel",
          "model_module_version": "1.2.0",
          "state": {
            "_model_module": "@jupyter-widgets/base",
            "_model_module_version": "1.2.0",
            "_model_name": "LayoutModel",
            "_view_count": null,
            "_view_module": "@jupyter-widgets/base",
            "_view_module_version": "1.2.0",
            "_view_name": "LayoutView",
            "align_content": null,
            "align_items": null,
            "align_self": null,
            "border": null,
            "bottom": null,
            "display": null,
            "flex": null,
            "flex_flow": null,
            "grid_area": null,
            "grid_auto_columns": null,
            "grid_auto_flow": null,
            "grid_auto_rows": null,
            "grid_column": null,
            "grid_gap": null,
            "grid_row": null,
            "grid_template_areas": null,
            "grid_template_columns": null,
            "grid_template_rows": null,
            "height": null,
            "justify_content": null,
            "justify_items": null,
            "left": null,
            "margin": null,
            "max_height": null,
            "max_width": null,
            "min_height": null,
            "min_width": null,
            "object_fit": null,
            "object_position": null,
            "order": null,
            "overflow": null,
            "overflow_x": null,
            "overflow_y": null,
            "padding": null,
            "right": null,
            "top": null,
            "visibility": null,
            "width": null
          }
        },
        "77508b335e134775b051e72caa9ea4e6": {
          "model_module": "@jupyter-widgets/controls",
          "model_name": "DescriptionStyleModel",
          "model_module_version": "1.5.0",
          "state": {
            "_model_module": "@jupyter-widgets/controls",
            "_model_module_version": "1.5.0",
            "_model_name": "DescriptionStyleModel",
            "_view_count": null,
            "_view_module": "@jupyter-widgets/base",
            "_view_module_version": "1.2.0",
            "_view_name": "StyleView",
            "description_width": ""
          }
        }
      }
    },
    "accelerator": "GPU"
  },
  "nbformat": 4,
  "nbformat_minor": 0
}